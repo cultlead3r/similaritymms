{
 "cells": [
  {
   "cell_type": "code",
   "execution_count": 2,
   "metadata": {},
   "outputs": [],
   "source": [
    "from sys import path\n",
    "path.append(\"..\")\n",
    "\n",
    "import numpy as np\n",
    "import networkx as nx\n",
    "import pandas as pd\n",
    "import seaborn as sns\n",
    "import matplotlib.pyplot as plt\n",
    "from rdd import measures\n",
    "from rdd import RDD\n",
    "from rdd import visualize\n",
    "from rdd import other_sims\n",
    "from rdd import ascos\n",
    "from rdd import cos_sim\n",
    "from rdd.utils import df_to_cluster_list\n",
    "from rdd.other_sims import kmeans2, kmedoid_clustering2, simrank\n"
   ]
  },
  {
   "cell_type": "code",
   "execution_count": 22,
   "metadata": {},
   "outputs": [],
   "source": [
    "G1, G2 = nx.Graph(), nx.Graph()\n",
    "\n",
    "G1.add_edges_from([\n",
    "    (1, 2),\n",
    "    (2, 3),\n",
    "    (2, 4),\n",
    "    (3, 4),\n",
    "    (3, 6),\n",
    "    (4, 5),\n",
    "])\n",
    "\n",
    "G2.add_edges_from([\n",
    "    (1,2),\n",
    "    (2,4),\n",
    "    (2,3),\n",
    "    (3,5),\n",
    "    (4,5),\n",
    "    (5,6)\n",
    "])\n",
    "\n",
    "# G2.add_edges_from([\n",
    "#     (5, 2),\n",
    "#     (2, 3),\n",
    "#     (2, 4),\n",
    "#     (3, 4),\n",
    "#     (3, 6),\n",
    "#     (4, 1),\n",
    "# ])\n",
    "\n",
    "\n",
    "G3 = nx.read_adjlist('../data/facebook_combined.txt', nodetype=int)\n",
    "G4 = nx.read_gml('../data/karate.gml', label='id')\n",
    "\n",
    "real_paths1 = nx.single_source_shortest_path(G3, 1, 2)\n",
    "node_list1 = RDD.populate_node_list(real_paths1)\n",
    "list_of_nodes = []\n",
    "for node in node_list1:\n",
    "    list_of_nodes.append(node.name)\n",
    "G5 = RDD.nodes_to_graph(G3, list_of_nodes)\n",
    "G6 = nx.read_gml('../data/lesmiserables.gml')\n",
    "G7 = nx.read_adjlist('../data/Cattle_protein_interactions_(IntAct).txt')\n",
    "G8 = nx.read_adjlist('../data/rat_protein_interactions_(IntAct).txt')\n",
    "\n",
    "target_G = G4\n",
    "target_rad = 2\n",
    "measure_list = measures.global_graph_morgan_index\n",
    "\n",
    "pos = nx.spring_layout(target_G)"
   ]
  },
  {
   "cell_type": "code",
   "execution_count": 23,
   "metadata": {},
   "outputs": [],
   "source": [
    "def get_df_for_cluster(g):\n",
    "    all_rdds_df = pd.DataFrame() \n",
    "\n",
    "    for target_one in g.nodes():\n",
    "        rdd_list = []\n",
    "        for target_two in g.nodes():\n",
    "            rdd_list.append(RDD.realworld_distance_compare(target_G, target_one, target_two, measure_list, target_rad))\n",
    "        all_rdds_df[target_one] = rdd_list\n",
    "    \n",
    "    return all_rdds_df\n",
    "\n"
   ]
  },
  {
   "cell_type": "code",
   "execution_count": 24,
   "metadata": {
    "tags": []
   },
   "outputs": [
    {
     "output_type": "execute_result",
     "data": {
      "text/plain": [
       "array([0, 0, 0, 0, 1, 1, 1, 1, 0, 1, 1, 1, 1, 0, 1, 1, 1, 1, 1, 0, 1, 1,\n",
       "       1, 1, 1, 1, 1, 1, 1, 1, 0, 0, 0, 0])"
      ]
     },
     "metadata": {},
     "execution_count": 24
    }
   ],
   "source": [
    "from sklearn_extra.cluster import KMedoids\n",
    "\n",
    "cluster_df = get_df_for_cluster(target_G)\n",
    "np_of_rdds = np.array(cluster_df)\n",
    "kmedoids = KMedoids(n_clusters=2, random_state=0).fit(np_of_rdds)\n",
    "kmedoids.labels_"
   ]
  },
  {
   "cell_type": "code",
   "execution_count": 25,
   "metadata": {},
   "outputs": [
    {
     "output_type": "display_data",
     "data": {
      "text/plain": "<Figure size 720x504 with 1 Axes>",
      "image/svg+xml": "<?xml version=\"1.0\" encoding=\"utf-8\" standalone=\"no\"?>\n<!DOCTYPE svg PUBLIC \"-//W3C//DTD SVG 1.1//EN\"\n  \"http://www.w3.org/Graphics/SVG/1.1/DTD/svg11.dtd\">\n<!-- Created with matplotlib (https://matplotlib.org/) -->\n<svg height=\"429.711246pt\" version=\"1.1\" viewBox=\"0 0 598.4875 429.711246\" width=\"598.4875pt\" xmlns=\"http://www.w3.org/2000/svg\" xmlns:xlink=\"http://www.w3.org/1999/xlink\">\n <defs>\n  <style type=\"text/css\">\n*{stroke-linecap:butt;stroke-linejoin:round;}\n  </style>\n </defs>\n <g id=\"figure_1\">\n  <g id=\"patch_1\">\n   <path d=\"M 0 429.711246 \nL 598.4875 429.711246 \nL 598.4875 0 \nL 0 0 \nz\n\" style=\"fill:none;\"/>\n  </g>\n  <g id=\"axes_1\">\n   <g id=\"patch_2\">\n    <path d=\"M 33.2875 402.838125 \nL 591.2875 402.838125 \nL 591.2875 22.318125 \nL 33.2875 22.318125 \nz\n\" style=\"fill:#ffffff;\"/>\n   </g>\n   <g id=\"matplotlib.axis_1\">\n    <g id=\"xtick_1\">\n     <g id=\"text_1\">\n      <!-- 1 -->\n      <defs>\n       <path d=\"M 12.40625 8.296875 \nL 28.515625 8.296875 \nL 28.515625 63.921875 \nL 10.984375 60.40625 \nL 10.984375 69.390625 \nL 28.421875 72.90625 \nL 38.28125 72.90625 \nL 38.28125 8.296875 \nL 54.390625 8.296875 \nL 54.390625 0 \nL 12.40625 0 \nz\n\" id=\"DejaVuSans-49\"/>\n      </defs>\n      <g transform=\"translate(41.254734 417.735624)rotate(-45)scale(0.08 -0.08)\">\n       <use xlink:href=\"#DejaVuSans-49\"/>\n      </g>\n     </g>\n    </g>\n    <g id=\"xtick_2\">\n     <g id=\"text_2\">\n      <!-- 31 -->\n      <defs>\n       <path d=\"M 40.578125 39.3125 \nQ 47.65625 37.796875 51.625 33 \nQ 55.609375 28.21875 55.609375 21.1875 \nQ 55.609375 10.40625 48.1875 4.484375 \nQ 40.765625 -1.421875 27.09375 -1.421875 \nQ 22.515625 -1.421875 17.65625 -0.515625 \nQ 12.796875 0.390625 7.625 2.203125 \nL 7.625 11.71875 \nQ 11.71875 9.328125 16.59375 8.109375 \nQ 21.484375 6.890625 26.8125 6.890625 \nQ 36.078125 6.890625 40.9375 10.546875 \nQ 45.796875 14.203125 45.796875 21.1875 \nQ 45.796875 27.640625 41.28125 31.265625 \nQ 36.765625 34.90625 28.71875 34.90625 \nL 20.21875 34.90625 \nL 20.21875 43.015625 \nL 29.109375 43.015625 \nQ 36.375 43.015625 40.234375 45.921875 \nQ 44.09375 48.828125 44.09375 54.296875 \nQ 44.09375 59.90625 40.109375 62.90625 \nQ 36.140625 65.921875 28.71875 65.921875 \nQ 24.65625 65.921875 20.015625 65.03125 \nQ 15.375 64.15625 9.8125 62.3125 \nL 9.8125 71.09375 \nQ 15.4375 72.65625 20.34375 73.4375 \nQ 25.25 74.21875 29.59375 74.21875 \nQ 40.828125 74.21875 47.359375 69.109375 \nQ 53.90625 64.015625 53.90625 55.328125 \nQ 53.90625 49.265625 50.4375 45.09375 \nQ 46.96875 40.921875 40.578125 39.3125 \nz\n\" id=\"DejaVuSans-51\"/>\n      </defs>\n      <g transform=\"translate(55.866912 421.334797)rotate(-45)scale(0.08 -0.08)\">\n       <use xlink:href=\"#DejaVuSans-51\"/>\n       <use x=\"63.623047\" xlink:href=\"#DejaVuSans-49\"/>\n      </g>\n     </g>\n    </g>\n    <g id=\"xtick_3\">\n     <g id=\"text_3\">\n      <!-- 8 -->\n      <defs>\n       <path d=\"M 31.78125 34.625 \nQ 24.75 34.625 20.71875 30.859375 \nQ 16.703125 27.09375 16.703125 20.515625 \nQ 16.703125 13.921875 20.71875 10.15625 \nQ 24.75 6.390625 31.78125 6.390625 \nQ 38.8125 6.390625 42.859375 10.171875 \nQ 46.921875 13.96875 46.921875 20.515625 \nQ 46.921875 27.09375 42.890625 30.859375 \nQ 38.875 34.625 31.78125 34.625 \nz\nM 21.921875 38.8125 \nQ 15.578125 40.375 12.03125 44.71875 \nQ 8.5 49.078125 8.5 55.328125 \nQ 8.5 64.0625 14.71875 69.140625 \nQ 20.953125 74.21875 31.78125 74.21875 \nQ 42.671875 74.21875 48.875 69.140625 \nQ 55.078125 64.0625 55.078125 55.328125 \nQ 55.078125 49.078125 51.53125 44.71875 \nQ 48 40.375 41.703125 38.8125 \nQ 48.828125 37.15625 52.796875 32.3125 \nQ 56.78125 27.484375 56.78125 20.515625 \nQ 56.78125 9.90625 50.3125 4.234375 \nQ 43.84375 -1.421875 31.78125 -1.421875 \nQ 19.734375 -1.421875 13.25 4.234375 \nQ 6.78125 9.90625 6.78125 20.515625 \nQ 6.78125 27.484375 10.78125 32.3125 \nQ 14.796875 37.15625 21.921875 38.8125 \nz\nM 18.3125 54.390625 \nQ 18.3125 48.734375 21.84375 45.5625 \nQ 25.390625 42.390625 31.78125 42.390625 \nQ 38.140625 42.390625 41.71875 45.5625 \nQ 45.3125 48.734375 45.3125 54.390625 \nQ 45.3125 60.0625 41.71875 63.234375 \nQ 38.140625 66.40625 31.78125 66.40625 \nQ 25.390625 66.40625 21.84375 63.234375 \nQ 18.3125 60.0625 18.3125 54.390625 \nz\n\" id=\"DejaVuSans-56\"/>\n      </defs>\n      <g transform=\"translate(74.078263 417.735624)rotate(-45)scale(0.08 -0.08)\">\n       <use xlink:href=\"#DejaVuSans-56\"/>\n      </g>\n     </g>\n    </g>\n    <g id=\"xtick_4\">\n     <g id=\"text_4\">\n      <!-- 13 -->\n      <g transform=\"translate(88.690441 421.334797)rotate(-45)scale(0.08 -0.08)\">\n       <use xlink:href=\"#DejaVuSans-49\"/>\n       <use x=\"63.623047\" xlink:href=\"#DejaVuSans-51\"/>\n      </g>\n     </g>\n    </g>\n    <g id=\"xtick_5\">\n     <g id=\"text_5\">\n      <!-- 0 -->\n      <defs>\n       <path d=\"M 31.78125 66.40625 \nQ 24.171875 66.40625 20.328125 58.90625 \nQ 16.5 51.421875 16.5 36.375 \nQ 16.5 21.390625 20.328125 13.890625 \nQ 24.171875 6.390625 31.78125 6.390625 \nQ 39.453125 6.390625 43.28125 13.890625 \nQ 47.125 21.390625 47.125 36.375 \nQ 47.125 51.421875 43.28125 58.90625 \nQ 39.453125 66.40625 31.78125 66.40625 \nz\nM 31.78125 74.21875 \nQ 44.046875 74.21875 50.515625 64.515625 \nQ 56.984375 54.828125 56.984375 36.375 \nQ 56.984375 17.96875 50.515625 8.265625 \nQ 44.046875 -1.421875 31.78125 -1.421875 \nQ 19.53125 -1.421875 13.0625 8.265625 \nQ 6.59375 17.96875 6.59375 36.375 \nQ 6.59375 54.828125 13.0625 64.515625 \nQ 19.53125 74.21875 31.78125 74.21875 \nz\n\" id=\"DejaVuSans-48\"/>\n      </defs>\n      <g transform=\"translate(106.901793 417.735624)rotate(-45)scale(0.08 -0.08)\">\n       <use xlink:href=\"#DejaVuSans-48\"/>\n      </g>\n     </g>\n    </g>\n    <g id=\"xtick_6\">\n     <g id=\"text_6\">\n      <!-- 33 -->\n      <g transform=\"translate(121.513971 421.334797)rotate(-45)scale(0.08 -0.08)\">\n       <use xlink:href=\"#DejaVuSans-51\"/>\n       <use x=\"63.623047\" xlink:href=\"#DejaVuSans-51\"/>\n      </g>\n     </g>\n    </g>\n    <g id=\"xtick_7\">\n     <g id=\"text_7\">\n      <!-- 2 -->\n      <defs>\n       <path d=\"M 19.1875 8.296875 \nL 53.609375 8.296875 \nL 53.609375 0 \nL 7.328125 0 \nL 7.328125 8.296875 \nQ 12.9375 14.109375 22.625 23.890625 \nQ 32.328125 33.6875 34.8125 36.53125 \nQ 39.546875 41.84375 41.421875 45.53125 \nQ 43.3125 49.21875 43.3125 52.78125 \nQ 43.3125 58.59375 39.234375 62.25 \nQ 35.15625 65.921875 28.609375 65.921875 \nQ 23.96875 65.921875 18.8125 64.3125 \nQ 13.671875 62.703125 7.8125 59.421875 \nL 7.8125 69.390625 \nQ 13.765625 71.78125 18.9375 73 \nQ 24.125 74.21875 28.421875 74.21875 \nQ 39.75 74.21875 46.484375 68.546875 \nQ 53.21875 62.890625 53.21875 53.421875 \nQ 53.21875 48.921875 51.53125 44.890625 \nQ 49.859375 40.875 45.40625 35.40625 \nQ 44.1875 33.984375 37.640625 27.21875 \nQ 31.109375 20.453125 19.1875 8.296875 \nz\n\" id=\"DejaVuSans-50\"/>\n      </defs>\n      <g transform=\"translate(139.725322 417.735624)rotate(-45)scale(0.08 -0.08)\">\n       <use xlink:href=\"#DejaVuSans-50\"/>\n      </g>\n     </g>\n    </g>\n    <g id=\"xtick_8\">\n     <g id=\"text_8\">\n      <!-- 32 -->\n      <g transform=\"translate(154.3375 421.334797)rotate(-45)scale(0.08 -0.08)\">\n       <use xlink:href=\"#DejaVuSans-51\"/>\n       <use x=\"63.623047\" xlink:href=\"#DejaVuSans-50\"/>\n      </g>\n     </g>\n    </g>\n    <g id=\"xtick_9\">\n     <g id=\"text_9\">\n      <!-- 3 -->\n      <g transform=\"translate(172.548851 417.735624)rotate(-45)scale(0.08 -0.08)\">\n       <use xlink:href=\"#DejaVuSans-51\"/>\n      </g>\n     </g>\n    </g>\n    <g id=\"xtick_10\">\n     <g id=\"text_10\">\n      <!-- 19 -->\n      <defs>\n       <path d=\"M 10.984375 1.515625 \nL 10.984375 10.5 \nQ 14.703125 8.734375 18.5 7.8125 \nQ 22.3125 6.890625 25.984375 6.890625 \nQ 35.75 6.890625 40.890625 13.453125 \nQ 46.046875 20.015625 46.78125 33.40625 \nQ 43.953125 29.203125 39.59375 26.953125 \nQ 35.25 24.703125 29.984375 24.703125 \nQ 19.046875 24.703125 12.671875 31.3125 \nQ 6.296875 37.9375 6.296875 49.421875 \nQ 6.296875 60.640625 12.9375 67.421875 \nQ 19.578125 74.21875 30.609375 74.21875 \nQ 43.265625 74.21875 49.921875 64.515625 \nQ 56.59375 54.828125 56.59375 36.375 \nQ 56.59375 19.140625 48.40625 8.859375 \nQ 40.234375 -1.421875 26.421875 -1.421875 \nQ 22.703125 -1.421875 18.890625 -0.6875 \nQ 15.09375 0.046875 10.984375 1.515625 \nz\nM 30.609375 32.421875 \nQ 37.25 32.421875 41.125 36.953125 \nQ 45.015625 41.5 45.015625 49.421875 \nQ 45.015625 57.28125 41.125 61.84375 \nQ 37.25 66.40625 30.609375 66.40625 \nQ 23.96875 66.40625 20.09375 61.84375 \nQ 16.21875 57.28125 16.21875 49.421875 \nQ 16.21875 41.5 20.09375 36.953125 \nQ 23.96875 32.421875 30.609375 32.421875 \nz\n\" id=\"DejaVuSans-57\"/>\n      </defs>\n      <g transform=\"translate(187.161029 421.334797)rotate(-45)scale(0.08 -0.08)\">\n       <use xlink:href=\"#DejaVuSans-49\"/>\n       <use x=\"63.623047\" xlink:href=\"#DejaVuSans-57\"/>\n      </g>\n     </g>\n    </g>\n    <g id=\"xtick_11\">\n     <g id=\"text_11\">\n      <!-- 30 -->\n      <g transform=\"translate(203.572794 421.334797)rotate(-45)scale(0.08 -0.08)\">\n       <use xlink:href=\"#DejaVuSans-51\"/>\n       <use x=\"63.623047\" xlink:href=\"#DejaVuSans-48\"/>\n      </g>\n     </g>\n    </g>\n    <g id=\"xtick_12\">\n     <g id=\"text_12\">\n      <!-- 9 -->\n      <g transform=\"translate(221.784146 417.735624)rotate(-45)scale(0.08 -0.08)\">\n       <use xlink:href=\"#DejaVuSans-57\"/>\n      </g>\n     </g>\n    </g>\n    <g id=\"xtick_13\">\n     <g id=\"text_13\">\n      <!-- 29 -->\n      <g transform=\"translate(236.396324 421.334797)rotate(-45)scale(0.08 -0.08)\">\n       <use xlink:href=\"#DejaVuSans-50\"/>\n       <use x=\"63.623047\" xlink:href=\"#DejaVuSans-57\"/>\n      </g>\n     </g>\n    </g>\n    <g id=\"xtick_14\">\n     <g id=\"text_14\">\n      <!-- 7 -->\n      <defs>\n       <path d=\"M 8.203125 72.90625 \nL 55.078125 72.90625 \nL 55.078125 68.703125 \nL 28.609375 0 \nL 18.3125 0 \nL 43.21875 64.59375 \nL 8.203125 64.59375 \nz\n\" id=\"DejaVuSans-55\"/>\n      </defs>\n      <g transform=\"translate(254.607675 417.735624)rotate(-45)scale(0.08 -0.08)\">\n       <use xlink:href=\"#DejaVuSans-55\"/>\n      </g>\n     </g>\n    </g>\n    <g id=\"xtick_15\">\n     <g id=\"text_15\">\n      <!-- 23 -->\n      <g transform=\"translate(269.219853 421.334797)rotate(-45)scale(0.08 -0.08)\">\n       <use xlink:href=\"#DejaVuSans-50\"/>\n       <use x=\"63.623047\" xlink:href=\"#DejaVuSans-51\"/>\n      </g>\n     </g>\n    </g>\n    <g id=\"xtick_16\">\n     <g id=\"text_16\">\n      <!-- 27 -->\n      <g transform=\"translate(285.631618 421.334797)rotate(-45)scale(0.08 -0.08)\">\n       <use xlink:href=\"#DejaVuSans-50\"/>\n       <use x=\"63.623047\" xlink:href=\"#DejaVuSans-55\"/>\n      </g>\n     </g>\n    </g>\n    <g id=\"xtick_17\">\n     <g id=\"text_17\">\n      <!-- 28 -->\n      <g transform=\"translate(302.043382 421.334797)rotate(-45)scale(0.08 -0.08)\">\n       <use xlink:href=\"#DejaVuSans-50\"/>\n       <use x=\"63.623047\" xlink:href=\"#DejaVuSans-56\"/>\n      </g>\n     </g>\n    </g>\n    <g id=\"xtick_18\">\n     <g id=\"text_18\">\n      <!-- 5 -->\n      <defs>\n       <path d=\"M 10.796875 72.90625 \nL 49.515625 72.90625 \nL 49.515625 64.59375 \nL 19.828125 64.59375 \nL 19.828125 46.734375 \nQ 21.96875 47.46875 24.109375 47.828125 \nQ 26.265625 48.1875 28.421875 48.1875 \nQ 40.625 48.1875 47.75 41.5 \nQ 54.890625 34.8125 54.890625 23.390625 \nQ 54.890625 11.625 47.5625 5.09375 \nQ 40.234375 -1.421875 26.90625 -1.421875 \nQ 22.3125 -1.421875 17.546875 -0.640625 \nQ 12.796875 0.140625 7.71875 1.703125 \nL 7.71875 11.625 \nQ 12.109375 9.234375 16.796875 8.0625 \nQ 21.484375 6.890625 26.703125 6.890625 \nQ 35.15625 6.890625 40.078125 11.328125 \nQ 45.015625 15.765625 45.015625 23.390625 \nQ 45.015625 31 40.078125 35.4375 \nQ 35.15625 39.890625 26.703125 39.890625 \nQ 22.75 39.890625 18.8125 39.015625 \nQ 14.890625 38.140625 10.796875 36.28125 \nz\n\" id=\"DejaVuSans-53\"/>\n      </defs>\n      <g transform=\"translate(320.254734 417.735624)rotate(-45)scale(0.08 -0.08)\">\n       <use xlink:href=\"#DejaVuSans-53\"/>\n      </g>\n     </g>\n    </g>\n    <g id=\"xtick_19\">\n     <g id=\"text_19\">\n      <!-- 6 -->\n      <defs>\n       <path d=\"M 33.015625 40.375 \nQ 26.375 40.375 22.484375 35.828125 \nQ 18.609375 31.296875 18.609375 23.390625 \nQ 18.609375 15.53125 22.484375 10.953125 \nQ 26.375 6.390625 33.015625 6.390625 \nQ 39.65625 6.390625 43.53125 10.953125 \nQ 47.40625 15.53125 47.40625 23.390625 \nQ 47.40625 31.296875 43.53125 35.828125 \nQ 39.65625 40.375 33.015625 40.375 \nz\nM 52.59375 71.296875 \nL 52.59375 62.3125 \nQ 48.875 64.0625 45.09375 64.984375 \nQ 41.3125 65.921875 37.59375 65.921875 \nQ 27.828125 65.921875 22.671875 59.328125 \nQ 17.53125 52.734375 16.796875 39.40625 \nQ 19.671875 43.65625 24.015625 45.921875 \nQ 28.375 48.1875 33.59375 48.1875 \nQ 44.578125 48.1875 50.953125 41.515625 \nQ 57.328125 34.859375 57.328125 23.390625 \nQ 57.328125 12.15625 50.6875 5.359375 \nQ 44.046875 -1.421875 33.015625 -1.421875 \nQ 20.359375 -1.421875 13.671875 8.265625 \nQ 6.984375 17.96875 6.984375 36.375 \nQ 6.984375 53.65625 15.1875 63.9375 \nQ 23.390625 74.21875 37.203125 74.21875 \nQ 40.921875 74.21875 44.703125 73.484375 \nQ 48.484375 72.75 52.59375 71.296875 \nz\n\" id=\"DejaVuSans-54\"/>\n      </defs>\n      <g transform=\"translate(336.666499 417.735624)rotate(-45)scale(0.08 -0.08)\">\n       <use xlink:href=\"#DejaVuSans-54\"/>\n      </g>\n     </g>\n    </g>\n    <g id=\"xtick_20\">\n     <g id=\"text_20\">\n      <!-- 22 -->\n      <g transform=\"translate(351.278676 421.334797)rotate(-45)scale(0.08 -0.08)\">\n       <use xlink:href=\"#DejaVuSans-50\"/>\n       <use x=\"63.623047\" xlink:href=\"#DejaVuSans-50\"/>\n      </g>\n     </g>\n    </g>\n    <g id=\"xtick_21\">\n     <g id=\"text_21\">\n      <!-- 20 -->\n      <g transform=\"translate(367.690441 421.334797)rotate(-45)scale(0.08 -0.08)\">\n       <use xlink:href=\"#DejaVuSans-50\"/>\n       <use x=\"63.623047\" xlink:href=\"#DejaVuSans-48\"/>\n      </g>\n     </g>\n    </g>\n    <g id=\"xtick_22\">\n     <g id=\"text_22\">\n      <!-- 18 -->\n      <g transform=\"translate(384.102206 421.334797)rotate(-45)scale(0.08 -0.08)\">\n       <use xlink:href=\"#DejaVuSans-49\"/>\n       <use x=\"63.623047\" xlink:href=\"#DejaVuSans-56\"/>\n      </g>\n     </g>\n    </g>\n    <g id=\"xtick_23\">\n     <g id=\"text_23\">\n      <!-- 14 -->\n      <defs>\n       <path d=\"M 37.796875 64.3125 \nL 12.890625 25.390625 \nL 37.796875 25.390625 \nz\nM 35.203125 72.90625 \nL 47.609375 72.90625 \nL 47.609375 25.390625 \nL 58.015625 25.390625 \nL 58.015625 17.1875 \nL 47.609375 17.1875 \nL 47.609375 0 \nL 37.796875 0 \nL 37.796875 17.1875 \nL 4.890625 17.1875 \nL 4.890625 26.703125 \nz\n\" id=\"DejaVuSans-52\"/>\n      </defs>\n      <g transform=\"translate(400.513971 421.334797)rotate(-45)scale(0.08 -0.08)\">\n       <use xlink:href=\"#DejaVuSans-49\"/>\n       <use x=\"63.623047\" xlink:href=\"#DejaVuSans-52\"/>\n      </g>\n     </g>\n    </g>\n    <g id=\"xtick_24\">\n     <g id=\"text_24\">\n      <!-- 15 -->\n      <g transform=\"translate(416.925735 421.334797)rotate(-45)scale(0.08 -0.08)\">\n       <use xlink:href=\"#DejaVuSans-49\"/>\n       <use x=\"63.623047\" xlink:href=\"#DejaVuSans-53\"/>\n      </g>\n     </g>\n    </g>\n    <g id=\"xtick_25\">\n     <g id=\"text_25\">\n      <!-- 12 -->\n      <g transform=\"translate(433.3375 421.334797)rotate(-45)scale(0.08 -0.08)\">\n       <use xlink:href=\"#DejaVuSans-49\"/>\n       <use x=\"63.623047\" xlink:href=\"#DejaVuSans-50\"/>\n      </g>\n     </g>\n    </g>\n    <g id=\"xtick_26\">\n     <g id=\"text_26\">\n      <!-- 26 -->\n      <g transform=\"translate(449.749265 421.334797)rotate(-45)scale(0.08 -0.08)\">\n       <use xlink:href=\"#DejaVuSans-50\"/>\n       <use x=\"63.623047\" xlink:href=\"#DejaVuSans-54\"/>\n      </g>\n     </g>\n    </g>\n    <g id=\"xtick_27\">\n     <g id=\"text_27\">\n      <!-- 4 -->\n      <g transform=\"translate(467.960616 417.735624)rotate(-45)scale(0.08 -0.08)\">\n       <use xlink:href=\"#DejaVuSans-52\"/>\n      </g>\n     </g>\n    </g>\n    <g id=\"xtick_28\">\n     <g id=\"text_28\">\n      <!-- 10 -->\n      <g transform=\"translate(482.572794 421.334797)rotate(-45)scale(0.08 -0.08)\">\n       <use xlink:href=\"#DejaVuSans-49\"/>\n       <use x=\"63.623047\" xlink:href=\"#DejaVuSans-48\"/>\n      </g>\n     </g>\n    </g>\n    <g id=\"xtick_29\">\n     <g id=\"text_29\">\n      <!-- 17 -->\n      <g transform=\"translate(498.984559 421.334797)rotate(-45)scale(0.08 -0.08)\">\n       <use xlink:href=\"#DejaVuSans-49\"/>\n       <use x=\"63.623047\" xlink:href=\"#DejaVuSans-55\"/>\n      </g>\n     </g>\n    </g>\n    <g id=\"xtick_30\">\n     <g id=\"text_30\">\n      <!-- 21 -->\n      <g transform=\"translate(515.396324 421.334797)rotate(-45)scale(0.08 -0.08)\">\n       <use xlink:href=\"#DejaVuSans-50\"/>\n       <use x=\"63.623047\" xlink:href=\"#DejaVuSans-49\"/>\n      </g>\n     </g>\n    </g>\n    <g id=\"xtick_31\">\n     <g id=\"text_31\">\n      <!-- 16 -->\n      <g transform=\"translate(531.808088 421.334797)rotate(-45)scale(0.08 -0.08)\">\n       <use xlink:href=\"#DejaVuSans-49\"/>\n       <use x=\"63.623047\" xlink:href=\"#DejaVuSans-54\"/>\n      </g>\n     </g>\n    </g>\n    <g id=\"xtick_32\">\n     <g id=\"text_32\">\n      <!-- 11 -->\n      <g transform=\"translate(548.219853 421.334797)rotate(-45)scale(0.08 -0.08)\">\n       <use xlink:href=\"#DejaVuSans-49\"/>\n       <use x=\"63.623047\" xlink:href=\"#DejaVuSans-49\"/>\n      </g>\n     </g>\n    </g>\n    <g id=\"xtick_33\">\n     <g id=\"text_33\">\n      <!-- 24 -->\n      <g transform=\"translate(564.631618 421.334797)rotate(-45)scale(0.08 -0.08)\">\n       <use xlink:href=\"#DejaVuSans-50\"/>\n       <use x=\"63.623047\" xlink:href=\"#DejaVuSans-52\"/>\n      </g>\n     </g>\n    </g>\n    <g id=\"xtick_34\">\n     <g id=\"text_34\">\n      <!-- 25 -->\n      <g transform=\"translate(581.043382 421.334797)rotate(-45)scale(0.08 -0.08)\">\n       <use xlink:href=\"#DejaVuSans-50\"/>\n       <use x=\"63.623047\" xlink:href=\"#DejaVuSans-53\"/>\n      </g>\n     </g>\n    </g>\n   </g>\n   <g id=\"matplotlib.axis_2\">\n    <g id=\"ytick_1\">\n     <g id=\"line2d_1\">\n      <defs>\n       <path d=\"M 0 0 \nL -3.5 0 \n\" id=\"mbdc0a6e8e3\" style=\"stroke:#000000;stroke-width:0.8;\"/>\n      </defs>\n      <g>\n       <use style=\"stroke:#000000;stroke-width:0.8;\" x=\"33.2875\" xlink:href=\"#mbdc0a6e8e3\" y=\"402.838125\"/>\n      </g>\n     </g>\n     <g id=\"text_35\">\n      <!-- 0 -->\n      <g transform=\"translate(19.925 406.637344)scale(0.1 -0.1)\">\n       <use xlink:href=\"#DejaVuSans-48\"/>\n      </g>\n     </g>\n    </g>\n    <g id=\"ytick_2\">\n     <g id=\"line2d_2\">\n      <g>\n       <use style=\"stroke:#000000;stroke-width:0.8;\" x=\"33.2875\" xlink:href=\"#mbdc0a6e8e3\" y=\"358.740231\"/>\n      </g>\n     </g>\n     <g id=\"text_36\">\n      <!-- 50 -->\n      <g transform=\"translate(13.5625 362.53945)scale(0.1 -0.1)\">\n       <use xlink:href=\"#DejaVuSans-53\"/>\n       <use x=\"63.623047\" xlink:href=\"#DejaVuSans-48\"/>\n      </g>\n     </g>\n    </g>\n    <g id=\"ytick_3\">\n     <g id=\"line2d_3\">\n      <g>\n       <use style=\"stroke:#000000;stroke-width:0.8;\" x=\"33.2875\" xlink:href=\"#mbdc0a6e8e3\" y=\"314.642338\"/>\n      </g>\n     </g>\n     <g id=\"text_37\">\n      <!-- 100 -->\n      <g transform=\"translate(7.2 318.441556)scale(0.1 -0.1)\">\n       <use xlink:href=\"#DejaVuSans-49\"/>\n       <use x=\"63.623047\" xlink:href=\"#DejaVuSans-48\"/>\n       <use x=\"127.246094\" xlink:href=\"#DejaVuSans-48\"/>\n      </g>\n     </g>\n    </g>\n    <g id=\"ytick_4\">\n     <g id=\"line2d_4\">\n      <g>\n       <use style=\"stroke:#000000;stroke-width:0.8;\" x=\"33.2875\" xlink:href=\"#mbdc0a6e8e3\" y=\"270.544444\"/>\n      </g>\n     </g>\n     <g id=\"text_38\">\n      <!-- 150 -->\n      <g transform=\"translate(7.2 274.343663)scale(0.1 -0.1)\">\n       <use xlink:href=\"#DejaVuSans-49\"/>\n       <use x=\"63.623047\" xlink:href=\"#DejaVuSans-53\"/>\n       <use x=\"127.246094\" xlink:href=\"#DejaVuSans-48\"/>\n      </g>\n     </g>\n    </g>\n    <g id=\"ytick_5\">\n     <g id=\"line2d_5\">\n      <g>\n       <use style=\"stroke:#000000;stroke-width:0.8;\" x=\"33.2875\" xlink:href=\"#mbdc0a6e8e3\" y=\"226.44655\"/>\n      </g>\n     </g>\n     <g id=\"text_39\">\n      <!-- 200 -->\n      <g transform=\"translate(7.2 230.245769)scale(0.1 -0.1)\">\n       <use xlink:href=\"#DejaVuSans-50\"/>\n       <use x=\"63.623047\" xlink:href=\"#DejaVuSans-48\"/>\n       <use x=\"127.246094\" xlink:href=\"#DejaVuSans-48\"/>\n      </g>\n     </g>\n    </g>\n    <g id=\"ytick_6\">\n     <g id=\"line2d_6\">\n      <g>\n       <use style=\"stroke:#000000;stroke-width:0.8;\" x=\"33.2875\" xlink:href=\"#mbdc0a6e8e3\" y=\"182.348657\"/>\n      </g>\n     </g>\n     <g id=\"text_40\">\n      <!-- 250 -->\n      <g transform=\"translate(7.2 186.147875)scale(0.1 -0.1)\">\n       <use xlink:href=\"#DejaVuSans-50\"/>\n       <use x=\"63.623047\" xlink:href=\"#DejaVuSans-53\"/>\n       <use x=\"127.246094\" xlink:href=\"#DejaVuSans-48\"/>\n      </g>\n     </g>\n    </g>\n    <g id=\"ytick_7\">\n     <g id=\"line2d_7\">\n      <g>\n       <use style=\"stroke:#000000;stroke-width:0.8;\" x=\"33.2875\" xlink:href=\"#mbdc0a6e8e3\" y=\"138.250763\"/>\n      </g>\n     </g>\n     <g id=\"text_41\">\n      <!-- 300 -->\n      <g transform=\"translate(7.2 142.049982)scale(0.1 -0.1)\">\n       <use xlink:href=\"#DejaVuSans-51\"/>\n       <use x=\"63.623047\" xlink:href=\"#DejaVuSans-48\"/>\n       <use x=\"127.246094\" xlink:href=\"#DejaVuSans-48\"/>\n      </g>\n     </g>\n    </g>\n    <g id=\"ytick_8\">\n     <g id=\"line2d_8\">\n      <g>\n       <use style=\"stroke:#000000;stroke-width:0.8;\" x=\"33.2875\" xlink:href=\"#mbdc0a6e8e3\" y=\"94.152869\"/>\n      </g>\n     </g>\n     <g id=\"text_42\">\n      <!-- 350 -->\n      <g transform=\"translate(7.2 97.952088)scale(0.1 -0.1)\">\n       <use xlink:href=\"#DejaVuSans-51\"/>\n       <use x=\"63.623047\" xlink:href=\"#DejaVuSans-53\"/>\n       <use x=\"127.246094\" xlink:href=\"#DejaVuSans-48\"/>\n      </g>\n     </g>\n    </g>\n    <g id=\"ytick_9\">\n     <g id=\"line2d_9\">\n      <g>\n       <use style=\"stroke:#000000;stroke-width:0.8;\" x=\"33.2875\" xlink:href=\"#mbdc0a6e8e3\" y=\"50.054976\"/>\n      </g>\n     </g>\n     <g id=\"text_43\">\n      <!-- 400 -->\n      <g transform=\"translate(7.2 53.854194)scale(0.1 -0.1)\">\n       <use xlink:href=\"#DejaVuSans-52\"/>\n       <use x=\"63.623047\" xlink:href=\"#DejaVuSans-48\"/>\n       <use x=\"127.246094\" xlink:href=\"#DejaVuSans-48\"/>\n      </g>\n     </g>\n    </g>\n   </g>\n   <g id=\"LineCollection_1\">\n    <path clip-path=\"url(#p0e1dfb8624)\" d=\"M 74.316912 402.838125 \nL 74.316912 400.946248 \nL 90.728676 400.946248 \nL 90.728676 402.838125 \n\" style=\"fill:none;stroke:#ff7f0e;stroke-width:1.5;\"/>\n    <path clip-path=\"url(#p0e1dfb8624)\" d=\"M 57.905147 402.838125 \nL 57.905147 396.349733 \nL 82.522794 396.349733 \nL 82.522794 400.946248 \n\" style=\"fill:none;stroke:#ff7f0e;stroke-width:1.5;\"/>\n    <path clip-path=\"url(#p0e1dfb8624)\" d=\"M 41.493382 402.838125 \nL 41.493382 384.694298 \nL 70.213971 384.694298 \nL 70.213971 396.349733 \n\" style=\"fill:none;stroke:#ff7f0e;stroke-width:1.5;\"/>\n    <path clip-path=\"url(#p0e1dfb8624)\" d=\"M 107.140441 402.838125 \nL 107.140441 397.329005 \nL 123.552206 397.329005 \nL 123.552206 402.838125 \n\" style=\"fill:none;stroke:#ff7f0e;stroke-width:1.5;\"/>\n    <path clip-path=\"url(#p0e1dfb8624)\" d=\"M 139.963971 402.838125 \nL 139.963971 392.186315 \nL 156.375735 392.186315 \nL 156.375735 402.838125 \n\" style=\"fill:none;stroke:#ff7f0e;stroke-width:1.5;\"/>\n    <path clip-path=\"url(#p0e1dfb8624)\" d=\"M 115.346324 397.329005 \nL 115.346324 344.556995 \nL 148.169853 344.556995 \nL 148.169853 392.186315 \n\" style=\"fill:none;stroke:#ff7f0e;stroke-width:1.5;\"/>\n    <path clip-path=\"url(#p0e1dfb8624)\" d=\"M 55.853676 384.694298 \nL 55.853676 274.936565 \nL 131.758088 274.936565 \nL 131.758088 344.556995 \n\" style=\"fill:none;stroke:#ff7f0e;stroke-width:1.5;\"/>\n   </g>\n   <g id=\"LineCollection_2\">\n    <path clip-path=\"url(#p0e1dfb8624)\" d=\"M 189.199265 402.838125 \nL 189.199265 392.189459 \nL 205.611029 392.189459 \nL 205.611029 402.838125 \n\" style=\"fill:none;stroke:#2ca02c;stroke-width:1.5;\"/>\n    <path clip-path=\"url(#p0e1dfb8624)\" d=\"M 172.7875 402.838125 \nL 172.7875 381.882135 \nL 197.405147 381.882135 \nL 197.405147 392.189459 \n\" style=\"fill:none;stroke:#2ca02c;stroke-width:1.5;\"/>\n    <path clip-path=\"url(#p0e1dfb8624)\" d=\"M 222.022794 402.838125 \nL 222.022794 384.840806 \nL 238.434559 384.840806 \nL 238.434559 402.838125 \n\" style=\"fill:none;stroke:#2ca02c;stroke-width:1.5;\"/>\n    <path clip-path=\"url(#p0e1dfb8624)\" d=\"M 254.846324 402.838125 \nL 254.846324 396.080208 \nL 271.258088 396.080208 \nL 271.258088 402.838125 \n\" style=\"fill:none;stroke:#2ca02c;stroke-width:1.5;\"/>\n    <path clip-path=\"url(#p0e1dfb8624)\" d=\"M 287.669853 402.838125 \nL 287.669853 392.506925 \nL 304.081618 392.506925 \nL 304.081618 402.838125 \n\" style=\"fill:none;stroke:#2ca02c;stroke-width:1.5;\"/>\n    <path clip-path=\"url(#p0e1dfb8624)\" d=\"M 263.052206 396.080208 \nL 263.052206 383.756773 \nL 295.875735 383.756773 \nL 295.875735 392.506925 \n\" style=\"fill:none;stroke:#2ca02c;stroke-width:1.5;\"/>\n    <path clip-path=\"url(#p0e1dfb8624)\" d=\"M 230.228676 384.840806 \nL 230.228676 371.134944 \nL 279.463971 371.134944 \nL 279.463971 383.756773 \n\" style=\"fill:none;stroke:#2ca02c;stroke-width:1.5;\"/>\n    <path clip-path=\"url(#p0e1dfb8624)\" d=\"M 185.096324 381.882135 \nL 185.096324 345.990526 \nL 254.846324 345.990526 \nL 254.846324 371.134944 \n\" style=\"fill:none;stroke:#2ca02c;stroke-width:1.5;\"/>\n    <path clip-path=\"url(#p0e1dfb8624)\" d=\"M 320.493382 402.838125 \nL 320.493382 402.838125 \nL 336.905147 402.838125 \nL 336.905147 402.838125 \n\" style=\"fill:none;stroke:#2ca02c;stroke-width:1.5;\"/>\n    <path clip-path=\"url(#p0e1dfb8624)\" d=\"M 402.552206 402.838125 \nL 402.552206 402.838125 \nL 418.963971 402.838125 \nL 418.963971 402.838125 \n\" style=\"fill:none;stroke:#2ca02c;stroke-width:1.5;\"/>\n    <path clip-path=\"url(#p0e1dfb8624)\" d=\"M 386.140441 402.838125 \nL 386.140441 402.838125 \nL 410.758088 402.838125 \nL 410.758088 402.838125 \n\" style=\"fill:none;stroke:#2ca02c;stroke-width:1.5;\"/>\n    <path clip-path=\"url(#p0e1dfb8624)\" d=\"M 369.728676 402.838125 \nL 369.728676 402.838125 \nL 398.449265 402.838125 \nL 398.449265 402.838125 \n\" style=\"fill:none;stroke:#2ca02c;stroke-width:1.5;\"/>\n    <path clip-path=\"url(#p0e1dfb8624)\" d=\"M 353.316912 402.838125 \nL 353.316912 402.838125 \nL 384.088971 402.838125 \nL 384.088971 402.838125 \n\" style=\"fill:none;stroke:#2ca02c;stroke-width:1.5;\"/>\n    <path clip-path=\"url(#p0e1dfb8624)\" d=\"M 328.699265 402.838125 \nL 328.699265 387.488652 \nL 368.702941 387.488652 \nL 368.702941 402.838125 \n\" style=\"fill:none;stroke:#2ca02c;stroke-width:1.5;\"/>\n    <path clip-path=\"url(#p0e1dfb8624)\" d=\"M 435.375735 402.838125 \nL 435.375735 398.91712 \nL 451.7875 398.91712 \nL 451.7875 402.838125 \n\" style=\"fill:none;stroke:#2ca02c;stroke-width:1.5;\"/>\n    <path clip-path=\"url(#p0e1dfb8624)\" d=\"M 468.199265 402.838125 \nL 468.199265 402.838125 \nL 484.611029 402.838125 \nL 484.611029 402.838125 \n\" style=\"fill:none;stroke:#2ca02c;stroke-width:1.5;\"/>\n    <path clip-path=\"url(#p0e1dfb8624)\" d=\"M 501.022794 402.838125 \nL 501.022794 402.838125 \nL 517.434559 402.838125 \nL 517.434559 402.838125 \n\" style=\"fill:none;stroke:#2ca02c;stroke-width:1.5;\"/>\n    <path clip-path=\"url(#p0e1dfb8624)\" d=\"M 476.405147 402.838125 \nL 476.405147 395.306686 \nL 509.228676 395.306686 \nL 509.228676 402.838125 \n\" style=\"fill:none;stroke:#2ca02c;stroke-width:1.5;\"/>\n    <path clip-path=\"url(#p0e1dfb8624)\" d=\"M 443.581618 398.91712 \nL 443.581618 387.017741 \nL 492.816912 387.017741 \nL 492.816912 395.306686 \n\" style=\"fill:none;stroke:#2ca02c;stroke-width:1.5;\"/>\n    <path clip-path=\"url(#p0e1dfb8624)\" d=\"M 348.701103 387.488652 \nL 348.701103 373.111568 \nL 468.199265 373.111568 \nL 468.199265 387.017741 \n\" style=\"fill:none;stroke:#2ca02c;stroke-width:1.5;\"/>\n    <path clip-path=\"url(#p0e1dfb8624)\" d=\"M 566.669853 402.838125 \nL 566.669853 400.178119 \nL 583.081618 400.178119 \nL 583.081618 402.838125 \n\" style=\"fill:none;stroke:#2ca02c;stroke-width:1.5;\"/>\n    <path clip-path=\"url(#p0e1dfb8624)\" d=\"M 550.258088 402.838125 \nL 550.258088 395.310059 \nL 574.875735 395.310059 \nL 574.875735 400.178119 \n\" style=\"fill:none;stroke:#2ca02c;stroke-width:1.5;\"/>\n    <path clip-path=\"url(#p0e1dfb8624)\" d=\"M 533.846324 402.838125 \nL 533.846324 348.076624 \nL 562.566912 348.076624 \nL 562.566912 395.310059 \n\" style=\"fill:none;stroke:#2ca02c;stroke-width:1.5;\"/>\n    <path clip-path=\"url(#p0e1dfb8624)\" d=\"M 408.450184 373.111568 \nL 408.450184 312.635108 \nL 548.206618 312.635108 \nL 548.206618 348.076624 \n\" style=\"fill:none;stroke:#2ca02c;stroke-width:1.5;\"/>\n    <path clip-path=\"url(#p0e1dfb8624)\" d=\"M 219.971324 345.990526 \nL 219.971324 233.55879 \nL 478.328401 233.55879 \nL 478.328401 312.635108 \n\" style=\"fill:none;stroke:#2ca02c;stroke-width:1.5;\"/>\n   </g>\n   <g id=\"LineCollection_3\">\n    <path clip-path=\"url(#p0e1dfb8624)\" d=\"M 93.805882 274.936565 \nL 93.805882 40.438125 \nL 349.149862 40.438125 \nL 349.149862 233.55879 \n\" style=\"fill:none;stroke:#1f77b4;stroke-width:1.5;\"/>\n   </g>\n   <g id=\"patch_3\">\n    <path d=\"M 33.2875 402.838125 \nL 33.2875 22.318125 \n\" style=\"fill:none;stroke:#000000;stroke-linecap:square;stroke-linejoin:miter;stroke-width:0.8;\"/>\n   </g>\n   <g id=\"patch_4\">\n    <path d=\"M 591.2875 402.838125 \nL 591.2875 22.318125 \n\" style=\"fill:none;stroke:#000000;stroke-linecap:square;stroke-linejoin:miter;stroke-width:0.8;\"/>\n   </g>\n   <g id=\"patch_5\">\n    <path d=\"M 33.2875 402.838125 \nL 591.2875 402.838125 \n\" style=\"fill:none;stroke:#000000;stroke-linecap:square;stroke-linejoin:miter;stroke-width:0.8;\"/>\n   </g>\n   <g id=\"patch_6\">\n    <path d=\"M 33.2875 22.318125 \nL 591.2875 22.318125 \n\" style=\"fill:none;stroke:#000000;stroke-linecap:square;stroke-linejoin:miter;stroke-width:0.8;\"/>\n   </g>\n   <g id=\"text_44\">\n    <!-- Customer Dendograms -->\n    <defs>\n     <path d=\"M 64.40625 67.28125 \nL 64.40625 56.890625 \nQ 59.421875 61.53125 53.78125 63.8125 \nQ 48.140625 66.109375 41.796875 66.109375 \nQ 29.296875 66.109375 22.65625 58.46875 \nQ 16.015625 50.828125 16.015625 36.375 \nQ 16.015625 21.96875 22.65625 14.328125 \nQ 29.296875 6.6875 41.796875 6.6875 \nQ 48.140625 6.6875 53.78125 8.984375 \nQ 59.421875 11.28125 64.40625 15.921875 \nL 64.40625 5.609375 \nQ 59.234375 2.09375 53.4375 0.328125 \nQ 47.65625 -1.421875 41.21875 -1.421875 \nQ 24.65625 -1.421875 15.125 8.703125 \nQ 5.609375 18.84375 5.609375 36.375 \nQ 5.609375 53.953125 15.125 64.078125 \nQ 24.65625 74.21875 41.21875 74.21875 \nQ 47.75 74.21875 53.53125 72.484375 \nQ 59.328125 70.75 64.40625 67.28125 \nz\n\" id=\"DejaVuSans-67\"/>\n     <path d=\"M 8.5 21.578125 \nL 8.5 54.6875 \nL 17.484375 54.6875 \nL 17.484375 21.921875 \nQ 17.484375 14.15625 20.5 10.265625 \nQ 23.53125 6.390625 29.59375 6.390625 \nQ 36.859375 6.390625 41.078125 11.03125 \nQ 45.3125 15.671875 45.3125 23.6875 \nL 45.3125 54.6875 \nL 54.296875 54.6875 \nL 54.296875 0 \nL 45.3125 0 \nL 45.3125 8.40625 \nQ 42.046875 3.421875 37.71875 1 \nQ 33.40625 -1.421875 27.6875 -1.421875 \nQ 18.265625 -1.421875 13.375 4.4375 \nQ 8.5 10.296875 8.5 21.578125 \nz\nM 31.109375 56 \nz\n\" id=\"DejaVuSans-117\"/>\n     <path d=\"M 44.28125 53.078125 \nL 44.28125 44.578125 \nQ 40.484375 46.53125 36.375 47.5 \nQ 32.28125 48.484375 27.875 48.484375 \nQ 21.1875 48.484375 17.84375 46.4375 \nQ 14.5 44.390625 14.5 40.28125 \nQ 14.5 37.15625 16.890625 35.375 \nQ 19.28125 33.59375 26.515625 31.984375 \nL 29.59375 31.296875 \nQ 39.15625 29.25 43.1875 25.515625 \nQ 47.21875 21.78125 47.21875 15.09375 \nQ 47.21875 7.46875 41.1875 3.015625 \nQ 35.15625 -1.421875 24.609375 -1.421875 \nQ 20.21875 -1.421875 15.453125 -0.5625 \nQ 10.6875 0.296875 5.421875 2 \nL 5.421875 11.28125 \nQ 10.40625 8.6875 15.234375 7.390625 \nQ 20.0625 6.109375 24.8125 6.109375 \nQ 31.15625 6.109375 34.5625 8.28125 \nQ 37.984375 10.453125 37.984375 14.40625 \nQ 37.984375 18.0625 35.515625 20.015625 \nQ 33.0625 21.96875 24.703125 23.78125 \nL 21.578125 24.515625 \nQ 13.234375 26.265625 9.515625 29.90625 \nQ 5.8125 33.546875 5.8125 39.890625 \nQ 5.8125 47.609375 11.28125 51.796875 \nQ 16.75 56 26.8125 56 \nQ 31.78125 56 36.171875 55.265625 \nQ 40.578125 54.546875 44.28125 53.078125 \nz\n\" id=\"DejaVuSans-115\"/>\n     <path d=\"M 18.3125 70.21875 \nL 18.3125 54.6875 \nL 36.8125 54.6875 \nL 36.8125 47.703125 \nL 18.3125 47.703125 \nL 18.3125 18.015625 \nQ 18.3125 11.328125 20.140625 9.421875 \nQ 21.96875 7.515625 27.59375 7.515625 \nL 36.8125 7.515625 \nL 36.8125 0 \nL 27.59375 0 \nQ 17.1875 0 13.234375 3.875 \nQ 9.28125 7.765625 9.28125 18.015625 \nL 9.28125 47.703125 \nL 2.6875 47.703125 \nL 2.6875 54.6875 \nL 9.28125 54.6875 \nL 9.28125 70.21875 \nz\n\" id=\"DejaVuSans-116\"/>\n     <path d=\"M 30.609375 48.390625 \nQ 23.390625 48.390625 19.1875 42.75 \nQ 14.984375 37.109375 14.984375 27.296875 \nQ 14.984375 17.484375 19.15625 11.84375 \nQ 23.34375 6.203125 30.609375 6.203125 \nQ 37.796875 6.203125 41.984375 11.859375 \nQ 46.1875 17.53125 46.1875 27.296875 \nQ 46.1875 37.015625 41.984375 42.703125 \nQ 37.796875 48.390625 30.609375 48.390625 \nz\nM 30.609375 56 \nQ 42.328125 56 49.015625 48.375 \nQ 55.71875 40.765625 55.71875 27.296875 \nQ 55.71875 13.875 49.015625 6.21875 \nQ 42.328125 -1.421875 30.609375 -1.421875 \nQ 18.84375 -1.421875 12.171875 6.21875 \nQ 5.515625 13.875 5.515625 27.296875 \nQ 5.515625 40.765625 12.171875 48.375 \nQ 18.84375 56 30.609375 56 \nz\n\" id=\"DejaVuSans-111\"/>\n     <path d=\"M 52 44.1875 \nQ 55.375 50.25 60.0625 53.125 \nQ 64.75 56 71.09375 56 \nQ 79.640625 56 84.28125 50.015625 \nQ 88.921875 44.046875 88.921875 33.015625 \nL 88.921875 0 \nL 79.890625 0 \nL 79.890625 32.71875 \nQ 79.890625 40.578125 77.09375 44.375 \nQ 74.3125 48.1875 68.609375 48.1875 \nQ 61.625 48.1875 57.5625 43.546875 \nQ 53.515625 38.921875 53.515625 30.90625 \nL 53.515625 0 \nL 44.484375 0 \nL 44.484375 32.71875 \nQ 44.484375 40.625 41.703125 44.40625 \nQ 38.921875 48.1875 33.109375 48.1875 \nQ 26.21875 48.1875 22.15625 43.53125 \nQ 18.109375 38.875 18.109375 30.90625 \nL 18.109375 0 \nL 9.078125 0 \nL 9.078125 54.6875 \nL 18.109375 54.6875 \nL 18.109375 46.1875 \nQ 21.1875 51.21875 25.484375 53.609375 \nQ 29.78125 56 35.6875 56 \nQ 41.65625 56 45.828125 52.96875 \nQ 50 49.953125 52 44.1875 \nz\n\" id=\"DejaVuSans-109\"/>\n     <path d=\"M 56.203125 29.59375 \nL 56.203125 25.203125 \nL 14.890625 25.203125 \nQ 15.484375 15.921875 20.484375 11.0625 \nQ 25.484375 6.203125 34.421875 6.203125 \nQ 39.59375 6.203125 44.453125 7.46875 \nQ 49.3125 8.734375 54.109375 11.28125 \nL 54.109375 2.78125 \nQ 49.265625 0.734375 44.1875 -0.34375 \nQ 39.109375 -1.421875 33.890625 -1.421875 \nQ 20.796875 -1.421875 13.15625 6.1875 \nQ 5.515625 13.8125 5.515625 26.8125 \nQ 5.515625 40.234375 12.765625 48.109375 \nQ 20.015625 56 32.328125 56 \nQ 43.359375 56 49.78125 48.890625 \nQ 56.203125 41.796875 56.203125 29.59375 \nz\nM 47.21875 32.234375 \nQ 47.125 39.59375 43.09375 43.984375 \nQ 39.0625 48.390625 32.421875 48.390625 \nQ 24.90625 48.390625 20.390625 44.140625 \nQ 15.875 39.890625 15.1875 32.171875 \nz\n\" id=\"DejaVuSans-101\"/>\n     <path d=\"M 41.109375 46.296875 \nQ 39.59375 47.171875 37.8125 47.578125 \nQ 36.03125 48 33.890625 48 \nQ 26.265625 48 22.1875 43.046875 \nQ 18.109375 38.09375 18.109375 28.8125 \nL 18.109375 0 \nL 9.078125 0 \nL 9.078125 54.6875 \nL 18.109375 54.6875 \nL 18.109375 46.1875 \nQ 20.953125 51.171875 25.484375 53.578125 \nQ 30.03125 56 36.53125 56 \nQ 37.453125 56 38.578125 55.875 \nQ 39.703125 55.765625 41.0625 55.515625 \nz\n\" id=\"DejaVuSans-114\"/>\n     <path id=\"DejaVuSans-32\"/>\n     <path d=\"M 19.671875 64.796875 \nL 19.671875 8.109375 \nL 31.59375 8.109375 \nQ 46.6875 8.109375 53.6875 14.9375 \nQ 60.6875 21.78125 60.6875 36.53125 \nQ 60.6875 51.171875 53.6875 57.984375 \nQ 46.6875 64.796875 31.59375 64.796875 \nz\nM 9.8125 72.90625 \nL 30.078125 72.90625 \nQ 51.265625 72.90625 61.171875 64.09375 \nQ 71.09375 55.28125 71.09375 36.53125 \nQ 71.09375 17.671875 61.125 8.828125 \nQ 51.171875 0 30.078125 0 \nL 9.8125 0 \nz\n\" id=\"DejaVuSans-68\"/>\n     <path d=\"M 54.890625 33.015625 \nL 54.890625 0 \nL 45.90625 0 \nL 45.90625 32.71875 \nQ 45.90625 40.484375 42.875 44.328125 \nQ 39.84375 48.1875 33.796875 48.1875 \nQ 26.515625 48.1875 22.3125 43.546875 \nQ 18.109375 38.921875 18.109375 30.90625 \nL 18.109375 0 \nL 9.078125 0 \nL 9.078125 54.6875 \nL 18.109375 54.6875 \nL 18.109375 46.1875 \nQ 21.34375 51.125 25.703125 53.5625 \nQ 30.078125 56 35.796875 56 \nQ 45.21875 56 50.046875 50.171875 \nQ 54.890625 44.34375 54.890625 33.015625 \nz\n\" id=\"DejaVuSans-110\"/>\n     <path d=\"M 45.40625 46.390625 \nL 45.40625 75.984375 \nL 54.390625 75.984375 \nL 54.390625 0 \nL 45.40625 0 \nL 45.40625 8.203125 \nQ 42.578125 3.328125 38.25 0.953125 \nQ 33.9375 -1.421875 27.875 -1.421875 \nQ 17.96875 -1.421875 11.734375 6.484375 \nQ 5.515625 14.40625 5.515625 27.296875 \nQ 5.515625 40.1875 11.734375 48.09375 \nQ 17.96875 56 27.875 56 \nQ 33.9375 56 38.25 53.625 \nQ 42.578125 51.265625 45.40625 46.390625 \nz\nM 14.796875 27.296875 \nQ 14.796875 17.390625 18.875 11.75 \nQ 22.953125 6.109375 30.078125 6.109375 \nQ 37.203125 6.109375 41.296875 11.75 \nQ 45.40625 17.390625 45.40625 27.296875 \nQ 45.40625 37.203125 41.296875 42.84375 \nQ 37.203125 48.484375 30.078125 48.484375 \nQ 22.953125 48.484375 18.875 42.84375 \nQ 14.796875 37.203125 14.796875 27.296875 \nz\n\" id=\"DejaVuSans-100\"/>\n     <path d=\"M 45.40625 27.984375 \nQ 45.40625 37.75 41.375 43.109375 \nQ 37.359375 48.484375 30.078125 48.484375 \nQ 22.859375 48.484375 18.828125 43.109375 \nQ 14.796875 37.75 14.796875 27.984375 \nQ 14.796875 18.265625 18.828125 12.890625 \nQ 22.859375 7.515625 30.078125 7.515625 \nQ 37.359375 7.515625 41.375 12.890625 \nQ 45.40625 18.265625 45.40625 27.984375 \nz\nM 54.390625 6.78125 \nQ 54.390625 -7.171875 48.1875 -13.984375 \nQ 42 -20.796875 29.203125 -20.796875 \nQ 24.46875 -20.796875 20.265625 -20.09375 \nQ 16.0625 -19.390625 12.109375 -17.921875 \nL 12.109375 -9.1875 \nQ 16.0625 -11.328125 19.921875 -12.34375 \nQ 23.78125 -13.375 27.78125 -13.375 \nQ 36.625 -13.375 41.015625 -8.765625 \nQ 45.40625 -4.15625 45.40625 5.171875 \nL 45.40625 9.625 \nQ 42.625 4.78125 38.28125 2.390625 \nQ 33.9375 0 27.875 0 \nQ 17.828125 0 11.671875 7.65625 \nQ 5.515625 15.328125 5.515625 27.984375 \nQ 5.515625 40.671875 11.671875 48.328125 \nQ 17.828125 56 27.875 56 \nQ 33.9375 56 38.28125 53.609375 \nQ 42.625 51.21875 45.40625 46.390625 \nL 45.40625 54.6875 \nL 54.390625 54.6875 \nz\n\" id=\"DejaVuSans-103\"/>\n     <path d=\"M 34.28125 27.484375 \nQ 23.390625 27.484375 19.1875 25 \nQ 14.984375 22.515625 14.984375 16.5 \nQ 14.984375 11.71875 18.140625 8.90625 \nQ 21.296875 6.109375 26.703125 6.109375 \nQ 34.1875 6.109375 38.703125 11.40625 \nQ 43.21875 16.703125 43.21875 25.484375 \nL 43.21875 27.484375 \nz\nM 52.203125 31.203125 \nL 52.203125 0 \nL 43.21875 0 \nL 43.21875 8.296875 \nQ 40.140625 3.328125 35.546875 0.953125 \nQ 30.953125 -1.421875 24.3125 -1.421875 \nQ 15.921875 -1.421875 10.953125 3.296875 \nQ 6 8.015625 6 15.921875 \nQ 6 25.140625 12.171875 29.828125 \nQ 18.359375 34.515625 30.609375 34.515625 \nL 43.21875 34.515625 \nL 43.21875 35.40625 \nQ 43.21875 41.609375 39.140625 45 \nQ 35.0625 48.390625 27.6875 48.390625 \nQ 23 48.390625 18.546875 47.265625 \nQ 14.109375 46.140625 10.015625 43.890625 \nL 10.015625 52.203125 \nQ 14.9375 54.109375 19.578125 55.046875 \nQ 24.21875 56 28.609375 56 \nQ 40.484375 56 46.34375 49.84375 \nQ 52.203125 43.703125 52.203125 31.203125 \nz\n\" id=\"DejaVuSans-97\"/>\n    </defs>\n    <g transform=\"translate(242.719375 16.318125)scale(0.12 -0.12)\">\n     <use xlink:href=\"#DejaVuSans-67\"/>\n     <use x=\"69.824219\" xlink:href=\"#DejaVuSans-117\"/>\n     <use x=\"133.203125\" xlink:href=\"#DejaVuSans-115\"/>\n     <use x=\"185.302734\" xlink:href=\"#DejaVuSans-116\"/>\n     <use x=\"224.511719\" xlink:href=\"#DejaVuSans-111\"/>\n     <use x=\"285.693359\" xlink:href=\"#DejaVuSans-109\"/>\n     <use x=\"383.105469\" xlink:href=\"#DejaVuSans-101\"/>\n     <use x=\"444.628906\" xlink:href=\"#DejaVuSans-114\"/>\n     <use x=\"485.742188\" xlink:href=\"#DejaVuSans-32\"/>\n     <use x=\"517.529297\" xlink:href=\"#DejaVuSans-68\"/>\n     <use x=\"594.53125\" xlink:href=\"#DejaVuSans-101\"/>\n     <use x=\"656.054688\" xlink:href=\"#DejaVuSans-110\"/>\n     <use x=\"719.433594\" xlink:href=\"#DejaVuSans-100\"/>\n     <use x=\"782.910156\" xlink:href=\"#DejaVuSans-111\"/>\n     <use x=\"844.091797\" xlink:href=\"#DejaVuSans-103\"/>\n     <use x=\"907.568359\" xlink:href=\"#DejaVuSans-114\"/>\n     <use x=\"948.681641\" xlink:href=\"#DejaVuSans-97\"/>\n     <use x=\"1009.960938\" xlink:href=\"#DejaVuSans-109\"/>\n     <use x=\"1107.373047\" xlink:href=\"#DejaVuSans-115\"/>\n    </g>\n   </g>\n  </g>\n </g>\n <defs>\n  <clipPath id=\"p0e1dfb8624\">\n   <rect height=\"380.52\" width=\"558\" x=\"33.2875\" y=\"22.318125\"/>\n  </clipPath>\n </defs>\n</svg>\n",
      "image/png": "[encoded data removed]"
     },
     "metadata": {
      "needs_background": "light"
     }
    }
   ],
   "source": [
    "import scipy.cluster.hierarchy as shc\n",
    "\n",
    "data = get_df_for_cluster(target_G)\n",
    "plt.figure(figsize=(10, 7))\n",
    "plt.title(\"Customer Dendograms\")\n",
    "dend = shc.dendrogram(shc.linkage(data, method='ward'))"
   ]
  },
  {
   "cell_type": "code",
   "execution_count": 26,
   "metadata": {},
   "outputs": [
    {
     "output_type": "execute_result",
     "data": {
      "text/plain": [
       "array([1, 1, 1, 0, 0, 0, 0, 0, 1, 0, 0, 0, 0, 1, 0, 0, 0, 0, 0, 0, 0, 0,\n",
       "       0, 0, 0, 0, 0, 0, 0, 0, 0, 1, 1, 1])"
      ]
     },
     "metadata": {},
     "execution_count": 26
    }
   ],
   "source": [
    "from sklearn.cluster import AgglomerativeClustering\n",
    "\n",
    "cluster = AgglomerativeClustering(n_clusters=2, affinity='euclidean', linkage='ward')\n",
    "cluster.fit_predict(data)"
   ]
  },
  {
   "cell_type": "code",
   "execution_count": 27,
   "metadata": {},
   "outputs": [
    {
     "output_type": "execute_result",
     "data": {
      "text/plain": [
       "    node_name  radius  degree  cluster\n",
       "0           1       1      16        0\n",
       "1           2       1       9        0\n",
       "2           3       1      10        0\n",
       "3           4       1       6        2\n",
       "4           5       1       3        1\n",
       "5           6       1       4        1\n",
       "6           7       1       4        1\n",
       "7           8       1       4        2\n",
       "8           9       1       5        0\n",
       "9          10       1       2        2\n",
       "10         11       1       3        1\n",
       "11         12       1       1        1\n",
       "12         13       1       2        1\n",
       "13         14       1       5        0\n",
       "14         15       1       2        1\n",
       "15         16       1       2        1\n",
       "16         17       1       2        1\n",
       "17         18       1       2        1\n",
       "18         19       1       2        1\n",
       "19         20       1       3        2\n",
       "20         21       1       2        1\n",
       "21         22       1       2        1\n",
       "22         23       1       2        1\n",
       "23         24       1       5        2\n",
       "24         25       1       3        1\n",
       "25         26       1       3        1\n",
       "26         27       1       2        1\n",
       "27         28       1       4        2\n",
       "28         29       1       3        2\n",
       "29         30       1       4        2\n",
       "30         31       1       4        2\n",
       "31         32       1       6        0\n",
       "32         33       1      12        0\n",
       "33         34       1      17        0"
      ],
      "text/html": "<div>\n<style scoped>\n    .dataframe tbody tr th:only-of-type {\n        vertical-align: middle;\n    }\n\n    .dataframe tbody tr th {\n        vertical-align: top;\n    }\n\n    .dataframe thead th {\n        text-align: right;\n    }\n</style>\n<table border=\"1\" class=\"dataframe\">\n  <thead>\n    <tr style=\"text-align: right;\">\n      <th></th>\n      <th>node_name</th>\n      <th>radius</th>\n      <th>degree</th>\n      <th>cluster</th>\n    </tr>\n  </thead>\n  <tbody>\n    <tr>\n      <th>0</th>\n      <td>1</td>\n      <td>1</td>\n      <td>16</td>\n      <td>0</td>\n    </tr>\n    <tr>\n      <th>1</th>\n      <td>2</td>\n      <td>1</td>\n      <td>9</td>\n      <td>0</td>\n    </tr>\n    <tr>\n      <th>2</th>\n      <td>3</td>\n      <td>1</td>\n      <td>10</td>\n      <td>0</td>\n    </tr>\n    <tr>\n      <th>3</th>\n      <td>4</td>\n      <td>1</td>\n      <td>6</td>\n      <td>2</td>\n    </tr>\n    <tr>\n      <th>4</th>\n      <td>5</td>\n      <td>1</td>\n      <td>3</td>\n      <td>1</td>\n    </tr>\n    <tr>\n      <th>5</th>\n      <td>6</td>\n      <td>1</td>\n      <td>4</td>\n      <td>1</td>\n    </tr>\n    <tr>\n      <th>6</th>\n      <td>7</td>\n      <td>1</td>\n      <td>4</td>\n      <td>1</td>\n    </tr>\n    <tr>\n      <th>7</th>\n      <td>8</td>\n      <td>1</td>\n      <td>4</td>\n      <td>2</td>\n    </tr>\n    <tr>\n      <th>8</th>\n      <td>9</td>\n      <td>1</td>\n      <td>5</td>\n      <td>0</td>\n    </tr>\n    <tr>\n      <th>9</th>\n      <td>10</td>\n      <td>1</td>\n      <td>2</td>\n      <td>2</td>\n    </tr>\n    <tr>\n      <th>10</th>\n      <td>11</td>\n      <td>1</td>\n      <td>3</td>\n      <td>1</td>\n    </tr>\n    <tr>\n      <th>11</th>\n      <td>12</td>\n      <td>1</td>\n      <td>1</td>\n      <td>1</td>\n    </tr>\n    <tr>\n      <th>12</th>\n      <td>13</td>\n      <td>1</td>\n      <td>2</td>\n      <td>1</td>\n    </tr>\n    <tr>\n      <th>13</th>\n      <td>14</td>\n      <td>1</td>\n      <td>5</td>\n      <td>0</td>\n    </tr>\n    <tr>\n      <th>14</th>\n      <td>15</td>\n      <td>1</td>\n      <td>2</td>\n      <td>1</td>\n    </tr>\n    <tr>\n      <th>15</th>\n      <td>16</td>\n      <td>1</td>\n      <td>2</td>\n      <td>1</td>\n    </tr>\n    <tr>\n      <th>16</th>\n      <td>17</td>\n      <td>1</td>\n      <td>2</td>\n      <td>1</td>\n    </tr>\n    <tr>\n      <th>17</th>\n      <td>18</td>\n      <td>1</td>\n      <td>2</td>\n      <td>1</td>\n    </tr>\n    <tr>\n      <th>18</th>\n      <td>19</td>\n      <td>1</td>\n      <td>2</td>\n      <td>1</td>\n    </tr>\n    <tr>\n      <th>19</th>\n      <td>20</td>\n      <td>1</td>\n      <td>3</td>\n      <td>2</td>\n    </tr>\n    <tr>\n      <th>20</th>\n      <td>21</td>\n      <td>1</td>\n      <td>2</td>\n      <td>1</td>\n    </tr>\n    <tr>\n      <th>21</th>\n      <td>22</td>\n      <td>1</td>\n      <td>2</td>\n      <td>1</td>\n    </tr>\n    <tr>\n      <th>22</th>\n      <td>23</td>\n      <td>1</td>\n      <td>2</td>\n      <td>1</td>\n    </tr>\n    <tr>\n      <th>23</th>\n      <td>24</td>\n      <td>1</td>\n      <td>5</td>\n      <td>2</td>\n    </tr>\n    <tr>\n      <th>24</th>\n      <td>25</td>\n      <td>1</td>\n      <td>3</td>\n      <td>1</td>\n    </tr>\n    <tr>\n      <th>25</th>\n      <td>26</td>\n      <td>1</td>\n      <td>3</td>\n      <td>1</td>\n    </tr>\n    <tr>\n      <th>26</th>\n      <td>27</td>\n      <td>1</td>\n      <td>2</td>\n      <td>1</td>\n    </tr>\n    <tr>\n      <th>27</th>\n      <td>28</td>\n      <td>1</td>\n      <td>4</td>\n      <td>2</td>\n    </tr>\n    <tr>\n      <th>28</th>\n      <td>29</td>\n      <td>1</td>\n      <td>3</td>\n      <td>2</td>\n    </tr>\n    <tr>\n      <th>29</th>\n      <td>30</td>\n      <td>1</td>\n      <td>4</td>\n      <td>2</td>\n    </tr>\n    <tr>\n      <th>30</th>\n      <td>31</td>\n      <td>1</td>\n      <td>4</td>\n      <td>2</td>\n    </tr>\n    <tr>\n      <th>31</th>\n      <td>32</td>\n      <td>1</td>\n      <td>6</td>\n      <td>0</td>\n    </tr>\n    <tr>\n      <th>32</th>\n      <td>33</td>\n      <td>1</td>\n      <td>12</td>\n      <td>0</td>\n    </tr>\n    <tr>\n      <th>33</th>\n      <td>34</td>\n      <td>1</td>\n      <td>17</td>\n      <td>0</td>\n    </tr>\n  </tbody>\n</table>\n</div>"
     },
     "metadata": {},
     "execution_count": 27
    }
   ],
   "source": [
    "other_sims.agglomerative_hierarchical_clustering(target_G, target_rad, measure_list, 3)"
   ]
  },
  {
   "cell_type": "markdown",
   "metadata": {},
   "source": [
    "# Clusters based of distance matrixs"
   ]
  },
  {
   "cell_type": "code",
   "execution_count": 28,
   "metadata": {},
   "outputs": [
    {
     "output_type": "display_data",
     "data": {
      "application/vnd.plotly.v1+json": {
       "config": {
        "plotlyServerURL": "https://plot.ly"
       },
       "data": [
        {
         "line": {
          "width": 1
         },
         "marker": {
          "color": [
           0,
           16.91178885400752,
           11.20560893585556,
           23.2227038245505,
           41.20098062447251,
           39.097342300958175,
           39.097342300958175,
           30.09855972777301,
           20.484826946676254,
           35.683930971493666,
           41.20098062447251,
           46.78256616148872,
           43.207410073288614,
           20.852706387847697,
           39.68490700243223,
           39.68490700243223,
           55.530492261229284,
           41.56243061682785,
           39.68490700243223,
           29.47453632893366,
           39.68490700243223,
           41.56243061682785,
           39.68490700243223,
           30.722583126612363,
           45.962457302079834,
           46.40658956032807,
           43.981295364169895,
           29.19312486035957,
           31.2967631838739,
           33.96798618217941,
           26.520759897461257,
           21.7683564107817,
           8.685223860530533,
           2.9156500229340034
          ],
          "colorscale": [
           [
            0,
            "rgb(0,0,131)"
           ],
           [
            0.2,
            "rgb(0,60,170)"
           ],
           [
            0.4,
            "rgb(5,255,255)"
           ],
           [
            0.6,
            "rgb(255,255,0)"
           ],
           [
            0.8,
            "rgb(250,0,0)"
           ],
           [
            1,
            "rgb(128,0,0)"
           ]
          ],
          "size": 15
         },
         "mode": "lines",
         "name": "edges",
         "type": "scatter",
         "uid": "9960b65c-9c6b-407a-9a35-5fc1203f0d33",
         "x": [
          0.2601683443506441,
          0.13227234427531584,
          null,
          0.2601683443506441,
          -0.12876986763491993,
          null,
          0.2601683443506441,
          0.04445217938148401,
          null,
          0.2601683443506441,
          0.5311610690564904,
          null,
          0.2601683443506441,
          0.7397563733839704,
          null,
          0.2601683443506441,
          0.7014744240665541,
          null,
          0.2601683443506441,
          -0.050020884442400645,
          null,
          0.2601683443506441,
          0.004353143214684274,
          null,
          0.2601683443506441,
          0.5823860214964066,
          null,
          0.2601683443506441,
          0.6398624650303505,
          null,
          0.2601683443506441,
          0.10240901647653218,
          null,
          0.2601683443506441,
          0.01620920034724067,
          null,
          0.2601683443506441,
          0.23049017939571415,
          null,
          0.2601683443506441,
          0.17174602080893805,
          null,
          0.2601683443506441,
          0.3599136083451426,
          null,
          0.2601683443506441,
          -0.27505278266518024,
          null,
          0.13227234427531584,
          -0.12876986763491993,
          null,
          0.13227234427531584,
          0.04445217938148401,
          null,
          0.13227234427531584,
          -0.050020884442400645,
          null,
          0.13227234427531584,
          0.01620920034724067,
          null,
          0.13227234427531584,
          0.23049017939571415,
          null,
          0.13227234427531584,
          0.17174602080893805,
          null,
          0.13227234427531584,
          0.3599136083451426,
          null,
          0.13227234427531584,
          0.04758473257142579,
          null,
          -0.12876986763491993,
          0.04445217938148401,
          null,
          -0.12876986763491993,
          -0.050020884442400645,
          null,
          -0.12876986763491993,
          0.004353143214684274,
          null,
          -0.12876986763491993,
          -0.3910238986502526,
          null,
          -0.12876986763491993,
          0.01620920034724067,
          null,
          -0.12876986763491993,
          -0.4744472605291606,
          null,
          -0.12876986763491993,
          -0.3741884525826953,
          null,
          -0.12876986763491993,
          -0.19963225862979408,
          null,
          0.04445217938148401,
          -0.050020884442400645,
          null,
          0.04445217938148401,
          0.10240901647653218,
          null,
          0.04445217938148401,
          0.01620920034724067,
          null,
          0.5311610690564904,
          0.7014744240665541,
          null,
          0.5311610690564904,
          0.5823860214964066,
          null,
          0.7397563733839704,
          0.7014744240665541,
          null,
          0.7397563733839704,
          0.5823860214964066,
          null,
          0.7397563733839704,
          0.9999999999999999,
          null,
          0.7014744240665541,
          0.9999999999999999,
          null,
          0.004353143214684274,
          0.04758473257142579,
          null,
          0.004353143214684274,
          -0.19963225862979408,
          null,
          0.004353143214684274,
          -0.2012211649311197,
          null,
          -0.3910238986502526,
          -0.2012211649311197,
          null,
          0.01620920034724067,
          -0.2012211649311197,
          null,
          0.040173602941860266,
          -0.19963225862979408,
          null,
          0.040173602941860266,
          -0.2012211649311197,
          null,
          -0.06174893636200272,
          -0.19963225862979408,
          null,
          -0.06174893636200272,
          -0.2012211649311197,
          null,
          -0.4824298905953289,
          -0.19963225862979408,
          null,
          -0.4824298905953289,
          -0.2012211649311197,
          null,
          0.17174602080893805,
          -0.2012211649311197,
          null,
          -0.24376971284768043,
          -0.19963225862979408,
          null,
          -0.24376971284768043,
          -0.2012211649311197,
          null,
          -0.4031086931063619,
          -0.19963225862979408,
          null,
          -0.4031086931063619,
          -0.2012211649311197,
          null,
          -0.4869750664976203,
          -0.6793156225033026,
          null,
          -0.4869750664976203,
          -0.4744472605291606,
          null,
          -0.4869750664976203,
          -0.3052586398689429,
          null,
          -0.4869750664976203,
          -0.19963225862979408,
          null,
          -0.4869750664976203,
          -0.2012211649311197,
          null,
          -0.6745093088408494,
          -0.6793156225033026,
          null,
          -0.6745093088408494,
          -0.4744472605291606,
          null,
          -0.6745093088408494,
          -0.27505278266518024,
          null,
          -0.6793156225033026,
          -0.27505278266518024,
          null,
          -0.17294028445514484,
          -0.3052586398689429,
          null,
          -0.17294028445514484,
          -0.2012211649311197,
          null,
          -0.4744472605291606,
          -0.2012211649311197,
          null,
          -0.3741884525826953,
          -0.27505278266518024,
          null,
          -0.3741884525826953,
          -0.2012211649311197,
          null,
          -0.3052586398689429,
          -0.19963225862979408,
          null,
          -0.3052586398689429,
          -0.2012211649311197,
          null,
          0.04758473257142579,
          -0.19963225862979408,
          null,
          0.04758473257142579,
          -0.2012211649311197,
          null,
          -0.27505278266518024,
          -0.19963225862979408,
          null,
          -0.27505278266518024,
          -0.2012211649311197,
          null,
          -0.19963225862979408,
          -0.2012211649311197,
          null
         ],
         "y": [
          -0.29537421789189744,
          -0.22390598204285328,
          null,
          -0.29537421789189744,
          -0.09001680091635879,
          null,
          -0.29537421789189744,
          -0.37586942296160564,
          null,
          -0.29537421789189744,
          -0.6210497309797195,
          null,
          -0.29537421789189744,
          -0.4255012102139862,
          null,
          -0.29537421789189744,
          -0.5521790251114669,
          null,
          -0.29537421789189744,
          -0.3759566064035706,
          null,
          -0.29537421789189744,
          0.08464667048573724,
          null,
          -0.29537421789189744,
          -0.46039027858760023,
          null,
          -0.29537421789189744,
          -0.15961121856749663,
          null,
          -0.29537421789189744,
          -0.6486739170992488,
          null,
          -0.29537421789189744,
          -0.10455147856102293,
          null,
          -0.29537421789189744,
          -0.5464952784142649,
          null,
          -0.29537421789189744,
          0.032342778326399334,
          null,
          -0.29537421789189744,
          -0.43672693467614626,
          null,
          -0.29537421789189744,
          0.029467313901914205,
          null,
          -0.22390598204285328,
          -0.09001680091635879,
          null,
          -0.22390598204285328,
          -0.37586942296160564,
          null,
          -0.22390598204285328,
          -0.3759566064035706,
          null,
          -0.22390598204285328,
          -0.10455147856102293,
          null,
          -0.22390598204285328,
          -0.5464952784142649,
          null,
          -0.22390598204285328,
          0.032342778326399334,
          null,
          -0.22390598204285328,
          -0.43672693467614626,
          null,
          -0.22390598204285328,
          0.1956416928107551,
          null,
          -0.09001680091635879,
          -0.37586942296160564,
          null,
          -0.09001680091635879,
          -0.3759566064035706,
          null,
          -0.09001680091635879,
          0.08464667048573724,
          null,
          -0.09001680091635879,
          -0.07346558222209568,
          null,
          -0.09001680091635879,
          -0.10455147856102293,
          null,
          -0.09001680091635879,
          0.1337838389259333,
          null,
          -0.09001680091635879,
          0.06081812780774386,
          null,
          -0.09001680091635879,
          0.3719819964740652,
          null,
          -0.37586942296160564,
          -0.3759566064035706,
          null,
          -0.37586942296160564,
          -0.6486739170992488,
          null,
          -0.37586942296160564,
          -0.10455147856102293,
          null,
          -0.6210497309797195,
          -0.5521790251114669,
          null,
          -0.6210497309797195,
          -0.46039027858760023,
          null,
          -0.4255012102139862,
          -0.5521790251114669,
          null,
          -0.4255012102139862,
          -0.46039027858760023,
          null,
          -0.4255012102139862,
          -0.5855050797966812,
          null,
          -0.5521790251114669,
          -0.5855050797966812,
          null,
          0.08464667048573724,
          0.1956416928107551,
          null,
          0.08464667048573724,
          0.3719819964740652,
          null,
          0.08464667048573724,
          0.303709069953784,
          null,
          -0.07346558222209568,
          0.303709069953784,
          null,
          -0.10455147856102293,
          0.303709069953784,
          null,
          0.5343383280493066,
          0.3719819964740652,
          null,
          0.5343383280493066,
          0.303709069953784,
          null,
          0.6162340652339445,
          0.3719819964740652,
          null,
          0.6162340652339445,
          0.303709069953784,
          null,
          0.5167383198641339,
          0.3719819964740652,
          null,
          0.5167383198641339,
          0.303709069953784,
          null,
          0.032342778326399334,
          0.303709069953784,
          null,
          0.6612939120887529,
          0.3719819964740652,
          null,
          0.6612939120887529,
          0.303709069953784,
          null,
          0.6184345593378932,
          0.3719819964740652,
          null,
          0.6184345593378932,
          0.303709069953784,
          null,
          0.35319293214219477,
          0.15889335038072183,
          null,
          0.35319293214219477,
          0.1337838389259333,
          null,
          0.35319293214219477,
          0.5553728566861897,
          null,
          0.35319293214219477,
          0.3719819964740652,
          null,
          0.35319293214219477,
          0.303709069953784,
          null,
          -0.010238214259083686,
          0.15889335038072183,
          null,
          -0.010238214259083686,
          0.1337838389259333,
          null,
          -0.010238214259083686,
          0.029467313901914205,
          null,
          0.15889335038072183,
          0.029467313901914205,
          null,
          0.7586211662356314,
          0.5553728566861897,
          null,
          0.7586211662356314,
          0.303709069953784,
          null,
          0.1337838389259333,
          0.303709069953784,
          null,
          0.06081812780774386,
          0.029467313901914205,
          null,
          0.06081812780774386,
          0.303709069953784,
          null,
          0.5553728566861897,
          0.3719819964740652,
          null,
          0.5553728566861897,
          0.303709069953784,
          null,
          0.1956416928107551,
          0.3719819964740652,
          null,
          0.1956416928107551,
          0.303709069953784,
          null,
          0.029467313901914205,
          0.3719819964740652,
          null,
          0.029467313901914205,
          0.303709069953784,
          null,
          0.3719819964740652,
          0.303709069953784,
          null
         ]
        },
        {
         "customdata": [
          [
           1,
           1,
           16,
           0,
           0,
           0.2601683443506441,
           -0.29537421789189744
          ],
          [
           2,
           1,
           9,
           16.91178885400752,
           16.91178885400752,
           0.13227234427531584,
           -0.22390598204285328
          ],
          [
           3,
           1,
           10,
           11.20560893585556,
           11.20560893585556,
           -0.12876986763491993,
           -0.09001680091635879
          ],
          [
           4,
           1,
           6,
           23.2227038245505,
           23.2227038245505,
           0.04445217938148401,
           -0.37586942296160564
          ],
          [
           5,
           1,
           3,
           41.20098062447251,
           41.20098062447251,
           0.5311610690564904,
           -0.6210497309797195
          ],
          [
           6,
           1,
           4,
           39.097342300958175,
           39.097342300958175,
           0.7397563733839704,
           -0.4255012102139862
          ],
          [
           7,
           1,
           4,
           39.097342300958175,
           39.097342300958175,
           0.7014744240665541,
           -0.5521790251114669
          ],
          [
           8,
           1,
           4,
           30.09855972777301,
           30.09855972777301,
           -0.050020884442400645,
           -0.3759566064035706
          ],
          [
           9,
           1,
           5,
           20.484826946676254,
           20.484826946676254,
           0.004353143214684274,
           0.08464667048573724
          ],
          [
           10,
           1,
           2,
           35.683930971493666,
           35.683930971493666,
           -0.3910238986502526,
           -0.07346558222209568
          ],
          [
           11,
           1,
           3,
           41.20098062447251,
           41.20098062447251,
           0.5823860214964066,
           -0.46039027858760023
          ],
          [
           12,
           1,
           1,
           46.78256616148872,
           46.78256616148872,
           0.6398624650303505,
           -0.15961121856749663
          ],
          [
           13,
           1,
           2,
           43.207410073288614,
           43.207410073288614,
           0.10240901647653218,
           -0.6486739170992488
          ],
          [
           14,
           1,
           5,
           20.852706387847697,
           20.852706387847697,
           0.01620920034724067,
           -0.10455147856102293
          ],
          [
           15,
           1,
           2,
           39.68490700243223,
           39.68490700243223,
           0.040173602941860266,
           0.5343383280493066
          ],
          [
           16,
           1,
           2,
           39.68490700243223,
           39.68490700243223,
           -0.06174893636200272,
           0.6162340652339445
          ],
          [
           17,
           1,
           2,
           55.530492261229284,
           55.530492261229284,
           0.9999999999999999,
           -0.5855050797966812
          ],
          [
           18,
           1,
           2,
           41.56243061682785,
           41.56243061682785,
           0.23049017939571415,
           -0.5464952784142649
          ],
          [
           19,
           1,
           2,
           39.68490700243223,
           39.68490700243223,
           -0.4824298905953289,
           0.5167383198641339
          ],
          [
           20,
           1,
           3,
           29.47453632893366,
           29.47453632893366,
           0.17174602080893805,
           0.032342778326399334
          ],
          [
           21,
           1,
           2,
           39.68490700243223,
           39.68490700243223,
           -0.24376971284768043,
           0.6612939120887529
          ],
          [
           22,
           1,
           2,
           41.56243061682785,
           41.56243061682785,
           0.3599136083451426,
           -0.43672693467614626
          ],
          [
           23,
           1,
           2,
           39.68490700243223,
           39.68490700243223,
           -0.4031086931063619,
           0.6184345593378932
          ],
          [
           24,
           1,
           5,
           30.722583126612363,
           30.722583126612363,
           -0.4869750664976203,
           0.35319293214219477
          ],
          [
           25,
           1,
           3,
           45.962457302079834,
           45.962457302079834,
           -0.6745093088408494,
           -0.010238214259083686
          ],
          [
           26,
           1,
           3,
           46.40658956032807,
           46.40658956032807,
           -0.6793156225033026,
           0.15889335038072183
          ],
          [
           27,
           1,
           2,
           43.981295364169895,
           43.981295364169895,
           -0.17294028445514484,
           0.7586211662356314
          ],
          [
           28,
           1,
           4,
           29.19312486035957,
           29.19312486035957,
           -0.4744472605291606,
           0.1337838389259333
          ],
          [
           29,
           1,
           3,
           31.2967631838739,
           31.2967631838739,
           -0.3741884525826953,
           0.06081812780774386
          ],
          [
           30,
           1,
           4,
           33.96798618217941,
           33.96798618217941,
           -0.3052586398689429,
           0.5553728566861897
          ],
          [
           31,
           1,
           4,
           26.520759897461257,
           26.520759897461257,
           0.04758473257142579,
           0.1956416928107551
          ],
          [
           32,
           1,
           6,
           21.7683564107817,
           21.7683564107817,
           -0.27505278266518024,
           0.029467313901914205
          ],
          [
           33,
           1,
           12,
           8.685223860530533,
           8.685223860530533,
           -0.19963225862979408,
           0.3719819964740652
          ],
          [
           34,
           1,
           17,
           2.9156500229340034,
           2.9156500229340034,
           -0.2012211649311197,
           0.303709069953784
          ]
         ],
         "hovertemplate": "node_name: %{customdata[0]} <br> radius: %{customdata[1]} <br> degree: %{customdata[2]} <br> global_graph_degree: %{customdata[3]} <br> normalized_rdd: %{customdata[4]} <br> nodes_x: %{customdata[5]} <br> nodes_y: %{customdata[6]} <br> ",
         "marker": {
          "color": [
           0,
           16.91178885400752,
           11.20560893585556,
           23.2227038245505,
           41.20098062447251,
           39.097342300958175,
           39.097342300958175,
           30.09855972777301,
           20.484826946676254,
           35.683930971493666,
           41.20098062447251,
           46.78256616148872,
           43.207410073288614,
           20.852706387847697,
           39.68490700243223,
           39.68490700243223,
           55.530492261229284,
           41.56243061682785,
           39.68490700243223,
           29.47453632893366,
           39.68490700243223,
           41.56243061682785,
           39.68490700243223,
           30.722583126612363,
           45.962457302079834,
           46.40658956032807,
           43.981295364169895,
           29.19312486035957,
           31.2967631838739,
           33.96798618217941,
           26.520759897461257,
           21.7683564107817,
           8.685223860530533,
           2.9156500229340034
          ],
          "colorscale": [
           [
            0,
            "rgb(0,0,131)"
           ],
           [
            0.2,
            "rgb(0,60,170)"
           ],
           [
            0.4,
            "rgb(5,255,255)"
           ],
           [
            0.6,
            "rgb(255,255,0)"
           ],
           [
            0.8,
            "rgb(250,0,0)"
           ],
           [
            1,
            "rgb(128,0,0)"
           ]
          ],
          "size": 15
         },
         "mode": "markers+text",
         "name": "Node",
         "text": [
          "1",
          "2",
          "3",
          "4",
          "5",
          "6",
          "7",
          "8",
          "9",
          "10",
          "11",
          "12",
          "13",
          "14",
          "15",
          "16",
          "17",
          "18",
          "19",
          "20",
          "21",
          "22",
          "23",
          "24",
          "25",
          "26",
          "27",
          "28",
          "29",
          "30",
          "31",
          "32",
          "33",
          "34"
         ],
         "type": "scatter",
         "uid": "7d1bd8c1-1a62-49be-9561-c8fcf0385ee5",
         "x": [
          0.2601683443506441,
          0.13227234427531584,
          -0.12876986763491993,
          0.04445217938148401,
          0.5311610690564904,
          0.7397563733839704,
          0.7014744240665541,
          -0.050020884442400645,
          0.004353143214684274,
          -0.3910238986502526,
          0.5823860214964066,
          0.6398624650303505,
          0.10240901647653218,
          0.01620920034724067,
          0.040173602941860266,
          -0.06174893636200272,
          0.9999999999999999,
          0.23049017939571415,
          -0.4824298905953289,
          0.17174602080893805,
          -0.24376971284768043,
          0.3599136083451426,
          -0.4031086931063619,
          -0.4869750664976203,
          -0.6745093088408494,
          -0.6793156225033026,
          -0.17294028445514484,
          -0.4744472605291606,
          -0.3741884525826953,
          -0.3052586398689429,
          0.04758473257142579,
          -0.27505278266518024,
          -0.19963225862979408,
          -0.2012211649311197
         ],
         "y": [
          -0.29537421789189744,
          -0.22390598204285328,
          -0.09001680091635879,
          -0.37586942296160564,
          -0.6210497309797195,
          -0.4255012102139862,
          -0.5521790251114669,
          -0.3759566064035706,
          0.08464667048573724,
          -0.07346558222209568,
          -0.46039027858760023,
          -0.15961121856749663,
          -0.6486739170992488,
          -0.10455147856102293,
          0.5343383280493066,
          0.6162340652339445,
          -0.5855050797966812,
          -0.5464952784142649,
          0.5167383198641339,
          0.032342778326399334,
          0.6612939120887529,
          -0.43672693467614626,
          0.6184345593378932,
          0.35319293214219477,
          -0.010238214259083686,
          0.15889335038072183,
          0.7586211662356314,
          0.1337838389259333,
          0.06081812780774386,
          0.5553728566861897,
          0.1956416928107551,
          0.029467313901914205,
          0.3719819964740652,
          0.303709069953784
         ]
        }
       ],
       "layout": {
        "dragmode": "pan",
        "template": {
         "data": {
          "bar": [
           {
            "error_x": {
             "color": "#f2f5fa"
            },
            "error_y": {
             "color": "#f2f5fa"
            },
            "marker": {
             "line": {
              "color": "rgb(17,17,17)",
              "width": 0.5
             }
            },
            "type": "bar"
           }
          ],
          "barpolar": [
           {
            "marker": {
             "line": {
              "color": "rgb(17,17,17)",
              "width": 0.5
             }
            },
            "type": "barpolar"
           }
          ],
          "carpet": [
           {
            "aaxis": {
             "endlinecolor": "#A2B1C6",
             "gridcolor": "#506784",
             "linecolor": "#506784",
             "minorgridcolor": "#506784",
             "startlinecolor": "#A2B1C6"
            },
            "baxis": {
             "endlinecolor": "#A2B1C6",
             "gridcolor": "#506784",
             "linecolor": "#506784",
             "minorgridcolor": "#506784",
             "startlinecolor": "#A2B1C6"
            },
            "type": "carpet"
           }
          ],
          "choropleth": [
           {
            "colorbar": {
             "outlinewidth": 0,
             "ticks": ""
            },
            "type": "choropleth"
           }
          ],
          "contour": [
           {
            "colorbar": {
             "outlinewidth": 0,
             "ticks": ""
            },
            "colorscale": [
             [
              0,
              "#0d0887"
             ],
             [
              0.1111111111111111,
              "#46039f"
             ],
             [
              0.2222222222222222,
              "#7201a8"
             ],
             [
              0.3333333333333333,
              "#9c179e"
             ],
             [
              0.4444444444444444,
              "#bd3786"
             ],
             [
              0.5555555555555556,
              "#d8576b"
             ],
             [
              0.6666666666666666,
              "#ed7953"
             ],
             [
              0.7777777777777778,
              "#fb9f3a"
             ],
             [
              0.8888888888888888,
              "#fdca26"
             ],
             [
              1,
              "#f0f921"
             ]
            ],
            "type": "contour"
           }
          ],
          "contourcarpet": [
           {
            "colorbar": {
             "outlinewidth": 0,
             "ticks": ""
            },
            "type": "contourcarpet"
           }
          ],
          "heatmap": [
           {
            "colorbar": {
             "outlinewidth": 0,
             "ticks": ""
            },
            "colorscale": [
             [
              0,
              "#0d0887"
             ],
             [
              0.1111111111111111,
              "#46039f"
             ],
             [
              0.2222222222222222,
              "#7201a8"
             ],
             [
              0.3333333333333333,
              "#9c179e"
             ],
             [
              0.4444444444444444,
              "#bd3786"
             ],
             [
              0.5555555555555556,
              "#d8576b"
             ],
             [
              0.6666666666666666,
              "#ed7953"
             ],
             [
              0.7777777777777778,
              "#fb9f3a"
             ],
             [
              0.8888888888888888,
              "#fdca26"
             ],
             [
              1,
              "#f0f921"
             ]
            ],
            "type": "heatmap"
           }
          ],
          "heatmapgl": [
           {
            "colorbar": {
             "outlinewidth": 0,
             "ticks": ""
            },
            "colorscale": [
             [
              0,
              "#0d0887"
             ],
             [
              0.1111111111111111,
              "#46039f"
             ],
             [
              0.2222222222222222,
              "#7201a8"
             ],
             [
              0.3333333333333333,
              "#9c179e"
             ],
             [
              0.4444444444444444,
              "#bd3786"
             ],
             [
              0.5555555555555556,
              "#d8576b"
             ],
             [
              0.6666666666666666,
              "#ed7953"
             ],
             [
              0.7777777777777778,
              "#fb9f3a"
             ],
             [
              0.8888888888888888,
              "#fdca26"
             ],
             [
              1,
              "#f0f921"
             ]
            ],
            "type": "heatmapgl"
           }
          ],
          "histogram": [
           {
            "marker": {
             "colorbar": {
              "outlinewidth": 0,
              "ticks": ""
             }
            },
            "type": "histogram"
           }
          ],
          "histogram2d": [
           {
            "colorbar": {
             "outlinewidth": 0,
             "ticks": ""
            },
            "colorscale": [
             [
              0,
              "#0d0887"
             ],
             [
              0.1111111111111111,
              "#46039f"
             ],
             [
              0.2222222222222222,
              "#7201a8"
             ],
             [
              0.3333333333333333,
              "#9c179e"
             ],
             [
              0.4444444444444444,
              "#bd3786"
             ],
             [
              0.5555555555555556,
              "#d8576b"
             ],
             [
              0.6666666666666666,
              "#ed7953"
             ],
             [
              0.7777777777777778,
              "#fb9f3a"
             ],
             [
              0.8888888888888888,
              "#fdca26"
             ],
             [
              1,
              "#f0f921"
             ]
            ],
            "type": "histogram2d"
           }
          ],
          "histogram2dcontour": [
           {
            "colorbar": {
             "outlinewidth": 0,
             "ticks": ""
            },
            "colorscale": [
             [
              0,
              "#0d0887"
             ],
             [
              0.1111111111111111,
              "#46039f"
             ],
             [
              0.2222222222222222,
              "#7201a8"
             ],
             [
              0.3333333333333333,
              "#9c179e"
             ],
             [
              0.4444444444444444,
              "#bd3786"
             ],
             [
              0.5555555555555556,
              "#d8576b"
             ],
             [
              0.6666666666666666,
              "#ed7953"
             ],
             [
              0.7777777777777778,
              "#fb9f3a"
             ],
             [
              0.8888888888888888,
              "#fdca26"
             ],
             [
              1,
              "#f0f921"
             ]
            ],
            "type": "histogram2dcontour"
           }
          ],
          "mesh3d": [
           {
            "colorbar": {
             "outlinewidth": 0,
             "ticks": ""
            },
            "type": "mesh3d"
           }
          ],
          "parcoords": [
           {
            "line": {
             "colorbar": {
              "outlinewidth": 0,
              "ticks": ""
             }
            },
            "type": "parcoords"
           }
          ],
          "pie": [
           {
            "automargin": true,
            "type": "pie"
           }
          ],
          "scatter": [
           {
            "marker": {
             "line": {
              "color": "#283442"
             }
            },
            "type": "scatter"
           }
          ],
          "scatter3d": [
           {
            "line": {
             "colorbar": {
              "outlinewidth": 0,
              "ticks": ""
             }
            },
            "marker": {
             "colorbar": {
              "outlinewidth": 0,
              "ticks": ""
             }
            },
            "type": "scatter3d"
           }
          ],
          "scattercarpet": [
           {
            "marker": {
             "colorbar": {
              "outlinewidth": 0,
              "ticks": ""
             }
            },
            "type": "scattercarpet"
           }
          ],
          "scattergeo": [
           {
            "marker": {
             "colorbar": {
              "outlinewidth": 0,
              "ticks": ""
             }
            },
            "type": "scattergeo"
           }
          ],
          "scattergl": [
           {
            "marker": {
             "line": {
              "color": "#283442"
             }
            },
            "type": "scattergl"
           }
          ],
          "scattermapbox": [
           {
            "marker": {
             "colorbar": {
              "outlinewidth": 0,
              "ticks": ""
             }
            },
            "type": "scattermapbox"
           }
          ],
          "scatterpolar": [
           {
            "marker": {
             "colorbar": {
              "outlinewidth": 0,
              "ticks": ""
             }
            },
            "type": "scatterpolar"
           }
          ],
          "scatterpolargl": [
           {
            "marker": {
             "colorbar": {
              "outlinewidth": 0,
              "ticks": ""
             }
            },
            "type": "scatterpolargl"
           }
          ],
          "scatterternary": [
           {
            "marker": {
             "colorbar": {
              "outlinewidth": 0,
              "ticks": ""
             }
            },
            "type": "scatterternary"
           }
          ],
          "surface": [
           {
            "colorbar": {
             "outlinewidth": 0,
             "ticks": ""
            },
            "colorscale": [
             [
              0,
              "#0d0887"
             ],
             [
              0.1111111111111111,
              "#46039f"
             ],
             [
              0.2222222222222222,
              "#7201a8"
             ],
             [
              0.3333333333333333,
              "#9c179e"
             ],
             [
              0.4444444444444444,
              "#bd3786"
             ],
             [
              0.5555555555555556,
              "#d8576b"
             ],
             [
              0.6666666666666666,
              "#ed7953"
             ],
             [
              0.7777777777777778,
              "#fb9f3a"
             ],
             [
              0.8888888888888888,
              "#fdca26"
             ],
             [
              1,
              "#f0f921"
             ]
            ],
            "type": "surface"
           }
          ],
          "table": [
           {
            "cells": {
             "fill": {
              "color": "#506784"
             },
             "line": {
              "color": "rgb(17,17,17)"
             }
            },
            "header": {
             "fill": {
              "color": "#2a3f5f"
             },
             "line": {
              "color": "rgb(17,17,17)"
             }
            },
            "type": "table"
           }
          ]
         },
         "layout": {
          "annotationdefaults": {
           "arrowcolor": "#f2f5fa",
           "arrowhead": 0,
           "arrowwidth": 1
          },
          "coloraxis": {
           "colorbar": {
            "outlinewidth": 0,
            "ticks": ""
           }
          },
          "colorscale": {
           "diverging": [
            [
             0,
             "#8e0152"
            ],
            [
             0.1,
             "#c51b7d"
            ],
            [
             0.2,
             "#de77ae"
            ],
            [
             0.3,
             "#f1b6da"
            ],
            [
             0.4,
             "#fde0ef"
            ],
            [
             0.5,
             "#f7f7f7"
            ],
            [
             0.6,
             "#e6f5d0"
            ],
            [
             0.7,
             "#b8e186"
            ],
            [
             0.8,
             "#7fbc41"
            ],
            [
             0.9,
             "#4d9221"
            ],
            [
             1,
             "#276419"
            ]
           ],
           "sequential": [
            [
             0,
             "#0d0887"
            ],
            [
             0.1111111111111111,
             "#46039f"
            ],
            [
             0.2222222222222222,
             "#7201a8"
            ],
            [
             0.3333333333333333,
             "#9c179e"
            ],
            [
             0.4444444444444444,
             "#bd3786"
            ],
            [
             0.5555555555555556,
             "#d8576b"
            ],
            [
             0.6666666666666666,
             "#ed7953"
            ],
            [
             0.7777777777777778,
             "#fb9f3a"
            ],
            [
             0.8888888888888888,
             "#fdca26"
            ],
            [
             1,
             "#f0f921"
            ]
           ],
           "sequentialminus": [
            [
             0,
             "#0d0887"
            ],
            [
             0.1111111111111111,
             "#46039f"
            ],
            [
             0.2222222222222222,
             "#7201a8"
            ],
            [
             0.3333333333333333,
             "#9c179e"
            ],
            [
             0.4444444444444444,
             "#bd3786"
            ],
            [
             0.5555555555555556,
             "#d8576b"
            ],
            [
             0.6666666666666666,
             "#ed7953"
            ],
            [
             0.7777777777777778,
             "#fb9f3a"
            ],
            [
             0.8888888888888888,
             "#fdca26"
            ],
            [
             1,
             "#f0f921"
            ]
           ]
          },
          "colorway": [
           "#636efa",
           "#EF553B",
           "#00cc96",
           "#ab63fa",
           "#FFA15A",
           "#19d3f3",
           "#FF6692",
           "#B6E880",
           "#FF97FF",
           "#FECB52"
          ],
          "font": {
           "color": "#f2f5fa"
          },
          "geo": {
           "bgcolor": "rgb(17,17,17)",
           "lakecolor": "rgb(17,17,17)",
           "landcolor": "rgb(17,17,17)",
           "showlakes": true,
           "showland": true,
           "subunitcolor": "#506784"
          },
          "hoverlabel": {
           "align": "left"
          },
          "hovermode": "closest",
          "mapbox": {
           "style": "dark"
          },
          "paper_bgcolor": "rgb(17,17,17)",
          "plot_bgcolor": "rgb(17,17,17)",
          "polar": {
           "angularaxis": {
            "gridcolor": "#506784",
            "linecolor": "#506784",
            "ticks": ""
           },
           "bgcolor": "rgb(17,17,17)",
           "radialaxis": {
            "gridcolor": "#506784",
            "linecolor": "#506784",
            "ticks": ""
           }
          },
          "scene": {
           "xaxis": {
            "backgroundcolor": "rgb(17,17,17)",
            "gridcolor": "#506784",
            "gridwidth": 2,
            "linecolor": "#506784",
            "showbackground": true,
            "ticks": "",
            "zerolinecolor": "#C8D4E3"
           },
           "yaxis": {
            "backgroundcolor": "rgb(17,17,17)",
            "gridcolor": "#506784",
            "gridwidth": 2,
            "linecolor": "#506784",
            "showbackground": true,
            "ticks": "",
            "zerolinecolor": "#C8D4E3"
           },
           "zaxis": {
            "backgroundcolor": "rgb(17,17,17)",
            "gridcolor": "#506784",
            "gridwidth": 2,
            "linecolor": "#506784",
            "showbackground": true,
            "ticks": "",
            "zerolinecolor": "#C8D4E3"
           }
          },
          "shapedefaults": {
           "line": {
            "color": "#f2f5fa"
           }
          },
          "sliderdefaults": {
           "bgcolor": "#C8D4E3",
           "bordercolor": "rgb(17,17,17)",
           "borderwidth": 1,
           "tickwidth": 0
          },
          "ternary": {
           "aaxis": {
            "gridcolor": "#506784",
            "linecolor": "#506784",
            "ticks": ""
           },
           "baxis": {
            "gridcolor": "#506784",
            "linecolor": "#506784",
            "ticks": ""
           },
           "bgcolor": "rgb(17,17,17)",
           "caxis": {
            "gridcolor": "#506784",
            "linecolor": "#506784",
            "ticks": ""
           }
          },
          "title": {
           "x": 0.05
          },
          "updatemenudefaults": {
           "bgcolor": "#506784",
           "borderwidth": 0
          },
          "xaxis": {
           "automargin": true,
           "gridcolor": "#283442",
           "linecolor": "#506784",
           "ticks": "",
           "title": {
            "standoff": 15
           },
           "zerolinecolor": "#283442",
           "zerolinewidth": 2
          },
          "yaxis": {
           "automargin": true,
           "gridcolor": "#283442",
           "linecolor": "#506784",
           "ticks": "",
           "title": {
            "standoff": 15
           },
           "zerolinecolor": "#283442",
           "zerolinewidth": 2
          }
         }
        }
       }
      }
     },
     "metadata": {}
    }
   ],
   "source": [
    "tareget_nodes = []\n",
    "target_node = 1\n",
    "# target_node = \"Valjean\"\n",
    "# target_node = \"CD44_BOVIN\"\n",
    "# fig = visualize.draw(G4, pos)\n",
    "fig = visualize.visualize_rdd_vector(target_G, target_node, target_rad, pos, [measures.global_graph_degree])\n",
    "visualize.add_markers(fig, tareget_nodes)\n",
    "fig.show()"
   ]
  },
  {
   "cell_type": "code",
   "execution_count": 29,
   "metadata": {},
   "outputs": [],
   "source": [
    "target_clusters = 5\n",
    "pd.set_option(\"display.max_rows\", 200)\n",
    "pd.set_option(\"display.max_columns\", 100)\n",
    "pd.set_option(\"display.max_colwidth\", 200)"
   ]
  },
  {
   "cell_type": "code",
   "execution_count": 30,
   "metadata": {
    "tags": []
   },
   "outputs": [
    {
     "output_type": "display_data",
     "data": {
      "application/vnd.plotly.v1+json": {
       "config": {
        "plotlyServerURL": "https://plot.ly"
       },
       "data": [
        {
         "line": {
          "width": 1
         },
         "marker": {
          "color": [
           2,
           2,
           2,
           2,
           3,
           3,
           3,
           1,
           2,
           3,
           3,
           0,
           3,
           2,
           3,
           3,
           0,
           3,
           3,
           1,
           3,
           3,
           3,
           1,
           0,
           0,
           0,
           1,
           1,
           1,
           1,
           2,
           2,
           2
          ],
          "colorscale": [
           [
            0,
            "rgb(0,0,131)"
           ],
           [
            0.2,
            "rgb(0,60,170)"
           ],
           [
            0.4,
            "rgb(5,255,255)"
           ],
           [
            0.6,
            "rgb(255,255,0)"
           ],
           [
            0.8,
            "rgb(250,0,0)"
           ],
           [
            1,
            "rgb(128,0,0)"
           ]
          ],
          "size": 15
         },
         "mode": "lines",
         "name": "edges",
         "type": "scatter",
         "uid": "524dbbf7-e740-48f8-8d1b-4022c20881f3",
         "x": [
          0.2601683443506441,
          0.13227234427531584,
          null,
          0.2601683443506441,
          -0.12876986763491993,
          null,
          0.2601683443506441,
          0.04445217938148401,
          null,
          0.2601683443506441,
          0.5311610690564904,
          null,
          0.2601683443506441,
          0.7397563733839704,
          null,
          0.2601683443506441,
          0.7014744240665541,
          null,
          0.2601683443506441,
          -0.050020884442400645,
          null,
          0.2601683443506441,
          0.004353143214684274,
          null,
          0.2601683443506441,
          0.5823860214964066,
          null,
          0.2601683443506441,
          0.6398624650303505,
          null,
          0.2601683443506441,
          0.10240901647653218,
          null,
          0.2601683443506441,
          0.01620920034724067,
          null,
          0.2601683443506441,
          0.23049017939571415,
          null,
          0.2601683443506441,
          0.17174602080893805,
          null,
          0.2601683443506441,
          0.3599136083451426,
          null,
          0.2601683443506441,
          -0.27505278266518024,
          null,
          0.13227234427531584,
          -0.12876986763491993,
          null,
          0.13227234427531584,
          0.04445217938148401,
          null,
          0.13227234427531584,
          -0.050020884442400645,
          null,
          0.13227234427531584,
          0.01620920034724067,
          null,
          0.13227234427531584,
          0.23049017939571415,
          null,
          0.13227234427531584,
          0.17174602080893805,
          null,
          0.13227234427531584,
          0.3599136083451426,
          null,
          0.13227234427531584,
          0.04758473257142579,
          null,
          -0.12876986763491993,
          0.04445217938148401,
          null,
          -0.12876986763491993,
          -0.050020884442400645,
          null,
          -0.12876986763491993,
          0.004353143214684274,
          null,
          -0.12876986763491993,
          -0.3910238986502526,
          null,
          -0.12876986763491993,
          0.01620920034724067,
          null,
          -0.12876986763491993,
          -0.4744472605291606,
          null,
          -0.12876986763491993,
          -0.3741884525826953,
          null,
          -0.12876986763491993,
          -0.19963225862979408,
          null,
          0.04445217938148401,
          -0.050020884442400645,
          null,
          0.04445217938148401,
          0.10240901647653218,
          null,
          0.04445217938148401,
          0.01620920034724067,
          null,
          0.5311610690564904,
          0.7014744240665541,
          null,
          0.5311610690564904,
          0.5823860214964066,
          null,
          0.7397563733839704,
          0.7014744240665541,
          null,
          0.7397563733839704,
          0.5823860214964066,
          null,
          0.7397563733839704,
          0.9999999999999999,
          null,
          0.7014744240665541,
          0.9999999999999999,
          null,
          0.004353143214684274,
          0.04758473257142579,
          null,
          0.004353143214684274,
          -0.19963225862979408,
          null,
          0.004353143214684274,
          -0.2012211649311197,
          null,
          -0.3910238986502526,
          -0.2012211649311197,
          null,
          0.01620920034724067,
          -0.2012211649311197,
          null,
          0.040173602941860266,
          -0.19963225862979408,
          null,
          0.040173602941860266,
          -0.2012211649311197,
          null,
          -0.06174893636200272,
          -0.19963225862979408,
          null,
          -0.06174893636200272,
          -0.2012211649311197,
          null,
          -0.4824298905953289,
          -0.19963225862979408,
          null,
          -0.4824298905953289,
          -0.2012211649311197,
          null,
          0.17174602080893805,
          -0.2012211649311197,
          null,
          -0.24376971284768043,
          -0.19963225862979408,
          null,
          -0.24376971284768043,
          -0.2012211649311197,
          null,
          -0.4031086931063619,
          -0.19963225862979408,
          null,
          -0.4031086931063619,
          -0.2012211649311197,
          null,
          -0.4869750664976203,
          -0.6793156225033026,
          null,
          -0.4869750664976203,
          -0.4744472605291606,
          null,
          -0.4869750664976203,
          -0.3052586398689429,
          null,
          -0.4869750664976203,
          -0.19963225862979408,
          null,
          -0.4869750664976203,
          -0.2012211649311197,
          null,
          -0.6745093088408494,
          -0.6793156225033026,
          null,
          -0.6745093088408494,
          -0.4744472605291606,
          null,
          -0.6745093088408494,
          -0.27505278266518024,
          null,
          -0.6793156225033026,
          -0.27505278266518024,
          null,
          -0.17294028445514484,
          -0.3052586398689429,
          null,
          -0.17294028445514484,
          -0.2012211649311197,
          null,
          -0.4744472605291606,
          -0.2012211649311197,
          null,
          -0.3741884525826953,
          -0.27505278266518024,
          null,
          -0.3741884525826953,
          -0.2012211649311197,
          null,
          -0.3052586398689429,
          -0.19963225862979408,
          null,
          -0.3052586398689429,
          -0.2012211649311197,
          null,
          0.04758473257142579,
          -0.19963225862979408,
          null,
          0.04758473257142579,
          -0.2012211649311197,
          null,
          -0.27505278266518024,
          -0.19963225862979408,
          null,
          -0.27505278266518024,
          -0.2012211649311197,
          null,
          -0.19963225862979408,
          -0.2012211649311197,
          null
         ],
         "y": [
          -0.29537421789189744,
          -0.22390598204285328,
          null,
          -0.29537421789189744,
          -0.09001680091635879,
          null,
          -0.29537421789189744,
          -0.37586942296160564,
          null,
          -0.29537421789189744,
          -0.6210497309797195,
          null,
          -0.29537421789189744,
          -0.4255012102139862,
          null,
          -0.29537421789189744,
          -0.5521790251114669,
          null,
          -0.29537421789189744,
          -0.3759566064035706,
          null,
          -0.29537421789189744,
          0.08464667048573724,
          null,
          -0.29537421789189744,
          -0.46039027858760023,
          null,
          -0.29537421789189744,
          -0.15961121856749663,
          null,
          -0.29537421789189744,
          -0.6486739170992488,
          null,
          -0.29537421789189744,
          -0.10455147856102293,
          null,
          -0.29537421789189744,
          -0.5464952784142649,
          null,
          -0.29537421789189744,
          0.032342778326399334,
          null,
          -0.29537421789189744,
          -0.43672693467614626,
          null,
          -0.29537421789189744,
          0.029467313901914205,
          null,
          -0.22390598204285328,
          -0.09001680091635879,
          null,
          -0.22390598204285328,
          -0.37586942296160564,
          null,
          -0.22390598204285328,
          -0.3759566064035706,
          null,
          -0.22390598204285328,
          -0.10455147856102293,
          null,
          -0.22390598204285328,
          -0.5464952784142649,
          null,
          -0.22390598204285328,
          0.032342778326399334,
          null,
          -0.22390598204285328,
          -0.43672693467614626,
          null,
          -0.22390598204285328,
          0.1956416928107551,
          null,
          -0.09001680091635879,
          -0.37586942296160564,
          null,
          -0.09001680091635879,
          -0.3759566064035706,
          null,
          -0.09001680091635879,
          0.08464667048573724,
          null,
          -0.09001680091635879,
          -0.07346558222209568,
          null,
          -0.09001680091635879,
          -0.10455147856102293,
          null,
          -0.09001680091635879,
          0.1337838389259333,
          null,
          -0.09001680091635879,
          0.06081812780774386,
          null,
          -0.09001680091635879,
          0.3719819964740652,
          null,
          -0.37586942296160564,
          -0.3759566064035706,
          null,
          -0.37586942296160564,
          -0.6486739170992488,
          null,
          -0.37586942296160564,
          -0.10455147856102293,
          null,
          -0.6210497309797195,
          -0.5521790251114669,
          null,
          -0.6210497309797195,
          -0.46039027858760023,
          null,
          -0.4255012102139862,
          -0.5521790251114669,
          null,
          -0.4255012102139862,
          -0.46039027858760023,
          null,
          -0.4255012102139862,
          -0.5855050797966812,
          null,
          -0.5521790251114669,
          -0.5855050797966812,
          null,
          0.08464667048573724,
          0.1956416928107551,
          null,
          0.08464667048573724,
          0.3719819964740652,
          null,
          0.08464667048573724,
          0.303709069953784,
          null,
          -0.07346558222209568,
          0.303709069953784,
          null,
          -0.10455147856102293,
          0.303709069953784,
          null,
          0.5343383280493066,
          0.3719819964740652,
          null,
          0.5343383280493066,
          0.303709069953784,
          null,
          0.6162340652339445,
          0.3719819964740652,
          null,
          0.6162340652339445,
          0.303709069953784,
          null,
          0.5167383198641339,
          0.3719819964740652,
          null,
          0.5167383198641339,
          0.303709069953784,
          null,
          0.032342778326399334,
          0.303709069953784,
          null,
          0.6612939120887529,
          0.3719819964740652,
          null,
          0.6612939120887529,
          0.303709069953784,
          null,
          0.6184345593378932,
          0.3719819964740652,
          null,
          0.6184345593378932,
          0.303709069953784,
          null,
          0.35319293214219477,
          0.15889335038072183,
          null,
          0.35319293214219477,
          0.1337838389259333,
          null,
          0.35319293214219477,
          0.5553728566861897,
          null,
          0.35319293214219477,
          0.3719819964740652,
          null,
          0.35319293214219477,
          0.303709069953784,
          null,
          -0.010238214259083686,
          0.15889335038072183,
          null,
          -0.010238214259083686,
          0.1337838389259333,
          null,
          -0.010238214259083686,
          0.029467313901914205,
          null,
          0.15889335038072183,
          0.029467313901914205,
          null,
          0.7586211662356314,
          0.5553728566861897,
          null,
          0.7586211662356314,
          0.303709069953784,
          null,
          0.1337838389259333,
          0.303709069953784,
          null,
          0.06081812780774386,
          0.029467313901914205,
          null,
          0.06081812780774386,
          0.303709069953784,
          null,
          0.5553728566861897,
          0.3719819964740652,
          null,
          0.5553728566861897,
          0.303709069953784,
          null,
          0.1956416928107551,
          0.3719819964740652,
          null,
          0.1956416928107551,
          0.303709069953784,
          null,
          0.029467313901914205,
          0.3719819964740652,
          null,
          0.029467313901914205,
          0.303709069953784,
          null,
          0.3719819964740652,
          0.303709069953784,
          null
         ]
        },
        {
         "customdata": [
          [
           1,
           1,
           16,
           2,
           0.2601683443506441,
           -0.29537421789189744
          ],
          [
           2,
           1,
           9,
           2,
           0.13227234427531584,
           -0.22390598204285328
          ],
          [
           3,
           1,
           10,
           2,
           -0.12876986763491993,
           -0.09001680091635879
          ],
          [
           4,
           1,
           6,
           2,
           0.04445217938148401,
           -0.37586942296160564
          ],
          [
           5,
           1,
           3,
           3,
           0.5311610690564904,
           -0.6210497309797195
          ],
          [
           6,
           1,
           4,
           3,
           0.7397563733839704,
           -0.4255012102139862
          ],
          [
           7,
           1,
           4,
           3,
           0.7014744240665541,
           -0.5521790251114669
          ],
          [
           8,
           1,
           4,
           1,
           -0.050020884442400645,
           -0.3759566064035706
          ],
          [
           9,
           1,
           5,
           2,
           0.004353143214684274,
           0.08464667048573724
          ],
          [
           10,
           1,
           2,
           3,
           -0.3910238986502526,
           -0.07346558222209568
          ],
          [
           11,
           1,
           3,
           3,
           0.5823860214964066,
           -0.46039027858760023
          ],
          [
           12,
           1,
           1,
           0,
           0.6398624650303505,
           -0.15961121856749663
          ],
          [
           13,
           1,
           2,
           3,
           0.10240901647653218,
           -0.6486739170992488
          ],
          [
           14,
           1,
           5,
           2,
           0.01620920034724067,
           -0.10455147856102293
          ],
          [
           15,
           1,
           2,
           3,
           0.040173602941860266,
           0.5343383280493066
          ],
          [
           16,
           1,
           2,
           3,
           -0.06174893636200272,
           0.6162340652339445
          ],
          [
           17,
           1,
           2,
           0,
           0.9999999999999999,
           -0.5855050797966812
          ],
          [
           18,
           1,
           2,
           3,
           0.23049017939571415,
           -0.5464952784142649
          ],
          [
           19,
           1,
           2,
           3,
           -0.4824298905953289,
           0.5167383198641339
          ],
          [
           20,
           1,
           3,
           1,
           0.17174602080893805,
           0.032342778326399334
          ],
          [
           21,
           1,
           2,
           3,
           -0.24376971284768043,
           0.6612939120887529
          ],
          [
           22,
           1,
           2,
           3,
           0.3599136083451426,
           -0.43672693467614626
          ],
          [
           23,
           1,
           2,
           3,
           -0.4031086931063619,
           0.6184345593378932
          ],
          [
           24,
           1,
           5,
           1,
           -0.4869750664976203,
           0.35319293214219477
          ],
          [
           25,
           1,
           3,
           0,
           -0.6745093088408494,
           -0.010238214259083686
          ],
          [
           26,
           1,
           3,
           0,
           -0.6793156225033026,
           0.15889335038072183
          ],
          [
           27,
           1,
           2,
           0,
           -0.17294028445514484,
           0.7586211662356314
          ],
          [
           28,
           1,
           4,
           1,
           -0.4744472605291606,
           0.1337838389259333
          ],
          [
           29,
           1,
           3,
           1,
           -0.3741884525826953,
           0.06081812780774386
          ],
          [
           30,
           1,
           4,
           1,
           -0.3052586398689429,
           0.5553728566861897
          ],
          [
           31,
           1,
           4,
           1,
           0.04758473257142579,
           0.1956416928107551
          ],
          [
           32,
           1,
           6,
           2,
           -0.27505278266518024,
           0.029467313901914205
          ],
          [
           33,
           1,
           12,
           2,
           -0.19963225862979408,
           0.3719819964740652
          ],
          [
           34,
           1,
           17,
           2,
           -0.2012211649311197,
           0.303709069953784
          ]
         ],
         "hovertemplate": "node_name: %{customdata[0]} <br> radius: %{customdata[1]} <br> degree: %{customdata[2]} <br> cluster: %{customdata[3]} <br> nodes_x: %{customdata[4]} <br> nodes_y: %{customdata[5]} <br> ",
         "marker": {
          "color": [
           2,
           2,
           2,
           2,
           3,
           3,
           3,
           1,
           2,
           3,
           3,
           0,
           3,
           2,
           3,
           3,
           0,
           3,
           3,
           1,
           3,
           3,
           3,
           1,
           0,
           0,
           0,
           1,
           1,
           1,
           1,
           2,
           2,
           2
          ],
          "colorscale": [
           [
            0,
            "rgb(0,0,131)"
           ],
           [
            0.2,
            "rgb(0,60,170)"
           ],
           [
            0.4,
            "rgb(5,255,255)"
           ],
           [
            0.6,
            "rgb(255,255,0)"
           ],
           [
            0.8,
            "rgb(250,0,0)"
           ],
           [
            1,
            "rgb(128,0,0)"
           ]
          ],
          "size": 15
         },
         "mode": "markers",
         "name": "Node",
         "text": [
          1,
          2,
          3,
          4,
          5,
          6,
          7,
          8,
          9,
          10,
          11,
          12,
          13,
          14,
          15,
          16,
          17,
          18,
          19,
          20,
          21,
          22,
          23,
          24,
          25,
          26,
          27,
          28,
          29,
          30,
          31,
          32,
          33,
          34
         ],
         "type": "scatter",
         "uid": "dc6b3668-b046-4257-a505-481106e1f5e2",
         "x": [
          0.2601683443506441,
          0.13227234427531584,
          -0.12876986763491993,
          0.04445217938148401,
          0.5311610690564904,
          0.7397563733839704,
          0.7014744240665541,
          -0.050020884442400645,
          0.004353143214684274,
          -0.3910238986502526,
          0.5823860214964066,
          0.6398624650303505,
          0.10240901647653218,
          0.01620920034724067,
          0.040173602941860266,
          -0.06174893636200272,
          0.9999999999999999,
          0.23049017939571415,
          -0.4824298905953289,
          0.17174602080893805,
          -0.24376971284768043,
          0.3599136083451426,
          -0.4031086931063619,
          -0.4869750664976203,
          -0.6745093088408494,
          -0.6793156225033026,
          -0.17294028445514484,
          -0.4744472605291606,
          -0.3741884525826953,
          -0.3052586398689429,
          0.04758473257142579,
          -0.27505278266518024,
          -0.19963225862979408,
          -0.2012211649311197
         ],
         "y": [
          -0.29537421789189744,
          -0.22390598204285328,
          -0.09001680091635879,
          -0.37586942296160564,
          -0.6210497309797195,
          -0.4255012102139862,
          -0.5521790251114669,
          -0.3759566064035706,
          0.08464667048573724,
          -0.07346558222209568,
          -0.46039027858760023,
          -0.15961121856749663,
          -0.6486739170992488,
          -0.10455147856102293,
          0.5343383280493066,
          0.6162340652339445,
          -0.5855050797966812,
          -0.5464952784142649,
          0.5167383198641339,
          0.032342778326399334,
          0.6612939120887529,
          -0.43672693467614626,
          0.6184345593378932,
          0.35319293214219477,
          -0.010238214259083686,
          0.15889335038072183,
          0.7586211662356314,
          0.1337838389259333,
          0.06081812780774386,
          0.5553728566861897,
          0.1956416928107551,
          0.029467313901914205,
          0.3719819964740652,
          0.303709069953784
         ]
        }
       ],
       "layout": {
        "annotations": [
         {
          "arrowcolor": "red",
          "arrowhead": 3,
          "arrowsize": 4,
          "axref": "x",
          "ayref": "y",
          "showarrow": true,
          "x": 0.2601683443506441,
          "y": -0.29537421789189744
         }
        ],
        "dragmode": "pan",
        "template": {
         "data": {
          "bar": [
           {
            "error_x": {
             "color": "#f2f5fa"
            },
            "error_y": {
             "color": "#f2f5fa"
            },
            "marker": {
             "line": {
              "color": "rgb(17,17,17)",
              "width": 0.5
             }
            },
            "type": "bar"
           }
          ],
          "barpolar": [
           {
            "marker": {
             "line": {
              "color": "rgb(17,17,17)",
              "width": 0.5
             }
            },
            "type": "barpolar"
           }
          ],
          "carpet": [
           {
            "aaxis": {
             "endlinecolor": "#A2B1C6",
             "gridcolor": "#506784",
             "linecolor": "#506784",
             "minorgridcolor": "#506784",
             "startlinecolor": "#A2B1C6"
            },
            "baxis": {
             "endlinecolor": "#A2B1C6",
             "gridcolor": "#506784",
             "linecolor": "#506784",
             "minorgridcolor": "#506784",
             "startlinecolor": "#A2B1C6"
            },
            "type": "carpet"
           }
          ],
          "choropleth": [
           {
            "colorbar": {
             "outlinewidth": 0,
             "ticks": ""
            },
            "type": "choropleth"
           }
          ],
          "contour": [
           {
            "colorbar": {
             "outlinewidth": 0,
             "ticks": ""
            },
            "colorscale": [
             [
              0,
              "#0d0887"
             ],
             [
              0.1111111111111111,
              "#46039f"
             ],
             [
              0.2222222222222222,
              "#7201a8"
             ],
             [
              0.3333333333333333,
              "#9c179e"
             ],
             [
              0.4444444444444444,
              "#bd3786"
             ],
             [
              0.5555555555555556,
              "#d8576b"
             ],
             [
              0.6666666666666666,
              "#ed7953"
             ],
             [
              0.7777777777777778,
              "#fb9f3a"
             ],
             [
              0.8888888888888888,
              "#fdca26"
             ],
             [
              1,
              "#f0f921"
             ]
            ],
            "type": "contour"
           }
          ],
          "contourcarpet": [
           {
            "colorbar": {
             "outlinewidth": 0,
             "ticks": ""
            },
            "type": "contourcarpet"
           }
          ],
          "heatmap": [
           {
            "colorbar": {
             "outlinewidth": 0,
             "ticks": ""
            },
            "colorscale": [
             [
              0,
              "#0d0887"
             ],
             [
              0.1111111111111111,
              "#46039f"
             ],
             [
              0.2222222222222222,
              "#7201a8"
             ],
             [
              0.3333333333333333,
              "#9c179e"
             ],
             [
              0.4444444444444444,
              "#bd3786"
             ],
             [
              0.5555555555555556,
              "#d8576b"
             ],
             [
              0.6666666666666666,
              "#ed7953"
             ],
             [
              0.7777777777777778,
              "#fb9f3a"
             ],
             [
              0.8888888888888888,
              "#fdca26"
             ],
             [
              1,
              "#f0f921"
             ]
            ],
            "type": "heatmap"
           }
          ],
          "heatmapgl": [
           {
            "colorbar": {
             "outlinewidth": 0,
             "ticks": ""
            },
            "colorscale": [
             [
              0,
              "#0d0887"
             ],
             [
              0.1111111111111111,
              "#46039f"
             ],
             [
              0.2222222222222222,
              "#7201a8"
             ],
             [
              0.3333333333333333,
              "#9c179e"
             ],
             [
              0.4444444444444444,
              "#bd3786"
             ],
             [
              0.5555555555555556,
              "#d8576b"
             ],
             [
              0.6666666666666666,
              "#ed7953"
             ],
             [
              0.7777777777777778,
              "#fb9f3a"
             ],
             [
              0.8888888888888888,
              "#fdca26"
             ],
             [
              1,
              "#f0f921"
             ]
            ],
            "type": "heatmapgl"
           }
          ],
          "histogram": [
           {
            "marker": {
             "colorbar": {
              "outlinewidth": 0,
              "ticks": ""
             }
            },
            "type": "histogram"
           }
          ],
          "histogram2d": [
           {
            "colorbar": {
             "outlinewidth": 0,
             "ticks": ""
            },
            "colorscale": [
             [
              0,
              "#0d0887"
             ],
             [
              0.1111111111111111,
              "#46039f"
             ],
             [
              0.2222222222222222,
              "#7201a8"
             ],
             [
              0.3333333333333333,
              "#9c179e"
             ],
             [
              0.4444444444444444,
              "#bd3786"
             ],
             [
              0.5555555555555556,
              "#d8576b"
             ],
             [
              0.6666666666666666,
              "#ed7953"
             ],
             [
              0.7777777777777778,
              "#fb9f3a"
             ],
             [
              0.8888888888888888,
              "#fdca26"
             ],
             [
              1,
              "#f0f921"
             ]
            ],
            "type": "histogram2d"
           }
          ],
          "histogram2dcontour": [
           {
            "colorbar": {
             "outlinewidth": 0,
             "ticks": ""
            },
            "colorscale": [
             [
              0,
              "#0d0887"
             ],
             [
              0.1111111111111111,
              "#46039f"
             ],
             [
              0.2222222222222222,
              "#7201a8"
             ],
             [
              0.3333333333333333,
              "#9c179e"
             ],
             [
              0.4444444444444444,
              "#bd3786"
             ],
             [
              0.5555555555555556,
              "#d8576b"
             ],
             [
              0.6666666666666666,
              "#ed7953"
             ],
             [
              0.7777777777777778,
              "#fb9f3a"
             ],
             [
              0.8888888888888888,
              "#fdca26"
             ],
             [
              1,
              "#f0f921"
             ]
            ],
            "type": "histogram2dcontour"
           }
          ],
          "mesh3d": [
           {
            "colorbar": {
             "outlinewidth": 0,
             "ticks": ""
            },
            "type": "mesh3d"
           }
          ],
          "parcoords": [
           {
            "line": {
             "colorbar": {
              "outlinewidth": 0,
              "ticks": ""
             }
            },
            "type": "parcoords"
           }
          ],
          "pie": [
           {
            "automargin": true,
            "type": "pie"
           }
          ],
          "scatter": [
           {
            "marker": {
             "line": {
              "color": "#283442"
             }
            },
            "type": "scatter"
           }
          ],
          "scatter3d": [
           {
            "line": {
             "colorbar": {
              "outlinewidth": 0,
              "ticks": ""
             }
            },
            "marker": {
             "colorbar": {
              "outlinewidth": 0,
              "ticks": ""
             }
            },
            "type": "scatter3d"
           }
          ],
          "scattercarpet": [
           {
            "marker": {
             "colorbar": {
              "outlinewidth": 0,
              "ticks": ""
             }
            },
            "type": "scattercarpet"
           }
          ],
          "scattergeo": [
           {
            "marker": {
             "colorbar": {
              "outlinewidth": 0,
              "ticks": ""
             }
            },
            "type": "scattergeo"
           }
          ],
          "scattergl": [
           {
            "marker": {
             "line": {
              "color": "#283442"
             }
            },
            "type": "scattergl"
           }
          ],
          "scattermapbox": [
           {
            "marker": {
             "colorbar": {
              "outlinewidth": 0,
              "ticks": ""
             }
            },
            "type": "scattermapbox"
           }
          ],
          "scatterpolar": [
           {
            "marker": {
             "colorbar": {
              "outlinewidth": 0,
              "ticks": ""
             }
            },
            "type": "scatterpolar"
           }
          ],
          "scatterpolargl": [
           {
            "marker": {
             "colorbar": {
              "outlinewidth": 0,
              "ticks": ""
             }
            },
            "type": "scatterpolargl"
           }
          ],
          "scatterternary": [
           {
            "marker": {
             "colorbar": {
              "outlinewidth": 0,
              "ticks": ""
             }
            },
            "type": "scatterternary"
           }
          ],
          "surface": [
           {
            "colorbar": {
             "outlinewidth": 0,
             "ticks": ""
            },
            "colorscale": [
             [
              0,
              "#0d0887"
             ],
             [
              0.1111111111111111,
              "#46039f"
             ],
             [
              0.2222222222222222,
              "#7201a8"
             ],
             [
              0.3333333333333333,
              "#9c179e"
             ],
             [
              0.4444444444444444,
              "#bd3786"
             ],
             [
              0.5555555555555556,
              "#d8576b"
             ],
             [
              0.6666666666666666,
              "#ed7953"
             ],
             [
              0.7777777777777778,
              "#fb9f3a"
             ],
             [
              0.8888888888888888,
              "#fdca26"
             ],
             [
              1,
              "#f0f921"
             ]
            ],
            "type": "surface"
           }
          ],
          "table": [
           {
            "cells": {
             "fill": {
              "color": "#506784"
             },
             "line": {
              "color": "rgb(17,17,17)"
             }
            },
            "header": {
             "fill": {
              "color": "#2a3f5f"
             },
             "line": {
              "color": "rgb(17,17,17)"
             }
            },
            "type": "table"
           }
          ]
         },
         "layout": {
          "annotationdefaults": {
           "arrowcolor": "#f2f5fa",
           "arrowhead": 0,
           "arrowwidth": 1
          },
          "coloraxis": {
           "colorbar": {
            "outlinewidth": 0,
            "ticks": ""
           }
          },
          "colorscale": {
           "diverging": [
            [
             0,
             "#8e0152"
            ],
            [
             0.1,
             "#c51b7d"
            ],
            [
             0.2,
             "#de77ae"
            ],
            [
             0.3,
             "#f1b6da"
            ],
            [
             0.4,
             "#fde0ef"
            ],
            [
             0.5,
             "#f7f7f7"
            ],
            [
             0.6,
             "#e6f5d0"
            ],
            [
             0.7,
             "#b8e186"
            ],
            [
             0.8,
             "#7fbc41"
            ],
            [
             0.9,
             "#4d9221"
            ],
            [
             1,
             "#276419"
            ]
           ],
           "sequential": [
            [
             0,
             "#0d0887"
            ],
            [
             0.1111111111111111,
             "#46039f"
            ],
            [
             0.2222222222222222,
             "#7201a8"
            ],
            [
             0.3333333333333333,
             "#9c179e"
            ],
            [
             0.4444444444444444,
             "#bd3786"
            ],
            [
             0.5555555555555556,
             "#d8576b"
            ],
            [
             0.6666666666666666,
             "#ed7953"
            ],
            [
             0.7777777777777778,
             "#fb9f3a"
            ],
            [
             0.8888888888888888,
             "#fdca26"
            ],
            [
             1,
             "#f0f921"
            ]
           ],
           "sequentialminus": [
            [
             0,
             "#0d0887"
            ],
            [
             0.1111111111111111,
             "#46039f"
            ],
            [
             0.2222222222222222,
             "#7201a8"
            ],
            [
             0.3333333333333333,
             "#9c179e"
            ],
            [
             0.4444444444444444,
             "#bd3786"
            ],
            [
             0.5555555555555556,
             "#d8576b"
            ],
            [
             0.6666666666666666,
             "#ed7953"
            ],
            [
             0.7777777777777778,
             "#fb9f3a"
            ],
            [
             0.8888888888888888,
             "#fdca26"
            ],
            [
             1,
             "#f0f921"
            ]
           ]
          },
          "colorway": [
           "#636efa",
           "#EF553B",
           "#00cc96",
           "#ab63fa",
           "#FFA15A",
           "#19d3f3",
           "#FF6692",
           "#B6E880",
           "#FF97FF",
           "#FECB52"
          ],
          "font": {
           "color": "#f2f5fa"
          },
          "geo": {
           "bgcolor": "rgb(17,17,17)",
           "lakecolor": "rgb(17,17,17)",
           "landcolor": "rgb(17,17,17)",
           "showlakes": true,
           "showland": true,
           "subunitcolor": "#506784"
          },
          "hoverlabel": {
           "align": "left"
          },
          "hovermode": "closest",
          "mapbox": {
           "style": "dark"
          },
          "paper_bgcolor": "rgb(17,17,17)",
          "plot_bgcolor": "rgb(17,17,17)",
          "polar": {
           "angularaxis": {
            "gridcolor": "#506784",
            "linecolor": "#506784",
            "ticks": ""
           },
           "bgcolor": "rgb(17,17,17)",
           "radialaxis": {
            "gridcolor": "#506784",
            "linecolor": "#506784",
            "ticks": ""
           }
          },
          "scene": {
           "xaxis": {
            "backgroundcolor": "rgb(17,17,17)",
            "gridcolor": "#506784",
            "gridwidth": 2,
            "linecolor": "#506784",
            "showbackground": true,
            "ticks": "",
            "zerolinecolor": "#C8D4E3"
           },
           "yaxis": {
            "backgroundcolor": "rgb(17,17,17)",
            "gridcolor": "#506784",
            "gridwidth": 2,
            "linecolor": "#506784",
            "showbackground": true,
            "ticks": "",
            "zerolinecolor": "#C8D4E3"
           },
           "zaxis": {
            "backgroundcolor": "rgb(17,17,17)",
            "gridcolor": "#506784",
            "gridwidth": 2,
            "linecolor": "#506784",
            "showbackground": true,
            "ticks": "",
            "zerolinecolor": "#C8D4E3"
           }
          },
          "shapedefaults": {
           "line": {
            "color": "#f2f5fa"
           }
          },
          "sliderdefaults": {
           "bgcolor": "#C8D4E3",
           "bordercolor": "rgb(17,17,17)",
           "borderwidth": 1,
           "tickwidth": 0
          },
          "ternary": {
           "aaxis": {
            "gridcolor": "#506784",
            "linecolor": "#506784",
            "ticks": ""
           },
           "baxis": {
            "gridcolor": "#506784",
            "linecolor": "#506784",
            "ticks": ""
           },
           "bgcolor": "rgb(17,17,17)",
           "caxis": {
            "gridcolor": "#506784",
            "linecolor": "#506784",
            "ticks": ""
           }
          },
          "title": {
           "x": 0.05
          },
          "updatemenudefaults": {
           "bgcolor": "#506784",
           "borderwidth": 0
          },
          "xaxis": {
           "automargin": true,
           "gridcolor": "#283442",
           "linecolor": "#506784",
           "ticks": "",
           "title": {
            "standoff": 15
           },
           "zerolinecolor": "#283442",
           "zerolinewidth": 2
          },
          "yaxis": {
           "automargin": true,
           "gridcolor": "#283442",
           "linecolor": "#506784",
           "ticks": "",
           "title": {
            "standoff": 15
           },
           "zerolinecolor": "#283442",
           "zerolinewidth": 2
          }
         }
        }
       }
      }
     },
     "metadata": {}
    },
    {
     "output_type": "stream",
     "name": "stdout",
     "text": [
      "-0.03476331360946731\n929 ms ± 0 ns per loop (mean ± std. dev. of 1 run, 1 loop each)\n"
     ]
    }
   ],
   "source": [
    "%%timeit -n1 -r1\n",
    "df = other_sims.kmedoid_clustering2(target_G, RDD.get_rdd_matrix(target_G, target_rad, measures.global_graph_degree), target_clusters)\n",
    "fig = visualize.visualize_rdd_kmedoid(target_G, target_rad, measure_list, pos, target_clusters)\n",
    "fig.show()\n",
    "df = df.sort_values('cluster')\n",
    "# print(df)1\n",
    "\n",
    "clusters = df_to_cluster_list(df)\n",
    "result = nx.algorithms.community.modularity(target_G, clusters)\n",
    "print(result)\n"
   ]
  },
  {
   "cell_type": "code",
   "execution_count": 31,
   "metadata": {
    "tags": []
   },
   "outputs": [
    {
     "output_type": "display_data",
     "data": {
      "application/vnd.plotly.v1+json": {
       "config": {
        "plotlyServerURL": "https://plot.ly"
       },
       "data": [
        {
         "line": {
          "width": 1
         },
         "marker": {
          "color": [
           0,
           3,
           0,
           2,
           4,
           4,
           4,
           2,
           3,
           2,
           4,
           1,
           4,
           3,
           4,
           4,
           1,
           4,
           4,
           2,
           4,
           4,
           4,
           2,
           1,
           1,
           4,
           2,
           2,
           2,
           2,
           3,
           0,
           0
          ],
          "colorscale": [
           [
            0,
            "rgb(0,0,131)"
           ],
           [
            0.2,
            "rgb(0,60,170)"
           ],
           [
            0.4,
            "rgb(5,255,255)"
           ],
           [
            0.6,
            "rgb(255,255,0)"
           ],
           [
            0.8,
            "rgb(250,0,0)"
           ],
           [
            1,
            "rgb(128,0,0)"
           ]
          ],
          "size": 15
         },
         "mode": "lines",
         "name": "edges",
         "type": "scatter",
         "uid": "a7e1e70b-8ac3-4ca1-acef-100e7323fe99",
         "x": [
          0.2601683443506441,
          0.13227234427531584,
          null,
          0.2601683443506441,
          -0.12876986763491993,
          null,
          0.2601683443506441,
          0.04445217938148401,
          null,
          0.2601683443506441,
          0.5311610690564904,
          null,
          0.2601683443506441,
          0.7397563733839704,
          null,
          0.2601683443506441,
          0.7014744240665541,
          null,
          0.2601683443506441,
          -0.050020884442400645,
          null,
          0.2601683443506441,
          0.004353143214684274,
          null,
          0.2601683443506441,
          0.5823860214964066,
          null,
          0.2601683443506441,
          0.6398624650303505,
          null,
          0.2601683443506441,
          0.10240901647653218,
          null,
          0.2601683443506441,
          0.01620920034724067,
          null,
          0.2601683443506441,
          0.23049017939571415,
          null,
          0.2601683443506441,
          0.17174602080893805,
          null,
          0.2601683443506441,
          0.3599136083451426,
          null,
          0.2601683443506441,
          -0.27505278266518024,
          null,
          0.13227234427531584,
          -0.12876986763491993,
          null,
          0.13227234427531584,
          0.04445217938148401,
          null,
          0.13227234427531584,
          -0.050020884442400645,
          null,
          0.13227234427531584,
          0.01620920034724067,
          null,
          0.13227234427531584,
          0.23049017939571415,
          null,
          0.13227234427531584,
          0.17174602080893805,
          null,
          0.13227234427531584,
          0.3599136083451426,
          null,
          0.13227234427531584,
          0.04758473257142579,
          null,
          -0.12876986763491993,
          0.04445217938148401,
          null,
          -0.12876986763491993,
          -0.050020884442400645,
          null,
          -0.12876986763491993,
          0.004353143214684274,
          null,
          -0.12876986763491993,
          -0.3910238986502526,
          null,
          -0.12876986763491993,
          0.01620920034724067,
          null,
          -0.12876986763491993,
          -0.4744472605291606,
          null,
          -0.12876986763491993,
          -0.3741884525826953,
          null,
          -0.12876986763491993,
          -0.19963225862979408,
          null,
          0.04445217938148401,
          -0.050020884442400645,
          null,
          0.04445217938148401,
          0.10240901647653218,
          null,
          0.04445217938148401,
          0.01620920034724067,
          null,
          0.5311610690564904,
          0.7014744240665541,
          null,
          0.5311610690564904,
          0.5823860214964066,
          null,
          0.7397563733839704,
          0.7014744240665541,
          null,
          0.7397563733839704,
          0.5823860214964066,
          null,
          0.7397563733839704,
          0.9999999999999999,
          null,
          0.7014744240665541,
          0.9999999999999999,
          null,
          0.004353143214684274,
          0.04758473257142579,
          null,
          0.004353143214684274,
          -0.19963225862979408,
          null,
          0.004353143214684274,
          -0.2012211649311197,
          null,
          -0.3910238986502526,
          -0.2012211649311197,
          null,
          0.01620920034724067,
          -0.2012211649311197,
          null,
          0.040173602941860266,
          -0.19963225862979408,
          null,
          0.040173602941860266,
          -0.2012211649311197,
          null,
          -0.06174893636200272,
          -0.19963225862979408,
          null,
          -0.06174893636200272,
          -0.2012211649311197,
          null,
          -0.4824298905953289,
          -0.19963225862979408,
          null,
          -0.4824298905953289,
          -0.2012211649311197,
          null,
          0.17174602080893805,
          -0.2012211649311197,
          null,
          -0.24376971284768043,
          -0.19963225862979408,
          null,
          -0.24376971284768043,
          -0.2012211649311197,
          null,
          -0.4031086931063619,
          -0.19963225862979408,
          null,
          -0.4031086931063619,
          -0.2012211649311197,
          null,
          -0.4869750664976203,
          -0.6793156225033026,
          null,
          -0.4869750664976203,
          -0.4744472605291606,
          null,
          -0.4869750664976203,
          -0.3052586398689429,
          null,
          -0.4869750664976203,
          -0.19963225862979408,
          null,
          -0.4869750664976203,
          -0.2012211649311197,
          null,
          -0.6745093088408494,
          -0.6793156225033026,
          null,
          -0.6745093088408494,
          -0.4744472605291606,
          null,
          -0.6745093088408494,
          -0.27505278266518024,
          null,
          -0.6793156225033026,
          -0.27505278266518024,
          null,
          -0.17294028445514484,
          -0.3052586398689429,
          null,
          -0.17294028445514484,
          -0.2012211649311197,
          null,
          -0.4744472605291606,
          -0.2012211649311197,
          null,
          -0.3741884525826953,
          -0.27505278266518024,
          null,
          -0.3741884525826953,
          -0.2012211649311197,
          null,
          -0.3052586398689429,
          -0.19963225862979408,
          null,
          -0.3052586398689429,
          -0.2012211649311197,
          null,
          0.04758473257142579,
          -0.19963225862979408,
          null,
          0.04758473257142579,
          -0.2012211649311197,
          null,
          -0.27505278266518024,
          -0.19963225862979408,
          null,
          -0.27505278266518024,
          -0.2012211649311197,
          null,
          -0.19963225862979408,
          -0.2012211649311197,
          null
         ],
         "y": [
          -0.29537421789189744,
          -0.22390598204285328,
          null,
          -0.29537421789189744,
          -0.09001680091635879,
          null,
          -0.29537421789189744,
          -0.37586942296160564,
          null,
          -0.29537421789189744,
          -0.6210497309797195,
          null,
          -0.29537421789189744,
          -0.4255012102139862,
          null,
          -0.29537421789189744,
          -0.5521790251114669,
          null,
          -0.29537421789189744,
          -0.3759566064035706,
          null,
          -0.29537421789189744,
          0.08464667048573724,
          null,
          -0.29537421789189744,
          -0.46039027858760023,
          null,
          -0.29537421789189744,
          -0.15961121856749663,
          null,
          -0.29537421789189744,
          -0.6486739170992488,
          null,
          -0.29537421789189744,
          -0.10455147856102293,
          null,
          -0.29537421789189744,
          -0.5464952784142649,
          null,
          -0.29537421789189744,
          0.032342778326399334,
          null,
          -0.29537421789189744,
          -0.43672693467614626,
          null,
          -0.29537421789189744,
          0.029467313901914205,
          null,
          -0.22390598204285328,
          -0.09001680091635879,
          null,
          -0.22390598204285328,
          -0.37586942296160564,
          null,
          -0.22390598204285328,
          -0.3759566064035706,
          null,
          -0.22390598204285328,
          -0.10455147856102293,
          null,
          -0.22390598204285328,
          -0.5464952784142649,
          null,
          -0.22390598204285328,
          0.032342778326399334,
          null,
          -0.22390598204285328,
          -0.43672693467614626,
          null,
          -0.22390598204285328,
          0.1956416928107551,
          null,
          -0.09001680091635879,
          -0.37586942296160564,
          null,
          -0.09001680091635879,
          -0.3759566064035706,
          null,
          -0.09001680091635879,
          0.08464667048573724,
          null,
          -0.09001680091635879,
          -0.07346558222209568,
          null,
          -0.09001680091635879,
          -0.10455147856102293,
          null,
          -0.09001680091635879,
          0.1337838389259333,
          null,
          -0.09001680091635879,
          0.06081812780774386,
          null,
          -0.09001680091635879,
          0.3719819964740652,
          null,
          -0.37586942296160564,
          -0.3759566064035706,
          null,
          -0.37586942296160564,
          -0.6486739170992488,
          null,
          -0.37586942296160564,
          -0.10455147856102293,
          null,
          -0.6210497309797195,
          -0.5521790251114669,
          null,
          -0.6210497309797195,
          -0.46039027858760023,
          null,
          -0.4255012102139862,
          -0.5521790251114669,
          null,
          -0.4255012102139862,
          -0.46039027858760023,
          null,
          -0.4255012102139862,
          -0.5855050797966812,
          null,
          -0.5521790251114669,
          -0.5855050797966812,
          null,
          0.08464667048573724,
          0.1956416928107551,
          null,
          0.08464667048573724,
          0.3719819964740652,
          null,
          0.08464667048573724,
          0.303709069953784,
          null,
          -0.07346558222209568,
          0.303709069953784,
          null,
          -0.10455147856102293,
          0.303709069953784,
          null,
          0.5343383280493066,
          0.3719819964740652,
          null,
          0.5343383280493066,
          0.303709069953784,
          null,
          0.6162340652339445,
          0.3719819964740652,
          null,
          0.6162340652339445,
          0.303709069953784,
          null,
          0.5167383198641339,
          0.3719819964740652,
          null,
          0.5167383198641339,
          0.303709069953784,
          null,
          0.032342778326399334,
          0.303709069953784,
          null,
          0.6612939120887529,
          0.3719819964740652,
          null,
          0.6612939120887529,
          0.303709069953784,
          null,
          0.6184345593378932,
          0.3719819964740652,
          null,
          0.6184345593378932,
          0.303709069953784,
          null,
          0.35319293214219477,
          0.15889335038072183,
          null,
          0.35319293214219477,
          0.1337838389259333,
          null,
          0.35319293214219477,
          0.5553728566861897,
          null,
          0.35319293214219477,
          0.3719819964740652,
          null,
          0.35319293214219477,
          0.303709069953784,
          null,
          -0.010238214259083686,
          0.15889335038072183,
          null,
          -0.010238214259083686,
          0.1337838389259333,
          null,
          -0.010238214259083686,
          0.029467313901914205,
          null,
          0.15889335038072183,
          0.029467313901914205,
          null,
          0.7586211662356314,
          0.5553728566861897,
          null,
          0.7586211662356314,
          0.303709069953784,
          null,
          0.1337838389259333,
          0.303709069953784,
          null,
          0.06081812780774386,
          0.029467313901914205,
          null,
          0.06081812780774386,
          0.303709069953784,
          null,
          0.5553728566861897,
          0.3719819964740652,
          null,
          0.5553728566861897,
          0.303709069953784,
          null,
          0.1956416928107551,
          0.3719819964740652,
          null,
          0.1956416928107551,
          0.303709069953784,
          null,
          0.029467313901914205,
          0.3719819964740652,
          null,
          0.029467313901914205,
          0.303709069953784,
          null,
          0.3719819964740652,
          0.303709069953784,
          null
         ]
        },
        {
         "customdata": [
          [
           1,
           1,
           16,
           0,
           0.2601683443506441,
           -0.29537421789189744
          ],
          [
           2,
           1,
           9,
           3,
           0.13227234427531584,
           -0.22390598204285328
          ],
          [
           3,
           1,
           10,
           0,
           -0.12876986763491993,
           -0.09001680091635879
          ],
          [
           4,
           1,
           6,
           2,
           0.04445217938148401,
           -0.37586942296160564
          ],
          [
           5,
           1,
           3,
           4,
           0.5311610690564904,
           -0.6210497309797195
          ],
          [
           6,
           1,
           4,
           4,
           0.7397563733839704,
           -0.4255012102139862
          ],
          [
           7,
           1,
           4,
           4,
           0.7014744240665541,
           -0.5521790251114669
          ],
          [
           8,
           1,
           4,
           2,
           -0.050020884442400645,
           -0.3759566064035706
          ],
          [
           9,
           1,
           5,
           3,
           0.004353143214684274,
           0.08464667048573724
          ],
          [
           10,
           1,
           2,
           2,
           -0.3910238986502526,
           -0.07346558222209568
          ],
          [
           11,
           1,
           3,
           4,
           0.5823860214964066,
           -0.46039027858760023
          ],
          [
           12,
           1,
           1,
           1,
           0.6398624650303505,
           -0.15961121856749663
          ],
          [
           13,
           1,
           2,
           4,
           0.10240901647653218,
           -0.6486739170992488
          ],
          [
           14,
           1,
           5,
           3,
           0.01620920034724067,
           -0.10455147856102293
          ],
          [
           15,
           1,
           2,
           4,
           0.040173602941860266,
           0.5343383280493066
          ],
          [
           16,
           1,
           2,
           4,
           -0.06174893636200272,
           0.6162340652339445
          ],
          [
           17,
           1,
           2,
           1,
           0.9999999999999999,
           -0.5855050797966812
          ],
          [
           18,
           1,
           2,
           4,
           0.23049017939571415,
           -0.5464952784142649
          ],
          [
           19,
           1,
           2,
           4,
           -0.4824298905953289,
           0.5167383198641339
          ],
          [
           20,
           1,
           3,
           2,
           0.17174602080893805,
           0.032342778326399334
          ],
          [
           21,
           1,
           2,
           4,
           -0.24376971284768043,
           0.6612939120887529
          ],
          [
           22,
           1,
           2,
           4,
           0.3599136083451426,
           -0.43672693467614626
          ],
          [
           23,
           1,
           2,
           4,
           -0.4031086931063619,
           0.6184345593378932
          ],
          [
           24,
           1,
           5,
           2,
           -0.4869750664976203,
           0.35319293214219477
          ],
          [
           25,
           1,
           3,
           1,
           -0.6745093088408494,
           -0.010238214259083686
          ],
          [
           26,
           1,
           3,
           1,
           -0.6793156225033026,
           0.15889335038072183
          ],
          [
           27,
           1,
           2,
           4,
           -0.17294028445514484,
           0.7586211662356314
          ],
          [
           28,
           1,
           4,
           2,
           -0.4744472605291606,
           0.1337838389259333
          ],
          [
           29,
           1,
           3,
           2,
           -0.3741884525826953,
           0.06081812780774386
          ],
          [
           30,
           1,
           4,
           2,
           -0.3052586398689429,
           0.5553728566861897
          ],
          [
           31,
           1,
           4,
           2,
           0.04758473257142579,
           0.1956416928107551
          ],
          [
           32,
           1,
           6,
           3,
           -0.27505278266518024,
           0.029467313901914205
          ],
          [
           33,
           1,
           12,
           0,
           -0.19963225862979408,
           0.3719819964740652
          ],
          [
           34,
           1,
           17,
           0,
           -0.2012211649311197,
           0.303709069953784
          ]
         ],
         "hovertemplate": "node_name: %{customdata[0]} <br> radius: %{customdata[1]} <br> degree: %{customdata[2]} <br> cluster: %{customdata[3]} <br> nodes_x: %{customdata[4]} <br> nodes_y: %{customdata[5]} <br> ",
         "marker": {
          "color": [
           0,
           3,
           0,
           2,
           4,
           4,
           4,
           2,
           3,
           2,
           4,
           1,
           4,
           3,
           4,
           4,
           1,
           4,
           4,
           2,
           4,
           4,
           4,
           2,
           1,
           1,
           4,
           2,
           2,
           2,
           2,
           3,
           0,
           0
          ],
          "colorscale": [
           [
            0,
            "rgb(0,0,131)"
           ],
           [
            0.2,
            "rgb(0,60,170)"
           ],
           [
            0.4,
            "rgb(5,255,255)"
           ],
           [
            0.6,
            "rgb(255,255,0)"
           ],
           [
            0.8,
            "rgb(250,0,0)"
           ],
           [
            1,
            "rgb(128,0,0)"
           ]
          ],
          "size": 15
         },
         "mode": "markers",
         "name": "Node",
         "text": [
          1,
          2,
          3,
          4,
          5,
          6,
          7,
          8,
          9,
          10,
          11,
          12,
          13,
          14,
          15,
          16,
          17,
          18,
          19,
          20,
          21,
          22,
          23,
          24,
          25,
          26,
          27,
          28,
          29,
          30,
          31,
          32,
          33,
          34
         ],
         "type": "scatter",
         "uid": "e2931c3d-20ee-407d-ade3-f3936fa66c8e",
         "x": [
          0.2601683443506441,
          0.13227234427531584,
          -0.12876986763491993,
          0.04445217938148401,
          0.5311610690564904,
          0.7397563733839704,
          0.7014744240665541,
          -0.050020884442400645,
          0.004353143214684274,
          -0.3910238986502526,
          0.5823860214964066,
          0.6398624650303505,
          0.10240901647653218,
          0.01620920034724067,
          0.040173602941860266,
          -0.06174893636200272,
          0.9999999999999999,
          0.23049017939571415,
          -0.4824298905953289,
          0.17174602080893805,
          -0.24376971284768043,
          0.3599136083451426,
          -0.4031086931063619,
          -0.4869750664976203,
          -0.6745093088408494,
          -0.6793156225033026,
          -0.17294028445514484,
          -0.4744472605291606,
          -0.3741884525826953,
          -0.3052586398689429,
          0.04758473257142579,
          -0.27505278266518024,
          -0.19963225862979408,
          -0.2012211649311197
         ],
         "y": [
          -0.29537421789189744,
          -0.22390598204285328,
          -0.09001680091635879,
          -0.37586942296160564,
          -0.6210497309797195,
          -0.4255012102139862,
          -0.5521790251114669,
          -0.3759566064035706,
          0.08464667048573724,
          -0.07346558222209568,
          -0.46039027858760023,
          -0.15961121856749663,
          -0.6486739170992488,
          -0.10455147856102293,
          0.5343383280493066,
          0.6162340652339445,
          -0.5855050797966812,
          -0.5464952784142649,
          0.5167383198641339,
          0.032342778326399334,
          0.6612939120887529,
          -0.43672693467614626,
          0.6184345593378932,
          0.35319293214219477,
          -0.010238214259083686,
          0.15889335038072183,
          0.7586211662356314,
          0.1337838389259333,
          0.06081812780774386,
          0.5553728566861897,
          0.1956416928107551,
          0.029467313901914205,
          0.3719819964740652,
          0.303709069953784
         ]
        }
       ],
       "layout": {
        "annotations": [
         {
          "arrowcolor": "red",
          "arrowhead": 3,
          "arrowsize": 4,
          "axref": "x",
          "ayref": "y",
          "showarrow": true,
          "x": 0.2601683443506441,
          "y": -0.29537421789189744
         }
        ],
        "dragmode": "pan",
        "template": {
         "data": {
          "bar": [
           {
            "error_x": {
             "color": "#f2f5fa"
            },
            "error_y": {
             "color": "#f2f5fa"
            },
            "marker": {
             "line": {
              "color": "rgb(17,17,17)",
              "width": 0.5
             }
            },
            "type": "bar"
           }
          ],
          "barpolar": [
           {
            "marker": {
             "line": {
              "color": "rgb(17,17,17)",
              "width": 0.5
             }
            },
            "type": "barpolar"
           }
          ],
          "carpet": [
           {
            "aaxis": {
             "endlinecolor": "#A2B1C6",
             "gridcolor": "#506784",
             "linecolor": "#506784",
             "minorgridcolor": "#506784",
             "startlinecolor": "#A2B1C6"
            },
            "baxis": {
             "endlinecolor": "#A2B1C6",
             "gridcolor": "#506784",
             "linecolor": "#506784",
             "minorgridcolor": "#506784",
             "startlinecolor": "#A2B1C6"
            },
            "type": "carpet"
           }
          ],
          "choropleth": [
           {
            "colorbar": {
             "outlinewidth": 0,
             "ticks": ""
            },
            "type": "choropleth"
           }
          ],
          "contour": [
           {
            "colorbar": {
             "outlinewidth": 0,
             "ticks": ""
            },
            "colorscale": [
             [
              0,
              "#0d0887"
             ],
             [
              0.1111111111111111,
              "#46039f"
             ],
             [
              0.2222222222222222,
              "#7201a8"
             ],
             [
              0.3333333333333333,
              "#9c179e"
             ],
             [
              0.4444444444444444,
              "#bd3786"
             ],
             [
              0.5555555555555556,
              "#d8576b"
             ],
             [
              0.6666666666666666,
              "#ed7953"
             ],
             [
              0.7777777777777778,
              "#fb9f3a"
             ],
             [
              0.8888888888888888,
              "#fdca26"
             ],
             [
              1,
              "#f0f921"
             ]
            ],
            "type": "contour"
           }
          ],
          "contourcarpet": [
           {
            "colorbar": {
             "outlinewidth": 0,
             "ticks": ""
            },
            "type": "contourcarpet"
           }
          ],
          "heatmap": [
           {
            "colorbar": {
             "outlinewidth": 0,
             "ticks": ""
            },
            "colorscale": [
             [
              0,
              "#0d0887"
             ],
             [
              0.1111111111111111,
              "#46039f"
             ],
             [
              0.2222222222222222,
              "#7201a8"
             ],
             [
              0.3333333333333333,
              "#9c179e"
             ],
             [
              0.4444444444444444,
              "#bd3786"
             ],
             [
              0.5555555555555556,
              "#d8576b"
             ],
             [
              0.6666666666666666,
              "#ed7953"
             ],
             [
              0.7777777777777778,
              "#fb9f3a"
             ],
             [
              0.8888888888888888,
              "#fdca26"
             ],
             [
              1,
              "#f0f921"
             ]
            ],
            "type": "heatmap"
           }
          ],
          "heatmapgl": [
           {
            "colorbar": {
             "outlinewidth": 0,
             "ticks": ""
            },
            "colorscale": [
             [
              0,
              "#0d0887"
             ],
             [
              0.1111111111111111,
              "#46039f"
             ],
             [
              0.2222222222222222,
              "#7201a8"
             ],
             [
              0.3333333333333333,
              "#9c179e"
             ],
             [
              0.4444444444444444,
              "#bd3786"
             ],
             [
              0.5555555555555556,
              "#d8576b"
             ],
             [
              0.6666666666666666,
              "#ed7953"
             ],
             [
              0.7777777777777778,
              "#fb9f3a"
             ],
             [
              0.8888888888888888,
              "#fdca26"
             ],
             [
              1,
              "#f0f921"
             ]
            ],
            "type": "heatmapgl"
           }
          ],
          "histogram": [
           {
            "marker": {
             "colorbar": {
              "outlinewidth": 0,
              "ticks": ""
             }
            },
            "type": "histogram"
           }
          ],
          "histogram2d": [
           {
            "colorbar": {
             "outlinewidth": 0,
             "ticks": ""
            },
            "colorscale": [
             [
              0,
              "#0d0887"
             ],
             [
              0.1111111111111111,
              "#46039f"
             ],
             [
              0.2222222222222222,
              "#7201a8"
             ],
             [
              0.3333333333333333,
              "#9c179e"
             ],
             [
              0.4444444444444444,
              "#bd3786"
             ],
             [
              0.5555555555555556,
              "#d8576b"
             ],
             [
              0.6666666666666666,
              "#ed7953"
             ],
             [
              0.7777777777777778,
              "#fb9f3a"
             ],
             [
              0.8888888888888888,
              "#fdca26"
             ],
             [
              1,
              "#f0f921"
             ]
            ],
            "type": "histogram2d"
           }
          ],
          "histogram2dcontour": [
           {
            "colorbar": {
             "outlinewidth": 0,
             "ticks": ""
            },
            "colorscale": [
             [
              0,
              "#0d0887"
             ],
             [
              0.1111111111111111,
              "#46039f"
             ],
             [
              0.2222222222222222,
              "#7201a8"
             ],
             [
              0.3333333333333333,
              "#9c179e"
             ],
             [
              0.4444444444444444,
              "#bd3786"
             ],
             [
              0.5555555555555556,
              "#d8576b"
             ],
             [
              0.6666666666666666,
              "#ed7953"
             ],
             [
              0.7777777777777778,
              "#fb9f3a"
             ],
             [
              0.8888888888888888,
              "#fdca26"
             ],
             [
              1,
              "#f0f921"
             ]
            ],
            "type": "histogram2dcontour"
           }
          ],
          "mesh3d": [
           {
            "colorbar": {
             "outlinewidth": 0,
             "ticks": ""
            },
            "type": "mesh3d"
           }
          ],
          "parcoords": [
           {
            "line": {
             "colorbar": {
              "outlinewidth": 0,
              "ticks": ""
             }
            },
            "type": "parcoords"
           }
          ],
          "pie": [
           {
            "automargin": true,
            "type": "pie"
           }
          ],
          "scatter": [
           {
            "marker": {
             "line": {
              "color": "#283442"
             }
            },
            "type": "scatter"
           }
          ],
          "scatter3d": [
           {
            "line": {
             "colorbar": {
              "outlinewidth": 0,
              "ticks": ""
             }
            },
            "marker": {
             "colorbar": {
              "outlinewidth": 0,
              "ticks": ""
             }
            },
            "type": "scatter3d"
           }
          ],
          "scattercarpet": [
           {
            "marker": {
             "colorbar": {
              "outlinewidth": 0,
              "ticks": ""
             }
            },
            "type": "scattercarpet"
           }
          ],
          "scattergeo": [
           {
            "marker": {
             "colorbar": {
              "outlinewidth": 0,
              "ticks": ""
             }
            },
            "type": "scattergeo"
           }
          ],
          "scattergl": [
           {
            "marker": {
             "line": {
              "color": "#283442"
             }
            },
            "type": "scattergl"
           }
          ],
          "scattermapbox": [
           {
            "marker": {
             "colorbar": {
              "outlinewidth": 0,
              "ticks": ""
             }
            },
            "type": "scattermapbox"
           }
          ],
          "scatterpolar": [
           {
            "marker": {
             "colorbar": {
              "outlinewidth": 0,
              "ticks": ""
             }
            },
            "type": "scatterpolar"
           }
          ],
          "scatterpolargl": [
           {
            "marker": {
             "colorbar": {
              "outlinewidth": 0,
              "ticks": ""
             }
            },
            "type": "scatterpolargl"
           }
          ],
          "scatterternary": [
           {
            "marker": {
             "colorbar": {
              "outlinewidth": 0,
              "ticks": ""
             }
            },
            "type": "scatterternary"
           }
          ],
          "surface": [
           {
            "colorbar": {
             "outlinewidth": 0,
             "ticks": ""
            },
            "colorscale": [
             [
              0,
              "#0d0887"
             ],
             [
              0.1111111111111111,
              "#46039f"
             ],
             [
              0.2222222222222222,
              "#7201a8"
             ],
             [
              0.3333333333333333,
              "#9c179e"
             ],
             [
              0.4444444444444444,
              "#bd3786"
             ],
             [
              0.5555555555555556,
              "#d8576b"
             ],
             [
              0.6666666666666666,
              "#ed7953"
             ],
             [
              0.7777777777777778,
              "#fb9f3a"
             ],
             [
              0.8888888888888888,
              "#fdca26"
             ],
             [
              1,
              "#f0f921"
             ]
            ],
            "type": "surface"
           }
          ],
          "table": [
           {
            "cells": {
             "fill": {
              "color": "#506784"
             },
             "line": {
              "color": "rgb(17,17,17)"
             }
            },
            "header": {
             "fill": {
              "color": "#2a3f5f"
             },
             "line": {
              "color": "rgb(17,17,17)"
             }
            },
            "type": "table"
           }
          ]
         },
         "layout": {
          "annotationdefaults": {
           "arrowcolor": "#f2f5fa",
           "arrowhead": 0,
           "arrowwidth": 1
          },
          "coloraxis": {
           "colorbar": {
            "outlinewidth": 0,
            "ticks": ""
           }
          },
          "colorscale": {
           "diverging": [
            [
             0,
             "#8e0152"
            ],
            [
             0.1,
             "#c51b7d"
            ],
            [
             0.2,
             "#de77ae"
            ],
            [
             0.3,
             "#f1b6da"
            ],
            [
             0.4,
             "#fde0ef"
            ],
            [
             0.5,
             "#f7f7f7"
            ],
            [
             0.6,
             "#e6f5d0"
            ],
            [
             0.7,
             "#b8e186"
            ],
            [
             0.8,
             "#7fbc41"
            ],
            [
             0.9,
             "#4d9221"
            ],
            [
             1,
             "#276419"
            ]
           ],
           "sequential": [
            [
             0,
             "#0d0887"
            ],
            [
             0.1111111111111111,
             "#46039f"
            ],
            [
             0.2222222222222222,
             "#7201a8"
            ],
            [
             0.3333333333333333,
             "#9c179e"
            ],
            [
             0.4444444444444444,
             "#bd3786"
            ],
            [
             0.5555555555555556,
             "#d8576b"
            ],
            [
             0.6666666666666666,
             "#ed7953"
            ],
            [
             0.7777777777777778,
             "#fb9f3a"
            ],
            [
             0.8888888888888888,
             "#fdca26"
            ],
            [
             1,
             "#f0f921"
            ]
           ],
           "sequentialminus": [
            [
             0,
             "#0d0887"
            ],
            [
             0.1111111111111111,
             "#46039f"
            ],
            [
             0.2222222222222222,
             "#7201a8"
            ],
            [
             0.3333333333333333,
             "#9c179e"
            ],
            [
             0.4444444444444444,
             "#bd3786"
            ],
            [
             0.5555555555555556,
             "#d8576b"
            ],
            [
             0.6666666666666666,
             "#ed7953"
            ],
            [
             0.7777777777777778,
             "#fb9f3a"
            ],
            [
             0.8888888888888888,
             "#fdca26"
            ],
            [
             1,
             "#f0f921"
            ]
           ]
          },
          "colorway": [
           "#636efa",
           "#EF553B",
           "#00cc96",
           "#ab63fa",
           "#FFA15A",
           "#19d3f3",
           "#FF6692",
           "#B6E880",
           "#FF97FF",
           "#FECB52"
          ],
          "font": {
           "color": "#f2f5fa"
          },
          "geo": {
           "bgcolor": "rgb(17,17,17)",
           "lakecolor": "rgb(17,17,17)",
           "landcolor": "rgb(17,17,17)",
           "showlakes": true,
           "showland": true,
           "subunitcolor": "#506784"
          },
          "hoverlabel": {
           "align": "left"
          },
          "hovermode": "closest",
          "mapbox": {
           "style": "dark"
          },
          "paper_bgcolor": "rgb(17,17,17)",
          "plot_bgcolor": "rgb(17,17,17)",
          "polar": {
           "angularaxis": {
            "gridcolor": "#506784",
            "linecolor": "#506784",
            "ticks": ""
           },
           "bgcolor": "rgb(17,17,17)",
           "radialaxis": {
            "gridcolor": "#506784",
            "linecolor": "#506784",
            "ticks": ""
           }
          },
          "scene": {
           "xaxis": {
            "backgroundcolor": "rgb(17,17,17)",
            "gridcolor": "#506784",
            "gridwidth": 2,
            "linecolor": "#506784",
            "showbackground": true,
            "ticks": "",
            "zerolinecolor": "#C8D4E3"
           },
           "yaxis": {
            "backgroundcolor": "rgb(17,17,17)",
            "gridcolor": "#506784",
            "gridwidth": 2,
            "linecolor": "#506784",
            "showbackground": true,
            "ticks": "",
            "zerolinecolor": "#C8D4E3"
           },
           "zaxis": {
            "backgroundcolor": "rgb(17,17,17)",
            "gridcolor": "#506784",
            "gridwidth": 2,
            "linecolor": "#506784",
            "showbackground": true,
            "ticks": "",
            "zerolinecolor": "#C8D4E3"
           }
          },
          "shapedefaults": {
           "line": {
            "color": "#f2f5fa"
           }
          },
          "sliderdefaults": {
           "bgcolor": "#C8D4E3",
           "bordercolor": "rgb(17,17,17)",
           "borderwidth": 1,
           "tickwidth": 0
          },
          "ternary": {
           "aaxis": {
            "gridcolor": "#506784",
            "linecolor": "#506784",
            "ticks": ""
           },
           "baxis": {
            "gridcolor": "#506784",
            "linecolor": "#506784",
            "ticks": ""
           },
           "bgcolor": "rgb(17,17,17)",
           "caxis": {
            "gridcolor": "#506784",
            "linecolor": "#506784",
            "ticks": ""
           }
          },
          "title": {
           "x": 0.05
          },
          "updatemenudefaults": {
           "bgcolor": "#506784",
           "borderwidth": 0
          },
          "xaxis": {
           "automargin": true,
           "gridcolor": "#283442",
           "linecolor": "#506784",
           "ticks": "",
           "title": {
            "standoff": 15
           },
           "zerolinecolor": "#283442",
           "zerolinewidth": 2
          },
          "yaxis": {
           "automargin": true,
           "gridcolor": "#283442",
           "linecolor": "#506784",
           "ticks": "",
           "title": {
            "standoff": 15
           },
           "zerolinecolor": "#283442",
           "zerolinewidth": 2
          }
         }
        }
       }
      }
     },
     "metadata": {}
    },
    {
     "output_type": "stream",
     "name": "stdout",
     "text": [
      "-0.09188034188034186\n873 ms ± 0 ns per loop (mean ± std. dev. of 1 run, 1 loop each)\n"
     ]
    }
   ],
   "source": [
    "%%timeit -n1 -r1\n",
    "df = other_sims.agglomerative_hierarchical_clustering(target_G,target_rad, measures.global_graph_degree, target_clusters)\n",
    "fig = visualize.visualize_rdd_agglomerative_hierarchical_clustering(target_G, target_rad, measure_list, pos, target_clusters)\n",
    "fig.show()\n",
    "df = df.sort_values('cluster')\n",
    "# print(df)\n",
    "\n",
    "clusters = df_to_cluster_list(df)\n",
    "result = nx.algorithms.community.modularity(target_G, clusters)\n",
    "print(result)"
   ]
  },
  {
   "cell_type": "code",
   "execution_count": 32,
   "metadata": {
    "tags": []
   },
   "outputs": [
    {
     "output_type": "display_data",
     "data": {
      "application/vnd.plotly.v1+json": {
       "config": {
        "plotlyServerURL": "https://plot.ly"
       },
       "data": [
        {
         "line": {
          "width": 1
         },
         "marker": {
          "color": [
           1,
           4,
           1,
           4,
           3,
           3,
           3,
           2,
           4,
           3,
           3,
           0,
           3,
           4,
           3,
           3,
           0,
           3,
           3,
           2,
           3,
           3,
           3,
           2,
           0,
           0,
           3,
           2,
           2,
           2,
           2,
           4,
           1,
           1
          ],
          "colorscale": [
           [
            0,
            "rgb(0,0,131)"
           ],
           [
            0.2,
            "rgb(0,60,170)"
           ],
           [
            0.4,
            "rgb(5,255,255)"
           ],
           [
            0.6,
            "rgb(255,255,0)"
           ],
           [
            0.8,
            "rgb(250,0,0)"
           ],
           [
            1,
            "rgb(128,0,0)"
           ]
          ],
          "size": 15
         },
         "mode": "lines",
         "name": "edges",
         "type": "scatter",
         "uid": "61985f9d-19dd-4d25-ae5b-7b0c8ac985e9",
         "x": [
          0.2601683443506441,
          0.13227234427531584,
          null,
          0.2601683443506441,
          -0.12876986763491993,
          null,
          0.2601683443506441,
          0.04445217938148401,
          null,
          0.2601683443506441,
          0.5311610690564904,
          null,
          0.2601683443506441,
          0.7397563733839704,
          null,
          0.2601683443506441,
          0.7014744240665541,
          null,
          0.2601683443506441,
          -0.050020884442400645,
          null,
          0.2601683443506441,
          0.004353143214684274,
          null,
          0.2601683443506441,
          0.5823860214964066,
          null,
          0.2601683443506441,
          0.6398624650303505,
          null,
          0.2601683443506441,
          0.10240901647653218,
          null,
          0.2601683443506441,
          0.01620920034724067,
          null,
          0.2601683443506441,
          0.23049017939571415,
          null,
          0.2601683443506441,
          0.17174602080893805,
          null,
          0.2601683443506441,
          0.3599136083451426,
          null,
          0.2601683443506441,
          -0.27505278266518024,
          null,
          0.13227234427531584,
          -0.12876986763491993,
          null,
          0.13227234427531584,
          0.04445217938148401,
          null,
          0.13227234427531584,
          -0.050020884442400645,
          null,
          0.13227234427531584,
          0.01620920034724067,
          null,
          0.13227234427531584,
          0.23049017939571415,
          null,
          0.13227234427531584,
          0.17174602080893805,
          null,
          0.13227234427531584,
          0.3599136083451426,
          null,
          0.13227234427531584,
          0.04758473257142579,
          null,
          -0.12876986763491993,
          0.04445217938148401,
          null,
          -0.12876986763491993,
          -0.050020884442400645,
          null,
          -0.12876986763491993,
          0.004353143214684274,
          null,
          -0.12876986763491993,
          -0.3910238986502526,
          null,
          -0.12876986763491993,
          0.01620920034724067,
          null,
          -0.12876986763491993,
          -0.4744472605291606,
          null,
          -0.12876986763491993,
          -0.3741884525826953,
          null,
          -0.12876986763491993,
          -0.19963225862979408,
          null,
          0.04445217938148401,
          -0.050020884442400645,
          null,
          0.04445217938148401,
          0.10240901647653218,
          null,
          0.04445217938148401,
          0.01620920034724067,
          null,
          0.5311610690564904,
          0.7014744240665541,
          null,
          0.5311610690564904,
          0.5823860214964066,
          null,
          0.7397563733839704,
          0.7014744240665541,
          null,
          0.7397563733839704,
          0.5823860214964066,
          null,
          0.7397563733839704,
          0.9999999999999999,
          null,
          0.7014744240665541,
          0.9999999999999999,
          null,
          0.004353143214684274,
          0.04758473257142579,
          null,
          0.004353143214684274,
          -0.19963225862979408,
          null,
          0.004353143214684274,
          -0.2012211649311197,
          null,
          -0.3910238986502526,
          -0.2012211649311197,
          null,
          0.01620920034724067,
          -0.2012211649311197,
          null,
          0.040173602941860266,
          -0.19963225862979408,
          null,
          0.040173602941860266,
          -0.2012211649311197,
          null,
          -0.06174893636200272,
          -0.19963225862979408,
          null,
          -0.06174893636200272,
          -0.2012211649311197,
          null,
          -0.4824298905953289,
          -0.19963225862979408,
          null,
          -0.4824298905953289,
          -0.2012211649311197,
          null,
          0.17174602080893805,
          -0.2012211649311197,
          null,
          -0.24376971284768043,
          -0.19963225862979408,
          null,
          -0.24376971284768043,
          -0.2012211649311197,
          null,
          -0.4031086931063619,
          -0.19963225862979408,
          null,
          -0.4031086931063619,
          -0.2012211649311197,
          null,
          -0.4869750664976203,
          -0.6793156225033026,
          null,
          -0.4869750664976203,
          -0.4744472605291606,
          null,
          -0.4869750664976203,
          -0.3052586398689429,
          null,
          -0.4869750664976203,
          -0.19963225862979408,
          null,
          -0.4869750664976203,
          -0.2012211649311197,
          null,
          -0.6745093088408494,
          -0.6793156225033026,
          null,
          -0.6745093088408494,
          -0.4744472605291606,
          null,
          -0.6745093088408494,
          -0.27505278266518024,
          null,
          -0.6793156225033026,
          -0.27505278266518024,
          null,
          -0.17294028445514484,
          -0.3052586398689429,
          null,
          -0.17294028445514484,
          -0.2012211649311197,
          null,
          -0.4744472605291606,
          -0.2012211649311197,
          null,
          -0.3741884525826953,
          -0.27505278266518024,
          null,
          -0.3741884525826953,
          -0.2012211649311197,
          null,
          -0.3052586398689429,
          -0.19963225862979408,
          null,
          -0.3052586398689429,
          -0.2012211649311197,
          null,
          0.04758473257142579,
          -0.19963225862979408,
          null,
          0.04758473257142579,
          -0.2012211649311197,
          null,
          -0.27505278266518024,
          -0.19963225862979408,
          null,
          -0.27505278266518024,
          -0.2012211649311197,
          null,
          -0.19963225862979408,
          -0.2012211649311197,
          null
         ],
         "y": [
          -0.29537421789189744,
          -0.22390598204285328,
          null,
          -0.29537421789189744,
          -0.09001680091635879,
          null,
          -0.29537421789189744,
          -0.37586942296160564,
          null,
          -0.29537421789189744,
          -0.6210497309797195,
          null,
          -0.29537421789189744,
          -0.4255012102139862,
          null,
          -0.29537421789189744,
          -0.5521790251114669,
          null,
          -0.29537421789189744,
          -0.3759566064035706,
          null,
          -0.29537421789189744,
          0.08464667048573724,
          null,
          -0.29537421789189744,
          -0.46039027858760023,
          null,
          -0.29537421789189744,
          -0.15961121856749663,
          null,
          -0.29537421789189744,
          -0.6486739170992488,
          null,
          -0.29537421789189744,
          -0.10455147856102293,
          null,
          -0.29537421789189744,
          -0.5464952784142649,
          null,
          -0.29537421789189744,
          0.032342778326399334,
          null,
          -0.29537421789189744,
          -0.43672693467614626,
          null,
          -0.29537421789189744,
          0.029467313901914205,
          null,
          -0.22390598204285328,
          -0.09001680091635879,
          null,
          -0.22390598204285328,
          -0.37586942296160564,
          null,
          -0.22390598204285328,
          -0.3759566064035706,
          null,
          -0.22390598204285328,
          -0.10455147856102293,
          null,
          -0.22390598204285328,
          -0.5464952784142649,
          null,
          -0.22390598204285328,
          0.032342778326399334,
          null,
          -0.22390598204285328,
          -0.43672693467614626,
          null,
          -0.22390598204285328,
          0.1956416928107551,
          null,
          -0.09001680091635879,
          -0.37586942296160564,
          null,
          -0.09001680091635879,
          -0.3759566064035706,
          null,
          -0.09001680091635879,
          0.08464667048573724,
          null,
          -0.09001680091635879,
          -0.07346558222209568,
          null,
          -0.09001680091635879,
          -0.10455147856102293,
          null,
          -0.09001680091635879,
          0.1337838389259333,
          null,
          -0.09001680091635879,
          0.06081812780774386,
          null,
          -0.09001680091635879,
          0.3719819964740652,
          null,
          -0.37586942296160564,
          -0.3759566064035706,
          null,
          -0.37586942296160564,
          -0.6486739170992488,
          null,
          -0.37586942296160564,
          -0.10455147856102293,
          null,
          -0.6210497309797195,
          -0.5521790251114669,
          null,
          -0.6210497309797195,
          -0.46039027858760023,
          null,
          -0.4255012102139862,
          -0.5521790251114669,
          null,
          -0.4255012102139862,
          -0.46039027858760023,
          null,
          -0.4255012102139862,
          -0.5855050797966812,
          null,
          -0.5521790251114669,
          -0.5855050797966812,
          null,
          0.08464667048573724,
          0.1956416928107551,
          null,
          0.08464667048573724,
          0.3719819964740652,
          null,
          0.08464667048573724,
          0.303709069953784,
          null,
          -0.07346558222209568,
          0.303709069953784,
          null,
          -0.10455147856102293,
          0.303709069953784,
          null,
          0.5343383280493066,
          0.3719819964740652,
          null,
          0.5343383280493066,
          0.303709069953784,
          null,
          0.6162340652339445,
          0.3719819964740652,
          null,
          0.6162340652339445,
          0.303709069953784,
          null,
          0.5167383198641339,
          0.3719819964740652,
          null,
          0.5167383198641339,
          0.303709069953784,
          null,
          0.032342778326399334,
          0.303709069953784,
          null,
          0.6612939120887529,
          0.3719819964740652,
          null,
          0.6612939120887529,
          0.303709069953784,
          null,
          0.6184345593378932,
          0.3719819964740652,
          null,
          0.6184345593378932,
          0.303709069953784,
          null,
          0.35319293214219477,
          0.15889335038072183,
          null,
          0.35319293214219477,
          0.1337838389259333,
          null,
          0.35319293214219477,
          0.5553728566861897,
          null,
          0.35319293214219477,
          0.3719819964740652,
          null,
          0.35319293214219477,
          0.303709069953784,
          null,
          -0.010238214259083686,
          0.15889335038072183,
          null,
          -0.010238214259083686,
          0.1337838389259333,
          null,
          -0.010238214259083686,
          0.029467313901914205,
          null,
          0.15889335038072183,
          0.029467313901914205,
          null,
          0.7586211662356314,
          0.5553728566861897,
          null,
          0.7586211662356314,
          0.303709069953784,
          null,
          0.1337838389259333,
          0.303709069953784,
          null,
          0.06081812780774386,
          0.029467313901914205,
          null,
          0.06081812780774386,
          0.303709069953784,
          null,
          0.5553728566861897,
          0.3719819964740652,
          null,
          0.5553728566861897,
          0.303709069953784,
          null,
          0.1956416928107551,
          0.3719819964740652,
          null,
          0.1956416928107551,
          0.303709069953784,
          null,
          0.029467313901914205,
          0.3719819964740652,
          null,
          0.029467313901914205,
          0.303709069953784,
          null,
          0.3719819964740652,
          0.303709069953784,
          null
         ]
        },
        {
         "customdata": [
          [
           1,
           1,
           16,
           1,
           0.2601683443506441,
           -0.29537421789189744
          ],
          [
           2,
           1,
           9,
           4,
           0.13227234427531584,
           -0.22390598204285328
          ],
          [
           3,
           1,
           10,
           1,
           -0.12876986763491993,
           -0.09001680091635879
          ],
          [
           4,
           1,
           6,
           4,
           0.04445217938148401,
           -0.37586942296160564
          ],
          [
           5,
           1,
           3,
           3,
           0.5311610690564904,
           -0.6210497309797195
          ],
          [
           6,
           1,
           4,
           3,
           0.7397563733839704,
           -0.4255012102139862
          ],
          [
           7,
           1,
           4,
           3,
           0.7014744240665541,
           -0.5521790251114669
          ],
          [
           8,
           1,
           4,
           2,
           -0.050020884442400645,
           -0.3759566064035706
          ],
          [
           9,
           1,
           5,
           4,
           0.004353143214684274,
           0.08464667048573724
          ],
          [
           10,
           1,
           2,
           3,
           -0.3910238986502526,
           -0.07346558222209568
          ],
          [
           11,
           1,
           3,
           3,
           0.5823860214964066,
           -0.46039027858760023
          ],
          [
           12,
           1,
           1,
           0,
           0.6398624650303505,
           -0.15961121856749663
          ],
          [
           13,
           1,
           2,
           3,
           0.10240901647653218,
           -0.6486739170992488
          ],
          [
           14,
           1,
           5,
           4,
           0.01620920034724067,
           -0.10455147856102293
          ],
          [
           15,
           1,
           2,
           3,
           0.040173602941860266,
           0.5343383280493066
          ],
          [
           16,
           1,
           2,
           3,
           -0.06174893636200272,
           0.6162340652339445
          ],
          [
           17,
           1,
           2,
           0,
           0.9999999999999999,
           -0.5855050797966812
          ],
          [
           18,
           1,
           2,
           3,
           0.23049017939571415,
           -0.5464952784142649
          ],
          [
           19,
           1,
           2,
           3,
           -0.4824298905953289,
           0.5167383198641339
          ],
          [
           20,
           1,
           3,
           2,
           0.17174602080893805,
           0.032342778326399334
          ],
          [
           21,
           1,
           2,
           3,
           -0.24376971284768043,
           0.6612939120887529
          ],
          [
           22,
           1,
           2,
           3,
           0.3599136083451426,
           -0.43672693467614626
          ],
          [
           23,
           1,
           2,
           3,
           -0.4031086931063619,
           0.6184345593378932
          ],
          [
           24,
           1,
           5,
           2,
           -0.4869750664976203,
           0.35319293214219477
          ],
          [
           25,
           1,
           3,
           0,
           -0.6745093088408494,
           -0.010238214259083686
          ],
          [
           26,
           1,
           3,
           0,
           -0.6793156225033026,
           0.15889335038072183
          ],
          [
           27,
           1,
           2,
           3,
           -0.17294028445514484,
           0.7586211662356314
          ],
          [
           28,
           1,
           4,
           2,
           -0.4744472605291606,
           0.1337838389259333
          ],
          [
           29,
           1,
           3,
           2,
           -0.3741884525826953,
           0.06081812780774386
          ],
          [
           30,
           1,
           4,
           2,
           -0.3052586398689429,
           0.5553728566861897
          ],
          [
           31,
           1,
           4,
           2,
           0.04758473257142579,
           0.1956416928107551
          ],
          [
           32,
           1,
           6,
           4,
           -0.27505278266518024,
           0.029467313901914205
          ],
          [
           33,
           1,
           12,
           1,
           -0.19963225862979408,
           0.3719819964740652
          ],
          [
           34,
           1,
           17,
           1,
           -0.2012211649311197,
           0.303709069953784
          ]
         ],
         "hovertemplate": "node_name: %{customdata[0]} <br> radius: %{customdata[1]} <br> degree: %{customdata[2]} <br> cluster: %{customdata[3]} <br> nodes_x: %{customdata[4]} <br> nodes_y: %{customdata[5]} <br> ",
         "marker": {
          "color": [
           1,
           4,
           1,
           4,
           3,
           3,
           3,
           2,
           4,
           3,
           3,
           0,
           3,
           4,
           3,
           3,
           0,
           3,
           3,
           2,
           3,
           3,
           3,
           2,
           0,
           0,
           3,
           2,
           2,
           2,
           2,
           4,
           1,
           1
          ],
          "colorscale": [
           [
            0,
            "rgb(0,0,131)"
           ],
           [
            0.2,
            "rgb(0,60,170)"
           ],
           [
            0.4,
            "rgb(5,255,255)"
           ],
           [
            0.6,
            "rgb(255,255,0)"
           ],
           [
            0.8,
            "rgb(250,0,0)"
           ],
           [
            1,
            "rgb(128,0,0)"
           ]
          ],
          "size": 15
         },
         "mode": "markers",
         "name": "Node",
         "text": [
          1,
          2,
          3,
          4,
          5,
          6,
          7,
          8,
          9,
          10,
          11,
          12,
          13,
          14,
          15,
          16,
          17,
          18,
          19,
          20,
          21,
          22,
          23,
          24,
          25,
          26,
          27,
          28,
          29,
          30,
          31,
          32,
          33,
          34
         ],
         "type": "scatter",
         "uid": "bd94ae2e-aba4-4429-8993-c73a0467c4e9",
         "x": [
          0.2601683443506441,
          0.13227234427531584,
          -0.12876986763491993,
          0.04445217938148401,
          0.5311610690564904,
          0.7397563733839704,
          0.7014744240665541,
          -0.050020884442400645,
          0.004353143214684274,
          -0.3910238986502526,
          0.5823860214964066,
          0.6398624650303505,
          0.10240901647653218,
          0.01620920034724067,
          0.040173602941860266,
          -0.06174893636200272,
          0.9999999999999999,
          0.23049017939571415,
          -0.4824298905953289,
          0.17174602080893805,
          -0.24376971284768043,
          0.3599136083451426,
          -0.4031086931063619,
          -0.4869750664976203,
          -0.6745093088408494,
          -0.6793156225033026,
          -0.17294028445514484,
          -0.4744472605291606,
          -0.3741884525826953,
          -0.3052586398689429,
          0.04758473257142579,
          -0.27505278266518024,
          -0.19963225862979408,
          -0.2012211649311197
         ],
         "y": [
          -0.29537421789189744,
          -0.22390598204285328,
          -0.09001680091635879,
          -0.37586942296160564,
          -0.6210497309797195,
          -0.4255012102139862,
          -0.5521790251114669,
          -0.3759566064035706,
          0.08464667048573724,
          -0.07346558222209568,
          -0.46039027858760023,
          -0.15961121856749663,
          -0.6486739170992488,
          -0.10455147856102293,
          0.5343383280493066,
          0.6162340652339445,
          -0.5855050797966812,
          -0.5464952784142649,
          0.5167383198641339,
          0.032342778326399334,
          0.6612939120887529,
          -0.43672693467614626,
          0.6184345593378932,
          0.35319293214219477,
          -0.010238214259083686,
          0.15889335038072183,
          0.7586211662356314,
          0.1337838389259333,
          0.06081812780774386,
          0.5553728566861897,
          0.1956416928107551,
          0.029467313901914205,
          0.3719819964740652,
          0.303709069953784
         ]
        }
       ],
       "layout": {
        "annotations": [
         {
          "arrowcolor": "red",
          "arrowhead": 3,
          "arrowsize": 4,
          "axref": "x",
          "ayref": "y",
          "showarrow": true,
          "x": 0.2601683443506441,
          "y": -0.29537421789189744
         }
        ],
        "dragmode": "pan",
        "template": {
         "data": {
          "bar": [
           {
            "error_x": {
             "color": "#f2f5fa"
            },
            "error_y": {
             "color": "#f2f5fa"
            },
            "marker": {
             "line": {
              "color": "rgb(17,17,17)",
              "width": 0.5
             }
            },
            "type": "bar"
           }
          ],
          "barpolar": [
           {
            "marker": {
             "line": {
              "color": "rgb(17,17,17)",
              "width": 0.5
             }
            },
            "type": "barpolar"
           }
          ],
          "carpet": [
           {
            "aaxis": {
             "endlinecolor": "#A2B1C6",
             "gridcolor": "#506784",
             "linecolor": "#506784",
             "minorgridcolor": "#506784",
             "startlinecolor": "#A2B1C6"
            },
            "baxis": {
             "endlinecolor": "#A2B1C6",
             "gridcolor": "#506784",
             "linecolor": "#506784",
             "minorgridcolor": "#506784",
             "startlinecolor": "#A2B1C6"
            },
            "type": "carpet"
           }
          ],
          "choropleth": [
           {
            "colorbar": {
             "outlinewidth": 0,
             "ticks": ""
            },
            "type": "choropleth"
           }
          ],
          "contour": [
           {
            "colorbar": {
             "outlinewidth": 0,
             "ticks": ""
            },
            "colorscale": [
             [
              0,
              "#0d0887"
             ],
             [
              0.1111111111111111,
              "#46039f"
             ],
             [
              0.2222222222222222,
              "#7201a8"
             ],
             [
              0.3333333333333333,
              "#9c179e"
             ],
             [
              0.4444444444444444,
              "#bd3786"
             ],
             [
              0.5555555555555556,
              "#d8576b"
             ],
             [
              0.6666666666666666,
              "#ed7953"
             ],
             [
              0.7777777777777778,
              "#fb9f3a"
             ],
             [
              0.8888888888888888,
              "#fdca26"
             ],
             [
              1,
              "#f0f921"
             ]
            ],
            "type": "contour"
           }
          ],
          "contourcarpet": [
           {
            "colorbar": {
             "outlinewidth": 0,
             "ticks": ""
            },
            "type": "contourcarpet"
           }
          ],
          "heatmap": [
           {
            "colorbar": {
             "outlinewidth": 0,
             "ticks": ""
            },
            "colorscale": [
             [
              0,
              "#0d0887"
             ],
             [
              0.1111111111111111,
              "#46039f"
             ],
             [
              0.2222222222222222,
              "#7201a8"
             ],
             [
              0.3333333333333333,
              "#9c179e"
             ],
             [
              0.4444444444444444,
              "#bd3786"
             ],
             [
              0.5555555555555556,
              "#d8576b"
             ],
             [
              0.6666666666666666,
              "#ed7953"
             ],
             [
              0.7777777777777778,
              "#fb9f3a"
             ],
             [
              0.8888888888888888,
              "#fdca26"
             ],
             [
              1,
              "#f0f921"
             ]
            ],
            "type": "heatmap"
           }
          ],
          "heatmapgl": [
           {
            "colorbar": {
             "outlinewidth": 0,
             "ticks": ""
            },
            "colorscale": [
             [
              0,
              "#0d0887"
             ],
             [
              0.1111111111111111,
              "#46039f"
             ],
             [
              0.2222222222222222,
              "#7201a8"
             ],
             [
              0.3333333333333333,
              "#9c179e"
             ],
             [
              0.4444444444444444,
              "#bd3786"
             ],
             [
              0.5555555555555556,
              "#d8576b"
             ],
             [
              0.6666666666666666,
              "#ed7953"
             ],
             [
              0.7777777777777778,
              "#fb9f3a"
             ],
             [
              0.8888888888888888,
              "#fdca26"
             ],
             [
              1,
              "#f0f921"
             ]
            ],
            "type": "heatmapgl"
           }
          ],
          "histogram": [
           {
            "marker": {
             "colorbar": {
              "outlinewidth": 0,
              "ticks": ""
             }
            },
            "type": "histogram"
           }
          ],
          "histogram2d": [
           {
            "colorbar": {
             "outlinewidth": 0,
             "ticks": ""
            },
            "colorscale": [
             [
              0,
              "#0d0887"
             ],
             [
              0.1111111111111111,
              "#46039f"
             ],
             [
              0.2222222222222222,
              "#7201a8"
             ],
             [
              0.3333333333333333,
              "#9c179e"
             ],
             [
              0.4444444444444444,
              "#bd3786"
             ],
             [
              0.5555555555555556,
              "#d8576b"
             ],
             [
              0.6666666666666666,
              "#ed7953"
             ],
             [
              0.7777777777777778,
              "#fb9f3a"
             ],
             [
              0.8888888888888888,
              "#fdca26"
             ],
             [
              1,
              "#f0f921"
             ]
            ],
            "type": "histogram2d"
           }
          ],
          "histogram2dcontour": [
           {
            "colorbar": {
             "outlinewidth": 0,
             "ticks": ""
            },
            "colorscale": [
             [
              0,
              "#0d0887"
             ],
             [
              0.1111111111111111,
              "#46039f"
             ],
             [
              0.2222222222222222,
              "#7201a8"
             ],
             [
              0.3333333333333333,
              "#9c179e"
             ],
             [
              0.4444444444444444,
              "#bd3786"
             ],
             [
              0.5555555555555556,
              "#d8576b"
             ],
             [
              0.6666666666666666,
              "#ed7953"
             ],
             [
              0.7777777777777778,
              "#fb9f3a"
             ],
             [
              0.8888888888888888,
              "#fdca26"
             ],
             [
              1,
              "#f0f921"
             ]
            ],
            "type": "histogram2dcontour"
           }
          ],
          "mesh3d": [
           {
            "colorbar": {
             "outlinewidth": 0,
             "ticks": ""
            },
            "type": "mesh3d"
           }
          ],
          "parcoords": [
           {
            "line": {
             "colorbar": {
              "outlinewidth": 0,
              "ticks": ""
             }
            },
            "type": "parcoords"
           }
          ],
          "pie": [
           {
            "automargin": true,
            "type": "pie"
           }
          ],
          "scatter": [
           {
            "marker": {
             "line": {
              "color": "#283442"
             }
            },
            "type": "scatter"
           }
          ],
          "scatter3d": [
           {
            "line": {
             "colorbar": {
              "outlinewidth": 0,
              "ticks": ""
             }
            },
            "marker": {
             "colorbar": {
              "outlinewidth": 0,
              "ticks": ""
             }
            },
            "type": "scatter3d"
           }
          ],
          "scattercarpet": [
           {
            "marker": {
             "colorbar": {
              "outlinewidth": 0,
              "ticks": ""
             }
            },
            "type": "scattercarpet"
           }
          ],
          "scattergeo": [
           {
            "marker": {
             "colorbar": {
              "outlinewidth": 0,
              "ticks": ""
             }
            },
            "type": "scattergeo"
           }
          ],
          "scattergl": [
           {
            "marker": {
             "line": {
              "color": "#283442"
             }
            },
            "type": "scattergl"
           }
          ],
          "scattermapbox": [
           {
            "marker": {
             "colorbar": {
              "outlinewidth": 0,
              "ticks": ""
             }
            },
            "type": "scattermapbox"
           }
          ],
          "scatterpolar": [
           {
            "marker": {
             "colorbar": {
              "outlinewidth": 0,
              "ticks": ""
             }
            },
            "type": "scatterpolar"
           }
          ],
          "scatterpolargl": [
           {
            "marker": {
             "colorbar": {
              "outlinewidth": 0,
              "ticks": ""
             }
            },
            "type": "scatterpolargl"
           }
          ],
          "scatterternary": [
           {
            "marker": {
             "colorbar": {
              "outlinewidth": 0,
              "ticks": ""
             }
            },
            "type": "scatterternary"
           }
          ],
          "surface": [
           {
            "colorbar": {
             "outlinewidth": 0,
             "ticks": ""
            },
            "colorscale": [
             [
              0,
              "#0d0887"
             ],
             [
              0.1111111111111111,
              "#46039f"
             ],
             [
              0.2222222222222222,
              "#7201a8"
             ],
             [
              0.3333333333333333,
              "#9c179e"
             ],
             [
              0.4444444444444444,
              "#bd3786"
             ],
             [
              0.5555555555555556,
              "#d8576b"
             ],
             [
              0.6666666666666666,
              "#ed7953"
             ],
             [
              0.7777777777777778,
              "#fb9f3a"
             ],
             [
              0.8888888888888888,
              "#fdca26"
             ],
             [
              1,
              "#f0f921"
             ]
            ],
            "type": "surface"
           }
          ],
          "table": [
           {
            "cells": {
             "fill": {
              "color": "#506784"
             },
             "line": {
              "color": "rgb(17,17,17)"
             }
            },
            "header": {
             "fill": {
              "color": "#2a3f5f"
             },
             "line": {
              "color": "rgb(17,17,17)"
             }
            },
            "type": "table"
           }
          ]
         },
         "layout": {
          "annotationdefaults": {
           "arrowcolor": "#f2f5fa",
           "arrowhead": 0,
           "arrowwidth": 1
          },
          "coloraxis": {
           "colorbar": {
            "outlinewidth": 0,
            "ticks": ""
           }
          },
          "colorscale": {
           "diverging": [
            [
             0,
             "#8e0152"
            ],
            [
             0.1,
             "#c51b7d"
            ],
            [
             0.2,
             "#de77ae"
            ],
            [
             0.3,
             "#f1b6da"
            ],
            [
             0.4,
             "#fde0ef"
            ],
            [
             0.5,
             "#f7f7f7"
            ],
            [
             0.6,
             "#e6f5d0"
            ],
            [
             0.7,
             "#b8e186"
            ],
            [
             0.8,
             "#7fbc41"
            ],
            [
             0.9,
             "#4d9221"
            ],
            [
             1,
             "#276419"
            ]
           ],
           "sequential": [
            [
             0,
             "#0d0887"
            ],
            [
             0.1111111111111111,
             "#46039f"
            ],
            [
             0.2222222222222222,
             "#7201a8"
            ],
            [
             0.3333333333333333,
             "#9c179e"
            ],
            [
             0.4444444444444444,
             "#bd3786"
            ],
            [
             0.5555555555555556,
             "#d8576b"
            ],
            [
             0.6666666666666666,
             "#ed7953"
            ],
            [
             0.7777777777777778,
             "#fb9f3a"
            ],
            [
             0.8888888888888888,
             "#fdca26"
            ],
            [
             1,
             "#f0f921"
            ]
           ],
           "sequentialminus": [
            [
             0,
             "#0d0887"
            ],
            [
             0.1111111111111111,
             "#46039f"
            ],
            [
             0.2222222222222222,
             "#7201a8"
            ],
            [
             0.3333333333333333,
             "#9c179e"
            ],
            [
             0.4444444444444444,
             "#bd3786"
            ],
            [
             0.5555555555555556,
             "#d8576b"
            ],
            [
             0.6666666666666666,
             "#ed7953"
            ],
            [
             0.7777777777777778,
             "#fb9f3a"
            ],
            [
             0.8888888888888888,
             "#fdca26"
            ],
            [
             1,
             "#f0f921"
            ]
           ]
          },
          "colorway": [
           "#636efa",
           "#EF553B",
           "#00cc96",
           "#ab63fa",
           "#FFA15A",
           "#19d3f3",
           "#FF6692",
           "#B6E880",
           "#FF97FF",
           "#FECB52"
          ],
          "font": {
           "color": "#f2f5fa"
          },
          "geo": {
           "bgcolor": "rgb(17,17,17)",
           "lakecolor": "rgb(17,17,17)",
           "landcolor": "rgb(17,17,17)",
           "showlakes": true,
           "showland": true,
           "subunitcolor": "#506784"
          },
          "hoverlabel": {
           "align": "left"
          },
          "hovermode": "closest",
          "mapbox": {
           "style": "dark"
          },
          "paper_bgcolor": "rgb(17,17,17)",
          "plot_bgcolor": "rgb(17,17,17)",
          "polar": {
           "angularaxis": {
            "gridcolor": "#506784",
            "linecolor": "#506784",
            "ticks": ""
           },
           "bgcolor": "rgb(17,17,17)",
           "radialaxis": {
            "gridcolor": "#506784",
            "linecolor": "#506784",
            "ticks": ""
           }
          },
          "scene": {
           "xaxis": {
            "backgroundcolor": "rgb(17,17,17)",
            "gridcolor": "#506784",
            "gridwidth": 2,
            "linecolor": "#506784",
            "showbackground": true,
            "ticks": "",
            "zerolinecolor": "#C8D4E3"
           },
           "yaxis": {
            "backgroundcolor": "rgb(17,17,17)",
            "gridcolor": "#506784",
            "gridwidth": 2,
            "linecolor": "#506784",
            "showbackground": true,
            "ticks": "",
            "zerolinecolor": "#C8D4E3"
           },
           "zaxis": {
            "backgroundcolor": "rgb(17,17,17)",
            "gridcolor": "#506784",
            "gridwidth": 2,
            "linecolor": "#506784",
            "showbackground": true,
            "ticks": "",
            "zerolinecolor": "#C8D4E3"
           }
          },
          "shapedefaults": {
           "line": {
            "color": "#f2f5fa"
           }
          },
          "sliderdefaults": {
           "bgcolor": "#C8D4E3",
           "bordercolor": "rgb(17,17,17)",
           "borderwidth": 1,
           "tickwidth": 0
          },
          "ternary": {
           "aaxis": {
            "gridcolor": "#506784",
            "linecolor": "#506784",
            "ticks": ""
           },
           "baxis": {
            "gridcolor": "#506784",
            "linecolor": "#506784",
            "ticks": ""
           },
           "bgcolor": "rgb(17,17,17)",
           "caxis": {
            "gridcolor": "#506784",
            "linecolor": "#506784",
            "ticks": ""
           }
          },
          "title": {
           "x": 0.05
          },
          "updatemenudefaults": {
           "bgcolor": "#506784",
           "borderwidth": 0
          },
          "xaxis": {
           "automargin": true,
           "gridcolor": "#283442",
           "linecolor": "#506784",
           "ticks": "",
           "title": {
            "standoff": 15
           },
           "zerolinecolor": "#283442",
           "zerolinewidth": 2
          },
          "yaxis": {
           "automargin": true,
           "gridcolor": "#283442",
           "linecolor": "#506784",
           "ticks": "",
           "title": {
            "standoff": 15
           },
           "zerolinecolor": "#283442",
           "zerolinewidth": 2
          }
         }
        }
       }
      }
     },
     "metadata": {}
    },
    {
     "output_type": "stream",
     "name": "stdout",
     "text": [
      "-0.07790927021696249\n900 ms ± 0 ns per loop (mean ± std. dev. of 1 run, 1 loop each)\n"
     ]
    }
   ],
   "source": [
    "%%timeit -n1 -r1\n",
    "df = other_sims.k_means_matrix_clustering(target_G, target_rad, [measures.global_graph_degree], target_clusters)\n",
    "fig = visualize.visualize_rdd_kmeans_matrix(target_G, target_rad, [measure_list], pos, target_clusters)\n",
    "fig.show()\n",
    "df = df.sort_values('cluster')\n",
    "# print(df)\n",
    "\n",
    "clusters = df_to_cluster_list(df)\n",
    "result = nx.algorithms.community.modularity(target_G, clusters)\n",
    "print(result)\n"
   ]
  },
  {
   "cell_type": "code",
   "execution_count": 33,
   "metadata": {
    "tags": []
   },
   "outputs": [
    {
     "output_type": "stream",
     "name": "stdout",
     "text": [
      "2.846725704167068e-18\n",
      "-0.01849112426035464\n",
      "-0.03558514135437207\n",
      "-0.03476331360946722\n",
      "-0.03476331360946731\n",
      "-0.03476331360946731\n",
      "-0.03476331360946731\n",
      "-0.03476331360946731\n",
      "-0.0137245233399078\n"
     ]
    }
   ],
   "source": [
    "for k in range(1, 10, 1):\n",
    "    df = other_sims.kmedoid_clustering2(target_G, RDD.get_rdd_matrix(target_G, target_rad, measures.global_graph_degree), k)\n",
    "    df = df.sort_values('cluster')\n",
    "    clusters = df_to_cluster_list(df)\n",
    "    result = nx.algorithms.community.modularity(target_G, clusters)\n",
    "    print(result)\n"
   ]
  },
  {
   "cell_type": "markdown",
   "metadata": {},
   "source": [
    "# Clustoring on a list of rdds obtained from single root node (target_node = 1) to all others"
   ]
  },
  {
   "cell_type": "code",
   "execution_count": 16,
   "metadata": {
    "tags": []
   },
   "outputs": [
    {
     "output_type": "display_data",
     "data": {
      "application/vnd.plotly.v1+json": {
       "config": {
        "plotlyServerURL": "https://plot.ly"
       },
       "data": [
        {
         "line": {
          "width": 1
         },
         "marker": {
          "color": [
           2,
           1,
           2,
           1,
           3,
           3,
           3,
           4,
           1,
           3,
           3,
           0,
           3,
           1,
           3,
           3,
           0,
           3,
           3,
           4,
           3,
           3,
           3,
           4,
           0,
           0,
           0,
           4,
           4,
           4,
           4,
           1,
           2,
           2
          ],
          "colorscale": [
           [
            0,
            "rgb(0,0,131)"
           ],
           [
            0.2,
            "rgb(0,60,170)"
           ],
           [
            0.4,
            "rgb(5,255,255)"
           ],
           [
            0.6,
            "rgb(255,255,0)"
           ],
           [
            0.8,
            "rgb(250,0,0)"
           ],
           [
            1,
            "rgb(128,0,0)"
           ]
          ],
          "size": 15
         },
         "mode": "lines",
         "name": "edges",
         "type": "scatter",
         "uid": "ac10a763-33ea-4a43-a58e-0d4350042589",
         "x": [
          0.3657716816503191,
          0.2026961405616762,
          null,
          0.3657716816503191,
          -0.03262864849419025,
          null,
          0.3657716816503191,
          0.26277356850122024,
          null,
          0.3657716816503191,
          0.6592844529897219,
          null,
          0.3657716816503191,
          0.8040110425978436,
          null,
          0.3657716816503191,
          0.73443738340547,
          null,
          0.3657716816503191,
          0.17049370909460582,
          null,
          0.3657716816503191,
          -0.06103279638407389,
          null,
          0.3657716816503191,
          0.7497713590521933,
          null,
          0.3657716816503191,
          0.6701065943936605,
          null,
          0.3657716816503191,
          0.5181500018918567,
          null,
          0.3657716816503191,
          0.04995400131897409,
          null,
          0.3657716816503191,
          0.3870925526235276,
          null,
          0.3657716816503191,
          0.08940762410661877,
          null,
          0.3657716816503191,
          0.5097337662687211,
          null,
          0.3657716816503191,
          -0.10045949977265599,
          null,
          0.2026961405616762,
          -0.03262864849419025,
          null,
          0.2026961405616762,
          0.26277356850122024,
          null,
          0.2026961405616762,
          0.17049370909460582,
          null,
          0.2026961405616762,
          0.04995400131897409,
          null,
          0.2026961405616762,
          0.3870925526235276,
          null,
          0.2026961405616762,
          0.08940762410661877,
          null,
          0.2026961405616762,
          0.5097337662687211,
          null,
          0.2026961405616762,
          -0.1577109379068501,
          null,
          -0.03262864849419025,
          0.26277356850122024,
          null,
          -0.03262864849419025,
          0.17049370909460582,
          null,
          -0.03262864849419025,
          -0.06103279638407389,
          null,
          -0.03262864849419025,
          -0.31344592470335203,
          null,
          -0.03262864849419025,
          0.04995400131897409,
          null,
          -0.03262864849419025,
          -0.22922195683890204,
          null,
          -0.03262864849419025,
          -0.24635348317990388,
          null,
          -0.03262864849419025,
          -0.3975483184211256,
          null,
          0.26277356850122024,
          0.17049370909460582,
          null,
          0.26277356850122024,
          0.5181500018918567,
          null,
          0.26277356850122024,
          0.04995400131897409,
          null,
          0.6592844529897219,
          0.73443738340547,
          null,
          0.6592844529897219,
          0.7497713590521933,
          null,
          0.8040110425978436,
          0.73443738340547,
          null,
          0.8040110425978436,
          0.7497713590521933,
          null,
          0.8040110425978436,
          1,
          null,
          0.73443738340547,
          1,
          null,
          -0.06103279638407389,
          -0.1577109379068501,
          null,
          -0.06103279638407389,
          -0.3975483184211256,
          null,
          -0.06103279638407389,
          -0.36245879710888124,
          null,
          -0.31344592470335203,
          -0.36245879710888124,
          null,
          0.04995400131897409,
          -0.36245879710888124,
          null,
          -0.5659882653765957,
          -0.3975483184211256,
          null,
          -0.5659882653765957,
          -0.36245879710888124,
          null,
          -0.5810456478716931,
          -0.3975483184211256,
          null,
          -0.5810456478716931,
          -0.36245879710888124,
          null,
          -0.4137111998262647,
          -0.3975483184211256,
          null,
          -0.4137111998262647,
          -0.36245879710888124,
          null,
          0.08940762410661877,
          -0.36245879710888124,
          null,
          -0.6763609303799413,
          -0.3975483184211256,
          null,
          -0.6763609303799413,
          -0.36245879710888124,
          null,
          -0.6925738549576845,
          -0.3975483184211256,
          null,
          -0.6925738549576845,
          -0.36245879710888124,
          null,
          -0.4639400252862154,
          -0.31448003342440045,
          null,
          -0.4639400252862154,
          -0.22922195683890204,
          null,
          -0.4639400252862154,
          -0.616689171868506,
          null,
          -0.4639400252862154,
          -0.3975483184211256,
          null,
          -0.4639400252862154,
          -0.36245879710888124,
          null,
          -0.18895767775434832,
          -0.31448003342440045,
          null,
          -0.18895767775434832,
          -0.22922195683890204,
          null,
          -0.18895767775434832,
          -0.10045949977265599,
          null,
          -0.31448003342440045,
          -0.10045949977265599,
          null,
          -0.7590767089008245,
          -0.616689171868506,
          null,
          -0.7590767089008245,
          -0.36245879710888124,
          null,
          -0.22922195683890204,
          -0.36245879710888124,
          null,
          -0.24635348317990388,
          -0.10045949977265599,
          null,
          -0.24635348317990388,
          -0.36245879710888124,
          null,
          -0.616689171868506,
          -0.3975483184211256,
          null,
          -0.616689171868506,
          -0.36245879710888124,
          null,
          -0.1577109379068501,
          -0.3975483184211256,
          null,
          -0.1577109379068501,
          -0.36245879710888124,
          null,
          -0.10045949977265599,
          -0.3975483184211256,
          null,
          -0.10045949977265599,
          -0.36245879710888124,
          null,
          -0.3975483184211256,
          -0.36245879710888124,
          null
         ],
         "y": [
          -0.08802518713626792,
          -0.19202702064040783,
          null,
          -0.08802518713626792,
          -0.11723751414459557,
          null,
          -0.08802518713626792,
          -0.28849588568587625,
          null,
          -0.08802518713626792,
          0.05006265363940264,
          null,
          -0.08802518713626792,
          0.07826842949991425,
          null,
          -0.08802518713626792,
          0.1774344594322002,
          null,
          -0.08802518713626792,
          -0.3468518445640919,
          null,
          -0.08802518713626792,
          0.02043110577110914,
          null,
          -0.08802518713626792,
          -0.0761978358590846,
          null,
          -0.08802518713626792,
          -0.40582196442008067,
          null,
          -0.08802518713626792,
          -0.3707305693661761,
          null,
          -0.08802518713626792,
          -0.18209977071009195,
          null,
          -0.08802518713626792,
          -0.4125298511222937,
          null,
          -0.08802518713626792,
          0.011848447567632968,
          null,
          -0.08802518713626792,
          -0.19970039525891697,
          null,
          -0.08802518713626792,
          0.20395782438973817,
          null,
          -0.19202702064040783,
          -0.11723751414459557,
          null,
          -0.19202702064040783,
          -0.28849588568587625,
          null,
          -0.19202702064040783,
          -0.3468518445640919,
          null,
          -0.19202702064040783,
          -0.18209977071009195,
          null,
          -0.19202702064040783,
          -0.4125298511222937,
          null,
          -0.19202702064040783,
          0.011848447567632968,
          null,
          -0.19202702064040783,
          -0.19970039525891697,
          null,
          -0.19202702064040783,
          -0.1024728713279323,
          null,
          -0.11723751414459557,
          -0.28849588568587625,
          null,
          -0.11723751414459557,
          -0.3468518445640919,
          null,
          -0.11723751414459557,
          0.02043110577110914,
          null,
          -0.11723751414459557,
          -0.29781184246200715,
          null,
          -0.11723751414459557,
          -0.18209977071009195,
          null,
          -0.11723751414459557,
          0.23243375264639263,
          null,
          -0.11723751414459557,
          -0.046598447141718666,
          null,
          -0.11723751414459557,
          0.0890081046904924,
          null,
          -0.28849588568587625,
          -0.3468518445640919,
          null,
          -0.28849588568587625,
          -0.3707305693661761,
          null,
          -0.28849588568587625,
          -0.18209977071009195,
          null,
          0.05006265363940264,
          0.1774344594322002,
          null,
          0.05006265363940264,
          -0.0761978358590846,
          null,
          0.07826842949991425,
          0.1774344594322002,
          null,
          0.07826842949991425,
          -0.0761978358590846,
          null,
          0.07826842949991425,
          0.272401471346585,
          null,
          0.1774344594322002,
          0.272401471346585,
          null,
          0.02043110577110914,
          -0.1024728713279323,
          null,
          0.02043110577110914,
          0.0890081046904924,
          null,
          0.02043110577110914,
          0.02834356690637201,
          null,
          -0.29781184246200715,
          0.02834356690637201,
          null,
          -0.18209977071009195,
          0.02834356690637201,
          null,
          0.32913051854167313,
          0.0890081046904924,
          null,
          0.32913051854167313,
          0.02834356690637201,
          null,
          -0.154650728103828,
          0.0890081046904924,
          null,
          -0.154650728103828,
          0.02834356690637201,
          null,
          0.3380896550154854,
          0.0890081046904924,
          null,
          0.3380896550154854,
          0.02834356690637201,
          null,
          0.011848447567632968,
          0.02834356690637201,
          null,
          0.18544438943922623,
          0.0890081046904924,
          null,
          0.18544438943922623,
          0.02834356690637201,
          null,
          0.009668753750233657,
          0.0890081046904924,
          null,
          0.009668753750233657,
          0.02834356690637201,
          null,
          0.2654197474098374,
          0.5155893042226009,
          null,
          0.2654197474098374,
          0.23243375264639263,
          null,
          0.2654197474098374,
          0.07237581528539495,
          null,
          0.2654197474098374,
          0.0890081046904924,
          null,
          0.2654197474098374,
          0.02834356690637201,
          null,
          0.5045986402337131,
          0.5155893042226009,
          null,
          0.5045986402337131,
          0.23243375264639263,
          null,
          0.5045986402337131,
          0.20395782438973817,
          null,
          0.5155893042226009,
          0.20395782438973817,
          null,
          -0.10325491184463635,
          0.07237581528539495,
          null,
          -0.10325491184463635,
          0.02834356690637201,
          null,
          0.23243375264639263,
          0.02834356690637201,
          null,
          -0.046598447141718666,
          0.20395782438973817,
          null,
          -0.046598447141718666,
          0.02834356690637201,
          null,
          0.07237581528539495,
          0.0890081046904924,
          null,
          0.07237581528539495,
          0.02834356690637201,
          null,
          -0.1024728713279323,
          0.0890081046904924,
          null,
          -0.1024728713279323,
          0.02834356690637201,
          null,
          0.20395782438973817,
          0.0890081046904924,
          null,
          0.20395782438973817,
          0.02834356690637201,
          null,
          0.0890081046904924,
          0.02834356690637201,
          null
         ]
        },
        {
         "customdata": [
          [
           1,
           1,
           16,
           0,
           0,
           2,
           0.3657716816503191,
           -0.08802518713626792
          ],
          [
           2,
           1,
           9,
           16.91178885400752,
           16.91178885400752,
           1,
           0.2026961405616762,
           -0.19202702064040783
          ],
          [
           3,
           1,
           10,
           11.20560893585556,
           11.20560893585556,
           2,
           -0.03262864849419025,
           -0.11723751414459557
          ],
          [
           4,
           1,
           6,
           23.2227038245505,
           23.2227038245505,
           1,
           0.26277356850122024,
           -0.28849588568587625
          ],
          [
           5,
           1,
           3,
           41.20098062447251,
           41.20098062447251,
           3,
           0.6592844529897219,
           0.05006265363940264
          ],
          [
           6,
           1,
           4,
           39.097342300958175,
           39.097342300958175,
           3,
           0.8040110425978436,
           0.07826842949991425
          ],
          [
           7,
           1,
           4,
           39.097342300958175,
           39.097342300958175,
           3,
           0.73443738340547,
           0.1774344594322002
          ],
          [
           8,
           1,
           4,
           30.09855972777301,
           30.09855972777301,
           4,
           0.17049370909460582,
           -0.3468518445640919
          ],
          [
           9,
           1,
           5,
           20.484826946676254,
           20.484826946676254,
           1,
           -0.06103279638407389,
           0.02043110577110914
          ],
          [
           10,
           1,
           2,
           35.683930971493666,
           35.683930971493666,
           3,
           -0.31344592470335203,
           -0.29781184246200715
          ],
          [
           11,
           1,
           3,
           41.20098062447251,
           41.20098062447251,
           3,
           0.7497713590521933,
           -0.0761978358590846
          ],
          [
           12,
           1,
           1,
           46.78256616148872,
           46.78256616148872,
           0,
           0.6701065943936605,
           -0.40582196442008067
          ],
          [
           13,
           1,
           2,
           43.207410073288614,
           43.207410073288614,
           3,
           0.5181500018918567,
           -0.3707305693661761
          ],
          [
           14,
           1,
           5,
           20.852706387847697,
           20.852706387847697,
           1,
           0.04995400131897409,
           -0.18209977071009195
          ],
          [
           15,
           1,
           2,
           39.68490700243223,
           39.68490700243223,
           3,
           -0.5659882653765957,
           0.32913051854167313
          ],
          [
           16,
           1,
           2,
           39.68490700243223,
           39.68490700243223,
           3,
           -0.5810456478716931,
           -0.154650728103828
          ],
          [
           17,
           1,
           2,
           55.530492261229284,
           55.530492261229284,
           0,
           1,
           0.272401471346585
          ],
          [
           18,
           1,
           2,
           41.56243061682785,
           41.56243061682785,
           3,
           0.3870925526235276,
           -0.4125298511222937
          ],
          [
           19,
           1,
           2,
           39.68490700243223,
           39.68490700243223,
           3,
           -0.4137111998262647,
           0.3380896550154854
          ],
          [
           20,
           1,
           3,
           29.47453632893366,
           29.47453632893366,
           4,
           0.08940762410661877,
           0.011848447567632968
          ],
          [
           21,
           1,
           2,
           39.68490700243223,
           39.68490700243223,
           3,
           -0.6763609303799413,
           0.18544438943922623
          ],
          [
           22,
           1,
           2,
           41.56243061682785,
           41.56243061682785,
           3,
           0.5097337662687211,
           -0.19970039525891697
          ],
          [
           23,
           1,
           2,
           39.68490700243223,
           39.68490700243223,
           3,
           -0.6925738549576845,
           0.009668753750233657
          ],
          [
           24,
           1,
           5,
           30.722583126612363,
           30.722583126612363,
           4,
           -0.4639400252862154,
           0.2654197474098374
          ],
          [
           25,
           1,
           3,
           45.962457302079834,
           45.962457302079834,
           0,
           -0.18895767775434832,
           0.5045986402337131
          ],
          [
           26,
           1,
           3,
           46.40658956032807,
           46.40658956032807,
           0,
           -0.31448003342440045,
           0.5155893042226009
          ],
          [
           27,
           1,
           2,
           43.981295364169895,
           43.981295364169895,
           0,
           -0.7590767089008245,
           -0.10325491184463635
          ],
          [
           28,
           1,
           4,
           29.19312486035957,
           29.19312486035957,
           4,
           -0.22922195683890204,
           0.23243375264639263
          ],
          [
           29,
           1,
           3,
           31.2967631838739,
           31.2967631838739,
           4,
           -0.24635348317990388,
           -0.046598447141718666
          ],
          [
           30,
           1,
           4,
           33.96798618217941,
           33.96798618217941,
           4,
           -0.616689171868506,
           0.07237581528539495
          ],
          [
           31,
           1,
           4,
           26.520759897461257,
           26.520759897461257,
           4,
           -0.1577109379068501,
           -0.1024728713279323
          ],
          [
           32,
           1,
           6,
           21.7683564107817,
           21.7683564107817,
           1,
           -0.10045949977265599,
           0.20395782438973817
          ],
          [
           33,
           1,
           12,
           8.685223860530533,
           8.685223860530533,
           2,
           -0.3975483184211256,
           0.0890081046904924
          ],
          [
           34,
           1,
           17,
           2.9156500229340034,
           2.9156500229340034,
           2,
           -0.36245879710888124,
           0.02834356690637201
          ]
         ],
         "hovertemplate": "node_name: %{customdata[0]} <br> radius: %{customdata[1]} <br> degree: %{customdata[2]} <br> global_graph_degree: %{customdata[3]} <br> normalized_rdd: %{customdata[4]} <br> cluster: %{customdata[5]} <br> nodes_x: %{customdata[6]} <br> nodes_y: %{customdata[7]} <br> ",
         "marker": {
          "color": [
           2,
           1,
           2,
           1,
           3,
           3,
           3,
           4,
           1,
           3,
           3,
           0,
           3,
           1,
           3,
           3,
           0,
           3,
           3,
           4,
           3,
           3,
           3,
           4,
           0,
           0,
           0,
           4,
           4,
           4,
           4,
           1,
           2,
           2
          ],
          "colorscale": [
           [
            0,
            "rgb(0,0,131)"
           ],
           [
            0.2,
            "rgb(0,60,170)"
           ],
           [
            0.4,
            "rgb(5,255,255)"
           ],
           [
            0.6,
            "rgb(255,255,0)"
           ],
           [
            0.8,
            "rgb(250,0,0)"
           ],
           [
            1,
            "rgb(128,0,0)"
           ]
          ],
          "size": 15
         },
         "mode": "markers",
         "name": "Node",
         "text": [
          1,
          2,
          3,
          4,
          5,
          6,
          7,
          8,
          9,
          10,
          11,
          12,
          13,
          14,
          15,
          16,
          17,
          18,
          19,
          20,
          21,
          22,
          23,
          24,
          25,
          26,
          27,
          28,
          29,
          30,
          31,
          32,
          33,
          34
         ],
         "type": "scatter",
         "uid": "956f1c3a-890c-4631-b396-3bf9efca93cd",
         "x": [
          0.3657716816503191,
          0.2026961405616762,
          -0.03262864849419025,
          0.26277356850122024,
          0.6592844529897219,
          0.8040110425978436,
          0.73443738340547,
          0.17049370909460582,
          -0.06103279638407389,
          -0.31344592470335203,
          0.7497713590521933,
          0.6701065943936605,
          0.5181500018918567,
          0.04995400131897409,
          -0.5659882653765957,
          -0.5810456478716931,
          1,
          0.3870925526235276,
          -0.4137111998262647,
          0.08940762410661877,
          -0.6763609303799413,
          0.5097337662687211,
          -0.6925738549576845,
          -0.4639400252862154,
          -0.18895767775434832,
          -0.31448003342440045,
          -0.7590767089008245,
          -0.22922195683890204,
          -0.24635348317990388,
          -0.616689171868506,
          -0.1577109379068501,
          -0.10045949977265599,
          -0.3975483184211256,
          -0.36245879710888124
         ],
         "y": [
          -0.08802518713626792,
          -0.19202702064040783,
          -0.11723751414459557,
          -0.28849588568587625,
          0.05006265363940264,
          0.07826842949991425,
          0.1774344594322002,
          -0.3468518445640919,
          0.02043110577110914,
          -0.29781184246200715,
          -0.0761978358590846,
          -0.40582196442008067,
          -0.3707305693661761,
          -0.18209977071009195,
          0.32913051854167313,
          -0.154650728103828,
          0.272401471346585,
          -0.4125298511222937,
          0.3380896550154854,
          0.011848447567632968,
          0.18544438943922623,
          -0.19970039525891697,
          0.009668753750233657,
          0.2654197474098374,
          0.5045986402337131,
          0.5155893042226009,
          -0.10325491184463635,
          0.23243375264639263,
          -0.046598447141718666,
          0.07237581528539495,
          -0.1024728713279323,
          0.20395782438973817,
          0.0890081046904924,
          0.02834356690637201
         ]
        }
       ],
       "layout": {
        "annotations": [
         {
          "arrowcolor": "red",
          "arrowhead": 3,
          "arrowsize": 4,
          "axref": "x",
          "ayref": "y",
          "showarrow": true,
          "x": 0.3657716816503191,
          "y": -0.08802518713626792
         }
        ],
        "dragmode": "pan",
        "template": {
         "data": {
          "bar": [
           {
            "error_x": {
             "color": "#f2f5fa"
            },
            "error_y": {
             "color": "#f2f5fa"
            },
            "marker": {
             "line": {
              "color": "rgb(17,17,17)",
              "width": 0.5
             }
            },
            "type": "bar"
           }
          ],
          "barpolar": [
           {
            "marker": {
             "line": {
              "color": "rgb(17,17,17)",
              "width": 0.5
             }
            },
            "type": "barpolar"
           }
          ],
          "carpet": [
           {
            "aaxis": {
             "endlinecolor": "#A2B1C6",
             "gridcolor": "#506784",
             "linecolor": "#506784",
             "minorgridcolor": "#506784",
             "startlinecolor": "#A2B1C6"
            },
            "baxis": {
             "endlinecolor": "#A2B1C6",
             "gridcolor": "#506784",
             "linecolor": "#506784",
             "minorgridcolor": "#506784",
             "startlinecolor": "#A2B1C6"
            },
            "type": "carpet"
           }
          ],
          "choropleth": [
           {
            "colorbar": {
             "outlinewidth": 0,
             "ticks": ""
            },
            "type": "choropleth"
           }
          ],
          "contour": [
           {
            "colorbar": {
             "outlinewidth": 0,
             "ticks": ""
            },
            "colorscale": [
             [
              0,
              "#0d0887"
             ],
             [
              0.1111111111111111,
              "#46039f"
             ],
             [
              0.2222222222222222,
              "#7201a8"
             ],
             [
              0.3333333333333333,
              "#9c179e"
             ],
             [
              0.4444444444444444,
              "#bd3786"
             ],
             [
              0.5555555555555556,
              "#d8576b"
             ],
             [
              0.6666666666666666,
              "#ed7953"
             ],
             [
              0.7777777777777778,
              "#fb9f3a"
             ],
             [
              0.8888888888888888,
              "#fdca26"
             ],
             [
              1,
              "#f0f921"
             ]
            ],
            "type": "contour"
           }
          ],
          "contourcarpet": [
           {
            "colorbar": {
             "outlinewidth": 0,
             "ticks": ""
            },
            "type": "contourcarpet"
           }
          ],
          "heatmap": [
           {
            "colorbar": {
             "outlinewidth": 0,
             "ticks": ""
            },
            "colorscale": [
             [
              0,
              "#0d0887"
             ],
             [
              0.1111111111111111,
              "#46039f"
             ],
             [
              0.2222222222222222,
              "#7201a8"
             ],
             [
              0.3333333333333333,
              "#9c179e"
             ],
             [
              0.4444444444444444,
              "#bd3786"
             ],
             [
              0.5555555555555556,
              "#d8576b"
             ],
             [
              0.6666666666666666,
              "#ed7953"
             ],
             [
              0.7777777777777778,
              "#fb9f3a"
             ],
             [
              0.8888888888888888,
              "#fdca26"
             ],
             [
              1,
              "#f0f921"
             ]
            ],
            "type": "heatmap"
           }
          ],
          "heatmapgl": [
           {
            "colorbar": {
             "outlinewidth": 0,
             "ticks": ""
            },
            "colorscale": [
             [
              0,
              "#0d0887"
             ],
             [
              0.1111111111111111,
              "#46039f"
             ],
             [
              0.2222222222222222,
              "#7201a8"
             ],
             [
              0.3333333333333333,
              "#9c179e"
             ],
             [
              0.4444444444444444,
              "#bd3786"
             ],
             [
              0.5555555555555556,
              "#d8576b"
             ],
             [
              0.6666666666666666,
              "#ed7953"
             ],
             [
              0.7777777777777778,
              "#fb9f3a"
             ],
             [
              0.8888888888888888,
              "#fdca26"
             ],
             [
              1,
              "#f0f921"
             ]
            ],
            "type": "heatmapgl"
           }
          ],
          "histogram": [
           {
            "marker": {
             "colorbar": {
              "outlinewidth": 0,
              "ticks": ""
             }
            },
            "type": "histogram"
           }
          ],
          "histogram2d": [
           {
            "colorbar": {
             "outlinewidth": 0,
             "ticks": ""
            },
            "colorscale": [
             [
              0,
              "#0d0887"
             ],
             [
              0.1111111111111111,
              "#46039f"
             ],
             [
              0.2222222222222222,
              "#7201a8"
             ],
             [
              0.3333333333333333,
              "#9c179e"
             ],
             [
              0.4444444444444444,
              "#bd3786"
             ],
             [
              0.5555555555555556,
              "#d8576b"
             ],
             [
              0.6666666666666666,
              "#ed7953"
             ],
             [
              0.7777777777777778,
              "#fb9f3a"
             ],
             [
              0.8888888888888888,
              "#fdca26"
             ],
             [
              1,
              "#f0f921"
             ]
            ],
            "type": "histogram2d"
           }
          ],
          "histogram2dcontour": [
           {
            "colorbar": {
             "outlinewidth": 0,
             "ticks": ""
            },
            "colorscale": [
             [
              0,
              "#0d0887"
             ],
             [
              0.1111111111111111,
              "#46039f"
             ],
             [
              0.2222222222222222,
              "#7201a8"
             ],
             [
              0.3333333333333333,
              "#9c179e"
             ],
             [
              0.4444444444444444,
              "#bd3786"
             ],
             [
              0.5555555555555556,
              "#d8576b"
             ],
             [
              0.6666666666666666,
              "#ed7953"
             ],
             [
              0.7777777777777778,
              "#fb9f3a"
             ],
             [
              0.8888888888888888,
              "#fdca26"
             ],
             [
              1,
              "#f0f921"
             ]
            ],
            "type": "histogram2dcontour"
           }
          ],
          "mesh3d": [
           {
            "colorbar": {
             "outlinewidth": 0,
             "ticks": ""
            },
            "type": "mesh3d"
           }
          ],
          "parcoords": [
           {
            "line": {
             "colorbar": {
              "outlinewidth": 0,
              "ticks": ""
             }
            },
            "type": "parcoords"
           }
          ],
          "pie": [
           {
            "automargin": true,
            "type": "pie"
           }
          ],
          "scatter": [
           {
            "marker": {
             "line": {
              "color": "#283442"
             }
            },
            "type": "scatter"
           }
          ],
          "scatter3d": [
           {
            "line": {
             "colorbar": {
              "outlinewidth": 0,
              "ticks": ""
             }
            },
            "marker": {
             "colorbar": {
              "outlinewidth": 0,
              "ticks": ""
             }
            },
            "type": "scatter3d"
           }
          ],
          "scattercarpet": [
           {
            "marker": {
             "colorbar": {
              "outlinewidth": 0,
              "ticks": ""
             }
            },
            "type": "scattercarpet"
           }
          ],
          "scattergeo": [
           {
            "marker": {
             "colorbar": {
              "outlinewidth": 0,
              "ticks": ""
             }
            },
            "type": "scattergeo"
           }
          ],
          "scattergl": [
           {
            "marker": {
             "line": {
              "color": "#283442"
             }
            },
            "type": "scattergl"
           }
          ],
          "scattermapbox": [
           {
            "marker": {
             "colorbar": {
              "outlinewidth": 0,
              "ticks": ""
             }
            },
            "type": "scattermapbox"
           }
          ],
          "scatterpolar": [
           {
            "marker": {
             "colorbar": {
              "outlinewidth": 0,
              "ticks": ""
             }
            },
            "type": "scatterpolar"
           }
          ],
          "scatterpolargl": [
           {
            "marker": {
             "colorbar": {
              "outlinewidth": 0,
              "ticks": ""
             }
            },
            "type": "scatterpolargl"
           }
          ],
          "scatterternary": [
           {
            "marker": {
             "colorbar": {
              "outlinewidth": 0,
              "ticks": ""
             }
            },
            "type": "scatterternary"
           }
          ],
          "surface": [
           {
            "colorbar": {
             "outlinewidth": 0,
             "ticks": ""
            },
            "colorscale": [
             [
              0,
              "#0d0887"
             ],
             [
              0.1111111111111111,
              "#46039f"
             ],
             [
              0.2222222222222222,
              "#7201a8"
             ],
             [
              0.3333333333333333,
              "#9c179e"
             ],
             [
              0.4444444444444444,
              "#bd3786"
             ],
             [
              0.5555555555555556,
              "#d8576b"
             ],
             [
              0.6666666666666666,
              "#ed7953"
             ],
             [
              0.7777777777777778,
              "#fb9f3a"
             ],
             [
              0.8888888888888888,
              "#fdca26"
             ],
             [
              1,
              "#f0f921"
             ]
            ],
            "type": "surface"
           }
          ],
          "table": [
           {
            "cells": {
             "fill": {
              "color": "#506784"
             },
             "line": {
              "color": "rgb(17,17,17)"
             }
            },
            "header": {
             "fill": {
              "color": "#2a3f5f"
             },
             "line": {
              "color": "rgb(17,17,17)"
             }
            },
            "type": "table"
           }
          ]
         },
         "layout": {
          "annotationdefaults": {
           "arrowcolor": "#f2f5fa",
           "arrowhead": 0,
           "arrowwidth": 1
          },
          "coloraxis": {
           "colorbar": {
            "outlinewidth": 0,
            "ticks": ""
           }
          },
          "colorscale": {
           "diverging": [
            [
             0,
             "#8e0152"
            ],
            [
             0.1,
             "#c51b7d"
            ],
            [
             0.2,
             "#de77ae"
            ],
            [
             0.3,
             "#f1b6da"
            ],
            [
             0.4,
             "#fde0ef"
            ],
            [
             0.5,
             "#f7f7f7"
            ],
            [
             0.6,
             "#e6f5d0"
            ],
            [
             0.7,
             "#b8e186"
            ],
            [
             0.8,
             "#7fbc41"
            ],
            [
             0.9,
             "#4d9221"
            ],
            [
             1,
             "#276419"
            ]
           ],
           "sequential": [
            [
             0,
             "#0d0887"
            ],
            [
             0.1111111111111111,
             "#46039f"
            ],
            [
             0.2222222222222222,
             "#7201a8"
            ],
            [
             0.3333333333333333,
             "#9c179e"
            ],
            [
             0.4444444444444444,
             "#bd3786"
            ],
            [
             0.5555555555555556,
             "#d8576b"
            ],
            [
             0.6666666666666666,
             "#ed7953"
            ],
            [
             0.7777777777777778,
             "#fb9f3a"
            ],
            [
             0.8888888888888888,
             "#fdca26"
            ],
            [
             1,
             "#f0f921"
            ]
           ],
           "sequentialminus": [
            [
             0,
             "#0d0887"
            ],
            [
             0.1111111111111111,
             "#46039f"
            ],
            [
             0.2222222222222222,
             "#7201a8"
            ],
            [
             0.3333333333333333,
             "#9c179e"
            ],
            [
             0.4444444444444444,
             "#bd3786"
            ],
            [
             0.5555555555555556,
             "#d8576b"
            ],
            [
             0.6666666666666666,
             "#ed7953"
            ],
            [
             0.7777777777777778,
             "#fb9f3a"
            ],
            [
             0.8888888888888888,
             "#fdca26"
            ],
            [
             1,
             "#f0f921"
            ]
           ]
          },
          "colorway": [
           "#636efa",
           "#EF553B",
           "#00cc96",
           "#ab63fa",
           "#FFA15A",
           "#19d3f3",
           "#FF6692",
           "#B6E880",
           "#FF97FF",
           "#FECB52"
          ],
          "font": {
           "color": "#f2f5fa"
          },
          "geo": {
           "bgcolor": "rgb(17,17,17)",
           "lakecolor": "rgb(17,17,17)",
           "landcolor": "rgb(17,17,17)",
           "showlakes": true,
           "showland": true,
           "subunitcolor": "#506784"
          },
          "hoverlabel": {
           "align": "left"
          },
          "hovermode": "closest",
          "mapbox": {
           "style": "dark"
          },
          "paper_bgcolor": "rgb(17,17,17)",
          "plot_bgcolor": "rgb(17,17,17)",
          "polar": {
           "angularaxis": {
            "gridcolor": "#506784",
            "linecolor": "#506784",
            "ticks": ""
           },
           "bgcolor": "rgb(17,17,17)",
           "radialaxis": {
            "gridcolor": "#506784",
            "linecolor": "#506784",
            "ticks": ""
           }
          },
          "scene": {
           "xaxis": {
            "backgroundcolor": "rgb(17,17,17)",
            "gridcolor": "#506784",
            "gridwidth": 2,
            "linecolor": "#506784",
            "showbackground": true,
            "ticks": "",
            "zerolinecolor": "#C8D4E3"
           },
           "yaxis": {
            "backgroundcolor": "rgb(17,17,17)",
            "gridcolor": "#506784",
            "gridwidth": 2,
            "linecolor": "#506784",
            "showbackground": true,
            "ticks": "",
            "zerolinecolor": "#C8D4E3"
           },
           "zaxis": {
            "backgroundcolor": "rgb(17,17,17)",
            "gridcolor": "#506784",
            "gridwidth": 2,
            "linecolor": "#506784",
            "showbackground": true,
            "ticks": "",
            "zerolinecolor": "#C8D4E3"
           }
          },
          "shapedefaults": {
           "line": {
            "color": "#f2f5fa"
           }
          },
          "sliderdefaults": {
           "bgcolor": "#C8D4E3",
           "bordercolor": "rgb(17,17,17)",
           "borderwidth": 1,
           "tickwidth": 0
          },
          "ternary": {
           "aaxis": {
            "gridcolor": "#506784",
            "linecolor": "#506784",
            "ticks": ""
           },
           "baxis": {
            "gridcolor": "#506784",
            "linecolor": "#506784",
            "ticks": ""
           },
           "bgcolor": "rgb(17,17,17)",
           "caxis": {
            "gridcolor": "#506784",
            "linecolor": "#506784",
            "ticks": ""
           }
          },
          "title": {
           "x": 0.05
          },
          "updatemenudefaults": {
           "bgcolor": "#506784",
           "borderwidth": 0
          },
          "xaxis": {
           "automargin": true,
           "gridcolor": "#283442",
           "linecolor": "#506784",
           "ticks": "",
           "title": {
            "standoff": 15
           },
           "zerolinecolor": "#283442",
           "zerolinewidth": 2
          },
          "yaxis": {
           "automargin": true,
           "gridcolor": "#283442",
           "linecolor": "#506784",
           "ticks": "",
           "title": {
            "standoff": 15
           },
           "zerolinecolor": "#283442",
           "zerolinewidth": 2
          }
         }
        }
       }
      }
     },
     "metadata": {}
    },
    {
     "output_type": "stream",
     "name": "stdout",
     "text": [
      "-0.07708744247205764\n98.8 ms ± 0 ns per loop (mean ± std. dev. of 1 run, 1 loop each)\n"
     ]
    }
   ],
   "source": [
    "%%timeit -n1 -r1\n",
    "df = RDD.get_rdds_for_visuals_vector(target_G, target_node, [measures.global_graph_degree], target_rad)\n",
    "df = other_sims.k_means(df, [measures.global_graph_degree], target_clusters)\n",
    "fig = visualize.visualize_rdd_vector_kmeans(target_G, target_node, target_rad, [measure_list], pos, target_clusters)\n",
    "fig.show()\n",
    "df = df.sort_values('cluster')\n",
    "#print(df)\n",
    "\n",
    "clusters = df_to_cluster_list(df)\n",
    "result = nx.algorithms.community.modularity(target_G, clusters)\n",
    "print(result)\n"
   ]
  },
  {
   "cell_type": "code",
   "execution_count": 17,
   "metadata": {
    "tags": []
   },
   "outputs": [
    {
     "output_type": "display_data",
     "data": {
      "application/vnd.plotly.v1+json": {
       "config": {
        "plotlyServerURL": "https://plot.ly"
       },
       "data": [
        {
         "line": {
          "width": 1
         },
         "marker": {
          "color": [
           2,
           1,
           2,
           1,
           0,
           0,
           0,
           1,
           1,
           0,
           0,
           0,
           0,
           1,
           0,
           0,
           3,
           0,
           0,
           1,
           0,
           0,
           0,
           1,
           0,
           0,
           0,
           1,
           1,
           0,
           1,
           1,
           2,
           2
          ],
          "colorscale": [
           [
            0,
            "rgb(0,0,131)"
           ],
           [
            0.2,
            "rgb(0,60,170)"
           ],
           [
            0.4,
            "rgb(5,255,255)"
           ],
           [
            0.6,
            "rgb(255,255,0)"
           ],
           [
            0.8,
            "rgb(250,0,0)"
           ],
           [
            1,
            "rgb(128,0,0)"
           ]
          ],
          "size": 15
         },
         "mode": "lines",
         "name": "edges",
         "type": "scatter",
         "uid": "a54fecec-4259-4cea-bc7a-d476a8f05780",
         "x": [
          0.3657716816503191,
          0.2026961405616762,
          null,
          0.3657716816503191,
          -0.03262864849419025,
          null,
          0.3657716816503191,
          0.26277356850122024,
          null,
          0.3657716816503191,
          0.6592844529897219,
          null,
          0.3657716816503191,
          0.8040110425978436,
          null,
          0.3657716816503191,
          0.73443738340547,
          null,
          0.3657716816503191,
          0.17049370909460582,
          null,
          0.3657716816503191,
          -0.06103279638407389,
          null,
          0.3657716816503191,
          0.7497713590521933,
          null,
          0.3657716816503191,
          0.6701065943936605,
          null,
          0.3657716816503191,
          0.5181500018918567,
          null,
          0.3657716816503191,
          0.04995400131897409,
          null,
          0.3657716816503191,
          0.3870925526235276,
          null,
          0.3657716816503191,
          0.08940762410661877,
          null,
          0.3657716816503191,
          0.5097337662687211,
          null,
          0.3657716816503191,
          -0.10045949977265599,
          null,
          0.2026961405616762,
          -0.03262864849419025,
          null,
          0.2026961405616762,
          0.26277356850122024,
          null,
          0.2026961405616762,
          0.17049370909460582,
          null,
          0.2026961405616762,
          0.04995400131897409,
          null,
          0.2026961405616762,
          0.3870925526235276,
          null,
          0.2026961405616762,
          0.08940762410661877,
          null,
          0.2026961405616762,
          0.5097337662687211,
          null,
          0.2026961405616762,
          -0.1577109379068501,
          null,
          -0.03262864849419025,
          0.26277356850122024,
          null,
          -0.03262864849419025,
          0.17049370909460582,
          null,
          -0.03262864849419025,
          -0.06103279638407389,
          null,
          -0.03262864849419025,
          -0.31344592470335203,
          null,
          -0.03262864849419025,
          0.04995400131897409,
          null,
          -0.03262864849419025,
          -0.22922195683890204,
          null,
          -0.03262864849419025,
          -0.24635348317990388,
          null,
          -0.03262864849419025,
          -0.3975483184211256,
          null,
          0.26277356850122024,
          0.17049370909460582,
          null,
          0.26277356850122024,
          0.5181500018918567,
          null,
          0.26277356850122024,
          0.04995400131897409,
          null,
          0.6592844529897219,
          0.73443738340547,
          null,
          0.6592844529897219,
          0.7497713590521933,
          null,
          0.8040110425978436,
          0.73443738340547,
          null,
          0.8040110425978436,
          0.7497713590521933,
          null,
          0.8040110425978436,
          1,
          null,
          0.73443738340547,
          1,
          null,
          -0.06103279638407389,
          -0.1577109379068501,
          null,
          -0.06103279638407389,
          -0.3975483184211256,
          null,
          -0.06103279638407389,
          -0.36245879710888124,
          null,
          -0.31344592470335203,
          -0.36245879710888124,
          null,
          0.04995400131897409,
          -0.36245879710888124,
          null,
          -0.5659882653765957,
          -0.3975483184211256,
          null,
          -0.5659882653765957,
          -0.36245879710888124,
          null,
          -0.5810456478716931,
          -0.3975483184211256,
          null,
          -0.5810456478716931,
          -0.36245879710888124,
          null,
          -0.4137111998262647,
          -0.3975483184211256,
          null,
          -0.4137111998262647,
          -0.36245879710888124,
          null,
          0.08940762410661877,
          -0.36245879710888124,
          null,
          -0.6763609303799413,
          -0.3975483184211256,
          null,
          -0.6763609303799413,
          -0.36245879710888124,
          null,
          -0.6925738549576845,
          -0.3975483184211256,
          null,
          -0.6925738549576845,
          -0.36245879710888124,
          null,
          -0.4639400252862154,
          -0.31448003342440045,
          null,
          -0.4639400252862154,
          -0.22922195683890204,
          null,
          -0.4639400252862154,
          -0.616689171868506,
          null,
          -0.4639400252862154,
          -0.3975483184211256,
          null,
          -0.4639400252862154,
          -0.36245879710888124,
          null,
          -0.18895767775434832,
          -0.31448003342440045,
          null,
          -0.18895767775434832,
          -0.22922195683890204,
          null,
          -0.18895767775434832,
          -0.10045949977265599,
          null,
          -0.31448003342440045,
          -0.10045949977265599,
          null,
          -0.7590767089008245,
          -0.616689171868506,
          null,
          -0.7590767089008245,
          -0.36245879710888124,
          null,
          -0.22922195683890204,
          -0.36245879710888124,
          null,
          -0.24635348317990388,
          -0.10045949977265599,
          null,
          -0.24635348317990388,
          -0.36245879710888124,
          null,
          -0.616689171868506,
          -0.3975483184211256,
          null,
          -0.616689171868506,
          -0.36245879710888124,
          null,
          -0.1577109379068501,
          -0.3975483184211256,
          null,
          -0.1577109379068501,
          -0.36245879710888124,
          null,
          -0.10045949977265599,
          -0.3975483184211256,
          null,
          -0.10045949977265599,
          -0.36245879710888124,
          null,
          -0.3975483184211256,
          -0.36245879710888124,
          null
         ],
         "y": [
          -0.08802518713626792,
          -0.19202702064040783,
          null,
          -0.08802518713626792,
          -0.11723751414459557,
          null,
          -0.08802518713626792,
          -0.28849588568587625,
          null,
          -0.08802518713626792,
          0.05006265363940264,
          null,
          -0.08802518713626792,
          0.07826842949991425,
          null,
          -0.08802518713626792,
          0.1774344594322002,
          null,
          -0.08802518713626792,
          -0.3468518445640919,
          null,
          -0.08802518713626792,
          0.02043110577110914,
          null,
          -0.08802518713626792,
          -0.0761978358590846,
          null,
          -0.08802518713626792,
          -0.40582196442008067,
          null,
          -0.08802518713626792,
          -0.3707305693661761,
          null,
          -0.08802518713626792,
          -0.18209977071009195,
          null,
          -0.08802518713626792,
          -0.4125298511222937,
          null,
          -0.08802518713626792,
          0.011848447567632968,
          null,
          -0.08802518713626792,
          -0.19970039525891697,
          null,
          -0.08802518713626792,
          0.20395782438973817,
          null,
          -0.19202702064040783,
          -0.11723751414459557,
          null,
          -0.19202702064040783,
          -0.28849588568587625,
          null,
          -0.19202702064040783,
          -0.3468518445640919,
          null,
          -0.19202702064040783,
          -0.18209977071009195,
          null,
          -0.19202702064040783,
          -0.4125298511222937,
          null,
          -0.19202702064040783,
          0.011848447567632968,
          null,
          -0.19202702064040783,
          -0.19970039525891697,
          null,
          -0.19202702064040783,
          -0.1024728713279323,
          null,
          -0.11723751414459557,
          -0.28849588568587625,
          null,
          -0.11723751414459557,
          -0.3468518445640919,
          null,
          -0.11723751414459557,
          0.02043110577110914,
          null,
          -0.11723751414459557,
          -0.29781184246200715,
          null,
          -0.11723751414459557,
          -0.18209977071009195,
          null,
          -0.11723751414459557,
          0.23243375264639263,
          null,
          -0.11723751414459557,
          -0.046598447141718666,
          null,
          -0.11723751414459557,
          0.0890081046904924,
          null,
          -0.28849588568587625,
          -0.3468518445640919,
          null,
          -0.28849588568587625,
          -0.3707305693661761,
          null,
          -0.28849588568587625,
          -0.18209977071009195,
          null,
          0.05006265363940264,
          0.1774344594322002,
          null,
          0.05006265363940264,
          -0.0761978358590846,
          null,
          0.07826842949991425,
          0.1774344594322002,
          null,
          0.07826842949991425,
          -0.0761978358590846,
          null,
          0.07826842949991425,
          0.272401471346585,
          null,
          0.1774344594322002,
          0.272401471346585,
          null,
          0.02043110577110914,
          -0.1024728713279323,
          null,
          0.02043110577110914,
          0.0890081046904924,
          null,
          0.02043110577110914,
          0.02834356690637201,
          null,
          -0.29781184246200715,
          0.02834356690637201,
          null,
          -0.18209977071009195,
          0.02834356690637201,
          null,
          0.32913051854167313,
          0.0890081046904924,
          null,
          0.32913051854167313,
          0.02834356690637201,
          null,
          -0.154650728103828,
          0.0890081046904924,
          null,
          -0.154650728103828,
          0.02834356690637201,
          null,
          0.3380896550154854,
          0.0890081046904924,
          null,
          0.3380896550154854,
          0.02834356690637201,
          null,
          0.011848447567632968,
          0.02834356690637201,
          null,
          0.18544438943922623,
          0.0890081046904924,
          null,
          0.18544438943922623,
          0.02834356690637201,
          null,
          0.009668753750233657,
          0.0890081046904924,
          null,
          0.009668753750233657,
          0.02834356690637201,
          null,
          0.2654197474098374,
          0.5155893042226009,
          null,
          0.2654197474098374,
          0.23243375264639263,
          null,
          0.2654197474098374,
          0.07237581528539495,
          null,
          0.2654197474098374,
          0.0890081046904924,
          null,
          0.2654197474098374,
          0.02834356690637201,
          null,
          0.5045986402337131,
          0.5155893042226009,
          null,
          0.5045986402337131,
          0.23243375264639263,
          null,
          0.5045986402337131,
          0.20395782438973817,
          null,
          0.5155893042226009,
          0.20395782438973817,
          null,
          -0.10325491184463635,
          0.07237581528539495,
          null,
          -0.10325491184463635,
          0.02834356690637201,
          null,
          0.23243375264639263,
          0.02834356690637201,
          null,
          -0.046598447141718666,
          0.20395782438973817,
          null,
          -0.046598447141718666,
          0.02834356690637201,
          null,
          0.07237581528539495,
          0.0890081046904924,
          null,
          0.07237581528539495,
          0.02834356690637201,
          null,
          -0.1024728713279323,
          0.0890081046904924,
          null,
          -0.1024728713279323,
          0.02834356690637201,
          null,
          0.20395782438973817,
          0.0890081046904924,
          null,
          0.20395782438973817,
          0.02834356690637201,
          null,
          0.0890081046904924,
          0.02834356690637201,
          null
         ]
        },
        {
         "customdata": [
          [
           1,
           1,
           16,
           0,
           0,
           2,
           0.3657716816503191,
           -0.08802518713626792
          ],
          [
           2,
           1,
           9,
           16.91178885400752,
           16.91178885400752,
           1,
           0.2026961405616762,
           -0.19202702064040783
          ],
          [
           3,
           1,
           10,
           11.20560893585556,
           11.20560893585556,
           2,
           -0.03262864849419025,
           -0.11723751414459557
          ],
          [
           4,
           1,
           6,
           23.2227038245505,
           23.2227038245505,
           1,
           0.26277356850122024,
           -0.28849588568587625
          ],
          [
           5,
           1,
           3,
           41.20098062447251,
           41.20098062447251,
           0,
           0.6592844529897219,
           0.05006265363940264
          ],
          [
           6,
           1,
           4,
           39.097342300958175,
           39.097342300958175,
           0,
           0.8040110425978436,
           0.07826842949991425
          ],
          [
           7,
           1,
           4,
           39.097342300958175,
           39.097342300958175,
           0,
           0.73443738340547,
           0.1774344594322002
          ],
          [
           8,
           1,
           4,
           30.09855972777301,
           30.09855972777301,
           1,
           0.17049370909460582,
           -0.3468518445640919
          ],
          [
           9,
           1,
           5,
           20.484826946676254,
           20.484826946676254,
           1,
           -0.06103279638407389,
           0.02043110577110914
          ],
          [
           10,
           1,
           2,
           35.683930971493666,
           35.683930971493666,
           0,
           -0.31344592470335203,
           -0.29781184246200715
          ],
          [
           11,
           1,
           3,
           41.20098062447251,
           41.20098062447251,
           0,
           0.7497713590521933,
           -0.0761978358590846
          ],
          [
           12,
           1,
           1,
           46.78256616148872,
           46.78256616148872,
           0,
           0.6701065943936605,
           -0.40582196442008067
          ],
          [
           13,
           1,
           2,
           43.207410073288614,
           43.207410073288614,
           0,
           0.5181500018918567,
           -0.3707305693661761
          ],
          [
           14,
           1,
           5,
           20.852706387847697,
           20.852706387847697,
           1,
           0.04995400131897409,
           -0.18209977071009195
          ],
          [
           15,
           1,
           2,
           39.68490700243223,
           39.68490700243223,
           0,
           -0.5659882653765957,
           0.32913051854167313
          ],
          [
           16,
           1,
           2,
           39.68490700243223,
           39.68490700243223,
           0,
           -0.5810456478716931,
           -0.154650728103828
          ],
          [
           17,
           1,
           2,
           55.530492261229284,
           55.530492261229284,
           3,
           1,
           0.272401471346585
          ],
          [
           18,
           1,
           2,
           41.56243061682785,
           41.56243061682785,
           0,
           0.3870925526235276,
           -0.4125298511222937
          ],
          [
           19,
           1,
           2,
           39.68490700243223,
           39.68490700243223,
           0,
           -0.4137111998262647,
           0.3380896550154854
          ],
          [
           20,
           1,
           3,
           29.47453632893366,
           29.47453632893366,
           1,
           0.08940762410661877,
           0.011848447567632968
          ],
          [
           21,
           1,
           2,
           39.68490700243223,
           39.68490700243223,
           0,
           -0.6763609303799413,
           0.18544438943922623
          ],
          [
           22,
           1,
           2,
           41.56243061682785,
           41.56243061682785,
           0,
           0.5097337662687211,
           -0.19970039525891697
          ],
          [
           23,
           1,
           2,
           39.68490700243223,
           39.68490700243223,
           0,
           -0.6925738549576845,
           0.009668753750233657
          ],
          [
           24,
           1,
           5,
           30.722583126612363,
           30.722583126612363,
           1,
           -0.4639400252862154,
           0.2654197474098374
          ],
          [
           25,
           1,
           3,
           45.962457302079834,
           45.962457302079834,
           0,
           -0.18895767775434832,
           0.5045986402337131
          ],
          [
           26,
           1,
           3,
           46.40658956032807,
           46.40658956032807,
           0,
           -0.31448003342440045,
           0.5155893042226009
          ],
          [
           27,
           1,
           2,
           43.981295364169895,
           43.981295364169895,
           0,
           -0.7590767089008245,
           -0.10325491184463635
          ],
          [
           28,
           1,
           4,
           29.19312486035957,
           29.19312486035957,
           1,
           -0.22922195683890204,
           0.23243375264639263
          ],
          [
           29,
           1,
           3,
           31.2967631838739,
           31.2967631838739,
           1,
           -0.24635348317990388,
           -0.046598447141718666
          ],
          [
           30,
           1,
           4,
           33.96798618217941,
           33.96798618217941,
           0,
           -0.616689171868506,
           0.07237581528539495
          ],
          [
           31,
           1,
           4,
           26.520759897461257,
           26.520759897461257,
           1,
           -0.1577109379068501,
           -0.1024728713279323
          ],
          [
           32,
           1,
           6,
           21.7683564107817,
           21.7683564107817,
           1,
           -0.10045949977265599,
           0.20395782438973817
          ],
          [
           33,
           1,
           12,
           8.685223860530533,
           8.685223860530533,
           2,
           -0.3975483184211256,
           0.0890081046904924
          ],
          [
           34,
           1,
           17,
           2.9156500229340034,
           2.9156500229340034,
           2,
           -0.36245879710888124,
           0.02834356690637201
          ]
         ],
         "hovertemplate": "node_name: %{customdata[0]} <br> radius: %{customdata[1]} <br> degree: %{customdata[2]} <br> global_graph_degree: %{customdata[3]} <br> normalized_rdd: %{customdata[4]} <br> cluster: %{customdata[5]} <br> nodes_x: %{customdata[6]} <br> nodes_y: %{customdata[7]} <br> ",
         "marker": {
          "color": [
           2,
           1,
           2,
           1,
           0,
           0,
           0,
           1,
           1,
           0,
           0,
           0,
           0,
           1,
           0,
           0,
           3,
           0,
           0,
           1,
           0,
           0,
           0,
           1,
           0,
           0,
           0,
           1,
           1,
           0,
           1,
           1,
           2,
           2
          ],
          "colorscale": [
           [
            0,
            "rgb(0,0,131)"
           ],
           [
            0.2,
            "rgb(0,60,170)"
           ],
           [
            0.4,
            "rgb(5,255,255)"
           ],
           [
            0.6,
            "rgb(255,255,0)"
           ],
           [
            0.8,
            "rgb(250,0,0)"
           ],
           [
            1,
            "rgb(128,0,0)"
           ]
          ],
          "size": 15
         },
         "mode": "markers",
         "name": "Node",
         "text": [
          1,
          2,
          3,
          4,
          5,
          6,
          7,
          8,
          9,
          10,
          11,
          12,
          13,
          14,
          15,
          16,
          17,
          18,
          19,
          20,
          21,
          22,
          23,
          24,
          25,
          26,
          27,
          28,
          29,
          30,
          31,
          32,
          33,
          34
         ],
         "type": "scatter",
         "uid": "aecaf6a1-58fa-4952-aa24-d1d6fde0c4c7",
         "x": [
          0.3657716816503191,
          0.2026961405616762,
          -0.03262864849419025,
          0.26277356850122024,
          0.6592844529897219,
          0.8040110425978436,
          0.73443738340547,
          0.17049370909460582,
          -0.06103279638407389,
          -0.31344592470335203,
          0.7497713590521933,
          0.6701065943936605,
          0.5181500018918567,
          0.04995400131897409,
          -0.5659882653765957,
          -0.5810456478716931,
          1,
          0.3870925526235276,
          -0.4137111998262647,
          0.08940762410661877,
          -0.6763609303799413,
          0.5097337662687211,
          -0.6925738549576845,
          -0.4639400252862154,
          -0.18895767775434832,
          -0.31448003342440045,
          -0.7590767089008245,
          -0.22922195683890204,
          -0.24635348317990388,
          -0.616689171868506,
          -0.1577109379068501,
          -0.10045949977265599,
          -0.3975483184211256,
          -0.36245879710888124
         ],
         "y": [
          -0.08802518713626792,
          -0.19202702064040783,
          -0.11723751414459557,
          -0.28849588568587625,
          0.05006265363940264,
          0.07826842949991425,
          0.1774344594322002,
          -0.3468518445640919,
          0.02043110577110914,
          -0.29781184246200715,
          -0.0761978358590846,
          -0.40582196442008067,
          -0.3707305693661761,
          -0.18209977071009195,
          0.32913051854167313,
          -0.154650728103828,
          0.272401471346585,
          -0.4125298511222937,
          0.3380896550154854,
          0.011848447567632968,
          0.18544438943922623,
          -0.19970039525891697,
          0.009668753750233657,
          0.2654197474098374,
          0.5045986402337131,
          0.5155893042226009,
          -0.10325491184463635,
          0.23243375264639263,
          -0.046598447141718666,
          0.07237581528539495,
          -0.1024728713279323,
          0.20395782438973817,
          0.0890081046904924,
          0.02834356690637201
         ]
        }
       ],
       "layout": {
        "annotations": [
         {
          "arrowcolor": "red",
          "arrowhead": 3,
          "arrowsize": 4,
          "axref": "x",
          "ayref": "y",
          "showarrow": true,
          "x": 0.3657716816503191,
          "y": -0.08802518713626792
         }
        ],
        "dragmode": "pan",
        "template": {
         "data": {
          "bar": [
           {
            "error_x": {
             "color": "#f2f5fa"
            },
            "error_y": {
             "color": "#f2f5fa"
            },
            "marker": {
             "line": {
              "color": "rgb(17,17,17)",
              "width": 0.5
             }
            },
            "type": "bar"
           }
          ],
          "barpolar": [
           {
            "marker": {
             "line": {
              "color": "rgb(17,17,17)",
              "width": 0.5
             }
            },
            "type": "barpolar"
           }
          ],
          "carpet": [
           {
            "aaxis": {
             "endlinecolor": "#A2B1C6",
             "gridcolor": "#506784",
             "linecolor": "#506784",
             "minorgridcolor": "#506784",
             "startlinecolor": "#A2B1C6"
            },
            "baxis": {
             "endlinecolor": "#A2B1C6",
             "gridcolor": "#506784",
             "linecolor": "#506784",
             "minorgridcolor": "#506784",
             "startlinecolor": "#A2B1C6"
            },
            "type": "carpet"
           }
          ],
          "choropleth": [
           {
            "colorbar": {
             "outlinewidth": 0,
             "ticks": ""
            },
            "type": "choropleth"
           }
          ],
          "contour": [
           {
            "colorbar": {
             "outlinewidth": 0,
             "ticks": ""
            },
            "colorscale": [
             [
              0,
              "#0d0887"
             ],
             [
              0.1111111111111111,
              "#46039f"
             ],
             [
              0.2222222222222222,
              "#7201a8"
             ],
             [
              0.3333333333333333,
              "#9c179e"
             ],
             [
              0.4444444444444444,
              "#bd3786"
             ],
             [
              0.5555555555555556,
              "#d8576b"
             ],
             [
              0.6666666666666666,
              "#ed7953"
             ],
             [
              0.7777777777777778,
              "#fb9f3a"
             ],
             [
              0.8888888888888888,
              "#fdca26"
             ],
             [
              1,
              "#f0f921"
             ]
            ],
            "type": "contour"
           }
          ],
          "contourcarpet": [
           {
            "colorbar": {
             "outlinewidth": 0,
             "ticks": ""
            },
            "type": "contourcarpet"
           }
          ],
          "heatmap": [
           {
            "colorbar": {
             "outlinewidth": 0,
             "ticks": ""
            },
            "colorscale": [
             [
              0,
              "#0d0887"
             ],
             [
              0.1111111111111111,
              "#46039f"
             ],
             [
              0.2222222222222222,
              "#7201a8"
             ],
             [
              0.3333333333333333,
              "#9c179e"
             ],
             [
              0.4444444444444444,
              "#bd3786"
             ],
             [
              0.5555555555555556,
              "#d8576b"
             ],
             [
              0.6666666666666666,
              "#ed7953"
             ],
             [
              0.7777777777777778,
              "#fb9f3a"
             ],
             [
              0.8888888888888888,
              "#fdca26"
             ],
             [
              1,
              "#f0f921"
             ]
            ],
            "type": "heatmap"
           }
          ],
          "heatmapgl": [
           {
            "colorbar": {
             "outlinewidth": 0,
             "ticks": ""
            },
            "colorscale": [
             [
              0,
              "#0d0887"
             ],
             [
              0.1111111111111111,
              "#46039f"
             ],
             [
              0.2222222222222222,
              "#7201a8"
             ],
             [
              0.3333333333333333,
              "#9c179e"
             ],
             [
              0.4444444444444444,
              "#bd3786"
             ],
             [
              0.5555555555555556,
              "#d8576b"
             ],
             [
              0.6666666666666666,
              "#ed7953"
             ],
             [
              0.7777777777777778,
              "#fb9f3a"
             ],
             [
              0.8888888888888888,
              "#fdca26"
             ],
             [
              1,
              "#f0f921"
             ]
            ],
            "type": "heatmapgl"
           }
          ],
          "histogram": [
           {
            "marker": {
             "colorbar": {
              "outlinewidth": 0,
              "ticks": ""
             }
            },
            "type": "histogram"
           }
          ],
          "histogram2d": [
           {
            "colorbar": {
             "outlinewidth": 0,
             "ticks": ""
            },
            "colorscale": [
             [
              0,
              "#0d0887"
             ],
             [
              0.1111111111111111,
              "#46039f"
             ],
             [
              0.2222222222222222,
              "#7201a8"
             ],
             [
              0.3333333333333333,
              "#9c179e"
             ],
             [
              0.4444444444444444,
              "#bd3786"
             ],
             [
              0.5555555555555556,
              "#d8576b"
             ],
             [
              0.6666666666666666,
              "#ed7953"
             ],
             [
              0.7777777777777778,
              "#fb9f3a"
             ],
             [
              0.8888888888888888,
              "#fdca26"
             ],
             [
              1,
              "#f0f921"
             ]
            ],
            "type": "histogram2d"
           }
          ],
          "histogram2dcontour": [
           {
            "colorbar": {
             "outlinewidth": 0,
             "ticks": ""
            },
            "colorscale": [
             [
              0,
              "#0d0887"
             ],
             [
              0.1111111111111111,
              "#46039f"
             ],
             [
              0.2222222222222222,
              "#7201a8"
             ],
             [
              0.3333333333333333,
              "#9c179e"
             ],
             [
              0.4444444444444444,
              "#bd3786"
             ],
             [
              0.5555555555555556,
              "#d8576b"
             ],
             [
              0.6666666666666666,
              "#ed7953"
             ],
             [
              0.7777777777777778,
              "#fb9f3a"
             ],
             [
              0.8888888888888888,
              "#fdca26"
             ],
             [
              1,
              "#f0f921"
             ]
            ],
            "type": "histogram2dcontour"
           }
          ],
          "mesh3d": [
           {
            "colorbar": {
             "outlinewidth": 0,
             "ticks": ""
            },
            "type": "mesh3d"
           }
          ],
          "parcoords": [
           {
            "line": {
             "colorbar": {
              "outlinewidth": 0,
              "ticks": ""
             }
            },
            "type": "parcoords"
           }
          ],
          "pie": [
           {
            "automargin": true,
            "type": "pie"
           }
          ],
          "scatter": [
           {
            "marker": {
             "line": {
              "color": "#283442"
             }
            },
            "type": "scatter"
           }
          ],
          "scatter3d": [
           {
            "line": {
             "colorbar": {
              "outlinewidth": 0,
              "ticks": ""
             }
            },
            "marker": {
             "colorbar": {
              "outlinewidth": 0,
              "ticks": ""
             }
            },
            "type": "scatter3d"
           }
          ],
          "scattercarpet": [
           {
            "marker": {
             "colorbar": {
              "outlinewidth": 0,
              "ticks": ""
             }
            },
            "type": "scattercarpet"
           }
          ],
          "scattergeo": [
           {
            "marker": {
             "colorbar": {
              "outlinewidth": 0,
              "ticks": ""
             }
            },
            "type": "scattergeo"
           }
          ],
          "scattergl": [
           {
            "marker": {
             "line": {
              "color": "#283442"
             }
            },
            "type": "scattergl"
           }
          ],
          "scattermapbox": [
           {
            "marker": {
             "colorbar": {
              "outlinewidth": 0,
              "ticks": ""
             }
            },
            "type": "scattermapbox"
           }
          ],
          "scatterpolar": [
           {
            "marker": {
             "colorbar": {
              "outlinewidth": 0,
              "ticks": ""
             }
            },
            "type": "scatterpolar"
           }
          ],
          "scatterpolargl": [
           {
            "marker": {
             "colorbar": {
              "outlinewidth": 0,
              "ticks": ""
             }
            },
            "type": "scatterpolargl"
           }
          ],
          "scatterternary": [
           {
            "marker": {
             "colorbar": {
              "outlinewidth": 0,
              "ticks": ""
             }
            },
            "type": "scatterternary"
           }
          ],
          "surface": [
           {
            "colorbar": {
             "outlinewidth": 0,
             "ticks": ""
            },
            "colorscale": [
             [
              0,
              "#0d0887"
             ],
             [
              0.1111111111111111,
              "#46039f"
             ],
             [
              0.2222222222222222,
              "#7201a8"
             ],
             [
              0.3333333333333333,
              "#9c179e"
             ],
             [
              0.4444444444444444,
              "#bd3786"
             ],
             [
              0.5555555555555556,
              "#d8576b"
             ],
             [
              0.6666666666666666,
              "#ed7953"
             ],
             [
              0.7777777777777778,
              "#fb9f3a"
             ],
             [
              0.8888888888888888,
              "#fdca26"
             ],
             [
              1,
              "#f0f921"
             ]
            ],
            "type": "surface"
           }
          ],
          "table": [
           {
            "cells": {
             "fill": {
              "color": "#506784"
             },
             "line": {
              "color": "rgb(17,17,17)"
             }
            },
            "header": {
             "fill": {
              "color": "#2a3f5f"
             },
             "line": {
              "color": "rgb(17,17,17)"
             }
            },
            "type": "table"
           }
          ]
         },
         "layout": {
          "annotationdefaults": {
           "arrowcolor": "#f2f5fa",
           "arrowhead": 0,
           "arrowwidth": 1
          },
          "coloraxis": {
           "colorbar": {
            "outlinewidth": 0,
            "ticks": ""
           }
          },
          "colorscale": {
           "diverging": [
            [
             0,
             "#8e0152"
            ],
            [
             0.1,
             "#c51b7d"
            ],
            [
             0.2,
             "#de77ae"
            ],
            [
             0.3,
             "#f1b6da"
            ],
            [
             0.4,
             "#fde0ef"
            ],
            [
             0.5,
             "#f7f7f7"
            ],
            [
             0.6,
             "#e6f5d0"
            ],
            [
             0.7,
             "#b8e186"
            ],
            [
             0.8,
             "#7fbc41"
            ],
            [
             0.9,
             "#4d9221"
            ],
            [
             1,
             "#276419"
            ]
           ],
           "sequential": [
            [
             0,
             "#0d0887"
            ],
            [
             0.1111111111111111,
             "#46039f"
            ],
            [
             0.2222222222222222,
             "#7201a8"
            ],
            [
             0.3333333333333333,
             "#9c179e"
            ],
            [
             0.4444444444444444,
             "#bd3786"
            ],
            [
             0.5555555555555556,
             "#d8576b"
            ],
            [
             0.6666666666666666,
             "#ed7953"
            ],
            [
             0.7777777777777778,
             "#fb9f3a"
            ],
            [
             0.8888888888888888,
             "#fdca26"
            ],
            [
             1,
             "#f0f921"
            ]
           ],
           "sequentialminus": [
            [
             0,
             "#0d0887"
            ],
            [
             0.1111111111111111,
             "#46039f"
            ],
            [
             0.2222222222222222,
             "#7201a8"
            ],
            [
             0.3333333333333333,
             "#9c179e"
            ],
            [
             0.4444444444444444,
             "#bd3786"
            ],
            [
             0.5555555555555556,
             "#d8576b"
            ],
            [
             0.6666666666666666,
             "#ed7953"
            ],
            [
             0.7777777777777778,
             "#fb9f3a"
            ],
            [
             0.8888888888888888,
             "#fdca26"
            ],
            [
             1,
             "#f0f921"
            ]
           ]
          },
          "colorway": [
           "#636efa",
           "#EF553B",
           "#00cc96",
           "#ab63fa",
           "#FFA15A",
           "#19d3f3",
           "#FF6692",
           "#B6E880",
           "#FF97FF",
           "#FECB52"
          ],
          "font": {
           "color": "#f2f5fa"
          },
          "geo": {
           "bgcolor": "rgb(17,17,17)",
           "lakecolor": "rgb(17,17,17)",
           "landcolor": "rgb(17,17,17)",
           "showlakes": true,
           "showland": true,
           "subunitcolor": "#506784"
          },
          "hoverlabel": {
           "align": "left"
          },
          "hovermode": "closest",
          "mapbox": {
           "style": "dark"
          },
          "paper_bgcolor": "rgb(17,17,17)",
          "plot_bgcolor": "rgb(17,17,17)",
          "polar": {
           "angularaxis": {
            "gridcolor": "#506784",
            "linecolor": "#506784",
            "ticks": ""
           },
           "bgcolor": "rgb(17,17,17)",
           "radialaxis": {
            "gridcolor": "#506784",
            "linecolor": "#506784",
            "ticks": ""
           }
          },
          "scene": {
           "xaxis": {
            "backgroundcolor": "rgb(17,17,17)",
            "gridcolor": "#506784",
            "gridwidth": 2,
            "linecolor": "#506784",
            "showbackground": true,
            "ticks": "",
            "zerolinecolor": "#C8D4E3"
           },
           "yaxis": {
            "backgroundcolor": "rgb(17,17,17)",
            "gridcolor": "#506784",
            "gridwidth": 2,
            "linecolor": "#506784",
            "showbackground": true,
            "ticks": "",
            "zerolinecolor": "#C8D4E3"
           },
           "zaxis": {
            "backgroundcolor": "rgb(17,17,17)",
            "gridcolor": "#506784",
            "gridwidth": 2,
            "linecolor": "#506784",
            "showbackground": true,
            "ticks": "",
            "zerolinecolor": "#C8D4E3"
           }
          },
          "shapedefaults": {
           "line": {
            "color": "#f2f5fa"
           }
          },
          "sliderdefaults": {
           "bgcolor": "#C8D4E3",
           "bordercolor": "rgb(17,17,17)",
           "borderwidth": 1,
           "tickwidth": 0
          },
          "ternary": {
           "aaxis": {
            "gridcolor": "#506784",
            "linecolor": "#506784",
            "ticks": ""
           },
           "baxis": {
            "gridcolor": "#506784",
            "linecolor": "#506784",
            "ticks": ""
           },
           "bgcolor": "rgb(17,17,17)",
           "caxis": {
            "gridcolor": "#506784",
            "linecolor": "#506784",
            "ticks": ""
           }
          },
          "title": {
           "x": 0.05
          },
          "updatemenudefaults": {
           "bgcolor": "#506784",
           "borderwidth": 0
          },
          "xaxis": {
           "automargin": true,
           "gridcolor": "#283442",
           "linecolor": "#506784",
           "ticks": "",
           "title": {
            "standoff": 15
           },
           "zerolinecolor": "#283442",
           "zerolinewidth": 2
          },
          "yaxis": {
           "automargin": true,
           "gridcolor": "#283442",
           "linecolor": "#506784",
           "ticks": "",
           "title": {
            "standoff": 15
           },
           "zerolinecolor": "#283442",
           "zerolinewidth": 2
          }
         }
        }
       }
      }
     },
     "metadata": {}
    },
    {
     "output_type": "stream",
     "name": "stdout",
     "text": [
      "-0.08390861275476659\n151 ms ± 0 ns per loop (mean ± std. dev. of 1 run, 1 loop each)\n"
     ]
    }
   ],
   "source": [
    "%%timeit -n1 -r1\n",
    "df = RDD.get_rdds_for_visuals_vector(target_G, target_node, [measure_list], target_rad)\n",
    "df = other_sims.mean_shift(df, [measures.global_graph_degree])\n",
    "fig = visualize.visualize_rdd_vector_mean_shift(target_G, target_node,target_rad, [measure_list], pos)\n",
    "fig.show()\n",
    "df = df.sort_values('cluster')\n",
    "#print(df)\n",
    "\n",
    "clusters = df_to_cluster_list(df)\n",
    "result = nx.algorithms.community.modularity(target_G, clusters)\n",
    "print(result)"
   ]
  },
  {
   "cell_type": "markdown",
   "metadata": {},
   "source": [
    "# ASCOS TESTS"
   ]
  },
  {
   "cell_type": "code",
   "execution_count": 18,
   "metadata": {
    "tags": []
   },
   "outputs": [
    {
     "output_type": "stream",
     "name": "stdout",
     "text": [
      "0.396860618014463\n"
     ]
    }
   ],
   "source": [
    "nodes, sims = ascos.ascos(target_G)\n",
    "df = other_sims.k_means_matrix(target_G, sims, target_clusters)\n",
    "df = df.sort_values('cluster')\n",
    "#print(df)\n",
    "\n",
    "clusters = df_to_cluster_list(df)\n",
    "result = nx.algorithms.community.modularity(target_G, clusters)\n",
    "print(result)"
   ]
  },
  {
   "cell_type": "code",
   "execution_count": 19,
   "metadata": {
    "tags": []
   },
   "outputs": [
    {
     "output_type": "stream",
     "name": "stdout",
     "text": [
      "0.3018573307034839\n"
     ]
    }
   ],
   "source": [
    "nodes, sims = ascos.ascos(target_G)\n",
    "df = other_sims.kmedoid_clustering2(target_G, sims, target_clusters)\n",
    "df = df.sort_values('cluster')\n",
    "#print(df)\n",
    "\n",
    "clusters = df_to_cluster_list(df)\n",
    "result = nx.algorithms.community.modularity(target_G, clusters)\n",
    "print(result)"
   ]
  },
  {
   "cell_type": "code",
   "execution_count": 20,
   "metadata": {
    "tags": []
   },
   "outputs": [
    {
     "output_type": "stream",
     "name": "stdout",
     "text": [
      "0.10174227481919798\n"
     ]
    }
   ],
   "source": [
    "# SimRank Modularity test with KMeans_Matrix\n",
    "sim = nx.simrank_similarity(target_G)\n",
    "df = pd.DataFrame.from_records(sim)\n",
    "\n",
    "all_sim_df = pd.DataFrame() \n",
    "for node in target_G:\n",
    "    list_of_sim = []\n",
    "    for node2 in target_G:\n",
    "        list_of_sim.append(sim[node][node2])\n",
    "    all_sim_df[node] = list_of_sim\n",
    "\n",
    "df = other_sims.k_means_matrix(target_G, all_sim_df, target_clusters)\n",
    "df = df.sort_values('cluster')\n",
    "#print(df)\n",
    "\n",
    "clusters = df_to_cluster_list(df)\n",
    "result = nx.algorithms.community.modularity(target_G, clusters)\n",
    "print(result)"
   ]
  },
  {
   "cell_type": "code",
   "execution_count": 21,
   "metadata": {
    "tags": []
   },
   "outputs": [
    {
     "output_type": "stream",
     "name": "stdout",
     "text": [
      "0.036324786324786515\n"
     ]
    }
   ],
   "source": [
    "# SimRank Modularity test with KMedoids_Matrix\n",
    "sim = nx.simrank_similarity(target_G)\n",
    "df = pd.DataFrame.from_records(sim)\n",
    "\n",
    "all_sim_df = pd.DataFrame() \n",
    "for node in target_G:\n",
    "    list_of_sim = []\n",
    "    for node2 in target_G:\n",
    "        list_of_sim.append(sim[node][node2])\n",
    "    all_sim_df[node] = list_of_sim\n",
    "\n",
    "df = other_sims.kmedoid_clustering2(target_G, all_sim_df, target_clusters)\n",
    "df = df.sort_values('cluster')\n",
    "#print(df)\n",
    "\n",
    "clusters = df_to_cluster_list(df)\n",
    "result = nx.algorithms.community.modularity(target_G, clusters)\n",
    "print(result)"
   ]
  },
  {
   "cell_type": "code",
   "execution_count": null,
   "metadata": {},
   "outputs": [],
   "source": []
  },
  {
   "cell_type": "code",
   "execution_count": null,
   "metadata": {},
   "outputs": [],
   "source": []
  },
  {
   "cell_type": "code",
   "execution_count": null,
   "metadata": {},
   "outputs": [],
   "source": []
  },
  {
   "cell_type": "code",
   "execution_count": null,
   "metadata": {},
   "outputs": [],
   "source": []
  }
 ],
 "metadata": {
  "kernelspec": {
   "display_name": "Python 3",
   "language": "python",
   "name": "python3"
  },
  "language_info": {
   "codemirror_mode": {
    "name": "ipython",
    "version": 3
   },
   "file_extension": ".py",
   "mimetype": "text/x-python",
   "name": "python",
   "nbconvert_exporter": "python",
   "pygments_lexer": "ipython3",
   "version": "3.8.3-final"
  }
 },
 "nbformat": 4,
 "nbformat_minor": 4
}