{
 "cells": [
  {
   "cell_type": "code",
   "execution_count": 87,
   "metadata": {},
   "outputs": [
    {
     "data": {
      "application/vnd.jupyter.widget-view+json": {
       "model_id": "818c18b7d2c946e4bfb07da34a7d35b9",
       "version_major": 2,
       "version_minor": 0
      },
      "text/plain": [
       "FigureWidget({\n",
       "    'data': [{'line': {'width': 1},\n",
       "              'marker': {'color': array([ 0.        , 16.91…"
      ]
     },
     "metadata": {},
     "output_type": "display_data"
    }
   ],
   "source": [
    "# imports\n",
    "from sys import path\n",
    "path.append(\"..\")\n",
    "import networkx as nx\n",
    "from ipywidgets import HBox, VBox, Label, HTML\n",
    "from rdd import visualize\n",
    "from rdd import measures\n",
    "from rdd import RDD\n",
    "from rdd.visualize import add_markers\n",
    "\n",
    "G = nx.read_gml('../data/karate.gml', label='id')\n",
    "pos = nx.spring_layout(G)\n",
    "visualize.visualize_rdd_vector(G, 1, 7, pos, [measures.global_graph_degree])"
   ]
  },
  {
   "cell_type": "markdown",
   "metadata": {},
   "source": [
    "{27, 26, 25, 12} look similar, and while {4, 14, 9, 32} look similar, they don't look as similar."
   ]
  },
  {
   "cell_type": "code",
   "execution_count": 131,
   "metadata": {},
   "outputs": [
    {
     "name": "stdout",
     "output_type": "stream",
     "text": [
      "---------very similar looking------\n",
      "27 compared to 26: 11.487470688787909\n",
      "27 compared to 25: 9.998782573185169\n",
      "27 compared to 12: 7.017620635275236\n",
      "26 compared to 27: 9.7769793173512\n",
      "26 compared to 25: 8.867758743233306\n",
      "26 compared to 12: 4.26257340648402\n",
      "25 compared to 27: 5.5777998303117515\n",
      "25 compared to 26: 6.358114570009143\n",
      "25 compared to 12: 5.307129263838526\n",
      "12 compared to 27: 10.022382372918251\n",
      "12 compared to 26: 7.489138399961005\n",
      "12 compared to 25: 7.489138399961005\n",
      "--------similar looking-------\n"
     ]
    },
    {
     "data": {
      "text/plain": [
       "<matplotlib.axes._subplots.AxesSubplot at 0x7f2e07757e50>"
      ]
     },
     "execution_count": 131,
     "metadata": {},
     "output_type": "execute_result"
    },
    {
     "data": {
      "image/png": "[encoded data removed]",
      "text/plain": [
       "<Figure size 432x288 with 1 Axes>"
      ]
     },
     "metadata": {
      "needs_background": "light"
     },
     "output_type": "display_data"
    }
   ],
   "source": [
    "print('---------very similar looking------')\n",
    "rdds = []\n",
    "l1 = [27, 26, 25, 12]\n",
    "for u in l1:\n",
    "    subgraph = RDD.paths_to_graph(nx.single_source_shortest_path(G, u))\n",
    "    for v in l1:\n",
    "        if v == u: continue\n",
    "        r = measures.realworld_distance_compare(subgraph, u, v, measures.global_graph_degree, 2)\n",
    "        rdds.append(r)\n",
    "        print(f\"{u} compared to {v}:\", measures.realworld_distance_compare(subgraph, u, v, measures.global_graph_degree, 2))\n",
    "print('--------similar looking-------')\n",
    "s = pd.Series(rdds)\n",
    "s.hist(bins=5)\n",
    "\n",
    "\n",
    "\n",
    "\n",
    "\n",
    "\n",
    "\n",
    "# l2 = [4, 14, 9, 32]\n",
    "# for u in l2:\n",
    "#     subgraph = RDD.paths_to_graph(nx.single_source_shortest_path(G, u))\n",
    "#     for v in l2:\n",
    "#         if v == u: continue\n",
    "#         print(f\"{u} compared to {v}:\", measures.realworld_distance_compare(subgraph, u, v, measures.global_graph_degree, 2))\n",
    "# print('-------very dissimilar looking-------')\n",
    "# l3 = [10, 27, 14, 11]\n",
    "# for u in l3:\n",
    "#     subgraph = RDD.paths_to_graph(nx.single_source_shortest_path(G, u))\n",
    "#     for v in l3:\n",
    "#         if v == u: continue\n",
    "#         print(f\"{u} compared to {v}:\", measures.realworld_distance_compare(subgraph, u, v, measures.global_graph_degree, 2))"
   ]
  },
  {
   "cell_type": "markdown",
   "metadata": {},
   "source": [
    "2, 14, 9, 32 look similar but not as similar"
   ]
  },
  {
   "cell_type": "code",
   "execution_count": 130,
   "metadata": {},
   "outputs": [
    {
     "name": "stdout",
     "output_type": "stream",
     "text": [
      "---------very similar looking------\n",
      "4 compared to 14: 13.869876738764667\n",
      "4 compared to 9: 14.269453139658395\n",
      "4 compared to 32: 10.5272648084994\n",
      "14 compared to 4: 18.457891724596983\n",
      "14 compared to 9: 15.78552676169867\n",
      "14 compared to 32: 12.043338430539675\n",
      "9 compared to 4: 14.508426746409334\n",
      "9 compared to 14: 14.508426746409334\n",
      "9 compared to 32: 10.766238415250339\n",
      "32 compared to 4: 16.379520911988834\n",
      "32 compared to 14: 16.379520911988834\n",
      "32 compared to 9: 16.379520911988834\n",
      "--------similar looking-------\n"
     ]
    },
    {
     "data": {
      "text/plain": [
       "<matplotlib.axes._subplots.AxesSubplot at 0x7f2e078742b0>"
      ]
     },
     "execution_count": 130,
     "metadata": {},
     "output_type": "execute_result"
    },
    {
     "data": {
      "image/png": "[encoded data removed]",
      "text/plain": [
       "<Figure size 432x288 with 1 Axes>"
      ]
     },
     "metadata": {
      "needs_background": "light"
     },
     "output_type": "display_data"
    }
   ],
   "source": [
    "print('---------very similar looking------')\n",
    "rdds = []\n",
    "l1 = [4, 14, 9, 32]\n",
    "for u in l1:\n",
    "    subgraph = RDD.paths_to_graph(nx.single_source_shortest_path(G, u))\n",
    "    for v in l1:\n",
    "        if v == u: continue\n",
    "        r = measures.realworld_distance_compare(subgraph, u, v, measures.global_graph_degree, 2)\n",
    "        rdds.append(r)\n",
    "        print(f\"{u} compared to {v}:\", measures.realworld_distance_compare(subgraph, u, v, measures.global_graph_degree, 2))\n",
    "print('--------similar looking-------')\n",
    "s = pd.Series(rdds)\n",
    "s.hist(bins=5)"
   ]
  },
  {
   "cell_type": "code",
   "execution_count": 113,
   "metadata": {},
   "outputs": [
    {
     "name": "stdout",
     "output_type": "stream",
     "text": [
      "4 compared to 14: 13.869876738764667\n",
      "4 compared to 9: 14.269453139658395\n",
      "4 compared to 32: 10.5272648084994\n",
      "14 compared to 4: 18.457891724596983\n",
      "14 compared to 9: 15.78552676169867\n",
      "14 compared to 32: 12.043338430539675\n",
      "9 compared to 4: 14.508426746409334\n",
      "9 compared to 14: 14.508426746409334\n",
      "9 compared to 32: 10.766238415250339\n",
      "32 compared to 4: 16.379520911988834\n",
      "32 compared to 14: 16.379520911988834\n",
      "32 compared to 9: 16.379520911988834\n",
      "\n"
     ]
    }
   ],
   "source": [
    "l = [4, 14, 9, 32]\n",
    "\n",
    "for u in l:\n",
    "    subgraph = RDD.paths_to_graph(nx.single_source_shortest_path(G, u))\n",
    "    for v in l:\n",
    "        if v == u: continue\n",
    "        print(f\"{u} compared to {v}:\", measures.realworld_distance_compare(subgraph, u, v, measures.global_graph_degree, 2))\n",
    "print()"
   ]
  },
  {
   "cell_type": "code",
   "execution_count": 24,
   "metadata": {},
   "outputs": [],
   "source": [
    "node_4 = RDD.paths_to_graph(nx.single_source_shortest_path(G, 12, 3))"
   ]
  },
  {
   "cell_type": "code",
   "execution_count": 43,
   "metadata": {},
   "outputs": [
    {
     "name": "stdout",
     "output_type": "stream",
     "text": [
      "4 compared to 4: 0.0\n",
      "4 compared to 14: 13.019738630806595\n",
      "4 compared to 9: 13.485493283972676\n",
      "4 compared to 32: 13.485493283972676\n",
      "14 compared to 4: 18.051885874887144\n",
      "14 compared to 14: 0.0\n",
      "14 compared to 9: 16.4327586504809\n",
      "14 compared to 32: 16.4327586504809\n",
      "9 compared to 4: 15.056084498455839\n",
      "9 compared to 14: 15.056084498455839\n",
      "9 compared to 9: 0.0\n",
      "9 compared to 32: 15.056084498455839\n",
      "32 compared to 4: 16.92717866403534\n",
      "32 compared to 14: 16.92717866403534\n",
      "32 compared to 9: 16.92717866403534\n",
      "32 compared to 32: 0.0\n",
      "\n",
      "4 compared to 15: 22.433875272135587\n",
      "4 compared to 7: 16.92717866403534\n",
      "4 compared to 12: 16.92717866403534\n"
     ]
    }
   ],
   "source": [
    "for u in [4, 14, 9, 32]:\n",
    "    subgraph = RDD.paths_to_graph(nx.single_source_shortest_path(G, u, 2))\n",
    "    for v in [4, 14, 9, 32]:\n",
    "        print(f\"{u} compared to {v}:\", measures.realworld_distance_compare(subgraph, u, v, measures.global_graph_degree, 3))\n",
    "\n",
    "print()\n",
    "\n",
    "subgraph = RDD.paths_to_graph(nx.single_source_shortest_path(G, u, 2))\n",
    "for v in [15, 7, 12]:\n",
    "    print(f\"4 compared to {v}:\", measures.realworld_distance_compare(subgraph, u, v, measures.global_graph_degree, 3))\n"
   ]
  },
  {
   "cell_type": "code",
   "execution_count": 30,
   "metadata": {},
   "outputs": [
    {
     "data": {
      "text/plain": [
       "0.0"
      ]
     },
     "execution_count": 30,
     "metadata": {},
     "output_type": "execute_result"
    }
   ],
   "source": [
    "measures.realworld_distance_compare(node_4, 12, 14, measures.global_graph_degree, 3)"
   ]
  },
  {
   "cell_type": "code",
   "execution_count": 32,
   "metadata": {},
   "outputs": [
    {
     "data": {
      "text/plain": [
       "1.8710941655794975"
      ]
     },
     "execution_count": 32,
     "metadata": {},
     "output_type": "execute_result"
    }
   ],
   "source": [
    "measures.realworld_distance_compare(node_4, 12, 9, measures.global_graph_degree, 3)"
   ]
  },
  {
   "cell_type": "code",
   "execution_count": 33,
   "metadata": {},
   "outputs": [
    {
     "data": {
      "text/plain": [
       "3.742188331158995"
      ]
     },
     "execution_count": 33,
     "metadata": {},
     "output_type": "execute_result"
    }
   ],
   "source": [
    "measures.realworld_distance_compare(node_4, 12, 32, measures.global_graph_degree, 3)"
   ]
  }
 ],
 "metadata": {
  "kernelspec": {
   "display_name": "Python 3",
   "language": "python",
   "name": "python3"
  },
  "language_info": {
   "codemirror_mode": {
    "name": "ipython",
    "version": 3
   },
   "file_extension": ".py",
   "mimetype": "text/x-python",
   "name": "python",
   "nbconvert_exporter": "python",
   "pygments_lexer": "ipython3",
   "version": "3.8.3"
  },
  "latex_envs": {
   "LaTeX_envs_menu_present": true,
   "autoclose": false,
   "autocomplete": true,
   "bibliofile": "biblio.bib",
   "cite_by": "apalike",
   "current_citInitial": 1,
   "eqLabelWithNumbers": true,
   "eqNumInitial": 1,
   "hotkeys": {
    "equation": "Ctrl-E",
    "itemize": "Ctrl-I"
   },
   "labels_anchors": false,
   "latex_user_defs": false,
   "report_style_numbering": false,
   "user_envs_cfg": false
  },
  "toc": {
   "base_numbering": 1,
   "nav_menu": {},
   "number_sections": true,
   "sideBar": false,
   "skip_h1_title": false,
   "title_cell": "Table of Contents",
   "title_sidebar": "Contents",
   "toc_cell": false,
   "toc_position": {},
   "toc_section_display": true,
   "toc_window_display": false
  }
 },
 "nbformat": 4,
 "nbformat_minor": 4
}
