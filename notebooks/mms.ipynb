{
 "cells": [
  {
   "cell_type": "code",
   "execution_count": 110,
   "metadata": {},
   "outputs": [],
   "source": [
    "import networkx as nx\n",
    "import math"
   ]
  },
  {
   "cell_type": "code",
   "execution_count": 111,
   "metadata": {},
   "outputs": [],
   "source": [
    "G1, G2 = nx.Graph(), nx.Graph()\n",
    "\n",
    "G2.add_edges_from([\n",
    "    (1,2),\n",
    "    (2,4),\n",
    "    (2,3),\n",
    "    (3,5),\n",
    "    (4,5),\n",
    "    (5,6)\n",
    "])\n",
    "\n",
    "G1.add_edges_from([\n",
    "    (1, 2),\n",
    "    (2, 3),\n",
    "    (2, 4),\n",
    "    (3, 4),\n",
    "    (3, 6),\n",
    "    (4, 5),\n",
    "])"
   ]
  },
  {
   "cell_type": "code",
   "execution_count": 149,
   "metadata": {},
   "outputs": [
    {
     "name": "stdout",
     "output_type": "stream",
     "text": [
      "{1: [1], 2: [1, 2], 3: [1, 2, 3], 4: [1, 2, 4], 6: [1, 2, 3, 6], 5: [1, 2, 4, 5]}\n"
     ]
    },
    {
     "data": {
      "image/png": "[encoded data removed]",
      "text/plain": [
       "<Figure size 432x288 with 1 Axes>"
      ]
     },
     "metadata": {},
     "output_type": "display_data"
    }
   ],
   "source": [
    "nx.draw(G1,with_labels=True)\n",
    "#nx.draw(G2,with_labels=True)\n",
    "paths1=nx.single_source_shortest_path(G1,1)\n",
    "paths2=nx.single_source_shortest_path(G2,1)\n",
    "\n",
    "print(paths1)"
   ]
  },
  {
   "cell_type": "code",
   "execution_count": 150,
   "metadata": {},
   "outputs": [
    {
     "name": "stdout",
     "output_type": "stream",
     "text": [
      "{0: [1], 1: [2], 2: [3, 4], 3: [5, 6]}\n",
      "{0: [1], 1: [2], 2: [3, 4], 3: [5], 4: [6]}\n",
      "{0: 1, 1: 2, 2: 6, 3: 8, 4: 8}\n",
      "{0: 1, 1: 2, 2: 6, 3: 7, 4: 8}\n",
      "The Radial Distribution Distance is 0.049787068367863944\n"
     ]
    }
   ],
   "source": [
    "distancesG1 = {}\n",
    "distancesG2 = {}\n",
    "mesuresG1 = []\n",
    "mesuresG2 = []\n",
    "\n",
    "#  Uses distance as key and a list of nodes with that distance as values.\n",
    "def GetShortestPaths(paths):\n",
    "    distances = {}\n",
    "    l = 0\n",
    "    for path in paths:\n",
    "        edgeDistance = len(paths[path])-1\n",
    "        distances.setdefault(edgeDistance, []).append(l+1) \n",
    "        l=l+1\n",
    "    \n",
    "    return distances\n",
    " \n",
    "\n",
    "\"\"\" Uses node IDs as keys and distance from root as values\n",
    "def GetShortestPaths(paths):\n",
    "    distances = {}\n",
    "    l = 1\n",
    "    for path in paths:\n",
    "        edgeDistance = len(paths[path])-1\n",
    "        distances[l] = edgeDistance\n",
    "        l=l+1\n",
    "    \n",
    "    return distances\n",
    "\"\"\"\n",
    "\n",
    "distancesG1 = GetShortestPaths(paths1)\n",
    "distancesG2 = GetShortestPaths(paths2)\n",
    "\n",
    "#def GetMesures():\n",
    "    #prob use some log function to assign values to nodes\n",
    "    #Coming in future should return list of ints\n",
    "\n",
    "mesuresG1 = [1, 1, 2, 2, 1, 1]\n",
    "mesuresG2 = [1, 1, 2, 2, 1, 1]\n",
    "\n",
    "def FindUnion(set1, set2):\n",
    "    union = set(set1.keys()).union(set(set2.keys()))\n",
    "    return list(union)\n",
    "\n",
    "distanceG1G2 = FindUnion(distancesG1, distancesG2)\n",
    "\n",
    "cRDG1 = {} #CRD - Cumulative Radial Distribution\n",
    "cRDG2 = {}\n",
    "\n",
    "def getM(radius, dic):\n",
    "    if radius not in dic:\n",
    "        return getM(radius-1, dic)\n",
    "    \n",
    "    newM = 0\n",
    "    for i in range(radius+1):\n",
    "        holder = len(dic[i])\n",
    "        for j in range(holder):\n",
    "            newM = newM + mesuresG1[dic[i][j]-1]\n",
    "    \n",
    "    return(newM)\n",
    "\n",
    "\n",
    "for r in distanceG1G2:\n",
    "    cRDG1[r] = getM(r, distancesG1)\n",
    "    cRDG2[r] = getM(r, distancesG2)\n",
    "\n",
    "rDD = 0# Radial Distribution Distance\n",
    "for r in distanceG1G2:\n",
    "    rDD = rDD + math.exp(-r)*abs(cRDG1[r]-cRDG2[r])\n",
    "\n",
    "print(distancesG1)\n",
    "print(distancesG2)\n",
    "print(cRDG1)\n",
    "print(cRDG2)\n",
    "print (\"The Radial Distribution Distance is {0}\".format(rDD))\n",
    "    "
   ]
  },
  {
   "cell_type": "code",
   "execution_count": null,
   "metadata": {},
   "outputs": [],
   "source": []
  },
  {
   "cell_type": "code",
   "execution_count": null,
   "metadata": {},
   "outputs": [],
   "source": []
  },
  {
   "cell_type": "code",
   "execution_count": null,
   "metadata": {},
   "outputs": [],
   "source": []
  },
  {
   "cell_type": "code",
   "execution_count": null,
   "metadata": {},
   "outputs": [],
   "source": []
  }
 ],
 "metadata": {
  "kernelspec": {
   "display_name": "Python 3",
   "language": "python",
   "name": "python3"
  },
  "language_info": {
   "codemirror_mode": {
    "name": "ipython",
    "version": 3
   },
   "file_extension": ".py",
   "mimetype": "text/x-python",
   "name": "python",
   "nbconvert_exporter": "python",
   "pygments_lexer": "ipython3",
   "version": "3.8.1"
  }
 },
 "nbformat": 4,
 "nbformat_minor": 4
}
