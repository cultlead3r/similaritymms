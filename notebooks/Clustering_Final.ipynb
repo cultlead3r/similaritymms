{
 "cells": [
  {
   "cell_type": "markdown",
   "metadata": {},
   "source": [
    "# Clustering for RDD"
   ]
  },
  {
   "cell_type": "code",
   "execution_count": 8,
   "metadata": {},
   "outputs": [],
   "source": [
    "def warn(*args, **kwargs):\n",
    "    pass\n",
    "import warnings\n",
    "warnings.warn = warn\n",
    "\n",
    "from sys import path\n",
    "path.append(\"..\")\n",
    "\n",
    "import numpy as np\n",
    "import networkx as nx\n",
    "import pandas as pd\n",
    "import seaborn as sns\n",
    "import matplotlib.pyplot as plt\n",
    "from rdd import measures\n",
    "from rdd import RDD\n",
    "from rdd.RDD import get_rdd_matrix\n",
    "from rdd import visualize\n",
    "from rdd import other_sims\n",
    "from rdd import ascos\n",
    "from rdd import cos_sim\n",
    "from rdd.utils import df_to_cluster_list\n",
    "from rdd.other_sims import kmeans2, kmedoid_clustering2, simrank\n",
    "import scipy.cluster.hierarchy as shc\n",
    "from sklearn.cluster import AgglomerativeClustering\n",
    "from sklearn_extra.cluster import KMedoids\n",
    "\n",
    "# # ignore warnings\n",
    "# from scipy.cluster.hierarchy import ClusterWarning\n",
    "# from warnings import simplefilter\n",
    "# simplefilter(\"ignore\", ClusterWarning)\n",
    "\n",
    "\n",
    "G1, G2 = nx.Graph(), nx.Graph()\n",
    "\n",
    "G1.add_edges_from([\n",
    "    (1, 2),\n",
    "    (2, 3),\n",
    "    (2, 4),\n",
    "    (3, 4),\n",
    "    (3, 6),\n",
    "    (4, 5),\n",
    "])\n",
    "\n",
    "G2.add_edges_from([\n",
    "    (1,2),\n",
    "    (2,4),\n",
    "    (2,3),\n",
    "    (3,5),\n",
    "    (4,5),\n",
    "    (5,6)\n",
    "])\n",
    "\n",
    "# G2.add_edges_from([\n",
    "#     (5, 2),\n",
    "#     (2, 3),\n",
    "#     (2, 4),\n",
    "#     (3, 4),\n",
    "#     (3, 6),\n",
    "#     (4, 1),\n",
    "# ])\n",
    "\n",
    "\n",
    "G3 = nx.read_adjlist('../data/facebook_combined.txt', nodetype=int)\n",
    "G4 = nx.read_gml('../data/karate.gml', label='id')\n",
    "\n",
    "real_paths1 = nx.single_source_shortest_path(G3, 1, 2)\n",
    "node_list1 = RDD.populate_node_list(real_paths1)\n",
    "list_of_nodes = []\n",
    "for node in node_list1:\n",
    "    list_of_nodes.append(node.name)\n",
    "G5 = RDD.nodes_to_graph(G3, list_of_nodes)\n",
    "G6 = nx.read_gml('../data/lesmiserables.gml')\n",
    "G7 = nx.read_adjlist('../data/Cattle_protein_interactions_(IntAct).txt')\n",
    "G8 = nx.read_adjlist('../data/rat_protein_interactions_(IntAct).txt')\n",
    "\n",
    "target_G = G4\n",
    "target_rad = 2\n",
    "target_measure = measures.global_graph_morgan_index\n",
    "target_clusters = 5\n",
    "\n",
    "pos = nx.spring_layout(target_G)\n",
    "\n",
    "\n",
    "\n",
    "\n"
   ]
  },
  {
   "cell_type": "markdown",
   "metadata": {},
   "source": [
    "## Hierarchical Clustering"
   ]
  },
  {
   "cell_type": "markdown",
   "metadata": {},
   "source": [
    "### Dendrogram:"
   ]
  },
  {
   "cell_type": "code",
   "execution_count": 9,
   "metadata": {},
   "outputs": [
    {
     "data": {
      "image/png": "[encoded data removed]",
      "text/plain": [
       "<Figure size 720x504 with 1 Axes>"
      ]
     },
     "metadata": {
      "needs_background": "light"
     },
     "output_type": "display_data"
    }
   ],
   "source": [
    "data = get_rdd_matrix(target_G, target_rad, target_measure)\n",
    "plt.figure(figsize=(10, 7))\n",
    "plt.title(\"Customer Dendograms\")\n",
    "dend = shc.dendrogram(shc.linkage(data, method='ward'))"
   ]
  },
  {
   "cell_type": "markdown",
   "metadata": {},
   "source": [
    "### Agglomerative Hierarchical Clustering:"
   ]
  },
  {
   "cell_type": "code",
   "execution_count": 10,
   "metadata": {},
   "outputs": [
    {
     "data": {
      "application/vnd.plotly.v1+json": {
       "config": {
        "plotlyServerURL": "https://plot.ly"
       },
       "data": [
        {
         "line": {
          "width": 1
         },
         "marker": {
          "color": [
           2,
           3,
           2,
           3,
           4,
           4,
           4,
           1,
           3,
           1,
           4,
           0,
           4,
           3,
           4,
           4,
           0,
           4,
           4,
           1,
           4,
           4,
           4,
           1,
           0,
           0,
           4,
           1,
           1,
           1,
           1,
           3,
           2,
           2
          ],
          "colorscale": [
           [
            0,
            "rgb(0,0,131)"
           ],
           [
            0.2,
            "rgb(0,60,170)"
           ],
           [
            0.4,
            "rgb(5,255,255)"
           ],
           [
            0.6,
            "rgb(255,255,0)"
           ],
           [
            0.8,
            "rgb(250,0,0)"
           ],
           [
            1,
            "rgb(128,0,0)"
           ]
          ],
          "size": 15
         },
         "mode": "lines",
         "name": "edges",
         "type": "scatter",
         "uid": "b88ca00d-f754-4d32-9b31-4c14eada2ebc",
         "x": [
          0.3298847870868271,
          0.13592534419940663,
          null,
          0.3298847870868271,
          -0.0026129344486409845,
          null,
          0.3298847870868271,
          0.25133192590411957,
          null,
          0.3298847870868271,
          0.648374404846664,
          null,
          0.3298847870868271,
          0.7461237350436676,
          null,
          0.3298847870868271,
          0.7596912636248602,
          null,
          0.3298847870868271,
          0.22238157034256897,
          null,
          0.3298847870868271,
          -0.09008282935927277,
          null,
          0.3298847870868271,
          0.6221466266203255,
          null,
          0.3298847870868271,
          0.5537311819816114,
          null,
          0.3298847870868271,
          0.485937664175994,
          null,
          0.3298847870868271,
          0.05852549901390687,
          null,
          0.3298847870868271,
          0.2746798830015628,
          null,
          0.3298847870868271,
          -0.01523683466377873,
          null,
          0.3298847870868271,
          0.36786251143126164,
          null,
          0.3298847870868271,
          -0.06688556236592828,
          null,
          0.13592534419940663,
          -0.0026129344486409845,
          null,
          0.13592534419940663,
          0.25133192590411957,
          null,
          0.13592534419940663,
          0.22238157034256897,
          null,
          0.13592534419940663,
          0.05852549901390687,
          null,
          0.13592534419940663,
          0.2746798830015628,
          null,
          0.13592534419940663,
          -0.01523683466377873,
          null,
          0.13592534419940663,
          0.36786251143126164,
          null,
          0.13592534419940663,
          -0.18841138890578674,
          null,
          -0.0026129344486409845,
          0.25133192590411957,
          null,
          -0.0026129344486409845,
          0.22238157034256897,
          null,
          -0.0026129344486409845,
          -0.09008282935927277,
          null,
          -0.0026129344486409845,
          -0.26327337284606656,
          null,
          -0.0026129344486409845,
          0.05852549901390687,
          null,
          -0.0026129344486409845,
          -0.19008345342978733,
          null,
          -0.0026129344486409845,
          -0.15406985069416662,
          null,
          -0.0026129344486409845,
          -0.37020748937230696,
          null,
          0.25133192590411957,
          0.22238157034256897,
          null,
          0.25133192590411957,
          0.485937664175994,
          null,
          0.25133192590411957,
          0.05852549901390687,
          null,
          0.648374404846664,
          0.7596912636248602,
          null,
          0.648374404846664,
          0.6221466266203255,
          null,
          0.7461237350436676,
          0.7596912636248602,
          null,
          0.7461237350436676,
          0.6221466266203255,
          null,
          0.7461237350436676,
          1,
          null,
          0.7596912636248602,
          1,
          null,
          -0.09008282935927277,
          -0.18841138890578674,
          null,
          -0.09008282935927277,
          -0.37020748937230696,
          null,
          -0.09008282935927277,
          -0.33426126947462476,
          null,
          -0.26327337284606656,
          -0.33426126947462476,
          null,
          0.05852549901390687,
          -0.33426126947462476,
          null,
          -0.5689344694185378,
          -0.37020748937230696,
          null,
          -0.5689344694185378,
          -0.33426126947462476,
          null,
          -0.5109660370872692,
          -0.37020748937230696,
          null,
          -0.5109660370872692,
          -0.33426126947462476,
          null,
          -0.6400476710385603,
          -0.37020748937230696,
          null,
          -0.6400476710385603,
          -0.33426126947462476,
          null,
          -0.01523683466377873,
          -0.33426126947462476,
          null,
          -0.5207484882464669,
          -0.37020748937230696,
          null,
          -0.5207484882464669,
          -0.33426126947462476,
          null,
          -0.599832300262561,
          -0.37020748937230696,
          null,
          -0.599832300262561,
          -0.33426126947462476,
          null,
          -0.37929234229515174,
          -0.22806056333110994,
          null,
          -0.37929234229515174,
          -0.19008345342978733,
          null,
          -0.37929234229515174,
          -0.5452984254025316,
          null,
          -0.37929234229515174,
          -0.37020748937230696,
          null,
          -0.37929234229515174,
          -0.33426126947462476,
          null,
          -0.08801960706870685,
          -0.22806056333110994,
          null,
          -0.08801960706870685,
          -0.19008345342978733,
          null,
          -0.08801960706870685,
          -0.06688556236592828,
          null,
          -0.22806056333110994,
          -0.06688556236592828,
          null,
          -0.7002715075615203,
          -0.5452984254025316,
          null,
          -0.7002715075615203,
          -0.33426126947462476,
          null,
          -0.19008345342978733,
          -0.33426126947462476,
          null,
          -0.15406985069416662,
          -0.06688556236592828,
          null,
          -0.15406985069416662,
          -0.33426126947462476,
          null,
          -0.5452984254025316,
          -0.37020748937230696,
          null,
          -0.5452984254025316,
          -0.33426126947462476,
          null,
          -0.18841138890578674,
          -0.37020748937230696,
          null,
          -0.18841138890578674,
          -0.33426126947462476,
          null,
          -0.06688556236592828,
          -0.37020748937230696,
          null,
          -0.06688556236592828,
          -0.33426126947462476,
          null,
          -0.37020748937230696,
          -0.33426126947462476,
          null
         ],
         "y": [
          -0.08139194223368576,
          -0.22695383848983483,
          null,
          -0.08139194223368576,
          -0.01871223379785289,
          null,
          -0.08139194223368576,
          -0.1830970651106816,
          null,
          -0.08139194223368576,
          -0.1863378082318158,
          null,
          -0.08139194223368576,
          -0.0017290231990654229,
          null,
          -0.08139194223368576,
          -0.11138631857802075,
          null,
          -0.08139194223368576,
          -0.05448570222955548,
          null,
          -0.08139194223368576,
          -0.01123965896454139,
          null,
          -0.08139194223368576,
          -0.0393105325998334,
          null,
          -0.08139194223368576,
          0.17844910318351162,
          null,
          -0.08139194223368576,
          -0.286705625233339,
          null,
          -0.08139194223368576,
          -0.09663531703696926,
          null,
          -0.08139194223368576,
          -0.40735991133144234,
          null,
          -0.08139194223368576,
          -0.18884865466144632,
          null,
          -0.08139194223368576,
          -0.3556030715131683,
          null,
          -0.08139194223368576,
          0.22548423237741053,
          null,
          -0.22695383848983483,
          -0.01871223379785289,
          null,
          -0.22695383848983483,
          -0.1830970651106816,
          null,
          -0.22695383848983483,
          -0.05448570222955548,
          null,
          -0.22695383848983483,
          -0.09663531703696926,
          null,
          -0.22695383848983483,
          -0.40735991133144234,
          null,
          -0.22695383848983483,
          -0.18884865466144632,
          null,
          -0.22695383848983483,
          -0.3556030715131683,
          null,
          -0.22695383848983483,
          -0.12830817954106657,
          null,
          -0.01871223379785289,
          -0.1830970651106816,
          null,
          -0.01871223379785289,
          -0.05448570222955548,
          null,
          -0.01871223379785289,
          -0.01123965896454139,
          null,
          -0.01871223379785289,
          -0.2226313490228529,
          null,
          -0.01871223379785289,
          -0.09663531703696926,
          null,
          -0.01871223379785289,
          0.28125338768321534,
          null,
          -0.01871223379785289,
          0.14252572956498888,
          null,
          -0.01871223379785289,
          0.08173269233795336,
          null,
          -0.1830970651106816,
          -0.05448570222955548,
          null,
          -0.1830970651106816,
          -0.286705625233339,
          null,
          -0.1830970651106816,
          -0.09663531703696926,
          null,
          -0.1863378082318158,
          -0.11138631857802075,
          null,
          -0.1863378082318158,
          -0.0393105325998334,
          null,
          -0.0017290231990654229,
          -0.11138631857802075,
          null,
          -0.0017290231990654229,
          -0.0393105325998334,
          null,
          -0.0017290231990654229,
          -0.03982122582513232,
          null,
          -0.11138631857802075,
          -0.03982122582513232,
          null,
          -0.01123965896454139,
          -0.12830817954106657,
          null,
          -0.01123965896454139,
          0.08173269233795336,
          null,
          -0.01123965896454139,
          0.030234627048340727,
          null,
          -0.2226313490228529,
          0.030234627048340727,
          null,
          -0.09663531703696926,
          0.030234627048340727,
          null,
          -0.068002320737622,
          0.08173269233795336,
          null,
          -0.068002320737622,
          0.030234627048340727,
          null,
          -0.1635728960690151,
          0.08173269233795336,
          null,
          -0.1635728960690151,
          0.030234627048340727,
          null,
          0.07121165901070961,
          0.08173269233795336,
          null,
          0.07121165901070961,
          0.030234627048340727,
          null,
          -0.18884865466144632,
          0.030234627048340727,
          null,
          0.2749403525619294,
          0.08173269233795336,
          null,
          0.2749403525619294,
          0.030234627048340727,
          null,
          0.20263386589566412,
          0.08173269233795336,
          null,
          0.20263386589566412,
          0.030234627048340727,
          null,
          0.298511952502875,
          0.5040333098234926,
          null,
          0.298511952502875,
          0.28125338768321534,
          null,
          0.298511952502875,
          0.11482038814827848,
          null,
          0.298511952502875,
          0.08173269233795336,
          null,
          0.298511952502875,
          0.030234627048340727,
          null,
          0.5072504183957834,
          0.5040333098234926,
          null,
          0.5072504183957834,
          0.28125338768321534,
          null,
          0.5072504183957834,
          0.22548423237741053,
          null,
          0.5040333098234926,
          0.22548423237741053,
          null,
          -0.040949044127212945,
          0.11482038814827848,
          null,
          -0.040949044127212945,
          0.030234627048340727,
          null,
          0.28125338768321534,
          0.030234627048340727,
          null,
          0.14252572956498888,
          0.22548423237741053,
          null,
          0.14252572956498888,
          0.030234627048340727,
          null,
          0.11482038814827848,
          0.08173269233795336,
          null,
          0.11482038814827848,
          0.030234627048340727,
          null,
          -0.12830817954106657,
          0.08173269233795336,
          null,
          -0.12830817954106657,
          0.030234627048340727,
          null,
          0.22548423237741053,
          0.08173269233795336,
          null,
          0.22548423237741053,
          0.030234627048340727,
          null,
          0.08173269233795336,
          0.030234627048340727,
          null
         ]
        },
        {
         "customdata": [
          [
           1,
           1,
           16,
           2,
           0.3298847870868271,
           -0.08139194223368576
          ],
          [
           2,
           1,
           9,
           3,
           0.13592534419940663,
           -0.22695383848983483
          ],
          [
           3,
           1,
           10,
           2,
           -0.0026129344486409845,
           -0.01871223379785289
          ],
          [
           4,
           1,
           6,
           3,
           0.25133192590411957,
           -0.1830970651106816
          ],
          [
           5,
           1,
           3,
           4,
           0.648374404846664,
           -0.1863378082318158
          ],
          [
           6,
           1,
           4,
           4,
           0.7461237350436676,
           -0.0017290231990654229
          ],
          [
           7,
           1,
           4,
           4,
           0.7596912636248602,
           -0.11138631857802075
          ],
          [
           8,
           1,
           4,
           1,
           0.22238157034256897,
           -0.05448570222955548
          ],
          [
           9,
           1,
           5,
           3,
           -0.09008282935927277,
           -0.01123965896454139
          ],
          [
           10,
           1,
           2,
           1,
           -0.26327337284606656,
           -0.2226313490228529
          ],
          [
           11,
           1,
           3,
           4,
           0.6221466266203255,
           -0.0393105325998334
          ],
          [
           12,
           1,
           1,
           0,
           0.5537311819816114,
           0.17844910318351162
          ],
          [
           13,
           1,
           2,
           4,
           0.485937664175994,
           -0.286705625233339
          ],
          [
           14,
           1,
           5,
           3,
           0.05852549901390687,
           -0.09663531703696926
          ],
          [
           15,
           1,
           2,
           4,
           -0.5689344694185378,
           -0.068002320737622
          ],
          [
           16,
           1,
           2,
           4,
           -0.5109660370872692,
           -0.1635728960690151
          ],
          [
           17,
           1,
           2,
           0,
           1,
           -0.03982122582513232
          ],
          [
           18,
           1,
           2,
           4,
           0.2746798830015628,
           -0.40735991133144234
          ],
          [
           19,
           1,
           2,
           4,
           -0.6400476710385603,
           0.07121165901070961
          ],
          [
           20,
           1,
           3,
           1,
           -0.01523683466377873,
           -0.18884865466144632
          ],
          [
           21,
           1,
           2,
           4,
           -0.5207484882464669,
           0.2749403525619294
          ],
          [
           22,
           1,
           2,
           4,
           0.36786251143126164,
           -0.3556030715131683
          ],
          [
           23,
           1,
           2,
           4,
           -0.599832300262561,
           0.20263386589566412
          ],
          [
           24,
           1,
           5,
           1,
           -0.37929234229515174,
           0.298511952502875
          ],
          [
           25,
           1,
           3,
           0,
           -0.08801960706870685,
           0.5072504183957834
          ],
          [
           26,
           1,
           3,
           0,
           -0.22806056333110994,
           0.5040333098234926
          ],
          [
           27,
           1,
           2,
           4,
           -0.7002715075615203,
           -0.040949044127212945
          ],
          [
           28,
           1,
           4,
           1,
           -0.19008345342978733,
           0.28125338768321534
          ],
          [
           29,
           1,
           3,
           1,
           -0.15406985069416662,
           0.14252572956498888
          ],
          [
           30,
           1,
           4,
           1,
           -0.5452984254025316,
           0.11482038814827848
          ],
          [
           31,
           1,
           4,
           1,
           -0.18841138890578674,
           -0.12830817954106657
          ],
          [
           32,
           1,
           6,
           3,
           -0.06688556236592828,
           0.22548423237741053
          ],
          [
           33,
           1,
           12,
           2,
           -0.37020748937230696,
           0.08173269233795336
          ],
          [
           34,
           1,
           17,
           2,
           -0.33426126947462476,
           0.030234627048340727
          ]
         ],
         "hovertemplate": "node_name: %{customdata[0]} <br> radius: %{customdata[1]} <br> degree: %{customdata[2]} <br> cluster: %{customdata[3]} <br> nodes_x: %{customdata[4]} <br> nodes_y: %{customdata[5]} <br> ",
         "marker": {
          "color": [
           2,
           3,
           2,
           3,
           4,
           4,
           4,
           1,
           3,
           1,
           4,
           0,
           4,
           3,
           4,
           4,
           0,
           4,
           4,
           1,
           4,
           4,
           4,
           1,
           0,
           0,
           4,
           1,
           1,
           1,
           1,
           3,
           2,
           2
          ],
          "colorscale": [
           [
            0,
            "rgb(0,0,131)"
           ],
           [
            0.2,
            "rgb(0,60,170)"
           ],
           [
            0.4,
            "rgb(5,255,255)"
           ],
           [
            0.6,
            "rgb(255,255,0)"
           ],
           [
            0.8,
            "rgb(250,0,0)"
           ],
           [
            1,
            "rgb(128,0,0)"
           ]
          ],
          "size": 15
         },
         "mode": "markers",
         "name": "Node",
         "text": [
          1,
          2,
          3,
          4,
          5,
          6,
          7,
          8,
          9,
          10,
          11,
          12,
          13,
          14,
          15,
          16,
          17,
          18,
          19,
          20,
          21,
          22,
          23,
          24,
          25,
          26,
          27,
          28,
          29,
          30,
          31,
          32,
          33,
          34
         ],
         "type": "scatter",
         "uid": "bcf28426-25e4-4e5a-8218-8eec761c1749",
         "x": [
          0.3298847870868271,
          0.13592534419940663,
          -0.0026129344486409845,
          0.25133192590411957,
          0.648374404846664,
          0.7461237350436676,
          0.7596912636248602,
          0.22238157034256897,
          -0.09008282935927277,
          -0.26327337284606656,
          0.6221466266203255,
          0.5537311819816114,
          0.485937664175994,
          0.05852549901390687,
          -0.5689344694185378,
          -0.5109660370872692,
          1,
          0.2746798830015628,
          -0.6400476710385603,
          -0.01523683466377873,
          -0.5207484882464669,
          0.36786251143126164,
          -0.599832300262561,
          -0.37929234229515174,
          -0.08801960706870685,
          -0.22806056333110994,
          -0.7002715075615203,
          -0.19008345342978733,
          -0.15406985069416662,
          -0.5452984254025316,
          -0.18841138890578674,
          -0.06688556236592828,
          -0.37020748937230696,
          -0.33426126947462476
         ],
         "y": [
          -0.08139194223368576,
          -0.22695383848983483,
          -0.01871223379785289,
          -0.1830970651106816,
          -0.1863378082318158,
          -0.0017290231990654229,
          -0.11138631857802075,
          -0.05448570222955548,
          -0.01123965896454139,
          -0.2226313490228529,
          -0.0393105325998334,
          0.17844910318351162,
          -0.286705625233339,
          -0.09663531703696926,
          -0.068002320737622,
          -0.1635728960690151,
          -0.03982122582513232,
          -0.40735991133144234,
          0.07121165901070961,
          -0.18884865466144632,
          0.2749403525619294,
          -0.3556030715131683,
          0.20263386589566412,
          0.298511952502875,
          0.5072504183957834,
          0.5040333098234926,
          -0.040949044127212945,
          0.28125338768321534,
          0.14252572956498888,
          0.11482038814827848,
          -0.12830817954106657,
          0.22548423237741053,
          0.08173269233795336,
          0.030234627048340727
         ]
        }
       ],
       "layout": {
        "autosize": true,
        "dragmode": "pan",
        "template": {
         "data": {
          "bar": [
           {
            "error_x": {
             "color": "#f2f5fa"
            },
            "error_y": {
             "color": "#f2f5fa"
            },
            "marker": {
             "line": {
              "color": "rgb(17,17,17)",
              "width": 0.5
             }
            },
            "type": "bar"
           }
          ],
          "barpolar": [
           {
            "marker": {
             "line": {
              "color": "rgb(17,17,17)",
              "width": 0.5
             }
            },
            "type": "barpolar"
           }
          ],
          "carpet": [
           {
            "aaxis": {
             "endlinecolor": "#A2B1C6",
             "gridcolor": "#506784",
             "linecolor": "#506784",
             "minorgridcolor": "#506784",
             "startlinecolor": "#A2B1C6"
            },
            "baxis": {
             "endlinecolor": "#A2B1C6",
             "gridcolor": "#506784",
             "linecolor": "#506784",
             "minorgridcolor": "#506784",
             "startlinecolor": "#A2B1C6"
            },
            "type": "carpet"
           }
          ],
          "choropleth": [
           {
            "colorbar": {
             "outlinewidth": 0,
             "ticks": ""
            },
            "type": "choropleth"
           }
          ],
          "contour": [
           {
            "colorbar": {
             "outlinewidth": 0,
             "ticks": ""
            },
            "colorscale": [
             [
              0,
              "#0d0887"
             ],
             [
              0.1111111111111111,
              "#46039f"
             ],
             [
              0.2222222222222222,
              "#7201a8"
             ],
             [
              0.3333333333333333,
              "#9c179e"
             ],
             [
              0.4444444444444444,
              "#bd3786"
             ],
             [
              0.5555555555555556,
              "#d8576b"
             ],
             [
              0.6666666666666666,
              "#ed7953"
             ],
             [
              0.7777777777777778,
              "#fb9f3a"
             ],
             [
              0.8888888888888888,
              "#fdca26"
             ],
             [
              1,
              "#f0f921"
             ]
            ],
            "type": "contour"
           }
          ],
          "contourcarpet": [
           {
            "colorbar": {
             "outlinewidth": 0,
             "ticks": ""
            },
            "type": "contourcarpet"
           }
          ],
          "heatmap": [
           {
            "colorbar": {
             "outlinewidth": 0,
             "ticks": ""
            },
            "colorscale": [
             [
              0,
              "#0d0887"
             ],
             [
              0.1111111111111111,
              "#46039f"
             ],
             [
              0.2222222222222222,
              "#7201a8"
             ],
             [
              0.3333333333333333,
              "#9c179e"
             ],
             [
              0.4444444444444444,
              "#bd3786"
             ],
             [
              0.5555555555555556,
              "#d8576b"
             ],
             [
              0.6666666666666666,
              "#ed7953"
             ],
             [
              0.7777777777777778,
              "#fb9f3a"
             ],
             [
              0.8888888888888888,
              "#fdca26"
             ],
             [
              1,
              "#f0f921"
             ]
            ],
            "type": "heatmap"
           }
          ],
          "heatmapgl": [
           {
            "colorbar": {
             "outlinewidth": 0,
             "ticks": ""
            },
            "colorscale": [
             [
              0,
              "#0d0887"
             ],
             [
              0.1111111111111111,
              "#46039f"
             ],
             [
              0.2222222222222222,
              "#7201a8"
             ],
             [
              0.3333333333333333,
              "#9c179e"
             ],
             [
              0.4444444444444444,
              "#bd3786"
             ],
             [
              0.5555555555555556,
              "#d8576b"
             ],
             [
              0.6666666666666666,
              "#ed7953"
             ],
             [
              0.7777777777777778,
              "#fb9f3a"
             ],
             [
              0.8888888888888888,
              "#fdca26"
             ],
             [
              1,
              "#f0f921"
             ]
            ],
            "type": "heatmapgl"
           }
          ],
          "histogram": [
           {
            "marker": {
             "colorbar": {
              "outlinewidth": 0,
              "ticks": ""
             }
            },
            "type": "histogram"
           }
          ],
          "histogram2d": [
           {
            "colorbar": {
             "outlinewidth": 0,
             "ticks": ""
            },
            "colorscale": [
             [
              0,
              "#0d0887"
             ],
             [
              0.1111111111111111,
              "#46039f"
             ],
             [
              0.2222222222222222,
              "#7201a8"
             ],
             [
              0.3333333333333333,
              "#9c179e"
             ],
             [
              0.4444444444444444,
              "#bd3786"
             ],
             [
              0.5555555555555556,
              "#d8576b"
             ],
             [
              0.6666666666666666,
              "#ed7953"
             ],
             [
              0.7777777777777778,
              "#fb9f3a"
             ],
             [
              0.8888888888888888,
              "#fdca26"
             ],
             [
              1,
              "#f0f921"
             ]
            ],
            "type": "histogram2d"
           }
          ],
          "histogram2dcontour": [
           {
            "colorbar": {
             "outlinewidth": 0,
             "ticks": ""
            },
            "colorscale": [
             [
              0,
              "#0d0887"
             ],
             [
              0.1111111111111111,
              "#46039f"
             ],
             [
              0.2222222222222222,
              "#7201a8"
             ],
             [
              0.3333333333333333,
              "#9c179e"
             ],
             [
              0.4444444444444444,
              "#bd3786"
             ],
             [
              0.5555555555555556,
              "#d8576b"
             ],
             [
              0.6666666666666666,
              "#ed7953"
             ],
             [
              0.7777777777777778,
              "#fb9f3a"
             ],
             [
              0.8888888888888888,
              "#fdca26"
             ],
             [
              1,
              "#f0f921"
             ]
            ],
            "type": "histogram2dcontour"
           }
          ],
          "mesh3d": [
           {
            "colorbar": {
             "outlinewidth": 0,
             "ticks": ""
            },
            "type": "mesh3d"
           }
          ],
          "parcoords": [
           {
            "line": {
             "colorbar": {
              "outlinewidth": 0,
              "ticks": ""
             }
            },
            "type": "parcoords"
           }
          ],
          "pie": [
           {
            "automargin": true,
            "type": "pie"
           }
          ],
          "scatter": [
           {
            "marker": {
             "line": {
              "color": "#283442"
             }
            },
            "type": "scatter"
           }
          ],
          "scatter3d": [
           {
            "line": {
             "colorbar": {
              "outlinewidth": 0,
              "ticks": ""
             }
            },
            "marker": {
             "colorbar": {
              "outlinewidth": 0,
              "ticks": ""
             }
            },
            "type": "scatter3d"
           }
          ],
          "scattercarpet": [
           {
            "marker": {
             "colorbar": {
              "outlinewidth": 0,
              "ticks": ""
             }
            },
            "type": "scattercarpet"
           }
          ],
          "scattergeo": [
           {
            "marker": {
             "colorbar": {
              "outlinewidth": 0,
              "ticks": ""
             }
            },
            "type": "scattergeo"
           }
          ],
          "scattergl": [
           {
            "marker": {
             "line": {
              "color": "#283442"
             }
            },
            "type": "scattergl"
           }
          ],
          "scattermapbox": [
           {
            "marker": {
             "colorbar": {
              "outlinewidth": 0,
              "ticks": ""
             }
            },
            "type": "scattermapbox"
           }
          ],
          "scatterpolar": [
           {
            "marker": {
             "colorbar": {
              "outlinewidth": 0,
              "ticks": ""
             }
            },
            "type": "scatterpolar"
           }
          ],
          "scatterpolargl": [
           {
            "marker": {
             "colorbar": {
              "outlinewidth": 0,
              "ticks": ""
             }
            },
            "type": "scatterpolargl"
           }
          ],
          "scatterternary": [
           {
            "marker": {
             "colorbar": {
              "outlinewidth": 0,
              "ticks": ""
             }
            },
            "type": "scatterternary"
           }
          ],
          "surface": [
           {
            "colorbar": {
             "outlinewidth": 0,
             "ticks": ""
            },
            "colorscale": [
             [
              0,
              "#0d0887"
             ],
             [
              0.1111111111111111,
              "#46039f"
             ],
             [
              0.2222222222222222,
              "#7201a8"
             ],
             [
              0.3333333333333333,
              "#9c179e"
             ],
             [
              0.4444444444444444,
              "#bd3786"
             ],
             [
              0.5555555555555556,
              "#d8576b"
             ],
             [
              0.6666666666666666,
              "#ed7953"
             ],
             [
              0.7777777777777778,
              "#fb9f3a"
             ],
             [
              0.8888888888888888,
              "#fdca26"
             ],
             [
              1,
              "#f0f921"
             ]
            ],
            "type": "surface"
           }
          ],
          "table": [
           {
            "cells": {
             "fill": {
              "color": "#506784"
             },
             "line": {
              "color": "rgb(17,17,17)"
             }
            },
            "header": {
             "fill": {
              "color": "#2a3f5f"
             },
             "line": {
              "color": "rgb(17,17,17)"
             }
            },
            "type": "table"
           }
          ]
         },
         "layout": {
          "annotationdefaults": {
           "arrowcolor": "#f2f5fa",
           "arrowhead": 0,
           "arrowwidth": 1
          },
          "autotypenumbers": "strict",
          "coloraxis": {
           "colorbar": {
            "outlinewidth": 0,
            "ticks": ""
           }
          },
          "colorscale": {
           "diverging": [
            [
             0,
             "#8e0152"
            ],
            [
             0.1,
             "#c51b7d"
            ],
            [
             0.2,
             "#de77ae"
            ],
            [
             0.3,
             "#f1b6da"
            ],
            [
             0.4,
             "#fde0ef"
            ],
            [
             0.5,
             "#f7f7f7"
            ],
            [
             0.6,
             "#e6f5d0"
            ],
            [
             0.7,
             "#b8e186"
            ],
            [
             0.8,
             "#7fbc41"
            ],
            [
             0.9,
             "#4d9221"
            ],
            [
             1,
             "#276419"
            ]
           ],
           "sequential": [
            [
             0,
             "#0d0887"
            ],
            [
             0.1111111111111111,
             "#46039f"
            ],
            [
             0.2222222222222222,
             "#7201a8"
            ],
            [
             0.3333333333333333,
             "#9c179e"
            ],
            [
             0.4444444444444444,
             "#bd3786"
            ],
            [
             0.5555555555555556,
             "#d8576b"
            ],
            [
             0.6666666666666666,
             "#ed7953"
            ],
            [
             0.7777777777777778,
             "#fb9f3a"
            ],
            [
             0.8888888888888888,
             "#fdca26"
            ],
            [
             1,
             "#f0f921"
            ]
           ],
           "sequentialminus": [
            [
             0,
             "#0d0887"
            ],
            [
             0.1111111111111111,
             "#46039f"
            ],
            [
             0.2222222222222222,
             "#7201a8"
            ],
            [
             0.3333333333333333,
             "#9c179e"
            ],
            [
             0.4444444444444444,
             "#bd3786"
            ],
            [
             0.5555555555555556,
             "#d8576b"
            ],
            [
             0.6666666666666666,
             "#ed7953"
            ],
            [
             0.7777777777777778,
             "#fb9f3a"
            ],
            [
             0.8888888888888888,
             "#fdca26"
            ],
            [
             1,
             "#f0f921"
            ]
           ]
          },
          "colorway": [
           "#636efa",
           "#EF553B",
           "#00cc96",
           "#ab63fa",
           "#FFA15A",
           "#19d3f3",
           "#FF6692",
           "#B6E880",
           "#FF97FF",
           "#FECB52"
          ],
          "font": {
           "color": "#f2f5fa"
          },
          "geo": {
           "bgcolor": "rgb(17,17,17)",
           "lakecolor": "rgb(17,17,17)",
           "landcolor": "rgb(17,17,17)",
           "showlakes": true,
           "showland": true,
           "subunitcolor": "#506784"
          },
          "hoverlabel": {
           "align": "left"
          },
          "hovermode": "closest",
          "mapbox": {
           "style": "dark"
          },
          "paper_bgcolor": "rgb(17,17,17)",
          "plot_bgcolor": "rgb(17,17,17)",
          "polar": {
           "angularaxis": {
            "gridcolor": "#506784",
            "linecolor": "#506784",
            "ticks": ""
           },
           "bgcolor": "rgb(17,17,17)",
           "radialaxis": {
            "gridcolor": "#506784",
            "linecolor": "#506784",
            "ticks": ""
           }
          },
          "scene": {
           "xaxis": {
            "backgroundcolor": "rgb(17,17,17)",
            "gridcolor": "#506784",
            "gridwidth": 2,
            "linecolor": "#506784",
            "showbackground": true,
            "ticks": "",
            "zerolinecolor": "#C8D4E3"
           },
           "yaxis": {
            "backgroundcolor": "rgb(17,17,17)",
            "gridcolor": "#506784",
            "gridwidth": 2,
            "linecolor": "#506784",
            "showbackground": true,
            "ticks": "",
            "zerolinecolor": "#C8D4E3"
           },
           "zaxis": {
            "backgroundcolor": "rgb(17,17,17)",
            "gridcolor": "#506784",
            "gridwidth": 2,
            "linecolor": "#506784",
            "showbackground": true,
            "ticks": "",
            "zerolinecolor": "#C8D4E3"
           }
          },
          "shapedefaults": {
           "line": {
            "color": "#f2f5fa"
           }
          },
          "sliderdefaults": {
           "bgcolor": "#C8D4E3",
           "bordercolor": "rgb(17,17,17)",
           "borderwidth": 1,
           "tickwidth": 0
          },
          "ternary": {
           "aaxis": {
            "gridcolor": "#506784",
            "linecolor": "#506784",
            "ticks": ""
           },
           "baxis": {
            "gridcolor": "#506784",
            "linecolor": "#506784",
            "ticks": ""
           },
           "bgcolor": "rgb(17,17,17)",
           "caxis": {
            "gridcolor": "#506784",
            "linecolor": "#506784",
            "ticks": ""
           }
          },
          "title": {
           "x": 0.05
          },
          "updatemenudefaults": {
           "bgcolor": "#506784",
           "borderwidth": 0
          },
          "xaxis": {
           "automargin": true,
           "gridcolor": "#283442",
           "linecolor": "#506784",
           "ticks": "",
           "title": {
            "standoff": 15
           },
           "zerolinecolor": "#283442",
           "zerolinewidth": 2
          },
          "yaxis": {
           "automargin": true,
           "gridcolor": "#283442",
           "linecolor": "#506784",
           "ticks": "",
           "title": {
            "standoff": 15
           },
           "zerolinecolor": "#283442",
           "zerolinewidth": 2
          }
         }
        },
        "xaxis": {
         "autorange": true,
         "range": [
          -0.8262595832219535,
          1.125988075660433
         ],
         "type": "linear"
        },
        "yaxis": {
         "autorange": true,
         "range": [
          -0.5006562827584671,
          0.6005467898228082
         ],
         "type": "linear"
        }
       }
      },
      "image/png": "[encoded data removed]",
      "text/html": [
       "<div>                            <div id=\"fc601520-22f8-48b1-b448-fabba36cc7d5\" class=\"plotly-graph-div\" style=\"height:525px; width:100%;\"></div>            <script type=\"text/javascript\">                require([\"plotly\"], function(Plotly) {                    window.PLOTLYENV=window.PLOTLYENV || {};                                    if (document.getElementById(\"fc601520-22f8-48b1-b448-fabba36cc7d5\")) {                    Plotly.newPlot(                        \"fc601520-22f8-48b1-b448-fabba36cc7d5\",                        [{\"line\": {\"width\": 1}, \"marker\": {\"color\": [2, 3, 2, 3, 4, 4, 4, 1, 3, 1, 4, 0, 4, 3, 4, 4, 0, 4, 4, 1, 4, 4, 4, 1, 0, 0, 4, 1, 1, 1, 1, 3, 2, 2], \"colorscale\": [[0.0, \"rgb(0,0,131)\"], [0.2, \"rgb(0,60,170)\"], [0.4, \"rgb(5,255,255)\"], [0.6, \"rgb(255,255,0)\"], [0.8, \"rgb(250,0,0)\"], [1.0, \"rgb(128,0,0)\"]], \"size\": 15}, \"mode\": \"lines\", \"name\": \"edges\", \"type\": \"scatter\", \"uid\": \"b88ca00d-f754-4d32-9b31-4c14eada2ebc\", \"x\": [0.3298847870868271, 0.13592534419940663, null, 0.3298847870868271, -0.0026129344486409845, null, 0.3298847870868271, 0.25133192590411957, null, 0.3298847870868271, 0.648374404846664, null, 0.3298847870868271, 0.7461237350436676, null, 0.3298847870868271, 0.7596912636248602, null, 0.3298847870868271, 0.22238157034256897, null, 0.3298847870868271, -0.09008282935927277, null, 0.3298847870868271, 0.6221466266203255, null, 0.3298847870868271, 0.5537311819816114, null, 0.3298847870868271, 0.485937664175994, null, 0.3298847870868271, 0.05852549901390687, null, 0.3298847870868271, 0.2746798830015628, null, 0.3298847870868271, -0.01523683466377873, null, 0.3298847870868271, 0.36786251143126164, null, 0.3298847870868271, -0.06688556236592828, null, 0.13592534419940663, -0.0026129344486409845, null, 0.13592534419940663, 0.25133192590411957, null, 0.13592534419940663, 0.22238157034256897, null, 0.13592534419940663, 0.05852549901390687, null, 0.13592534419940663, 0.2746798830015628, null, 0.13592534419940663, -0.01523683466377873, null, 0.13592534419940663, 0.36786251143126164, null, 0.13592534419940663, -0.18841138890578674, null, -0.0026129344486409845, 0.25133192590411957, null, -0.0026129344486409845, 0.22238157034256897, null, -0.0026129344486409845, -0.09008282935927277, null, -0.0026129344486409845, -0.26327337284606656, null, -0.0026129344486409845, 0.05852549901390687, null, -0.0026129344486409845, -0.19008345342978733, null, -0.0026129344486409845, -0.15406985069416662, null, -0.0026129344486409845, -0.37020748937230696, null, 0.25133192590411957, 0.22238157034256897, null, 0.25133192590411957, 0.485937664175994, null, 0.25133192590411957, 0.05852549901390687, null, 0.648374404846664, 0.7596912636248602, null, 0.648374404846664, 0.6221466266203255, null, 0.7461237350436676, 0.7596912636248602, null, 0.7461237350436676, 0.6221466266203255, null, 0.7461237350436676, 1.0, null, 0.7596912636248602, 1.0, null, -0.09008282935927277, -0.18841138890578674, null, -0.09008282935927277, -0.37020748937230696, null, -0.09008282935927277, -0.33426126947462476, null, -0.26327337284606656, -0.33426126947462476, null, 0.05852549901390687, -0.33426126947462476, null, -0.5689344694185378, -0.37020748937230696, null, -0.5689344694185378, -0.33426126947462476, null, -0.5109660370872692, -0.37020748937230696, null, -0.5109660370872692, -0.33426126947462476, null, -0.6400476710385603, -0.37020748937230696, null, -0.6400476710385603, -0.33426126947462476, null, -0.01523683466377873, -0.33426126947462476, null, -0.5207484882464669, -0.37020748937230696, null, -0.5207484882464669, -0.33426126947462476, null, -0.599832300262561, -0.37020748937230696, null, -0.599832300262561, -0.33426126947462476, null, -0.37929234229515174, -0.22806056333110994, null, -0.37929234229515174, -0.19008345342978733, null, -0.37929234229515174, -0.5452984254025316, null, -0.37929234229515174, -0.37020748937230696, null, -0.37929234229515174, -0.33426126947462476, null, -0.08801960706870685, -0.22806056333110994, null, -0.08801960706870685, -0.19008345342978733, null, -0.08801960706870685, -0.06688556236592828, null, -0.22806056333110994, -0.06688556236592828, null, -0.7002715075615203, -0.5452984254025316, null, -0.7002715075615203, -0.33426126947462476, null, -0.19008345342978733, -0.33426126947462476, null, -0.15406985069416662, -0.06688556236592828, null, -0.15406985069416662, -0.33426126947462476, null, -0.5452984254025316, -0.37020748937230696, null, -0.5452984254025316, -0.33426126947462476, null, -0.18841138890578674, -0.37020748937230696, null, -0.18841138890578674, -0.33426126947462476, null, -0.06688556236592828, -0.37020748937230696, null, -0.06688556236592828, -0.33426126947462476, null, -0.37020748937230696, -0.33426126947462476, null], \"y\": [-0.08139194223368576, -0.22695383848983483, null, -0.08139194223368576, -0.01871223379785289, null, -0.08139194223368576, -0.1830970651106816, null, -0.08139194223368576, -0.1863378082318158, null, -0.08139194223368576, -0.0017290231990654229, null, -0.08139194223368576, -0.11138631857802075, null, -0.08139194223368576, -0.05448570222955548, null, -0.08139194223368576, -0.01123965896454139, null, -0.08139194223368576, -0.0393105325998334, null, -0.08139194223368576, 0.17844910318351162, null, -0.08139194223368576, -0.286705625233339, null, -0.08139194223368576, -0.09663531703696926, null, -0.08139194223368576, -0.40735991133144234, null, -0.08139194223368576, -0.18884865466144632, null, -0.08139194223368576, -0.3556030715131683, null, -0.08139194223368576, 0.22548423237741053, null, -0.22695383848983483, -0.01871223379785289, null, -0.22695383848983483, -0.1830970651106816, null, -0.22695383848983483, -0.05448570222955548, null, -0.22695383848983483, -0.09663531703696926, null, -0.22695383848983483, -0.40735991133144234, null, -0.22695383848983483, -0.18884865466144632, null, -0.22695383848983483, -0.3556030715131683, null, -0.22695383848983483, -0.12830817954106657, null, -0.01871223379785289, -0.1830970651106816, null, -0.01871223379785289, -0.05448570222955548, null, -0.01871223379785289, -0.01123965896454139, null, -0.01871223379785289, -0.2226313490228529, null, -0.01871223379785289, -0.09663531703696926, null, -0.01871223379785289, 0.28125338768321534, null, -0.01871223379785289, 0.14252572956498888, null, -0.01871223379785289, 0.08173269233795336, null, -0.1830970651106816, -0.05448570222955548, null, -0.1830970651106816, -0.286705625233339, null, -0.1830970651106816, -0.09663531703696926, null, -0.1863378082318158, -0.11138631857802075, null, -0.1863378082318158, -0.0393105325998334, null, -0.0017290231990654229, -0.11138631857802075, null, -0.0017290231990654229, -0.0393105325998334, null, -0.0017290231990654229, -0.03982122582513232, null, -0.11138631857802075, -0.03982122582513232, null, -0.01123965896454139, -0.12830817954106657, null, -0.01123965896454139, 0.08173269233795336, null, -0.01123965896454139, 0.030234627048340727, null, -0.2226313490228529, 0.030234627048340727, null, -0.09663531703696926, 0.030234627048340727, null, -0.068002320737622, 0.08173269233795336, null, -0.068002320737622, 0.030234627048340727, null, -0.1635728960690151, 0.08173269233795336, null, -0.1635728960690151, 0.030234627048340727, null, 0.07121165901070961, 0.08173269233795336, null, 0.07121165901070961, 0.030234627048340727, null, -0.18884865466144632, 0.030234627048340727, null, 0.2749403525619294, 0.08173269233795336, null, 0.2749403525619294, 0.030234627048340727, null, 0.20263386589566412, 0.08173269233795336, null, 0.20263386589566412, 0.030234627048340727, null, 0.298511952502875, 0.5040333098234926, null, 0.298511952502875, 0.28125338768321534, null, 0.298511952502875, 0.11482038814827848, null, 0.298511952502875, 0.08173269233795336, null, 0.298511952502875, 0.030234627048340727, null, 0.5072504183957834, 0.5040333098234926, null, 0.5072504183957834, 0.28125338768321534, null, 0.5072504183957834, 0.22548423237741053, null, 0.5040333098234926, 0.22548423237741053, null, -0.040949044127212945, 0.11482038814827848, null, -0.040949044127212945, 0.030234627048340727, null, 0.28125338768321534, 0.030234627048340727, null, 0.14252572956498888, 0.22548423237741053, null, 0.14252572956498888, 0.030234627048340727, null, 0.11482038814827848, 0.08173269233795336, null, 0.11482038814827848, 0.030234627048340727, null, -0.12830817954106657, 0.08173269233795336, null, -0.12830817954106657, 0.030234627048340727, null, 0.22548423237741053, 0.08173269233795336, null, 0.22548423237741053, 0.030234627048340727, null, 0.08173269233795336, 0.030234627048340727, null]}, {\"customdata\": [[1.0, 1.0, 16.0, 2.0, 0.3298847870868271, -0.08139194223368576], [2.0, 1.0, 9.0, 3.0, 0.13592534419940663, -0.22695383848983483], [3.0, 1.0, 10.0, 2.0, -0.0026129344486409845, -0.01871223379785289], [4.0, 1.0, 6.0, 3.0, 0.25133192590411957, -0.1830970651106816], [5.0, 1.0, 3.0, 4.0, 0.648374404846664, -0.1863378082318158], [6.0, 1.0, 4.0, 4.0, 0.7461237350436676, -0.0017290231990654229], [7.0, 1.0, 4.0, 4.0, 0.7596912636248602, -0.11138631857802075], [8.0, 1.0, 4.0, 1.0, 0.22238157034256897, -0.05448570222955548], [9.0, 1.0, 5.0, 3.0, -0.09008282935927277, -0.01123965896454139], [10.0, 1.0, 2.0, 1.0, -0.26327337284606656, -0.2226313490228529], [11.0, 1.0, 3.0, 4.0, 0.6221466266203255, -0.0393105325998334], [12.0, 1.0, 1.0, 0.0, 0.5537311819816114, 0.17844910318351162], [13.0, 1.0, 2.0, 4.0, 0.485937664175994, -0.286705625233339], [14.0, 1.0, 5.0, 3.0, 0.05852549901390687, -0.09663531703696926], [15.0, 1.0, 2.0, 4.0, -0.5689344694185378, -0.068002320737622], [16.0, 1.0, 2.0, 4.0, -0.5109660370872692, -0.1635728960690151], [17.0, 1.0, 2.0, 0.0, 1.0, -0.03982122582513232], [18.0, 1.0, 2.0, 4.0, 0.2746798830015628, -0.40735991133144234], [19.0, 1.0, 2.0, 4.0, -0.6400476710385603, 0.07121165901070961], [20.0, 1.0, 3.0, 1.0, -0.01523683466377873, -0.18884865466144632], [21.0, 1.0, 2.0, 4.0, -0.5207484882464669, 0.2749403525619294], [22.0, 1.0, 2.0, 4.0, 0.36786251143126164, -0.3556030715131683], [23.0, 1.0, 2.0, 4.0, -0.599832300262561, 0.20263386589566412], [24.0, 1.0, 5.0, 1.0, -0.37929234229515174, 0.298511952502875], [25.0, 1.0, 3.0, 0.0, -0.08801960706870685, 0.5072504183957834], [26.0, 1.0, 3.0, 0.0, -0.22806056333110994, 0.5040333098234926], [27.0, 1.0, 2.0, 4.0, -0.7002715075615203, -0.040949044127212945], [28.0, 1.0, 4.0, 1.0, -0.19008345342978733, 0.28125338768321534], [29.0, 1.0, 3.0, 1.0, -0.15406985069416662, 0.14252572956498888], [30.0, 1.0, 4.0, 1.0, -0.5452984254025316, 0.11482038814827848], [31.0, 1.0, 4.0, 1.0, -0.18841138890578674, -0.12830817954106657], [32.0, 1.0, 6.0, 3.0, -0.06688556236592828, 0.22548423237741053], [33.0, 1.0, 12.0, 2.0, -0.37020748937230696, 0.08173269233795336], [34.0, 1.0, 17.0, 2.0, -0.33426126947462476, 0.030234627048340727]], \"hovertemplate\": \"node_name: %{customdata[0]} <br> radius: %{customdata[1]} <br> degree: %{customdata[2]} <br> cluster: %{customdata[3]} <br> nodes_x: %{customdata[4]} <br> nodes_y: %{customdata[5]} <br> \", \"marker\": {\"color\": [2, 3, 2, 3, 4, 4, 4, 1, 3, 1, 4, 0, 4, 3, 4, 4, 0, 4, 4, 1, 4, 4, 4, 1, 0, 0, 4, 1, 1, 1, 1, 3, 2, 2], \"colorscale\": [[0.0, \"rgb(0,0,131)\"], [0.2, \"rgb(0,60,170)\"], [0.4, \"rgb(5,255,255)\"], [0.6, \"rgb(255,255,0)\"], [0.8, \"rgb(250,0,0)\"], [1.0, \"rgb(128,0,0)\"]], \"size\": 15}, \"mode\": \"markers\", \"name\": \"Node\", \"text\": [1.0, 2.0, 3.0, 4.0, 5.0, 6.0, 7.0, 8.0, 9.0, 10.0, 11.0, 12.0, 13.0, 14.0, 15.0, 16.0, 17.0, 18.0, 19.0, 20.0, 21.0, 22.0, 23.0, 24.0, 25.0, 26.0, 27.0, 28.0, 29.0, 30.0, 31.0, 32.0, 33.0, 34.0], \"type\": \"scatter\", \"uid\": \"bcf28426-25e4-4e5a-8218-8eec761c1749\", \"x\": [0.3298847870868271, 0.13592534419940663, -0.0026129344486409845, 0.25133192590411957, 0.648374404846664, 0.7461237350436676, 0.7596912636248602, 0.22238157034256897, -0.09008282935927277, -0.26327337284606656, 0.6221466266203255, 0.5537311819816114, 0.485937664175994, 0.05852549901390687, -0.5689344694185378, -0.5109660370872692, 1.0, 0.2746798830015628, -0.6400476710385603, -0.01523683466377873, -0.5207484882464669, 0.36786251143126164, -0.599832300262561, -0.37929234229515174, -0.08801960706870685, -0.22806056333110994, -0.7002715075615203, -0.19008345342978733, -0.15406985069416662, -0.5452984254025316, -0.18841138890578674, -0.06688556236592828, -0.37020748937230696, -0.33426126947462476], \"y\": [-0.08139194223368576, -0.22695383848983483, -0.01871223379785289, -0.1830970651106816, -0.1863378082318158, -0.0017290231990654229, -0.11138631857802075, -0.05448570222955548, -0.01123965896454139, -0.2226313490228529, -0.0393105325998334, 0.17844910318351162, -0.286705625233339, -0.09663531703696926, -0.068002320737622, -0.1635728960690151, -0.03982122582513232, -0.40735991133144234, 0.07121165901070961, -0.18884865466144632, 0.2749403525619294, -0.3556030715131683, 0.20263386589566412, 0.298511952502875, 0.5072504183957834, 0.5040333098234926, -0.040949044127212945, 0.28125338768321534, 0.14252572956498888, 0.11482038814827848, -0.12830817954106657, 0.22548423237741053, 0.08173269233795336, 0.030234627048340727]}],                        {\"dragmode\": \"pan\", \"template\": {\"data\": {\"bar\": [{\"error_x\": {\"color\": \"#f2f5fa\"}, \"error_y\": {\"color\": \"#f2f5fa\"}, \"marker\": {\"line\": {\"color\": \"rgb(17,17,17)\", \"width\": 0.5}}, \"type\": \"bar\"}], \"barpolar\": [{\"marker\": {\"line\": {\"color\": \"rgb(17,17,17)\", \"width\": 0.5}}, \"type\": \"barpolar\"}], \"carpet\": [{\"aaxis\": {\"endlinecolor\": \"#A2B1C6\", \"gridcolor\": \"#506784\", \"linecolor\": \"#506784\", \"minorgridcolor\": \"#506784\", \"startlinecolor\": \"#A2B1C6\"}, \"baxis\": {\"endlinecolor\": \"#A2B1C6\", \"gridcolor\": \"#506784\", \"linecolor\": \"#506784\", \"minorgridcolor\": \"#506784\", \"startlinecolor\": \"#A2B1C6\"}, \"type\": \"carpet\"}], \"choropleth\": [{\"colorbar\": {\"outlinewidth\": 0, \"ticks\": \"\"}, \"type\": \"choropleth\"}], \"contour\": [{\"colorbar\": {\"outlinewidth\": 0, \"ticks\": \"\"}, \"colorscale\": [[0.0, \"#0d0887\"], [0.1111111111111111, \"#46039f\"], [0.2222222222222222, \"#7201a8\"], [0.3333333333333333, \"#9c179e\"], [0.4444444444444444, \"#bd3786\"], [0.5555555555555556, \"#d8576b\"], [0.6666666666666666, \"#ed7953\"], [0.7777777777777778, \"#fb9f3a\"], [0.8888888888888888, \"#fdca26\"], [1.0, \"#f0f921\"]], \"type\": \"contour\"}], \"contourcarpet\": [{\"colorbar\": {\"outlinewidth\": 0, \"ticks\": \"\"}, \"type\": \"contourcarpet\"}], \"heatmap\": [{\"colorbar\": {\"outlinewidth\": 0, \"ticks\": \"\"}, \"colorscale\": [[0.0, \"#0d0887\"], [0.1111111111111111, \"#46039f\"], [0.2222222222222222, \"#7201a8\"], [0.3333333333333333, \"#9c179e\"], [0.4444444444444444, \"#bd3786\"], [0.5555555555555556, \"#d8576b\"], [0.6666666666666666, \"#ed7953\"], [0.7777777777777778, \"#fb9f3a\"], [0.8888888888888888, \"#fdca26\"], [1.0, \"#f0f921\"]], \"type\": \"heatmap\"}], \"heatmapgl\": [{\"colorbar\": {\"outlinewidth\": 0, \"ticks\": \"\"}, \"colorscale\": [[0.0, \"#0d0887\"], [0.1111111111111111, \"#46039f\"], [0.2222222222222222, \"#7201a8\"], [0.3333333333333333, \"#9c179e\"], [0.4444444444444444, \"#bd3786\"], [0.5555555555555556, \"#d8576b\"], [0.6666666666666666, \"#ed7953\"], [0.7777777777777778, \"#fb9f3a\"], [0.8888888888888888, \"#fdca26\"], [1.0, \"#f0f921\"]], \"type\": \"heatmapgl\"}], \"histogram\": [{\"marker\": {\"colorbar\": {\"outlinewidth\": 0, \"ticks\": \"\"}}, \"type\": \"histogram\"}], \"histogram2d\": [{\"colorbar\": {\"outlinewidth\": 0, \"ticks\": \"\"}, \"colorscale\": [[0.0, \"#0d0887\"], [0.1111111111111111, \"#46039f\"], [0.2222222222222222, \"#7201a8\"], [0.3333333333333333, \"#9c179e\"], [0.4444444444444444, \"#bd3786\"], [0.5555555555555556, \"#d8576b\"], [0.6666666666666666, \"#ed7953\"], [0.7777777777777778, \"#fb9f3a\"], [0.8888888888888888, \"#fdca26\"], [1.0, \"#f0f921\"]], \"type\": \"histogram2d\"}], \"histogram2dcontour\": [{\"colorbar\": {\"outlinewidth\": 0, \"ticks\": \"\"}, \"colorscale\": [[0.0, \"#0d0887\"], [0.1111111111111111, \"#46039f\"], [0.2222222222222222, \"#7201a8\"], [0.3333333333333333, \"#9c179e\"], [0.4444444444444444, \"#bd3786\"], [0.5555555555555556, \"#d8576b\"], [0.6666666666666666, \"#ed7953\"], [0.7777777777777778, \"#fb9f3a\"], [0.8888888888888888, \"#fdca26\"], [1.0, \"#f0f921\"]], \"type\": \"histogram2dcontour\"}], \"mesh3d\": [{\"colorbar\": {\"outlinewidth\": 0, \"ticks\": \"\"}, \"type\": \"mesh3d\"}], \"parcoords\": [{\"line\": {\"colorbar\": {\"outlinewidth\": 0, \"ticks\": \"\"}}, \"type\": \"parcoords\"}], \"pie\": [{\"automargin\": true, \"type\": \"pie\"}], \"scatter\": [{\"marker\": {\"line\": {\"color\": \"#283442\"}}, \"type\": \"scatter\"}], \"scatter3d\": [{\"line\": {\"colorbar\": {\"outlinewidth\": 0, \"ticks\": \"\"}}, \"marker\": {\"colorbar\": {\"outlinewidth\": 0, \"ticks\": \"\"}}, \"type\": \"scatter3d\"}], \"scattercarpet\": [{\"marker\": {\"colorbar\": {\"outlinewidth\": 0, \"ticks\": \"\"}}, \"type\": \"scattercarpet\"}], \"scattergeo\": [{\"marker\": {\"colorbar\": {\"outlinewidth\": 0, \"ticks\": \"\"}}, \"type\": \"scattergeo\"}], \"scattergl\": [{\"marker\": {\"line\": {\"color\": \"#283442\"}}, \"type\": \"scattergl\"}], \"scattermapbox\": [{\"marker\": {\"colorbar\": {\"outlinewidth\": 0, \"ticks\": \"\"}}, \"type\": \"scattermapbox\"}], \"scatterpolar\": [{\"marker\": {\"colorbar\": {\"outlinewidth\": 0, \"ticks\": \"\"}}, \"type\": \"scatterpolar\"}], \"scatterpolargl\": [{\"marker\": {\"colorbar\": {\"outlinewidth\": 0, \"ticks\": \"\"}}, \"type\": \"scatterpolargl\"}], \"scatterternary\": [{\"marker\": {\"colorbar\": {\"outlinewidth\": 0, \"ticks\": \"\"}}, \"type\": \"scatterternary\"}], \"surface\": [{\"colorbar\": {\"outlinewidth\": 0, \"ticks\": \"\"}, \"colorscale\": [[0.0, \"#0d0887\"], [0.1111111111111111, \"#46039f\"], [0.2222222222222222, \"#7201a8\"], [0.3333333333333333, \"#9c179e\"], [0.4444444444444444, \"#bd3786\"], [0.5555555555555556, \"#d8576b\"], [0.6666666666666666, \"#ed7953\"], [0.7777777777777778, \"#fb9f3a\"], [0.8888888888888888, \"#fdca26\"], [1.0, \"#f0f921\"]], \"type\": \"surface\"}], \"table\": [{\"cells\": {\"fill\": {\"color\": \"#506784\"}, \"line\": {\"color\": \"rgb(17,17,17)\"}}, \"header\": {\"fill\": {\"color\": \"#2a3f5f\"}, \"line\": {\"color\": \"rgb(17,17,17)\"}}, \"type\": \"table\"}]}, \"layout\": {\"annotationdefaults\": {\"arrowcolor\": \"#f2f5fa\", \"arrowhead\": 0, \"arrowwidth\": 1}, \"autotypenumbers\": \"strict\", \"coloraxis\": {\"colorbar\": {\"outlinewidth\": 0, \"ticks\": \"\"}}, \"colorscale\": {\"diverging\": [[0, \"#8e0152\"], [0.1, \"#c51b7d\"], [0.2, \"#de77ae\"], [0.3, \"#f1b6da\"], [0.4, \"#fde0ef\"], [0.5, \"#f7f7f7\"], [0.6, \"#e6f5d0\"], [0.7, \"#b8e186\"], [0.8, \"#7fbc41\"], [0.9, \"#4d9221\"], [1, \"#276419\"]], \"sequential\": [[0.0, \"#0d0887\"], [0.1111111111111111, \"#46039f\"], [0.2222222222222222, \"#7201a8\"], [0.3333333333333333, \"#9c179e\"], [0.4444444444444444, \"#bd3786\"], [0.5555555555555556, \"#d8576b\"], [0.6666666666666666, \"#ed7953\"], [0.7777777777777778, \"#fb9f3a\"], [0.8888888888888888, \"#fdca26\"], [1.0, \"#f0f921\"]], \"sequentialminus\": [[0.0, \"#0d0887\"], [0.1111111111111111, \"#46039f\"], [0.2222222222222222, \"#7201a8\"], [0.3333333333333333, \"#9c179e\"], [0.4444444444444444, \"#bd3786\"], [0.5555555555555556, \"#d8576b\"], [0.6666666666666666, \"#ed7953\"], [0.7777777777777778, \"#fb9f3a\"], [0.8888888888888888, \"#fdca26\"], [1.0, \"#f0f921\"]]}, \"colorway\": [\"#636efa\", \"#EF553B\", \"#00cc96\", \"#ab63fa\", \"#FFA15A\", \"#19d3f3\", \"#FF6692\", \"#B6E880\", \"#FF97FF\", \"#FECB52\"], \"font\": {\"color\": \"#f2f5fa\"}, \"geo\": {\"bgcolor\": \"rgb(17,17,17)\", \"lakecolor\": \"rgb(17,17,17)\", \"landcolor\": \"rgb(17,17,17)\", \"showlakes\": true, \"showland\": true, \"subunitcolor\": \"#506784\"}, \"hoverlabel\": {\"align\": \"left\"}, \"hovermode\": \"closest\", \"mapbox\": {\"style\": \"dark\"}, \"paper_bgcolor\": \"rgb(17,17,17)\", \"plot_bgcolor\": \"rgb(17,17,17)\", \"polar\": {\"angularaxis\": {\"gridcolor\": \"#506784\", \"linecolor\": \"#506784\", \"ticks\": \"\"}, \"bgcolor\": \"rgb(17,17,17)\", \"radialaxis\": {\"gridcolor\": \"#506784\", \"linecolor\": \"#506784\", \"ticks\": \"\"}}, \"scene\": {\"xaxis\": {\"backgroundcolor\": \"rgb(17,17,17)\", \"gridcolor\": \"#506784\", \"gridwidth\": 2, \"linecolor\": \"#506784\", \"showbackground\": true, \"ticks\": \"\", \"zerolinecolor\": \"#C8D4E3\"}, \"yaxis\": {\"backgroundcolor\": \"rgb(17,17,17)\", \"gridcolor\": \"#506784\", \"gridwidth\": 2, \"linecolor\": \"#506784\", \"showbackground\": true, \"ticks\": \"\", \"zerolinecolor\": \"#C8D4E3\"}, \"zaxis\": {\"backgroundcolor\": \"rgb(17,17,17)\", \"gridcolor\": \"#506784\", \"gridwidth\": 2, \"linecolor\": \"#506784\", \"showbackground\": true, \"ticks\": \"\", \"zerolinecolor\": \"#C8D4E3\"}}, \"shapedefaults\": {\"line\": {\"color\": \"#f2f5fa\"}}, \"sliderdefaults\": {\"bgcolor\": \"#C8D4E3\", \"bordercolor\": \"rgb(17,17,17)\", \"borderwidth\": 1, \"tickwidth\": 0}, \"ternary\": {\"aaxis\": {\"gridcolor\": \"#506784\", \"linecolor\": \"#506784\", \"ticks\": \"\"}, \"baxis\": {\"gridcolor\": \"#506784\", \"linecolor\": \"#506784\", \"ticks\": \"\"}, \"bgcolor\": \"rgb(17,17,17)\", \"caxis\": {\"gridcolor\": \"#506784\", \"linecolor\": \"#506784\", \"ticks\": \"\"}}, \"title\": {\"x\": 0.05}, \"updatemenudefaults\": {\"bgcolor\": \"#506784\", \"borderwidth\": 0}, \"xaxis\": {\"automargin\": true, \"gridcolor\": \"#283442\", \"linecolor\": \"#506784\", \"ticks\": \"\", \"title\": {\"standoff\": 15}, \"zerolinecolor\": \"#283442\", \"zerolinewidth\": 2}, \"yaxis\": {\"automargin\": true, \"gridcolor\": \"#283442\", \"linecolor\": \"#506784\", \"ticks\": \"\", \"title\": {\"standoff\": 15}, \"zerolinecolor\": \"#283442\", \"zerolinewidth\": 2}}}},                        {\"responsive\": true}                    ).then(function(){\n",
       "                            \n",
       "var gd = document.getElementById('fc601520-22f8-48b1-b448-fabba36cc7d5');\n",
       "var x = new MutationObserver(function (mutations, observer) {{\n",
       "        var display = window.getComputedStyle(gd).display;\n",
       "        if (!display || display === 'none') {{\n",
       "            console.log([gd, 'removed!']);\n",
       "            Plotly.purge(gd);\n",
       "            observer.disconnect();\n",
       "        }}\n",
       "}});\n",
       "\n",
       "// Listen for the removal of the full notebook cells\n",
       "var notebookContainer = gd.closest('#notebook-container');\n",
       "if (notebookContainer) {{\n",
       "    x.observe(notebookContainer, {childList: true});\n",
       "}}\n",
       "\n",
       "// Listen for the clearing of the current output cell\n",
       "var outputEl = gd.closest('.output');\n",
       "if (outputEl) {{\n",
       "    x.observe(outputEl, {childList: true});\n",
       "}}\n",
       "\n",
       "                        })                };                });            </script>        </div>"
      ]
     },
     "metadata": {},
     "output_type": "display_data"
    },
    {
     "name": "stdout",
     "output_type": "stream",
     "text": [
      "-0.0918803418803419\n",
      "3.58 s ± 0 ns per loop (mean ± std. dev. of 1 run, 1 loop each)\n"
     ]
    }
   ],
   "source": [
    "%%timeit -n1 -r1\n",
    "df = other_sims.agglomerative_hierarchical_clustering(target_G,target_rad, measures.global_graph_degree, target_clusters)\n",
    "fig = visualize.visualize_rdd_agglomerative_hierarchical_clustering(target_G, target_rad, target_measure, pos, target_clusters)\n",
    "fig.show()\n",
    "df = df.sort_values('cluster')\n",
    "# print(df)\n",
    "\n",
    "clusters = df_to_cluster_list(df)\n",
    "result = nx.algorithms.community.modularity(target_G, clusters)\n",
    "print(result)"
   ]
  },
  {
   "cell_type": "markdown",
   "metadata": {},
   "source": [
    "## K-Medoids Clustering"
   ]
  },
  {
   "cell_type": "code",
   "execution_count": 11,
   "metadata": {},
   "outputs": [
    {
     "data": {
      "application/vnd.plotly.v1+json": {
       "config": {
        "plotlyServerURL": "https://plot.ly"
       },
       "data": [
        {
         "line": {
          "width": 1
         },
         "marker": {
          "color": [
           1,
           1,
           1,
           1,
           0,
           0,
           0,
           2,
           1,
           2,
           0,
           0,
           0,
           1,
           2,
           2,
           0,
           2,
           2,
           1,
           2,
           2,
           2,
           2,
           0,
           0,
           0,
           2,
           2,
           2,
           1,
           1,
           1,
           1
          ],
          "colorscale": [
           [
            0,
            "rgb(0,0,131)"
           ],
           [
            0.2,
            "rgb(0,60,170)"
           ],
           [
            0.4,
            "rgb(5,255,255)"
           ],
           [
            0.6,
            "rgb(255,255,0)"
           ],
           [
            0.8,
            "rgb(250,0,0)"
           ],
           [
            1,
            "rgb(128,0,0)"
           ]
          ],
          "size": 15
         },
         "mode": "lines",
         "name": "edges",
         "type": "scatter",
         "uid": "5fee3d17-9f53-406b-b216-e0ac02fbcd0d",
         "x": [
          0.3298847870868271,
          0.13592534419940663,
          null,
          0.3298847870868271,
          -0.0026129344486409845,
          null,
          0.3298847870868271,
          0.25133192590411957,
          null,
          0.3298847870868271,
          0.648374404846664,
          null,
          0.3298847870868271,
          0.7461237350436676,
          null,
          0.3298847870868271,
          0.7596912636248602,
          null,
          0.3298847870868271,
          0.22238157034256897,
          null,
          0.3298847870868271,
          -0.09008282935927277,
          null,
          0.3298847870868271,
          0.6221466266203255,
          null,
          0.3298847870868271,
          0.5537311819816114,
          null,
          0.3298847870868271,
          0.485937664175994,
          null,
          0.3298847870868271,
          0.05852549901390687,
          null,
          0.3298847870868271,
          0.2746798830015628,
          null,
          0.3298847870868271,
          -0.01523683466377873,
          null,
          0.3298847870868271,
          0.36786251143126164,
          null,
          0.3298847870868271,
          -0.06688556236592828,
          null,
          0.13592534419940663,
          -0.0026129344486409845,
          null,
          0.13592534419940663,
          0.25133192590411957,
          null,
          0.13592534419940663,
          0.22238157034256897,
          null,
          0.13592534419940663,
          0.05852549901390687,
          null,
          0.13592534419940663,
          0.2746798830015628,
          null,
          0.13592534419940663,
          -0.01523683466377873,
          null,
          0.13592534419940663,
          0.36786251143126164,
          null,
          0.13592534419940663,
          -0.18841138890578674,
          null,
          -0.0026129344486409845,
          0.25133192590411957,
          null,
          -0.0026129344486409845,
          0.22238157034256897,
          null,
          -0.0026129344486409845,
          -0.09008282935927277,
          null,
          -0.0026129344486409845,
          -0.26327337284606656,
          null,
          -0.0026129344486409845,
          0.05852549901390687,
          null,
          -0.0026129344486409845,
          -0.19008345342978733,
          null,
          -0.0026129344486409845,
          -0.15406985069416662,
          null,
          -0.0026129344486409845,
          -0.37020748937230696,
          null,
          0.25133192590411957,
          0.22238157034256897,
          null,
          0.25133192590411957,
          0.485937664175994,
          null,
          0.25133192590411957,
          0.05852549901390687,
          null,
          0.648374404846664,
          0.7596912636248602,
          null,
          0.648374404846664,
          0.6221466266203255,
          null,
          0.7461237350436676,
          0.7596912636248602,
          null,
          0.7461237350436676,
          0.6221466266203255,
          null,
          0.7461237350436676,
          1,
          null,
          0.7596912636248602,
          1,
          null,
          -0.09008282935927277,
          -0.18841138890578674,
          null,
          -0.09008282935927277,
          -0.37020748937230696,
          null,
          -0.09008282935927277,
          -0.33426126947462476,
          null,
          -0.26327337284606656,
          -0.33426126947462476,
          null,
          0.05852549901390687,
          -0.33426126947462476,
          null,
          -0.5689344694185378,
          -0.37020748937230696,
          null,
          -0.5689344694185378,
          -0.33426126947462476,
          null,
          -0.5109660370872692,
          -0.37020748937230696,
          null,
          -0.5109660370872692,
          -0.33426126947462476,
          null,
          -0.6400476710385603,
          -0.37020748937230696,
          null,
          -0.6400476710385603,
          -0.33426126947462476,
          null,
          -0.01523683466377873,
          -0.33426126947462476,
          null,
          -0.5207484882464669,
          -0.37020748937230696,
          null,
          -0.5207484882464669,
          -0.33426126947462476,
          null,
          -0.599832300262561,
          -0.37020748937230696,
          null,
          -0.599832300262561,
          -0.33426126947462476,
          null,
          -0.37929234229515174,
          -0.22806056333110994,
          null,
          -0.37929234229515174,
          -0.19008345342978733,
          null,
          -0.37929234229515174,
          -0.5452984254025316,
          null,
          -0.37929234229515174,
          -0.37020748937230696,
          null,
          -0.37929234229515174,
          -0.33426126947462476,
          null,
          -0.08801960706870685,
          -0.22806056333110994,
          null,
          -0.08801960706870685,
          -0.19008345342978733,
          null,
          -0.08801960706870685,
          -0.06688556236592828,
          null,
          -0.22806056333110994,
          -0.06688556236592828,
          null,
          -0.7002715075615203,
          -0.5452984254025316,
          null,
          -0.7002715075615203,
          -0.33426126947462476,
          null,
          -0.19008345342978733,
          -0.33426126947462476,
          null,
          -0.15406985069416662,
          -0.06688556236592828,
          null,
          -0.15406985069416662,
          -0.33426126947462476,
          null,
          -0.5452984254025316,
          -0.37020748937230696,
          null,
          -0.5452984254025316,
          -0.33426126947462476,
          null,
          -0.18841138890578674,
          -0.37020748937230696,
          null,
          -0.18841138890578674,
          -0.33426126947462476,
          null,
          -0.06688556236592828,
          -0.37020748937230696,
          null,
          -0.06688556236592828,
          -0.33426126947462476,
          null,
          -0.37020748937230696,
          -0.33426126947462476,
          null
         ],
         "y": [
          -0.08139194223368576,
          -0.22695383848983483,
          null,
          -0.08139194223368576,
          -0.01871223379785289,
          null,
          -0.08139194223368576,
          -0.1830970651106816,
          null,
          -0.08139194223368576,
          -0.1863378082318158,
          null,
          -0.08139194223368576,
          -0.0017290231990654229,
          null,
          -0.08139194223368576,
          -0.11138631857802075,
          null,
          -0.08139194223368576,
          -0.05448570222955548,
          null,
          -0.08139194223368576,
          -0.01123965896454139,
          null,
          -0.08139194223368576,
          -0.0393105325998334,
          null,
          -0.08139194223368576,
          0.17844910318351162,
          null,
          -0.08139194223368576,
          -0.286705625233339,
          null,
          -0.08139194223368576,
          -0.09663531703696926,
          null,
          -0.08139194223368576,
          -0.40735991133144234,
          null,
          -0.08139194223368576,
          -0.18884865466144632,
          null,
          -0.08139194223368576,
          -0.3556030715131683,
          null,
          -0.08139194223368576,
          0.22548423237741053,
          null,
          -0.22695383848983483,
          -0.01871223379785289,
          null,
          -0.22695383848983483,
          -0.1830970651106816,
          null,
          -0.22695383848983483,
          -0.05448570222955548,
          null,
          -0.22695383848983483,
          -0.09663531703696926,
          null,
          -0.22695383848983483,
          -0.40735991133144234,
          null,
          -0.22695383848983483,
          -0.18884865466144632,
          null,
          -0.22695383848983483,
          -0.3556030715131683,
          null,
          -0.22695383848983483,
          -0.12830817954106657,
          null,
          -0.01871223379785289,
          -0.1830970651106816,
          null,
          -0.01871223379785289,
          -0.05448570222955548,
          null,
          -0.01871223379785289,
          -0.01123965896454139,
          null,
          -0.01871223379785289,
          -0.2226313490228529,
          null,
          -0.01871223379785289,
          -0.09663531703696926,
          null,
          -0.01871223379785289,
          0.28125338768321534,
          null,
          -0.01871223379785289,
          0.14252572956498888,
          null,
          -0.01871223379785289,
          0.08173269233795336,
          null,
          -0.1830970651106816,
          -0.05448570222955548,
          null,
          -0.1830970651106816,
          -0.286705625233339,
          null,
          -0.1830970651106816,
          -0.09663531703696926,
          null,
          -0.1863378082318158,
          -0.11138631857802075,
          null,
          -0.1863378082318158,
          -0.0393105325998334,
          null,
          -0.0017290231990654229,
          -0.11138631857802075,
          null,
          -0.0017290231990654229,
          -0.0393105325998334,
          null,
          -0.0017290231990654229,
          -0.03982122582513232,
          null,
          -0.11138631857802075,
          -0.03982122582513232,
          null,
          -0.01123965896454139,
          -0.12830817954106657,
          null,
          -0.01123965896454139,
          0.08173269233795336,
          null,
          -0.01123965896454139,
          0.030234627048340727,
          null,
          -0.2226313490228529,
          0.030234627048340727,
          null,
          -0.09663531703696926,
          0.030234627048340727,
          null,
          -0.068002320737622,
          0.08173269233795336,
          null,
          -0.068002320737622,
          0.030234627048340727,
          null,
          -0.1635728960690151,
          0.08173269233795336,
          null,
          -0.1635728960690151,
          0.030234627048340727,
          null,
          0.07121165901070961,
          0.08173269233795336,
          null,
          0.07121165901070961,
          0.030234627048340727,
          null,
          -0.18884865466144632,
          0.030234627048340727,
          null,
          0.2749403525619294,
          0.08173269233795336,
          null,
          0.2749403525619294,
          0.030234627048340727,
          null,
          0.20263386589566412,
          0.08173269233795336,
          null,
          0.20263386589566412,
          0.030234627048340727,
          null,
          0.298511952502875,
          0.5040333098234926,
          null,
          0.298511952502875,
          0.28125338768321534,
          null,
          0.298511952502875,
          0.11482038814827848,
          null,
          0.298511952502875,
          0.08173269233795336,
          null,
          0.298511952502875,
          0.030234627048340727,
          null,
          0.5072504183957834,
          0.5040333098234926,
          null,
          0.5072504183957834,
          0.28125338768321534,
          null,
          0.5072504183957834,
          0.22548423237741053,
          null,
          0.5040333098234926,
          0.22548423237741053,
          null,
          -0.040949044127212945,
          0.11482038814827848,
          null,
          -0.040949044127212945,
          0.030234627048340727,
          null,
          0.28125338768321534,
          0.030234627048340727,
          null,
          0.14252572956498888,
          0.22548423237741053,
          null,
          0.14252572956498888,
          0.030234627048340727,
          null,
          0.11482038814827848,
          0.08173269233795336,
          null,
          0.11482038814827848,
          0.030234627048340727,
          null,
          -0.12830817954106657,
          0.08173269233795336,
          null,
          -0.12830817954106657,
          0.030234627048340727,
          null,
          0.22548423237741053,
          0.08173269233795336,
          null,
          0.22548423237741053,
          0.030234627048340727,
          null,
          0.08173269233795336,
          0.030234627048340727,
          null
         ]
        },
        {
         "customdata": [
          [
           1,
           1,
           16,
           1,
           0.3298847870868271,
           -0.08139194223368576
          ],
          [
           2,
           1,
           9,
           1,
           0.13592534419940663,
           -0.22695383848983483
          ],
          [
           3,
           1,
           10,
           1,
           -0.0026129344486409845,
           -0.01871223379785289
          ],
          [
           4,
           1,
           6,
           1,
           0.25133192590411957,
           -0.1830970651106816
          ],
          [
           5,
           1,
           3,
           0,
           0.648374404846664,
           -0.1863378082318158
          ],
          [
           6,
           1,
           4,
           0,
           0.7461237350436676,
           -0.0017290231990654229
          ],
          [
           7,
           1,
           4,
           0,
           0.7596912636248602,
           -0.11138631857802075
          ],
          [
           8,
           1,
           4,
           2,
           0.22238157034256897,
           -0.05448570222955548
          ],
          [
           9,
           1,
           5,
           1,
           -0.09008282935927277,
           -0.01123965896454139
          ],
          [
           10,
           1,
           2,
           2,
           -0.26327337284606656,
           -0.2226313490228529
          ],
          [
           11,
           1,
           3,
           0,
           0.6221466266203255,
           -0.0393105325998334
          ],
          [
           12,
           1,
           1,
           0,
           0.5537311819816114,
           0.17844910318351162
          ],
          [
           13,
           1,
           2,
           0,
           0.485937664175994,
           -0.286705625233339
          ],
          [
           14,
           1,
           5,
           1,
           0.05852549901390687,
           -0.09663531703696926
          ],
          [
           15,
           1,
           2,
           2,
           -0.5689344694185378,
           -0.068002320737622
          ],
          [
           16,
           1,
           2,
           2,
           -0.5109660370872692,
           -0.1635728960690151
          ],
          [
           17,
           1,
           2,
           0,
           1,
           -0.03982122582513232
          ],
          [
           18,
           1,
           2,
           2,
           0.2746798830015628,
           -0.40735991133144234
          ],
          [
           19,
           1,
           2,
           2,
           -0.6400476710385603,
           0.07121165901070961
          ],
          [
           20,
           1,
           3,
           1,
           -0.01523683466377873,
           -0.18884865466144632
          ],
          [
           21,
           1,
           2,
           2,
           -0.5207484882464669,
           0.2749403525619294
          ],
          [
           22,
           1,
           2,
           2,
           0.36786251143126164,
           -0.3556030715131683
          ],
          [
           23,
           1,
           2,
           2,
           -0.599832300262561,
           0.20263386589566412
          ],
          [
           24,
           1,
           5,
           2,
           -0.37929234229515174,
           0.298511952502875
          ],
          [
           25,
           1,
           3,
           0,
           -0.08801960706870685,
           0.5072504183957834
          ],
          [
           26,
           1,
           3,
           0,
           -0.22806056333110994,
           0.5040333098234926
          ],
          [
           27,
           1,
           2,
           0,
           -0.7002715075615203,
           -0.040949044127212945
          ],
          [
           28,
           1,
           4,
           2,
           -0.19008345342978733,
           0.28125338768321534
          ],
          [
           29,
           1,
           3,
           2,
           -0.15406985069416662,
           0.14252572956498888
          ],
          [
           30,
           1,
           4,
           2,
           -0.5452984254025316,
           0.11482038814827848
          ],
          [
           31,
           1,
           4,
           1,
           -0.18841138890578674,
           -0.12830817954106657
          ],
          [
           32,
           1,
           6,
           1,
           -0.06688556236592828,
           0.22548423237741053
          ],
          [
           33,
           1,
           12,
           1,
           -0.37020748937230696,
           0.08173269233795336
          ],
          [
           34,
           1,
           17,
           1,
           -0.33426126947462476,
           0.030234627048340727
          ]
         ],
         "hovertemplate": "node_name: %{customdata[0]} <br> radius: %{customdata[1]} <br> degree: %{customdata[2]} <br> cluster: %{customdata[3]} <br> nodes_x: %{customdata[4]} <br> nodes_y: %{customdata[5]} <br> ",
         "marker": {
          "color": [
           1,
           1,
           1,
           1,
           0,
           0,
           0,
           2,
           1,
           2,
           0,
           0,
           0,
           1,
           2,
           2,
           0,
           2,
           2,
           1,
           2,
           2,
           2,
           2,
           0,
           0,
           0,
           2,
           2,
           2,
           1,
           1,
           1,
           1
          ],
          "colorscale": [
           [
            0,
            "rgb(0,0,131)"
           ],
           [
            0.2,
            "rgb(0,60,170)"
           ],
           [
            0.4,
            "rgb(5,255,255)"
           ],
           [
            0.6,
            "rgb(255,255,0)"
           ],
           [
            0.8,
            "rgb(250,0,0)"
           ],
           [
            1,
            "rgb(128,0,0)"
           ]
          ],
          "size": 15
         },
         "mode": "markers",
         "name": "Node",
         "text": [
          1,
          2,
          3,
          4,
          5,
          6,
          7,
          8,
          9,
          10,
          11,
          12,
          13,
          14,
          15,
          16,
          17,
          18,
          19,
          20,
          21,
          22,
          23,
          24,
          25,
          26,
          27,
          28,
          29,
          30,
          31,
          32,
          33,
          34
         ],
         "type": "scatter",
         "uid": "c9b1c27a-4616-4bbd-9cec-95c38201e552",
         "x": [
          0.3298847870868271,
          0.13592534419940663,
          -0.0026129344486409845,
          0.25133192590411957,
          0.648374404846664,
          0.7461237350436676,
          0.7596912636248602,
          0.22238157034256897,
          -0.09008282935927277,
          -0.26327337284606656,
          0.6221466266203255,
          0.5537311819816114,
          0.485937664175994,
          0.05852549901390687,
          -0.5689344694185378,
          -0.5109660370872692,
          1,
          0.2746798830015628,
          -0.6400476710385603,
          -0.01523683466377873,
          -0.5207484882464669,
          0.36786251143126164,
          -0.599832300262561,
          -0.37929234229515174,
          -0.08801960706870685,
          -0.22806056333110994,
          -0.7002715075615203,
          -0.19008345342978733,
          -0.15406985069416662,
          -0.5452984254025316,
          -0.18841138890578674,
          -0.06688556236592828,
          -0.37020748937230696,
          -0.33426126947462476
         ],
         "y": [
          -0.08139194223368576,
          -0.22695383848983483,
          -0.01871223379785289,
          -0.1830970651106816,
          -0.1863378082318158,
          -0.0017290231990654229,
          -0.11138631857802075,
          -0.05448570222955548,
          -0.01123965896454139,
          -0.2226313490228529,
          -0.0393105325998334,
          0.17844910318351162,
          -0.286705625233339,
          -0.09663531703696926,
          -0.068002320737622,
          -0.1635728960690151,
          -0.03982122582513232,
          -0.40735991133144234,
          0.07121165901070961,
          -0.18884865466144632,
          0.2749403525619294,
          -0.3556030715131683,
          0.20263386589566412,
          0.298511952502875,
          0.5072504183957834,
          0.5040333098234926,
          -0.040949044127212945,
          0.28125338768321534,
          0.14252572956498888,
          0.11482038814827848,
          -0.12830817954106657,
          0.22548423237741053,
          0.08173269233795336,
          0.030234627048340727
         ]
        }
       ],
       "layout": {
        "autosize": true,
        "dragmode": "pan",
        "template": {
         "data": {
          "bar": [
           {
            "error_x": {
             "color": "#f2f5fa"
            },
            "error_y": {
             "color": "#f2f5fa"
            },
            "marker": {
             "line": {
              "color": "rgb(17,17,17)",
              "width": 0.5
             }
            },
            "type": "bar"
           }
          ],
          "barpolar": [
           {
            "marker": {
             "line": {
              "color": "rgb(17,17,17)",
              "width": 0.5
             }
            },
            "type": "barpolar"
           }
          ],
          "carpet": [
           {
            "aaxis": {
             "endlinecolor": "#A2B1C6",
             "gridcolor": "#506784",
             "linecolor": "#506784",
             "minorgridcolor": "#506784",
             "startlinecolor": "#A2B1C6"
            },
            "baxis": {
             "endlinecolor": "#A2B1C6",
             "gridcolor": "#506784",
             "linecolor": "#506784",
             "minorgridcolor": "#506784",
             "startlinecolor": "#A2B1C6"
            },
            "type": "carpet"
           }
          ],
          "choropleth": [
           {
            "colorbar": {
             "outlinewidth": 0,
             "ticks": ""
            },
            "type": "choropleth"
           }
          ],
          "contour": [
           {
            "colorbar": {
             "outlinewidth": 0,
             "ticks": ""
            },
            "colorscale": [
             [
              0,
              "#0d0887"
             ],
             [
              0.1111111111111111,
              "#46039f"
             ],
             [
              0.2222222222222222,
              "#7201a8"
             ],
             [
              0.3333333333333333,
              "#9c179e"
             ],
             [
              0.4444444444444444,
              "#bd3786"
             ],
             [
              0.5555555555555556,
              "#d8576b"
             ],
             [
              0.6666666666666666,
              "#ed7953"
             ],
             [
              0.7777777777777778,
              "#fb9f3a"
             ],
             [
              0.8888888888888888,
              "#fdca26"
             ],
             [
              1,
              "#f0f921"
             ]
            ],
            "type": "contour"
           }
          ],
          "contourcarpet": [
           {
            "colorbar": {
             "outlinewidth": 0,
             "ticks": ""
            },
            "type": "contourcarpet"
           }
          ],
          "heatmap": [
           {
            "colorbar": {
             "outlinewidth": 0,
             "ticks": ""
            },
            "colorscale": [
             [
              0,
              "#0d0887"
             ],
             [
              0.1111111111111111,
              "#46039f"
             ],
             [
              0.2222222222222222,
              "#7201a8"
             ],
             [
              0.3333333333333333,
              "#9c179e"
             ],
             [
              0.4444444444444444,
              "#bd3786"
             ],
             [
              0.5555555555555556,
              "#d8576b"
             ],
             [
              0.6666666666666666,
              "#ed7953"
             ],
             [
              0.7777777777777778,
              "#fb9f3a"
             ],
             [
              0.8888888888888888,
              "#fdca26"
             ],
             [
              1,
              "#f0f921"
             ]
            ],
            "type": "heatmap"
           }
          ],
          "heatmapgl": [
           {
            "colorbar": {
             "outlinewidth": 0,
             "ticks": ""
            },
            "colorscale": [
             [
              0,
              "#0d0887"
             ],
             [
              0.1111111111111111,
              "#46039f"
             ],
             [
              0.2222222222222222,
              "#7201a8"
             ],
             [
              0.3333333333333333,
              "#9c179e"
             ],
             [
              0.4444444444444444,
              "#bd3786"
             ],
             [
              0.5555555555555556,
              "#d8576b"
             ],
             [
              0.6666666666666666,
              "#ed7953"
             ],
             [
              0.7777777777777778,
              "#fb9f3a"
             ],
             [
              0.8888888888888888,
              "#fdca26"
             ],
             [
              1,
              "#f0f921"
             ]
            ],
            "type": "heatmapgl"
           }
          ],
          "histogram": [
           {
            "marker": {
             "colorbar": {
              "outlinewidth": 0,
              "ticks": ""
             }
            },
            "type": "histogram"
           }
          ],
          "histogram2d": [
           {
            "colorbar": {
             "outlinewidth": 0,
             "ticks": ""
            },
            "colorscale": [
             [
              0,
              "#0d0887"
             ],
             [
              0.1111111111111111,
              "#46039f"
             ],
             [
              0.2222222222222222,
              "#7201a8"
             ],
             [
              0.3333333333333333,
              "#9c179e"
             ],
             [
              0.4444444444444444,
              "#bd3786"
             ],
             [
              0.5555555555555556,
              "#d8576b"
             ],
             [
              0.6666666666666666,
              "#ed7953"
             ],
             [
              0.7777777777777778,
              "#fb9f3a"
             ],
             [
              0.8888888888888888,
              "#fdca26"
             ],
             [
              1,
              "#f0f921"
             ]
            ],
            "type": "histogram2d"
           }
          ],
          "histogram2dcontour": [
           {
            "colorbar": {
             "outlinewidth": 0,
             "ticks": ""
            },
            "colorscale": [
             [
              0,
              "#0d0887"
             ],
             [
              0.1111111111111111,
              "#46039f"
             ],
             [
              0.2222222222222222,
              "#7201a8"
             ],
             [
              0.3333333333333333,
              "#9c179e"
             ],
             [
              0.4444444444444444,
              "#bd3786"
             ],
             [
              0.5555555555555556,
              "#d8576b"
             ],
             [
              0.6666666666666666,
              "#ed7953"
             ],
             [
              0.7777777777777778,
              "#fb9f3a"
             ],
             [
              0.8888888888888888,
              "#fdca26"
             ],
             [
              1,
              "#f0f921"
             ]
            ],
            "type": "histogram2dcontour"
           }
          ],
          "mesh3d": [
           {
            "colorbar": {
             "outlinewidth": 0,
             "ticks": ""
            },
            "type": "mesh3d"
           }
          ],
          "parcoords": [
           {
            "line": {
             "colorbar": {
              "outlinewidth": 0,
              "ticks": ""
             }
            },
            "type": "parcoords"
           }
          ],
          "pie": [
           {
            "automargin": true,
            "type": "pie"
           }
          ],
          "scatter": [
           {
            "marker": {
             "line": {
              "color": "#283442"
             }
            },
            "type": "scatter"
           }
          ],
          "scatter3d": [
           {
            "line": {
             "colorbar": {
              "outlinewidth": 0,
              "ticks": ""
             }
            },
            "marker": {
             "colorbar": {
              "outlinewidth": 0,
              "ticks": ""
             }
            },
            "type": "scatter3d"
           }
          ],
          "scattercarpet": [
           {
            "marker": {
             "colorbar": {
              "outlinewidth": 0,
              "ticks": ""
             }
            },
            "type": "scattercarpet"
           }
          ],
          "scattergeo": [
           {
            "marker": {
             "colorbar": {
              "outlinewidth": 0,
              "ticks": ""
             }
            },
            "type": "scattergeo"
           }
          ],
          "scattergl": [
           {
            "marker": {
             "line": {
              "color": "#283442"
             }
            },
            "type": "scattergl"
           }
          ],
          "scattermapbox": [
           {
            "marker": {
             "colorbar": {
              "outlinewidth": 0,
              "ticks": ""
             }
            },
            "type": "scattermapbox"
           }
          ],
          "scatterpolar": [
           {
            "marker": {
             "colorbar": {
              "outlinewidth": 0,
              "ticks": ""
             }
            },
            "type": "scatterpolar"
           }
          ],
          "scatterpolargl": [
           {
            "marker": {
             "colorbar": {
              "outlinewidth": 0,
              "ticks": ""
             }
            },
            "type": "scatterpolargl"
           }
          ],
          "scatterternary": [
           {
            "marker": {
             "colorbar": {
              "outlinewidth": 0,
              "ticks": ""
             }
            },
            "type": "scatterternary"
           }
          ],
          "surface": [
           {
            "colorbar": {
             "outlinewidth": 0,
             "ticks": ""
            },
            "colorscale": [
             [
              0,
              "#0d0887"
             ],
             [
              0.1111111111111111,
              "#46039f"
             ],
             [
              0.2222222222222222,
              "#7201a8"
             ],
             [
              0.3333333333333333,
              "#9c179e"
             ],
             [
              0.4444444444444444,
              "#bd3786"
             ],
             [
              0.5555555555555556,
              "#d8576b"
             ],
             [
              0.6666666666666666,
              "#ed7953"
             ],
             [
              0.7777777777777778,
              "#fb9f3a"
             ],
             [
              0.8888888888888888,
              "#fdca26"
             ],
             [
              1,
              "#f0f921"
             ]
            ],
            "type": "surface"
           }
          ],
          "table": [
           {
            "cells": {
             "fill": {
              "color": "#506784"
             },
             "line": {
              "color": "rgb(17,17,17)"
             }
            },
            "header": {
             "fill": {
              "color": "#2a3f5f"
             },
             "line": {
              "color": "rgb(17,17,17)"
             }
            },
            "type": "table"
           }
          ]
         },
         "layout": {
          "annotationdefaults": {
           "arrowcolor": "#f2f5fa",
           "arrowhead": 0,
           "arrowwidth": 1
          },
          "autotypenumbers": "strict",
          "coloraxis": {
           "colorbar": {
            "outlinewidth": 0,
            "ticks": ""
           }
          },
          "colorscale": {
           "diverging": [
            [
             0,
             "#8e0152"
            ],
            [
             0.1,
             "#c51b7d"
            ],
            [
             0.2,
             "#de77ae"
            ],
            [
             0.3,
             "#f1b6da"
            ],
            [
             0.4,
             "#fde0ef"
            ],
            [
             0.5,
             "#f7f7f7"
            ],
            [
             0.6,
             "#e6f5d0"
            ],
            [
             0.7,
             "#b8e186"
            ],
            [
             0.8,
             "#7fbc41"
            ],
            [
             0.9,
             "#4d9221"
            ],
            [
             1,
             "#276419"
            ]
           ],
           "sequential": [
            [
             0,
             "#0d0887"
            ],
            [
             0.1111111111111111,
             "#46039f"
            ],
            [
             0.2222222222222222,
             "#7201a8"
            ],
            [
             0.3333333333333333,
             "#9c179e"
            ],
            [
             0.4444444444444444,
             "#bd3786"
            ],
            [
             0.5555555555555556,
             "#d8576b"
            ],
            [
             0.6666666666666666,
             "#ed7953"
            ],
            [
             0.7777777777777778,
             "#fb9f3a"
            ],
            [
             0.8888888888888888,
             "#fdca26"
            ],
            [
             1,
             "#f0f921"
            ]
           ],
           "sequentialminus": [
            [
             0,
             "#0d0887"
            ],
            [
             0.1111111111111111,
             "#46039f"
            ],
            [
             0.2222222222222222,
             "#7201a8"
            ],
            [
             0.3333333333333333,
             "#9c179e"
            ],
            [
             0.4444444444444444,
             "#bd3786"
            ],
            [
             0.5555555555555556,
             "#d8576b"
            ],
            [
             0.6666666666666666,
             "#ed7953"
            ],
            [
             0.7777777777777778,
             "#fb9f3a"
            ],
            [
             0.8888888888888888,
             "#fdca26"
            ],
            [
             1,
             "#f0f921"
            ]
           ]
          },
          "colorway": [
           "#636efa",
           "#EF553B",
           "#00cc96",
           "#ab63fa",
           "#FFA15A",
           "#19d3f3",
           "#FF6692",
           "#B6E880",
           "#FF97FF",
           "#FECB52"
          ],
          "font": {
           "color": "#f2f5fa"
          },
          "geo": {
           "bgcolor": "rgb(17,17,17)",
           "lakecolor": "rgb(17,17,17)",
           "landcolor": "rgb(17,17,17)",
           "showlakes": true,
           "showland": true,
           "subunitcolor": "#506784"
          },
          "hoverlabel": {
           "align": "left"
          },
          "hovermode": "closest",
          "mapbox": {
           "style": "dark"
          },
          "paper_bgcolor": "rgb(17,17,17)",
          "plot_bgcolor": "rgb(17,17,17)",
          "polar": {
           "angularaxis": {
            "gridcolor": "#506784",
            "linecolor": "#506784",
            "ticks": ""
           },
           "bgcolor": "rgb(17,17,17)",
           "radialaxis": {
            "gridcolor": "#506784",
            "linecolor": "#506784",
            "ticks": ""
           }
          },
          "scene": {
           "xaxis": {
            "backgroundcolor": "rgb(17,17,17)",
            "gridcolor": "#506784",
            "gridwidth": 2,
            "linecolor": "#506784",
            "showbackground": true,
            "ticks": "",
            "zerolinecolor": "#C8D4E3"
           },
           "yaxis": {
            "backgroundcolor": "rgb(17,17,17)",
            "gridcolor": "#506784",
            "gridwidth": 2,
            "linecolor": "#506784",
            "showbackground": true,
            "ticks": "",
            "zerolinecolor": "#C8D4E3"
           },
           "zaxis": {
            "backgroundcolor": "rgb(17,17,17)",
            "gridcolor": "#506784",
            "gridwidth": 2,
            "linecolor": "#506784",
            "showbackground": true,
            "ticks": "",
            "zerolinecolor": "#C8D4E3"
           }
          },
          "shapedefaults": {
           "line": {
            "color": "#f2f5fa"
           }
          },
          "sliderdefaults": {
           "bgcolor": "#C8D4E3",
           "bordercolor": "rgb(17,17,17)",
           "borderwidth": 1,
           "tickwidth": 0
          },
          "ternary": {
           "aaxis": {
            "gridcolor": "#506784",
            "linecolor": "#506784",
            "ticks": ""
           },
           "baxis": {
            "gridcolor": "#506784",
            "linecolor": "#506784",
            "ticks": ""
           },
           "bgcolor": "rgb(17,17,17)",
           "caxis": {
            "gridcolor": "#506784",
            "linecolor": "#506784",
            "ticks": ""
           }
          },
          "title": {
           "x": 0.05
          },
          "updatemenudefaults": {
           "bgcolor": "#506784",
           "borderwidth": 0
          },
          "xaxis": {
           "automargin": true,
           "gridcolor": "#283442",
           "linecolor": "#506784",
           "ticks": "",
           "title": {
            "standoff": 15
           },
           "zerolinecolor": "#283442",
           "zerolinewidth": 2
          },
          "yaxis": {
           "automargin": true,
           "gridcolor": "#283442",
           "linecolor": "#506784",
           "ticks": "",
           "title": {
            "standoff": 15
           },
           "zerolinecolor": "#283442",
           "zerolinewidth": 2
          }
         }
        },
        "xaxis": {
         "autorange": true,
         "range": [
          -0.8262595832219535,
          1.125988075660433
         ],
         "type": "linear"
        },
        "yaxis": {
         "autorange": true,
         "range": [
          -0.5006562827584671,
          0.6005467898228082
         ],
         "type": "linear"
        }
       }
      },
      "image/png": "[encoded data removed]",
      "text/html": [
       "<div>                            <div id=\"e7772a2f-f067-4e60-946c-f628d5ad03a4\" class=\"plotly-graph-div\" style=\"height:525px; width:100%;\"></div>            <script type=\"text/javascript\">                require([\"plotly\"], function(Plotly) {                    window.PLOTLYENV=window.PLOTLYENV || {};                                    if (document.getElementById(\"e7772a2f-f067-4e60-946c-f628d5ad03a4\")) {                    Plotly.newPlot(                        \"e7772a2f-f067-4e60-946c-f628d5ad03a4\",                        [{\"line\": {\"width\": 1}, \"marker\": {\"color\": [1, 1, 1, 1, 0, 0, 0, 2, 1, 2, 0, 0, 0, 1, 2, 2, 0, 2, 2, 1, 2, 2, 2, 2, 0, 0, 0, 2, 2, 2, 1, 1, 1, 1], \"colorscale\": [[0.0, \"rgb(0,0,131)\"], [0.2, \"rgb(0,60,170)\"], [0.4, \"rgb(5,255,255)\"], [0.6, \"rgb(255,255,0)\"], [0.8, \"rgb(250,0,0)\"], [1.0, \"rgb(128,0,0)\"]], \"size\": 15}, \"mode\": \"lines\", \"name\": \"edges\", \"type\": \"scatter\", \"uid\": \"5fee3d17-9f53-406b-b216-e0ac02fbcd0d\", \"x\": [0.3298847870868271, 0.13592534419940663, null, 0.3298847870868271, -0.0026129344486409845, null, 0.3298847870868271, 0.25133192590411957, null, 0.3298847870868271, 0.648374404846664, null, 0.3298847870868271, 0.7461237350436676, null, 0.3298847870868271, 0.7596912636248602, null, 0.3298847870868271, 0.22238157034256897, null, 0.3298847870868271, -0.09008282935927277, null, 0.3298847870868271, 0.6221466266203255, null, 0.3298847870868271, 0.5537311819816114, null, 0.3298847870868271, 0.485937664175994, null, 0.3298847870868271, 0.05852549901390687, null, 0.3298847870868271, 0.2746798830015628, null, 0.3298847870868271, -0.01523683466377873, null, 0.3298847870868271, 0.36786251143126164, null, 0.3298847870868271, -0.06688556236592828, null, 0.13592534419940663, -0.0026129344486409845, null, 0.13592534419940663, 0.25133192590411957, null, 0.13592534419940663, 0.22238157034256897, null, 0.13592534419940663, 0.05852549901390687, null, 0.13592534419940663, 0.2746798830015628, null, 0.13592534419940663, -0.01523683466377873, null, 0.13592534419940663, 0.36786251143126164, null, 0.13592534419940663, -0.18841138890578674, null, -0.0026129344486409845, 0.25133192590411957, null, -0.0026129344486409845, 0.22238157034256897, null, -0.0026129344486409845, -0.09008282935927277, null, -0.0026129344486409845, -0.26327337284606656, null, -0.0026129344486409845, 0.05852549901390687, null, -0.0026129344486409845, -0.19008345342978733, null, -0.0026129344486409845, -0.15406985069416662, null, -0.0026129344486409845, -0.37020748937230696, null, 0.25133192590411957, 0.22238157034256897, null, 0.25133192590411957, 0.485937664175994, null, 0.25133192590411957, 0.05852549901390687, null, 0.648374404846664, 0.7596912636248602, null, 0.648374404846664, 0.6221466266203255, null, 0.7461237350436676, 0.7596912636248602, null, 0.7461237350436676, 0.6221466266203255, null, 0.7461237350436676, 1.0, null, 0.7596912636248602, 1.0, null, -0.09008282935927277, -0.18841138890578674, null, -0.09008282935927277, -0.37020748937230696, null, -0.09008282935927277, -0.33426126947462476, null, -0.26327337284606656, -0.33426126947462476, null, 0.05852549901390687, -0.33426126947462476, null, -0.5689344694185378, -0.37020748937230696, null, -0.5689344694185378, -0.33426126947462476, null, -0.5109660370872692, -0.37020748937230696, null, -0.5109660370872692, -0.33426126947462476, null, -0.6400476710385603, -0.37020748937230696, null, -0.6400476710385603, -0.33426126947462476, null, -0.01523683466377873, -0.33426126947462476, null, -0.5207484882464669, -0.37020748937230696, null, -0.5207484882464669, -0.33426126947462476, null, -0.599832300262561, -0.37020748937230696, null, -0.599832300262561, -0.33426126947462476, null, -0.37929234229515174, -0.22806056333110994, null, -0.37929234229515174, -0.19008345342978733, null, -0.37929234229515174, -0.5452984254025316, null, -0.37929234229515174, -0.37020748937230696, null, -0.37929234229515174, -0.33426126947462476, null, -0.08801960706870685, -0.22806056333110994, null, -0.08801960706870685, -0.19008345342978733, null, -0.08801960706870685, -0.06688556236592828, null, -0.22806056333110994, -0.06688556236592828, null, -0.7002715075615203, -0.5452984254025316, null, -0.7002715075615203, -0.33426126947462476, null, -0.19008345342978733, -0.33426126947462476, null, -0.15406985069416662, -0.06688556236592828, null, -0.15406985069416662, -0.33426126947462476, null, -0.5452984254025316, -0.37020748937230696, null, -0.5452984254025316, -0.33426126947462476, null, -0.18841138890578674, -0.37020748937230696, null, -0.18841138890578674, -0.33426126947462476, null, -0.06688556236592828, -0.37020748937230696, null, -0.06688556236592828, -0.33426126947462476, null, -0.37020748937230696, -0.33426126947462476, null], \"y\": [-0.08139194223368576, -0.22695383848983483, null, -0.08139194223368576, -0.01871223379785289, null, -0.08139194223368576, -0.1830970651106816, null, -0.08139194223368576, -0.1863378082318158, null, -0.08139194223368576, -0.0017290231990654229, null, -0.08139194223368576, -0.11138631857802075, null, -0.08139194223368576, -0.05448570222955548, null, -0.08139194223368576, -0.01123965896454139, null, -0.08139194223368576, -0.0393105325998334, null, -0.08139194223368576, 0.17844910318351162, null, -0.08139194223368576, -0.286705625233339, null, -0.08139194223368576, -0.09663531703696926, null, -0.08139194223368576, -0.40735991133144234, null, -0.08139194223368576, -0.18884865466144632, null, -0.08139194223368576, -0.3556030715131683, null, -0.08139194223368576, 0.22548423237741053, null, -0.22695383848983483, -0.01871223379785289, null, -0.22695383848983483, -0.1830970651106816, null, -0.22695383848983483, -0.05448570222955548, null, -0.22695383848983483, -0.09663531703696926, null, -0.22695383848983483, -0.40735991133144234, null, -0.22695383848983483, -0.18884865466144632, null, -0.22695383848983483, -0.3556030715131683, null, -0.22695383848983483, -0.12830817954106657, null, -0.01871223379785289, -0.1830970651106816, null, -0.01871223379785289, -0.05448570222955548, null, -0.01871223379785289, -0.01123965896454139, null, -0.01871223379785289, -0.2226313490228529, null, -0.01871223379785289, -0.09663531703696926, null, -0.01871223379785289, 0.28125338768321534, null, -0.01871223379785289, 0.14252572956498888, null, -0.01871223379785289, 0.08173269233795336, null, -0.1830970651106816, -0.05448570222955548, null, -0.1830970651106816, -0.286705625233339, null, -0.1830970651106816, -0.09663531703696926, null, -0.1863378082318158, -0.11138631857802075, null, -0.1863378082318158, -0.0393105325998334, null, -0.0017290231990654229, -0.11138631857802075, null, -0.0017290231990654229, -0.0393105325998334, null, -0.0017290231990654229, -0.03982122582513232, null, -0.11138631857802075, -0.03982122582513232, null, -0.01123965896454139, -0.12830817954106657, null, -0.01123965896454139, 0.08173269233795336, null, -0.01123965896454139, 0.030234627048340727, null, -0.2226313490228529, 0.030234627048340727, null, -0.09663531703696926, 0.030234627048340727, null, -0.068002320737622, 0.08173269233795336, null, -0.068002320737622, 0.030234627048340727, null, -0.1635728960690151, 0.08173269233795336, null, -0.1635728960690151, 0.030234627048340727, null, 0.07121165901070961, 0.08173269233795336, null, 0.07121165901070961, 0.030234627048340727, null, -0.18884865466144632, 0.030234627048340727, null, 0.2749403525619294, 0.08173269233795336, null, 0.2749403525619294, 0.030234627048340727, null, 0.20263386589566412, 0.08173269233795336, null, 0.20263386589566412, 0.030234627048340727, null, 0.298511952502875, 0.5040333098234926, null, 0.298511952502875, 0.28125338768321534, null, 0.298511952502875, 0.11482038814827848, null, 0.298511952502875, 0.08173269233795336, null, 0.298511952502875, 0.030234627048340727, null, 0.5072504183957834, 0.5040333098234926, null, 0.5072504183957834, 0.28125338768321534, null, 0.5072504183957834, 0.22548423237741053, null, 0.5040333098234926, 0.22548423237741053, null, -0.040949044127212945, 0.11482038814827848, null, -0.040949044127212945, 0.030234627048340727, null, 0.28125338768321534, 0.030234627048340727, null, 0.14252572956498888, 0.22548423237741053, null, 0.14252572956498888, 0.030234627048340727, null, 0.11482038814827848, 0.08173269233795336, null, 0.11482038814827848, 0.030234627048340727, null, -0.12830817954106657, 0.08173269233795336, null, -0.12830817954106657, 0.030234627048340727, null, 0.22548423237741053, 0.08173269233795336, null, 0.22548423237741053, 0.030234627048340727, null, 0.08173269233795336, 0.030234627048340727, null]}, {\"customdata\": [[1.0, 1.0, 16.0, 1.0, 0.3298847870868271, -0.08139194223368576], [2.0, 1.0, 9.0, 1.0, 0.13592534419940663, -0.22695383848983483], [3.0, 1.0, 10.0, 1.0, -0.0026129344486409845, -0.01871223379785289], [4.0, 1.0, 6.0, 1.0, 0.25133192590411957, -0.1830970651106816], [5.0, 1.0, 3.0, 0.0, 0.648374404846664, -0.1863378082318158], [6.0, 1.0, 4.0, 0.0, 0.7461237350436676, -0.0017290231990654229], [7.0, 1.0, 4.0, 0.0, 0.7596912636248602, -0.11138631857802075], [8.0, 1.0, 4.0, 2.0, 0.22238157034256897, -0.05448570222955548], [9.0, 1.0, 5.0, 1.0, -0.09008282935927277, -0.01123965896454139], [10.0, 1.0, 2.0, 2.0, -0.26327337284606656, -0.2226313490228529], [11.0, 1.0, 3.0, 0.0, 0.6221466266203255, -0.0393105325998334], [12.0, 1.0, 1.0, 0.0, 0.5537311819816114, 0.17844910318351162], [13.0, 1.0, 2.0, 0.0, 0.485937664175994, -0.286705625233339], [14.0, 1.0, 5.0, 1.0, 0.05852549901390687, -0.09663531703696926], [15.0, 1.0, 2.0, 2.0, -0.5689344694185378, -0.068002320737622], [16.0, 1.0, 2.0, 2.0, -0.5109660370872692, -0.1635728960690151], [17.0, 1.0, 2.0, 0.0, 1.0, -0.03982122582513232], [18.0, 1.0, 2.0, 2.0, 0.2746798830015628, -0.40735991133144234], [19.0, 1.0, 2.0, 2.0, -0.6400476710385603, 0.07121165901070961], [20.0, 1.0, 3.0, 1.0, -0.01523683466377873, -0.18884865466144632], [21.0, 1.0, 2.0, 2.0, -0.5207484882464669, 0.2749403525619294], [22.0, 1.0, 2.0, 2.0, 0.36786251143126164, -0.3556030715131683], [23.0, 1.0, 2.0, 2.0, -0.599832300262561, 0.20263386589566412], [24.0, 1.0, 5.0, 2.0, -0.37929234229515174, 0.298511952502875], [25.0, 1.0, 3.0, 0.0, -0.08801960706870685, 0.5072504183957834], [26.0, 1.0, 3.0, 0.0, -0.22806056333110994, 0.5040333098234926], [27.0, 1.0, 2.0, 0.0, -0.7002715075615203, -0.040949044127212945], [28.0, 1.0, 4.0, 2.0, -0.19008345342978733, 0.28125338768321534], [29.0, 1.0, 3.0, 2.0, -0.15406985069416662, 0.14252572956498888], [30.0, 1.0, 4.0, 2.0, -0.5452984254025316, 0.11482038814827848], [31.0, 1.0, 4.0, 1.0, -0.18841138890578674, -0.12830817954106657], [32.0, 1.0, 6.0, 1.0, -0.06688556236592828, 0.22548423237741053], [33.0, 1.0, 12.0, 1.0, -0.37020748937230696, 0.08173269233795336], [34.0, 1.0, 17.0, 1.0, -0.33426126947462476, 0.030234627048340727]], \"hovertemplate\": \"node_name: %{customdata[0]} <br> radius: %{customdata[1]} <br> degree: %{customdata[2]} <br> cluster: %{customdata[3]} <br> nodes_x: %{customdata[4]} <br> nodes_y: %{customdata[5]} <br> \", \"marker\": {\"color\": [1, 1, 1, 1, 0, 0, 0, 2, 1, 2, 0, 0, 0, 1, 2, 2, 0, 2, 2, 1, 2, 2, 2, 2, 0, 0, 0, 2, 2, 2, 1, 1, 1, 1], \"colorscale\": [[0.0, \"rgb(0,0,131)\"], [0.2, \"rgb(0,60,170)\"], [0.4, \"rgb(5,255,255)\"], [0.6, \"rgb(255,255,0)\"], [0.8, \"rgb(250,0,0)\"], [1.0, \"rgb(128,0,0)\"]], \"size\": 15}, \"mode\": \"markers\", \"name\": \"Node\", \"text\": [1.0, 2.0, 3.0, 4.0, 5.0, 6.0, 7.0, 8.0, 9.0, 10.0, 11.0, 12.0, 13.0, 14.0, 15.0, 16.0, 17.0, 18.0, 19.0, 20.0, 21.0, 22.0, 23.0, 24.0, 25.0, 26.0, 27.0, 28.0, 29.0, 30.0, 31.0, 32.0, 33.0, 34.0], \"type\": \"scatter\", \"uid\": \"c9b1c27a-4616-4bbd-9cec-95c38201e552\", \"x\": [0.3298847870868271, 0.13592534419940663, -0.0026129344486409845, 0.25133192590411957, 0.648374404846664, 0.7461237350436676, 0.7596912636248602, 0.22238157034256897, -0.09008282935927277, -0.26327337284606656, 0.6221466266203255, 0.5537311819816114, 0.485937664175994, 0.05852549901390687, -0.5689344694185378, -0.5109660370872692, 1.0, 0.2746798830015628, -0.6400476710385603, -0.01523683466377873, -0.5207484882464669, 0.36786251143126164, -0.599832300262561, -0.37929234229515174, -0.08801960706870685, -0.22806056333110994, -0.7002715075615203, -0.19008345342978733, -0.15406985069416662, -0.5452984254025316, -0.18841138890578674, -0.06688556236592828, -0.37020748937230696, -0.33426126947462476], \"y\": [-0.08139194223368576, -0.22695383848983483, -0.01871223379785289, -0.1830970651106816, -0.1863378082318158, -0.0017290231990654229, -0.11138631857802075, -0.05448570222955548, -0.01123965896454139, -0.2226313490228529, -0.0393105325998334, 0.17844910318351162, -0.286705625233339, -0.09663531703696926, -0.068002320737622, -0.1635728960690151, -0.03982122582513232, -0.40735991133144234, 0.07121165901070961, -0.18884865466144632, 0.2749403525619294, -0.3556030715131683, 0.20263386589566412, 0.298511952502875, 0.5072504183957834, 0.5040333098234926, -0.040949044127212945, 0.28125338768321534, 0.14252572956498888, 0.11482038814827848, -0.12830817954106657, 0.22548423237741053, 0.08173269233795336, 0.030234627048340727]}],                        {\"dragmode\": \"pan\", \"template\": {\"data\": {\"bar\": [{\"error_x\": {\"color\": \"#f2f5fa\"}, \"error_y\": {\"color\": \"#f2f5fa\"}, \"marker\": {\"line\": {\"color\": \"rgb(17,17,17)\", \"width\": 0.5}}, \"type\": \"bar\"}], \"barpolar\": [{\"marker\": {\"line\": {\"color\": \"rgb(17,17,17)\", \"width\": 0.5}}, \"type\": \"barpolar\"}], \"carpet\": [{\"aaxis\": {\"endlinecolor\": \"#A2B1C6\", \"gridcolor\": \"#506784\", \"linecolor\": \"#506784\", \"minorgridcolor\": \"#506784\", \"startlinecolor\": \"#A2B1C6\"}, \"baxis\": {\"endlinecolor\": \"#A2B1C6\", \"gridcolor\": \"#506784\", \"linecolor\": \"#506784\", \"minorgridcolor\": \"#506784\", \"startlinecolor\": \"#A2B1C6\"}, \"type\": \"carpet\"}], \"choropleth\": [{\"colorbar\": {\"outlinewidth\": 0, \"ticks\": \"\"}, \"type\": \"choropleth\"}], \"contour\": [{\"colorbar\": {\"outlinewidth\": 0, \"ticks\": \"\"}, \"colorscale\": [[0.0, \"#0d0887\"], [0.1111111111111111, \"#46039f\"], [0.2222222222222222, \"#7201a8\"], [0.3333333333333333, \"#9c179e\"], [0.4444444444444444, \"#bd3786\"], [0.5555555555555556, \"#d8576b\"], [0.6666666666666666, \"#ed7953\"], [0.7777777777777778, \"#fb9f3a\"], [0.8888888888888888, \"#fdca26\"], [1.0, \"#f0f921\"]], \"type\": \"contour\"}], \"contourcarpet\": [{\"colorbar\": {\"outlinewidth\": 0, \"ticks\": \"\"}, \"type\": \"contourcarpet\"}], \"heatmap\": [{\"colorbar\": {\"outlinewidth\": 0, \"ticks\": \"\"}, \"colorscale\": [[0.0, \"#0d0887\"], [0.1111111111111111, \"#46039f\"], [0.2222222222222222, \"#7201a8\"], [0.3333333333333333, \"#9c179e\"], [0.4444444444444444, \"#bd3786\"], [0.5555555555555556, \"#d8576b\"], [0.6666666666666666, \"#ed7953\"], [0.7777777777777778, \"#fb9f3a\"], [0.8888888888888888, \"#fdca26\"], [1.0, \"#f0f921\"]], \"type\": \"heatmap\"}], \"heatmapgl\": [{\"colorbar\": {\"outlinewidth\": 0, \"ticks\": \"\"}, \"colorscale\": [[0.0, \"#0d0887\"], [0.1111111111111111, \"#46039f\"], [0.2222222222222222, \"#7201a8\"], [0.3333333333333333, \"#9c179e\"], [0.4444444444444444, \"#bd3786\"], [0.5555555555555556, \"#d8576b\"], [0.6666666666666666, \"#ed7953\"], [0.7777777777777778, \"#fb9f3a\"], [0.8888888888888888, \"#fdca26\"], [1.0, \"#f0f921\"]], \"type\": \"heatmapgl\"}], \"histogram\": [{\"marker\": {\"colorbar\": {\"outlinewidth\": 0, \"ticks\": \"\"}}, \"type\": \"histogram\"}], \"histogram2d\": [{\"colorbar\": {\"outlinewidth\": 0, \"ticks\": \"\"}, \"colorscale\": [[0.0, \"#0d0887\"], [0.1111111111111111, \"#46039f\"], [0.2222222222222222, \"#7201a8\"], [0.3333333333333333, \"#9c179e\"], [0.4444444444444444, \"#bd3786\"], [0.5555555555555556, \"#d8576b\"], [0.6666666666666666, \"#ed7953\"], [0.7777777777777778, \"#fb9f3a\"], [0.8888888888888888, \"#fdca26\"], [1.0, \"#f0f921\"]], \"type\": \"histogram2d\"}], \"histogram2dcontour\": [{\"colorbar\": {\"outlinewidth\": 0, \"ticks\": \"\"}, \"colorscale\": [[0.0, \"#0d0887\"], [0.1111111111111111, \"#46039f\"], [0.2222222222222222, \"#7201a8\"], [0.3333333333333333, \"#9c179e\"], [0.4444444444444444, \"#bd3786\"], [0.5555555555555556, \"#d8576b\"], [0.6666666666666666, \"#ed7953\"], [0.7777777777777778, \"#fb9f3a\"], [0.8888888888888888, \"#fdca26\"], [1.0, \"#f0f921\"]], \"type\": \"histogram2dcontour\"}], \"mesh3d\": [{\"colorbar\": {\"outlinewidth\": 0, \"ticks\": \"\"}, \"type\": \"mesh3d\"}], \"parcoords\": [{\"line\": {\"colorbar\": {\"outlinewidth\": 0, \"ticks\": \"\"}}, \"type\": \"parcoords\"}], \"pie\": [{\"automargin\": true, \"type\": \"pie\"}], \"scatter\": [{\"marker\": {\"line\": {\"color\": \"#283442\"}}, \"type\": \"scatter\"}], \"scatter3d\": [{\"line\": {\"colorbar\": {\"outlinewidth\": 0, \"ticks\": \"\"}}, \"marker\": {\"colorbar\": {\"outlinewidth\": 0, \"ticks\": \"\"}}, \"type\": \"scatter3d\"}], \"scattercarpet\": [{\"marker\": {\"colorbar\": {\"outlinewidth\": 0, \"ticks\": \"\"}}, \"type\": \"scattercarpet\"}], \"scattergeo\": [{\"marker\": {\"colorbar\": {\"outlinewidth\": 0, \"ticks\": \"\"}}, \"type\": \"scattergeo\"}], \"scattergl\": [{\"marker\": {\"line\": {\"color\": \"#283442\"}}, \"type\": \"scattergl\"}], \"scattermapbox\": [{\"marker\": {\"colorbar\": {\"outlinewidth\": 0, \"ticks\": \"\"}}, \"type\": \"scattermapbox\"}], \"scatterpolar\": [{\"marker\": {\"colorbar\": {\"outlinewidth\": 0, \"ticks\": \"\"}}, \"type\": \"scatterpolar\"}], \"scatterpolargl\": [{\"marker\": {\"colorbar\": {\"outlinewidth\": 0, \"ticks\": \"\"}}, \"type\": \"scatterpolargl\"}], \"scatterternary\": [{\"marker\": {\"colorbar\": {\"outlinewidth\": 0, \"ticks\": \"\"}}, \"type\": \"scatterternary\"}], \"surface\": [{\"colorbar\": {\"outlinewidth\": 0, \"ticks\": \"\"}, \"colorscale\": [[0.0, \"#0d0887\"], [0.1111111111111111, \"#46039f\"], [0.2222222222222222, \"#7201a8\"], [0.3333333333333333, \"#9c179e\"], [0.4444444444444444, \"#bd3786\"], [0.5555555555555556, \"#d8576b\"], [0.6666666666666666, \"#ed7953\"], [0.7777777777777778, \"#fb9f3a\"], [0.8888888888888888, \"#fdca26\"], [1.0, \"#f0f921\"]], \"type\": \"surface\"}], \"table\": [{\"cells\": {\"fill\": {\"color\": \"#506784\"}, \"line\": {\"color\": \"rgb(17,17,17)\"}}, \"header\": {\"fill\": {\"color\": \"#2a3f5f\"}, \"line\": {\"color\": \"rgb(17,17,17)\"}}, \"type\": \"table\"}]}, \"layout\": {\"annotationdefaults\": {\"arrowcolor\": \"#f2f5fa\", \"arrowhead\": 0, \"arrowwidth\": 1}, \"autotypenumbers\": \"strict\", \"coloraxis\": {\"colorbar\": {\"outlinewidth\": 0, \"ticks\": \"\"}}, \"colorscale\": {\"diverging\": [[0, \"#8e0152\"], [0.1, \"#c51b7d\"], [0.2, \"#de77ae\"], [0.3, \"#f1b6da\"], [0.4, \"#fde0ef\"], [0.5, \"#f7f7f7\"], [0.6, \"#e6f5d0\"], [0.7, \"#b8e186\"], [0.8, \"#7fbc41\"], [0.9, \"#4d9221\"], [1, \"#276419\"]], \"sequential\": [[0.0, \"#0d0887\"], [0.1111111111111111, \"#46039f\"], [0.2222222222222222, \"#7201a8\"], [0.3333333333333333, \"#9c179e\"], [0.4444444444444444, \"#bd3786\"], [0.5555555555555556, \"#d8576b\"], [0.6666666666666666, \"#ed7953\"], [0.7777777777777778, \"#fb9f3a\"], [0.8888888888888888, \"#fdca26\"], [1.0, \"#f0f921\"]], \"sequentialminus\": [[0.0, \"#0d0887\"], [0.1111111111111111, \"#46039f\"], [0.2222222222222222, \"#7201a8\"], [0.3333333333333333, \"#9c179e\"], [0.4444444444444444, \"#bd3786\"], [0.5555555555555556, \"#d8576b\"], [0.6666666666666666, \"#ed7953\"], [0.7777777777777778, \"#fb9f3a\"], [0.8888888888888888, \"#fdca26\"], [1.0, \"#f0f921\"]]}, \"colorway\": [\"#636efa\", \"#EF553B\", \"#00cc96\", \"#ab63fa\", \"#FFA15A\", \"#19d3f3\", \"#FF6692\", \"#B6E880\", \"#FF97FF\", \"#FECB52\"], \"font\": {\"color\": \"#f2f5fa\"}, \"geo\": {\"bgcolor\": \"rgb(17,17,17)\", \"lakecolor\": \"rgb(17,17,17)\", \"landcolor\": \"rgb(17,17,17)\", \"showlakes\": true, \"showland\": true, \"subunitcolor\": \"#506784\"}, \"hoverlabel\": {\"align\": \"left\"}, \"hovermode\": \"closest\", \"mapbox\": {\"style\": \"dark\"}, \"paper_bgcolor\": \"rgb(17,17,17)\", \"plot_bgcolor\": \"rgb(17,17,17)\", \"polar\": {\"angularaxis\": {\"gridcolor\": \"#506784\", \"linecolor\": \"#506784\", \"ticks\": \"\"}, \"bgcolor\": \"rgb(17,17,17)\", \"radialaxis\": {\"gridcolor\": \"#506784\", \"linecolor\": \"#506784\", \"ticks\": \"\"}}, \"scene\": {\"xaxis\": {\"backgroundcolor\": \"rgb(17,17,17)\", \"gridcolor\": \"#506784\", \"gridwidth\": 2, \"linecolor\": \"#506784\", \"showbackground\": true, \"ticks\": \"\", \"zerolinecolor\": \"#C8D4E3\"}, \"yaxis\": {\"backgroundcolor\": \"rgb(17,17,17)\", \"gridcolor\": \"#506784\", \"gridwidth\": 2, \"linecolor\": \"#506784\", \"showbackground\": true, \"ticks\": \"\", \"zerolinecolor\": \"#C8D4E3\"}, \"zaxis\": {\"backgroundcolor\": \"rgb(17,17,17)\", \"gridcolor\": \"#506784\", \"gridwidth\": 2, \"linecolor\": \"#506784\", \"showbackground\": true, \"ticks\": \"\", \"zerolinecolor\": \"#C8D4E3\"}}, \"shapedefaults\": {\"line\": {\"color\": \"#f2f5fa\"}}, \"sliderdefaults\": {\"bgcolor\": \"#C8D4E3\", \"bordercolor\": \"rgb(17,17,17)\", \"borderwidth\": 1, \"tickwidth\": 0}, \"ternary\": {\"aaxis\": {\"gridcolor\": \"#506784\", \"linecolor\": \"#506784\", \"ticks\": \"\"}, \"baxis\": {\"gridcolor\": \"#506784\", \"linecolor\": \"#506784\", \"ticks\": \"\"}, \"bgcolor\": \"rgb(17,17,17)\", \"caxis\": {\"gridcolor\": \"#506784\", \"linecolor\": \"#506784\", \"ticks\": \"\"}}, \"title\": {\"x\": 0.05}, \"updatemenudefaults\": {\"bgcolor\": \"#506784\", \"borderwidth\": 0}, \"xaxis\": {\"automargin\": true, \"gridcolor\": \"#283442\", \"linecolor\": \"#506784\", \"ticks\": \"\", \"title\": {\"standoff\": 15}, \"zerolinecolor\": \"#283442\", \"zerolinewidth\": 2}, \"yaxis\": {\"automargin\": true, \"gridcolor\": \"#283442\", \"linecolor\": \"#506784\", \"ticks\": \"\", \"title\": {\"standoff\": 15}, \"zerolinecolor\": \"#283442\", \"zerolinewidth\": 2}}}},                        {\"responsive\": true}                    ).then(function(){\n",
       "                            \n",
       "var gd = document.getElementById('e7772a2f-f067-4e60-946c-f628d5ad03a4');\n",
       "var x = new MutationObserver(function (mutations, observer) {{\n",
       "        var display = window.getComputedStyle(gd).display;\n",
       "        if (!display || display === 'none') {{\n",
       "            console.log([gd, 'removed!']);\n",
       "            Plotly.purge(gd);\n",
       "            observer.disconnect();\n",
       "        }}\n",
       "}});\n",
       "\n",
       "// Listen for the removal of the full notebook cells\n",
       "var notebookContainer = gd.closest('#notebook-container');\n",
       "if (notebookContainer) {{\n",
       "    x.observe(notebookContainer, {childList: true});\n",
       "}}\n",
       "\n",
       "// Listen for the clearing of the current output cell\n",
       "var outputEl = gd.closest('.output');\n",
       "if (outputEl) {{\n",
       "    x.observe(outputEl, {childList: true});\n",
       "}}\n",
       "\n",
       "                        })                };                });            </script>        </div>"
      ]
     },
     "metadata": {},
     "output_type": "display_data"
    },
    {
     "name": "stdout",
     "output_type": "stream",
     "text": [
      "-0.034763313609467515\n",
      "3.55 s ± 0 ns per loop (mean ± std. dev. of 1 run, 1 loop each)\n"
     ]
    }
   ],
   "source": [
    "%%timeit -n1 -r1\n",
    "df = other_sims.kmedoid_clustering2(target_G, RDD.get_rdd_matrix(target_G, target_rad, measures.global_graph_degree), target_clusters)\n",
    "fig = visualize.visualize_rdd_kmedoid(target_G, target_rad, target_measure, pos, target_clusters)\n",
    "fig.show()\n",
    "df = df.sort_values('cluster')\n",
    "# print(df)1\n",
    "\n",
    "clusters = df_to_cluster_list(df)\n",
    "result = nx.algorithms.community.modularity(target_G, clusters)\n",
    "print(result)"
   ]
  },
  {
   "cell_type": "markdown",
   "metadata": {},
   "source": [
    "# Modularity\n",
    "\n",
    "Modularity is the fraction of the edges that fall within the given groups minus the expected fraction if edges were distributed at random. The value of the modularity for unweighted and undirected graphs lies in the range $[-1/2,1][-1/2,1]$. It is positive if the number of edges within groups exceeds the number expected on the basis of chance. For a given division of the network's vertices into some modules, modularity reflects the concentration of edges within modules compared with random distribution of links between all nodes regardless of modules.\n",
    "\n",
    "https://en.wikipedia.org/wiki/Modularity_(networks)\n",
    "\n",
    "Here our goal is to test the modularity after clustering based on RDD values and compare that to clustering based on other algorithms, such as ASCOS."
   ]
  },
  {
   "cell_type": "markdown",
   "metadata": {
    "ExecuteTime": {
     "end_time": "2020-09-20T10:06:36.584454Z",
     "start_time": "2020-09-20T10:06:36.582539Z"
    }
   },
   "source": [
    "## Max modularity"
   ]
  },
  {
   "cell_type": "code",
   "execution_count": 15,
   "metadata": {
    "ExecuteTime": {
     "end_time": "2020-09-21T09:15:59.503849Z",
     "start_time": "2020-09-21T09:15:59.498014Z"
    }
   },
   "outputs": [
    {
     "name": "stdout",
     "output_type": "stream",
     "text": [
      "Max modularity: 0.3806706114398422\n"
     ]
    }
   ],
   "source": [
    "print(\"Max modularity:\", nx.algorithms.community \\\n",
    "      .modularity(target_G, nx.algorithms.community \\\n",
    "      .modularity_max.greedy_modularity_communities(target_G)))\n",
    "\n",
    "all_results = pd.DataFrame({'clusters': range(1, 20, 1)})"
   ]
  },
  {
   "cell_type": "markdown",
   "metadata": {},
   "source": [
    "# KMedoid clustering Modularity"
   ]
  },
  {
   "cell_type": "code",
   "execution_count": 23,
   "metadata": {
    "ExecuteTime": {
     "end_time": "2020-09-21T09:16:05.324298Z",
     "start_time": "2020-09-21T09:16:05.313394Z"
    }
   },
   "outputs": [],
   "source": [
    "kmedoid_results = pd.DataFrame()"
   ]
  },
  {
   "cell_type": "markdown",
   "metadata": {},
   "source": [
    "## RDD"
   ]
  },
  {
   "cell_type": "code",
   "execution_count": 30,
   "metadata": {
    "ExecuteTime": {
     "end_time": "2020-09-21T09:16:08.426490Z",
     "start_time": "2020-09-21T09:16:06.910255Z"
    }
   },
   "outputs": [
    {
     "name": "stdout",
     "output_type": "stream",
     "text": [
      "Modularity 1 clusters: 0.0\n",
      "Modularity 2 clusters: -0.01849112426035504\n",
      "Modularity 3 clusters: -0.032626561472715324\n",
      "Modularity 4 clusters: -0.051528599605522744\n",
      "Modularity 5 clusters: -0.04331032215647607\n",
      "Modularity 6 clusters: -0.04331032215647607\n",
      "Modularity 7 clusters: -0.04331032215647607\n",
      "Modularity 8 clusters: -0.04331032215647607\n",
      "Modularity 9 clusters: -0.04331032215647607\n"
     ]
    }
   ],
   "source": [
    "results = []\n",
    "for k in range(1,10,1):\n",
    "    rdd_matrix = RDD.get_rdd_matrix(target_G, 3, measures.global_graph_degree)\n",
    "    rdd_matrix.index += 1\n",
    "    cluster_data = kmedoid_clustering2(target_G, rdd_matrix, k)\n",
    "    clusters = df_to_cluster_list(cluster_data)\n",
    "    result = nx.algorithms.community.modularity(target_G, clusters)\n",
    "    print(f\"Modularity {k} clusters:\", result)\n",
    "    results.append(result)\n",
    "kmedoid_results['RDD'] = results"
   ]
  },
  {
   "cell_type": "markdown",
   "metadata": {},
   "source": [
    "## Final Results"
   ]
  },
  {
   "cell_type": "code",
   "execution_count": 31,
   "metadata": {},
   "outputs": [
    {
     "data": {
      "text/html": [
       "<div>\n",
       "<style scoped>\n",
       "    .dataframe tbody tr th:only-of-type {\n",
       "        vertical-align: middle;\n",
       "    }\n",
       "\n",
       "    .dataframe tbody tr th {\n",
       "        vertical-align: top;\n",
       "    }\n",
       "\n",
       "    .dataframe thead th {\n",
       "        text-align: right;\n",
       "    }\n",
       "</style>\n",
       "<table border=\"1\" class=\"dataframe\">\n",
       "  <thead>\n",
       "    <tr style=\"text-align: right;\">\n",
       "      <th></th>\n",
       "      <th>1</th>\n",
       "      <th>2</th>\n",
       "      <th>3</th>\n",
       "      <th>4</th>\n",
       "      <th>5</th>\n",
       "      <th>6</th>\n",
       "      <th>7</th>\n",
       "      <th>8</th>\n",
       "      <th>9</th>\n",
       "      <th>10</th>\n",
       "      <th>...</th>\n",
       "      <th>25</th>\n",
       "      <th>26</th>\n",
       "      <th>27</th>\n",
       "      <th>28</th>\n",
       "      <th>29</th>\n",
       "      <th>30</th>\n",
       "      <th>31</th>\n",
       "      <th>32</th>\n",
       "      <th>33</th>\n",
       "      <th>34</th>\n",
       "    </tr>\n",
       "  </thead>\n",
       "  <tbody>\n",
       "    <tr>\n",
       "      <th>1</th>\n",
       "      <td>0.000000</td>\n",
       "      <td>16.911789</td>\n",
       "      <td>11.205609</td>\n",
       "      <td>23.222704</td>\n",
       "      <td>42.246509</td>\n",
       "      <td>40.142871</td>\n",
       "      <td>40.142871</td>\n",
       "      <td>30.198134</td>\n",
       "      <td>20.484827</td>\n",
       "      <td>35.783505</td>\n",
       "      <td>...</td>\n",
       "      <td>46.062031</td>\n",
       "      <td>46.506164</td>\n",
       "      <td>45.325546</td>\n",
       "      <td>29.292699</td>\n",
       "      <td>31.396337</td>\n",
       "      <td>35.113089</td>\n",
       "      <td>26.620334</td>\n",
       "      <td>21.768356</td>\n",
       "      <td>8.784798</td>\n",
       "      <td>3.015224</td>\n",
       "    </tr>\n",
       "    <tr>\n",
       "      <th>2</th>\n",
       "      <td>16.911789</td>\n",
       "      <td>0.000000</td>\n",
       "      <td>9.495568</td>\n",
       "      <td>6.310915</td>\n",
       "      <td>25.334720</td>\n",
       "      <td>23.231082</td>\n",
       "      <td>23.231082</td>\n",
       "      <td>13.286345</td>\n",
       "      <td>7.945679</td>\n",
       "      <td>18.871716</td>\n",
       "      <td>...</td>\n",
       "      <td>29.150243</td>\n",
       "      <td>29.594375</td>\n",
       "      <td>28.413757</td>\n",
       "      <td>14.004934</td>\n",
       "      <td>16.108572</td>\n",
       "      <td>18.201300</td>\n",
       "      <td>10.791227</td>\n",
       "      <td>7.021932</td>\n",
       "      <td>8.326139</td>\n",
       "      <td>16.095713</td>\n",
       "    </tr>\n",
       "    <tr>\n",
       "      <th>3</th>\n",
       "      <td>11.205609</td>\n",
       "      <td>9.495568</td>\n",
       "      <td>0.000000</td>\n",
       "      <td>15.806483</td>\n",
       "      <td>34.830288</td>\n",
       "      <td>32.726650</td>\n",
       "      <td>32.726650</td>\n",
       "      <td>22.781913</td>\n",
       "      <td>9.549889</td>\n",
       "      <td>28.367284</td>\n",
       "      <td>...</td>\n",
       "      <td>38.645810</td>\n",
       "      <td>39.089943</td>\n",
       "      <td>37.909325</td>\n",
       "      <td>21.876478</td>\n",
       "      <td>23.980116</td>\n",
       "      <td>27.696868</td>\n",
       "      <td>19.204113</td>\n",
       "      <td>10.562747</td>\n",
       "      <td>5.368577</td>\n",
       "      <td>12.013556</td>\n",
       "    </tr>\n",
       "    <tr>\n",
       "      <th>4</th>\n",
       "      <td>23.222704</td>\n",
       "      <td>6.310915</td>\n",
       "      <td>15.806483</td>\n",
       "      <td>0.000000</td>\n",
       "      <td>19.023805</td>\n",
       "      <td>16.920167</td>\n",
       "      <td>16.920167</td>\n",
       "      <td>6.975430</td>\n",
       "      <td>8.256594</td>\n",
       "      <td>12.560801</td>\n",
       "      <td>...</td>\n",
       "      <td>22.839328</td>\n",
       "      <td>23.283460</td>\n",
       "      <td>22.102842</td>\n",
       "      <td>7.694019</td>\n",
       "      <td>9.797657</td>\n",
       "      <td>11.890385</td>\n",
       "      <td>4.480312</td>\n",
       "      <td>6.597088</td>\n",
       "      <td>14.637054</td>\n",
       "      <td>22.406628</td>\n",
       "    </tr>\n",
       "    <tr>\n",
       "      <th>5</th>\n",
       "      <td>42.246509</td>\n",
       "      <td>25.334720</td>\n",
       "      <td>34.830288</td>\n",
       "      <td>19.023805</td>\n",
       "      <td>0.000000</td>\n",
       "      <td>2.103638</td>\n",
       "      <td>2.103638</td>\n",
       "      <td>12.048375</td>\n",
       "      <td>25.280399</td>\n",
       "      <td>8.463004</td>\n",
       "      <td>...</td>\n",
       "      <td>5.707431</td>\n",
       "      <td>6.151563</td>\n",
       "      <td>3.079037</td>\n",
       "      <td>12.953810</td>\n",
       "      <td>10.850172</td>\n",
       "      <td>7.332569</td>\n",
       "      <td>15.626175</td>\n",
       "      <td>25.620893</td>\n",
       "      <td>33.461711</td>\n",
       "      <td>41.231285</td>\n",
       "    </tr>\n",
       "    <tr>\n",
       "      <th>6</th>\n",
       "      <td>40.142871</td>\n",
       "      <td>23.231082</td>\n",
       "      <td>32.726650</td>\n",
       "      <td>16.920167</td>\n",
       "      <td>2.103638</td>\n",
       "      <td>0.000000</td>\n",
       "      <td>0.000000</td>\n",
       "      <td>9.944737</td>\n",
       "      <td>23.176761</td>\n",
       "      <td>8.359366</td>\n",
       "      <td>...</td>\n",
       "      <td>7.811069</td>\n",
       "      <td>8.255202</td>\n",
       "      <td>5.182675</td>\n",
       "      <td>10.850172</td>\n",
       "      <td>10.746533</td>\n",
       "      <td>5.228930</td>\n",
       "      <td>13.522537</td>\n",
       "      <td>23.517255</td>\n",
       "      <td>31.358073</td>\n",
       "      <td>39.127647</td>\n",
       "    </tr>\n",
       "    <tr>\n",
       "      <th>7</th>\n",
       "      <td>40.142871</td>\n",
       "      <td>23.231082</td>\n",
       "      <td>32.726650</td>\n",
       "      <td>16.920167</td>\n",
       "      <td>2.103638</td>\n",
       "      <td>0.000000</td>\n",
       "      <td>0.000000</td>\n",
       "      <td>9.944737</td>\n",
       "      <td>23.176761</td>\n",
       "      <td>8.359366</td>\n",
       "      <td>...</td>\n",
       "      <td>7.811069</td>\n",
       "      <td>8.255202</td>\n",
       "      <td>5.182675</td>\n",
       "      <td>10.850172</td>\n",
       "      <td>10.746533</td>\n",
       "      <td>5.228930</td>\n",
       "      <td>13.522537</td>\n",
       "      <td>23.517255</td>\n",
       "      <td>31.358073</td>\n",
       "      <td>39.127647</td>\n",
       "    </tr>\n",
       "    <tr>\n",
       "      <th>8</th>\n",
       "      <td>30.198134</td>\n",
       "      <td>13.286345</td>\n",
       "      <td>22.781913</td>\n",
       "      <td>6.975430</td>\n",
       "      <td>12.048375</td>\n",
       "      <td>9.944737</td>\n",
       "      <td>9.944737</td>\n",
       "      <td>0.000000</td>\n",
       "      <td>13.232024</td>\n",
       "      <td>10.186771</td>\n",
       "      <td>...</td>\n",
       "      <td>15.863898</td>\n",
       "      <td>16.308030</td>\n",
       "      <td>15.127412</td>\n",
       "      <td>5.319988</td>\n",
       "      <td>7.423626</td>\n",
       "      <td>4.914955</td>\n",
       "      <td>3.577800</td>\n",
       "      <td>13.572518</td>\n",
       "      <td>21.413336</td>\n",
       "      <td>29.182910</td>\n",
       "    </tr>\n",
       "    <tr>\n",
       "      <th>9</th>\n",
       "      <td>20.484827</td>\n",
       "      <td>7.945679</td>\n",
       "      <td>9.549889</td>\n",
       "      <td>8.256594</td>\n",
       "      <td>25.280399</td>\n",
       "      <td>23.176761</td>\n",
       "      <td>23.176761</td>\n",
       "      <td>13.232024</td>\n",
       "      <td>0.000000</td>\n",
       "      <td>18.817396</td>\n",
       "      <td>...</td>\n",
       "      <td>29.095922</td>\n",
       "      <td>29.540054</td>\n",
       "      <td>28.359437</td>\n",
       "      <td>12.326589</td>\n",
       "      <td>14.430228</td>\n",
       "      <td>18.146979</td>\n",
       "      <td>9.654224</td>\n",
       "      <td>3.283529</td>\n",
       "      <td>12.440518</td>\n",
       "      <td>21.292774</td>\n",
       "    </tr>\n",
       "    <tr>\n",
       "      <th>10</th>\n",
       "      <td>35.783505</td>\n",
       "      <td>18.871716</td>\n",
       "      <td>28.367284</td>\n",
       "      <td>12.560801</td>\n",
       "      <td>8.463004</td>\n",
       "      <td>8.359366</td>\n",
       "      <td>8.359366</td>\n",
       "      <td>10.186771</td>\n",
       "      <td>18.817396</td>\n",
       "      <td>0.000000</td>\n",
       "      <td>...</td>\n",
       "      <td>12.278526</td>\n",
       "      <td>12.722659</td>\n",
       "      <td>9.542041</td>\n",
       "      <td>6.490806</td>\n",
       "      <td>4.387168</td>\n",
       "      <td>11.422931</td>\n",
       "      <td>9.163171</td>\n",
       "      <td>19.157889</td>\n",
       "      <td>26.998707</td>\n",
       "      <td>34.768281</td>\n",
       "    </tr>\n",
       "    <tr>\n",
       "      <th>11</th>\n",
       "      <td>42.246509</td>\n",
       "      <td>25.334720</td>\n",
       "      <td>34.830288</td>\n",
       "      <td>19.023805</td>\n",
       "      <td>0.000000</td>\n",
       "      <td>2.103638</td>\n",
       "      <td>2.103638</td>\n",
       "      <td>12.048375</td>\n",
       "      <td>25.280399</td>\n",
       "      <td>8.463004</td>\n",
       "      <td>...</td>\n",
       "      <td>5.707431</td>\n",
       "      <td>6.151563</td>\n",
       "      <td>3.079037</td>\n",
       "      <td>12.953810</td>\n",
       "      <td>10.850172</td>\n",
       "      <td>7.332569</td>\n",
       "      <td>15.626175</td>\n",
       "      <td>25.620893</td>\n",
       "      <td>33.461711</td>\n",
       "      <td>41.231285</td>\n",
       "    </tr>\n",
       "    <tr>\n",
       "      <th>12</th>\n",
       "      <td>47.828095</td>\n",
       "      <td>30.916306</td>\n",
       "      <td>40.411874</td>\n",
       "      <td>24.605391</td>\n",
       "      <td>5.581586</td>\n",
       "      <td>7.685224</td>\n",
       "      <td>7.685224</td>\n",
       "      <td>17.629961</td>\n",
       "      <td>30.861985</td>\n",
       "      <td>12.044589</td>\n",
       "      <td>...</td>\n",
       "      <td>4.125845</td>\n",
       "      <td>4.569978</td>\n",
       "      <td>3.912005</td>\n",
       "      <td>18.535396</td>\n",
       "      <td>16.431757</td>\n",
       "      <td>12.914154</td>\n",
       "      <td>21.207761</td>\n",
       "      <td>31.202479</td>\n",
       "      <td>39.043297</td>\n",
       "      <td>46.812870</td>\n",
       "    </tr>\n",
       "    <tr>\n",
       "      <th>13</th>\n",
       "      <td>44.252939</td>\n",
       "      <td>27.341150</td>\n",
       "      <td>36.836718</td>\n",
       "      <td>21.030235</td>\n",
       "      <td>2.006429</td>\n",
       "      <td>4.110068</td>\n",
       "      <td>4.110068</td>\n",
       "      <td>14.054805</td>\n",
       "      <td>27.286829</td>\n",
       "      <td>8.469433</td>\n",
       "      <td>...</td>\n",
       "      <td>5.701002</td>\n",
       "      <td>6.145134</td>\n",
       "      <td>1.072608</td>\n",
       "      <td>14.960240</td>\n",
       "      <td>12.856601</td>\n",
       "      <td>9.338998</td>\n",
       "      <td>17.632604</td>\n",
       "      <td>27.627323</td>\n",
       "      <td>35.468141</td>\n",
       "      <td>43.237714</td>\n",
       "    </tr>\n",
       "    <tr>\n",
       "      <th>14</th>\n",
       "      <td>20.852706</td>\n",
       "      <td>7.577800</td>\n",
       "      <td>9.917768</td>\n",
       "      <td>7.888715</td>\n",
       "      <td>24.912520</td>\n",
       "      <td>22.808882</td>\n",
       "      <td>22.808882</td>\n",
       "      <td>12.864145</td>\n",
       "      <td>0.367879</td>\n",
       "      <td>18.449516</td>\n",
       "      <td>...</td>\n",
       "      <td>28.728042</td>\n",
       "      <td>29.172175</td>\n",
       "      <td>27.991557</td>\n",
       "      <td>11.958710</td>\n",
       "      <td>14.062348</td>\n",
       "      <td>17.779100</td>\n",
       "      <td>9.286345</td>\n",
       "      <td>2.915650</td>\n",
       "      <td>12.808398</td>\n",
       "      <td>21.660654</td>\n",
       "    </tr>\n",
       "    <tr>\n",
       "      <th>15</th>\n",
       "      <td>40.830010</td>\n",
       "      <td>23.918221</td>\n",
       "      <td>33.413789</td>\n",
       "      <td>17.607306</td>\n",
       "      <td>3.615648</td>\n",
       "      <td>3.512009</td>\n",
       "      <td>3.512009</td>\n",
       "      <td>10.631876</td>\n",
       "      <td>23.863900</td>\n",
       "      <td>6.518022</td>\n",
       "      <td>...</td>\n",
       "      <td>9.323079</td>\n",
       "      <td>9.767211</td>\n",
       "      <td>4.495537</td>\n",
       "      <td>11.537311</td>\n",
       "      <td>9.433672</td>\n",
       "      <td>5.716921</td>\n",
       "      <td>14.209676</td>\n",
       "      <td>24.204394</td>\n",
       "      <td>32.045212</td>\n",
       "      <td>39.814785</td>\n",
       "    </tr>\n",
       "    <tr>\n",
       "      <th>16</th>\n",
       "      <td>40.830010</td>\n",
       "      <td>23.918221</td>\n",
       "      <td>33.413789</td>\n",
       "      <td>17.607306</td>\n",
       "      <td>3.615648</td>\n",
       "      <td>3.512009</td>\n",
       "      <td>3.512009</td>\n",
       "      <td>10.631876</td>\n",
       "      <td>23.863900</td>\n",
       "      <td>6.518022</td>\n",
       "      <td>...</td>\n",
       "      <td>9.323079</td>\n",
       "      <td>9.767211</td>\n",
       "      <td>4.495537</td>\n",
       "      <td>11.537311</td>\n",
       "      <td>9.433672</td>\n",
       "      <td>5.716921</td>\n",
       "      <td>14.209676</td>\n",
       "      <td>24.204394</td>\n",
       "      <td>32.045212</td>\n",
       "      <td>39.814785</td>\n",
       "    </tr>\n",
       "    <tr>\n",
       "      <th>17</th>\n",
       "      <td>58.965800</td>\n",
       "      <td>42.054011</td>\n",
       "      <td>51.549579</td>\n",
       "      <td>35.743096</td>\n",
       "      <td>16.719291</td>\n",
       "      <td>18.822929</td>\n",
       "      <td>18.822929</td>\n",
       "      <td>28.767666</td>\n",
       "      <td>41.999690</td>\n",
       "      <td>23.182295</td>\n",
       "      <td>...</td>\n",
       "      <td>12.903769</td>\n",
       "      <td>12.459636</td>\n",
       "      <td>13.640254</td>\n",
       "      <td>29.673101</td>\n",
       "      <td>27.569463</td>\n",
       "      <td>23.852711</td>\n",
       "      <td>32.345466</td>\n",
       "      <td>42.340184</td>\n",
       "      <td>50.181002</td>\n",
       "      <td>57.950576</td>\n",
       "    </tr>\n",
       "    <tr>\n",
       "      <th>18</th>\n",
       "      <td>42.607959</td>\n",
       "      <td>25.696170</td>\n",
       "      <td>35.191738</td>\n",
       "      <td>19.385255</td>\n",
       "      <td>1.638550</td>\n",
       "      <td>3.006429</td>\n",
       "      <td>3.006429</td>\n",
       "      <td>12.409825</td>\n",
       "      <td>25.641849</td>\n",
       "      <td>6.824454</td>\n",
       "      <td>...</td>\n",
       "      <td>7.345981</td>\n",
       "      <td>7.790113</td>\n",
       "      <td>2.717587</td>\n",
       "      <td>13.315260</td>\n",
       "      <td>11.211622</td>\n",
       "      <td>7.694019</td>\n",
       "      <td>15.987625</td>\n",
       "      <td>25.982343</td>\n",
       "      <td>33.823161</td>\n",
       "      <td>41.592735</td>\n",
       "    </tr>\n",
       "    <tr>\n",
       "      <th>19</th>\n",
       "      <td>40.830010</td>\n",
       "      <td>23.918221</td>\n",
       "      <td>33.413789</td>\n",
       "      <td>17.607306</td>\n",
       "      <td>3.615648</td>\n",
       "      <td>3.512009</td>\n",
       "      <td>3.512009</td>\n",
       "      <td>10.631876</td>\n",
       "      <td>23.863900</td>\n",
       "      <td>6.518022</td>\n",
       "      <td>...</td>\n",
       "      <td>9.323079</td>\n",
       "      <td>9.767211</td>\n",
       "      <td>4.495537</td>\n",
       "      <td>11.537311</td>\n",
       "      <td>9.433672</td>\n",
       "      <td>5.716921</td>\n",
       "      <td>14.209676</td>\n",
       "      <td>24.204394</td>\n",
       "      <td>32.045212</td>\n",
       "      <td>39.814785</td>\n",
       "    </tr>\n",
       "    <tr>\n",
       "      <th>20</th>\n",
       "      <td>29.474536</td>\n",
       "      <td>14.728112</td>\n",
       "      <td>18.539598</td>\n",
       "      <td>8.417197</td>\n",
       "      <td>16.290690</td>\n",
       "      <td>16.187052</td>\n",
       "      <td>16.187052</td>\n",
       "      <td>6.242315</td>\n",
       "      <td>8.989709</td>\n",
       "      <td>9.827686</td>\n",
       "      <td>...</td>\n",
       "      <td>20.106212</td>\n",
       "      <td>20.550345</td>\n",
       "      <td>19.369727</td>\n",
       "      <td>5.336880</td>\n",
       "      <td>5.440518</td>\n",
       "      <td>11.157270</td>\n",
       "      <td>4.136033</td>\n",
       "      <td>9.330203</td>\n",
       "      <td>21.430228</td>\n",
       "      <td>30.282484</td>\n",
       "    </tr>\n",
       "    <tr>\n",
       "      <th>21</th>\n",
       "      <td>40.830010</td>\n",
       "      <td>23.918221</td>\n",
       "      <td>33.413789</td>\n",
       "      <td>17.607306</td>\n",
       "      <td>3.615648</td>\n",
       "      <td>3.512009</td>\n",
       "      <td>3.512009</td>\n",
       "      <td>10.631876</td>\n",
       "      <td>23.863900</td>\n",
       "      <td>6.518022</td>\n",
       "      <td>...</td>\n",
       "      <td>9.323079</td>\n",
       "      <td>9.767211</td>\n",
       "      <td>4.495537</td>\n",
       "      <td>11.537311</td>\n",
       "      <td>9.433672</td>\n",
       "      <td>5.716921</td>\n",
       "      <td>14.209676</td>\n",
       "      <td>24.204394</td>\n",
       "      <td>32.045212</td>\n",
       "      <td>39.814785</td>\n",
       "    </tr>\n",
       "    <tr>\n",
       "      <th>22</th>\n",
       "      <td>42.607959</td>\n",
       "      <td>25.696170</td>\n",
       "      <td>35.191738</td>\n",
       "      <td>19.385255</td>\n",
       "      <td>1.638550</td>\n",
       "      <td>3.006429</td>\n",
       "      <td>3.006429</td>\n",
       "      <td>12.409825</td>\n",
       "      <td>25.641849</td>\n",
       "      <td>6.824454</td>\n",
       "      <td>...</td>\n",
       "      <td>7.345981</td>\n",
       "      <td>7.790113</td>\n",
       "      <td>2.717587</td>\n",
       "      <td>13.315260</td>\n",
       "      <td>11.211622</td>\n",
       "      <td>7.694019</td>\n",
       "      <td>15.987625</td>\n",
       "      <td>25.982343</td>\n",
       "      <td>33.823161</td>\n",
       "      <td>41.592735</td>\n",
       "    </tr>\n",
       "    <tr>\n",
       "      <th>23</th>\n",
       "      <td>40.830010</td>\n",
       "      <td>23.918221</td>\n",
       "      <td>33.413789</td>\n",
       "      <td>17.607306</td>\n",
       "      <td>3.615648</td>\n",
       "      <td>3.512009</td>\n",
       "      <td>3.512009</td>\n",
       "      <td>10.631876</td>\n",
       "      <td>23.863900</td>\n",
       "      <td>6.518022</td>\n",
       "      <td>...</td>\n",
       "      <td>9.323079</td>\n",
       "      <td>9.767211</td>\n",
       "      <td>4.495537</td>\n",
       "      <td>11.537311</td>\n",
       "      <td>9.433672</td>\n",
       "      <td>5.716921</td>\n",
       "      <td>14.209676</td>\n",
       "      <td>24.204394</td>\n",
       "      <td>32.045212</td>\n",
       "      <td>39.814785</td>\n",
       "    </tr>\n",
       "    <tr>\n",
       "      <th>24</th>\n",
       "      <td>31.867686</td>\n",
       "      <td>14.955897</td>\n",
       "      <td>24.451465</td>\n",
       "      <td>8.644982</td>\n",
       "      <td>10.577972</td>\n",
       "      <td>8.474333</td>\n",
       "      <td>8.474333</td>\n",
       "      <td>3.669552</td>\n",
       "      <td>14.901576</td>\n",
       "      <td>13.856323</td>\n",
       "      <td>...</td>\n",
       "      <td>16.285403</td>\n",
       "      <td>16.729535</td>\n",
       "      <td>13.457861</td>\n",
       "      <td>8.989540</td>\n",
       "      <td>11.093178</td>\n",
       "      <td>3.245403</td>\n",
       "      <td>7.247352</td>\n",
       "      <td>15.242070</td>\n",
       "      <td>23.082888</td>\n",
       "      <td>30.852462</td>\n",
       "    </tr>\n",
       "    <tr>\n",
       "      <th>25</th>\n",
       "      <td>46.062031</td>\n",
       "      <td>29.150243</td>\n",
       "      <td>38.645810</td>\n",
       "      <td>22.839328</td>\n",
       "      <td>5.707431</td>\n",
       "      <td>7.811069</td>\n",
       "      <td>7.811069</td>\n",
       "      <td>15.863898</td>\n",
       "      <td>29.095922</td>\n",
       "      <td>12.278526</td>\n",
       "      <td>...</td>\n",
       "      <td>0.000000</td>\n",
       "      <td>1.179891</td>\n",
       "      <td>5.225839</td>\n",
       "      <td>16.769332</td>\n",
       "      <td>14.665694</td>\n",
       "      <td>13.040000</td>\n",
       "      <td>19.441697</td>\n",
       "      <td>29.436416</td>\n",
       "      <td>37.277233</td>\n",
       "      <td>45.046807</td>\n",
       "    </tr>\n",
       "    <tr>\n",
       "      <th>26</th>\n",
       "      <td>46.506164</td>\n",
       "      <td>29.594375</td>\n",
       "      <td>39.089943</td>\n",
       "      <td>23.283460</td>\n",
       "      <td>6.151563</td>\n",
       "      <td>8.255202</td>\n",
       "      <td>8.255202</td>\n",
       "      <td>16.308030</td>\n",
       "      <td>29.540054</td>\n",
       "      <td>12.722659</td>\n",
       "      <td>...</td>\n",
       "      <td>1.179891</td>\n",
       "      <td>0.000000</td>\n",
       "      <td>5.669971</td>\n",
       "      <td>17.213465</td>\n",
       "      <td>15.109826</td>\n",
       "      <td>13.484132</td>\n",
       "      <td>19.885830</td>\n",
       "      <td>29.880548</td>\n",
       "      <td>37.721366</td>\n",
       "      <td>45.490940</td>\n",
       "    </tr>\n",
       "    <tr>\n",
       "      <th>27</th>\n",
       "      <td>45.325546</td>\n",
       "      <td>28.413757</td>\n",
       "      <td>37.909325</td>\n",
       "      <td>22.102842</td>\n",
       "      <td>3.079037</td>\n",
       "      <td>5.182675</td>\n",
       "      <td>5.182675</td>\n",
       "      <td>15.127412</td>\n",
       "      <td>28.359437</td>\n",
       "      <td>9.542041</td>\n",
       "      <td>...</td>\n",
       "      <td>5.225839</td>\n",
       "      <td>5.669971</td>\n",
       "      <td>0.000000</td>\n",
       "      <td>16.032847</td>\n",
       "      <td>13.929209</td>\n",
       "      <td>10.212457</td>\n",
       "      <td>18.705212</td>\n",
       "      <td>28.699931</td>\n",
       "      <td>36.540748</td>\n",
       "      <td>44.310322</td>\n",
       "    </tr>\n",
       "    <tr>\n",
       "      <th>28</th>\n",
       "      <td>29.292699</td>\n",
       "      <td>14.004934</td>\n",
       "      <td>21.876478</td>\n",
       "      <td>7.694019</td>\n",
       "      <td>12.953810</td>\n",
       "      <td>10.850172</td>\n",
       "      <td>10.850172</td>\n",
       "      <td>5.319988</td>\n",
       "      <td>12.326589</td>\n",
       "      <td>6.490806</td>\n",
       "      <td>...</td>\n",
       "      <td>16.769332</td>\n",
       "      <td>17.213465</td>\n",
       "      <td>16.032847</td>\n",
       "      <td>0.000000</td>\n",
       "      <td>2.103638</td>\n",
       "      <td>6.556149</td>\n",
       "      <td>3.213706</td>\n",
       "      <td>12.667083</td>\n",
       "      <td>20.507901</td>\n",
       "      <td>29.360157</td>\n",
       "    </tr>\n",
       "    <tr>\n",
       "      <th>29</th>\n",
       "      <td>31.396337</td>\n",
       "      <td>16.108572</td>\n",
       "      <td>23.980116</td>\n",
       "      <td>9.797657</td>\n",
       "      <td>10.850172</td>\n",
       "      <td>10.746533</td>\n",
       "      <td>10.746533</td>\n",
       "      <td>7.423626</td>\n",
       "      <td>14.430228</td>\n",
       "      <td>4.387168</td>\n",
       "      <td>...</td>\n",
       "      <td>14.665694</td>\n",
       "      <td>15.109826</td>\n",
       "      <td>13.929209</td>\n",
       "      <td>2.103638</td>\n",
       "      <td>0.000000</td>\n",
       "      <td>8.659787</td>\n",
       "      <td>5.317344</td>\n",
       "      <td>14.770722</td>\n",
       "      <td>22.611539</td>\n",
       "      <td>31.463795</td>\n",
       "    </tr>\n",
       "    <tr>\n",
       "      <th>30</th>\n",
       "      <td>35.113089</td>\n",
       "      <td>18.201300</td>\n",
       "      <td>27.696868</td>\n",
       "      <td>11.890385</td>\n",
       "      <td>7.332569</td>\n",
       "      <td>5.228930</td>\n",
       "      <td>5.228930</td>\n",
       "      <td>4.914955</td>\n",
       "      <td>18.146979</td>\n",
       "      <td>11.422931</td>\n",
       "      <td>...</td>\n",
       "      <td>13.040000</td>\n",
       "      <td>13.484132</td>\n",
       "      <td>10.212457</td>\n",
       "      <td>6.556149</td>\n",
       "      <td>8.659787</td>\n",
       "      <td>0.000000</td>\n",
       "      <td>8.492755</td>\n",
       "      <td>18.487473</td>\n",
       "      <td>26.328291</td>\n",
       "      <td>34.097865</td>\n",
       "    </tr>\n",
       "    <tr>\n",
       "      <th>31</th>\n",
       "      <td>26.620334</td>\n",
       "      <td>10.791227</td>\n",
       "      <td>19.204113</td>\n",
       "      <td>4.480312</td>\n",
       "      <td>15.626175</td>\n",
       "      <td>13.522537</td>\n",
       "      <td>13.522537</td>\n",
       "      <td>3.577800</td>\n",
       "      <td>9.654224</td>\n",
       "      <td>9.163171</td>\n",
       "      <td>...</td>\n",
       "      <td>19.441697</td>\n",
       "      <td>19.885830</td>\n",
       "      <td>18.705212</td>\n",
       "      <td>3.213706</td>\n",
       "      <td>5.317344</td>\n",
       "      <td>8.492755</td>\n",
       "      <td>0.000000</td>\n",
       "      <td>9.994718</td>\n",
       "      <td>17.835536</td>\n",
       "      <td>26.146451</td>\n",
       "    </tr>\n",
       "    <tr>\n",
       "      <th>32</th>\n",
       "      <td>21.768356</td>\n",
       "      <td>7.021932</td>\n",
       "      <td>10.562747</td>\n",
       "      <td>6.597088</td>\n",
       "      <td>25.620893</td>\n",
       "      <td>23.517255</td>\n",
       "      <td>23.517255</td>\n",
       "      <td>13.572518</td>\n",
       "      <td>3.283529</td>\n",
       "      <td>19.157889</td>\n",
       "      <td>...</td>\n",
       "      <td>29.436416</td>\n",
       "      <td>29.880548</td>\n",
       "      <td>28.699931</td>\n",
       "      <td>12.667083</td>\n",
       "      <td>14.770722</td>\n",
       "      <td>18.487473</td>\n",
       "      <td>9.994718</td>\n",
       "      <td>0.000000</td>\n",
       "      <td>13.724048</td>\n",
       "      <td>22.576304</td>\n",
       "    </tr>\n",
       "    <tr>\n",
       "      <th>33</th>\n",
       "      <td>8.784798</td>\n",
       "      <td>8.326139</td>\n",
       "      <td>5.368577</td>\n",
       "      <td>14.637054</td>\n",
       "      <td>33.461711</td>\n",
       "      <td>31.358073</td>\n",
       "      <td>31.358073</td>\n",
       "      <td>21.413336</td>\n",
       "      <td>12.440518</td>\n",
       "      <td>26.998707</td>\n",
       "      <td>...</td>\n",
       "      <td>37.277233</td>\n",
       "      <td>37.721366</td>\n",
       "      <td>36.540748</td>\n",
       "      <td>20.507901</td>\n",
       "      <td>22.611539</td>\n",
       "      <td>26.328291</td>\n",
       "      <td>17.835536</td>\n",
       "      <td>13.724048</td>\n",
       "      <td>0.000000</td>\n",
       "      <td>8.852256</td>\n",
       "    </tr>\n",
       "    <tr>\n",
       "      <th>34</th>\n",
       "      <td>3.015224</td>\n",
       "      <td>16.095713</td>\n",
       "      <td>12.013556</td>\n",
       "      <td>22.406628</td>\n",
       "      <td>41.231285</td>\n",
       "      <td>39.127647</td>\n",
       "      <td>39.127647</td>\n",
       "      <td>29.182910</td>\n",
       "      <td>21.292774</td>\n",
       "      <td>34.768281</td>\n",
       "      <td>...</td>\n",
       "      <td>45.046807</td>\n",
       "      <td>45.490940</td>\n",
       "      <td>44.310322</td>\n",
       "      <td>29.360157</td>\n",
       "      <td>31.463795</td>\n",
       "      <td>34.097865</td>\n",
       "      <td>26.146451</td>\n",
       "      <td>22.576304</td>\n",
       "      <td>8.852256</td>\n",
       "      <td>0.000000</td>\n",
       "    </tr>\n",
       "  </tbody>\n",
       "</table>\n",
       "<p>34 rows × 34 columns</p>\n",
       "</div>"
      ],
      "text/plain": [
       "           1          2          3          4          5          6   \\\n",
       "1    0.000000  16.911789  11.205609  23.222704  42.246509  40.142871   \n",
       "2   16.911789   0.000000   9.495568   6.310915  25.334720  23.231082   \n",
       "3   11.205609   9.495568   0.000000  15.806483  34.830288  32.726650   \n",
       "4   23.222704   6.310915  15.806483   0.000000  19.023805  16.920167   \n",
       "5   42.246509  25.334720  34.830288  19.023805   0.000000   2.103638   \n",
       "6   40.142871  23.231082  32.726650  16.920167   2.103638   0.000000   \n",
       "7   40.142871  23.231082  32.726650  16.920167   2.103638   0.000000   \n",
       "8   30.198134  13.286345  22.781913   6.975430  12.048375   9.944737   \n",
       "9   20.484827   7.945679   9.549889   8.256594  25.280399  23.176761   \n",
       "10  35.783505  18.871716  28.367284  12.560801   8.463004   8.359366   \n",
       "11  42.246509  25.334720  34.830288  19.023805   0.000000   2.103638   \n",
       "12  47.828095  30.916306  40.411874  24.605391   5.581586   7.685224   \n",
       "13  44.252939  27.341150  36.836718  21.030235   2.006429   4.110068   \n",
       "14  20.852706   7.577800   9.917768   7.888715  24.912520  22.808882   \n",
       "15  40.830010  23.918221  33.413789  17.607306   3.615648   3.512009   \n",
       "16  40.830010  23.918221  33.413789  17.607306   3.615648   3.512009   \n",
       "17  58.965800  42.054011  51.549579  35.743096  16.719291  18.822929   \n",
       "18  42.607959  25.696170  35.191738  19.385255   1.638550   3.006429   \n",
       "19  40.830010  23.918221  33.413789  17.607306   3.615648   3.512009   \n",
       "20  29.474536  14.728112  18.539598   8.417197  16.290690  16.187052   \n",
       "21  40.830010  23.918221  33.413789  17.607306   3.615648   3.512009   \n",
       "22  42.607959  25.696170  35.191738  19.385255   1.638550   3.006429   \n",
       "23  40.830010  23.918221  33.413789  17.607306   3.615648   3.512009   \n",
       "24  31.867686  14.955897  24.451465   8.644982  10.577972   8.474333   \n",
       "25  46.062031  29.150243  38.645810  22.839328   5.707431   7.811069   \n",
       "26  46.506164  29.594375  39.089943  23.283460   6.151563   8.255202   \n",
       "27  45.325546  28.413757  37.909325  22.102842   3.079037   5.182675   \n",
       "28  29.292699  14.004934  21.876478   7.694019  12.953810  10.850172   \n",
       "29  31.396337  16.108572  23.980116   9.797657  10.850172  10.746533   \n",
       "30  35.113089  18.201300  27.696868  11.890385   7.332569   5.228930   \n",
       "31  26.620334  10.791227  19.204113   4.480312  15.626175  13.522537   \n",
       "32  21.768356   7.021932  10.562747   6.597088  25.620893  23.517255   \n",
       "33   8.784798   8.326139   5.368577  14.637054  33.461711  31.358073   \n",
       "34   3.015224  16.095713  12.013556  22.406628  41.231285  39.127647   \n",
       "\n",
       "           7          8          9          10  ...         25         26  \\\n",
       "1   40.142871  30.198134  20.484827  35.783505  ...  46.062031  46.506164   \n",
       "2   23.231082  13.286345   7.945679  18.871716  ...  29.150243  29.594375   \n",
       "3   32.726650  22.781913   9.549889  28.367284  ...  38.645810  39.089943   \n",
       "4   16.920167   6.975430   8.256594  12.560801  ...  22.839328  23.283460   \n",
       "5    2.103638  12.048375  25.280399   8.463004  ...   5.707431   6.151563   \n",
       "6    0.000000   9.944737  23.176761   8.359366  ...   7.811069   8.255202   \n",
       "7    0.000000   9.944737  23.176761   8.359366  ...   7.811069   8.255202   \n",
       "8    9.944737   0.000000  13.232024  10.186771  ...  15.863898  16.308030   \n",
       "9   23.176761  13.232024   0.000000  18.817396  ...  29.095922  29.540054   \n",
       "10   8.359366  10.186771  18.817396   0.000000  ...  12.278526  12.722659   \n",
       "11   2.103638  12.048375  25.280399   8.463004  ...   5.707431   6.151563   \n",
       "12   7.685224  17.629961  30.861985  12.044589  ...   4.125845   4.569978   \n",
       "13   4.110068  14.054805  27.286829   8.469433  ...   5.701002   6.145134   \n",
       "14  22.808882  12.864145   0.367879  18.449516  ...  28.728042  29.172175   \n",
       "15   3.512009  10.631876  23.863900   6.518022  ...   9.323079   9.767211   \n",
       "16   3.512009  10.631876  23.863900   6.518022  ...   9.323079   9.767211   \n",
       "17  18.822929  28.767666  41.999690  23.182295  ...  12.903769  12.459636   \n",
       "18   3.006429  12.409825  25.641849   6.824454  ...   7.345981   7.790113   \n",
       "19   3.512009  10.631876  23.863900   6.518022  ...   9.323079   9.767211   \n",
       "20  16.187052   6.242315   8.989709   9.827686  ...  20.106212  20.550345   \n",
       "21   3.512009  10.631876  23.863900   6.518022  ...   9.323079   9.767211   \n",
       "22   3.006429  12.409825  25.641849   6.824454  ...   7.345981   7.790113   \n",
       "23   3.512009  10.631876  23.863900   6.518022  ...   9.323079   9.767211   \n",
       "24   8.474333   3.669552  14.901576  13.856323  ...  16.285403  16.729535   \n",
       "25   7.811069  15.863898  29.095922  12.278526  ...   0.000000   1.179891   \n",
       "26   8.255202  16.308030  29.540054  12.722659  ...   1.179891   0.000000   \n",
       "27   5.182675  15.127412  28.359437   9.542041  ...   5.225839   5.669971   \n",
       "28  10.850172   5.319988  12.326589   6.490806  ...  16.769332  17.213465   \n",
       "29  10.746533   7.423626  14.430228   4.387168  ...  14.665694  15.109826   \n",
       "30   5.228930   4.914955  18.146979  11.422931  ...  13.040000  13.484132   \n",
       "31  13.522537   3.577800   9.654224   9.163171  ...  19.441697  19.885830   \n",
       "32  23.517255  13.572518   3.283529  19.157889  ...  29.436416  29.880548   \n",
       "33  31.358073  21.413336  12.440518  26.998707  ...  37.277233  37.721366   \n",
       "34  39.127647  29.182910  21.292774  34.768281  ...  45.046807  45.490940   \n",
       "\n",
       "           27         28         29         30         31         32  \\\n",
       "1   45.325546  29.292699  31.396337  35.113089  26.620334  21.768356   \n",
       "2   28.413757  14.004934  16.108572  18.201300  10.791227   7.021932   \n",
       "3   37.909325  21.876478  23.980116  27.696868  19.204113  10.562747   \n",
       "4   22.102842   7.694019   9.797657  11.890385   4.480312   6.597088   \n",
       "5    3.079037  12.953810  10.850172   7.332569  15.626175  25.620893   \n",
       "6    5.182675  10.850172  10.746533   5.228930  13.522537  23.517255   \n",
       "7    5.182675  10.850172  10.746533   5.228930  13.522537  23.517255   \n",
       "8   15.127412   5.319988   7.423626   4.914955   3.577800  13.572518   \n",
       "9   28.359437  12.326589  14.430228  18.146979   9.654224   3.283529   \n",
       "10   9.542041   6.490806   4.387168  11.422931   9.163171  19.157889   \n",
       "11   3.079037  12.953810  10.850172   7.332569  15.626175  25.620893   \n",
       "12   3.912005  18.535396  16.431757  12.914154  21.207761  31.202479   \n",
       "13   1.072608  14.960240  12.856601   9.338998  17.632604  27.627323   \n",
       "14  27.991557  11.958710  14.062348  17.779100   9.286345   2.915650   \n",
       "15   4.495537  11.537311   9.433672   5.716921  14.209676  24.204394   \n",
       "16   4.495537  11.537311   9.433672   5.716921  14.209676  24.204394   \n",
       "17  13.640254  29.673101  27.569463  23.852711  32.345466  42.340184   \n",
       "18   2.717587  13.315260  11.211622   7.694019  15.987625  25.982343   \n",
       "19   4.495537  11.537311   9.433672   5.716921  14.209676  24.204394   \n",
       "20  19.369727   5.336880   5.440518  11.157270   4.136033   9.330203   \n",
       "21   4.495537  11.537311   9.433672   5.716921  14.209676  24.204394   \n",
       "22   2.717587  13.315260  11.211622   7.694019  15.987625  25.982343   \n",
       "23   4.495537  11.537311   9.433672   5.716921  14.209676  24.204394   \n",
       "24  13.457861   8.989540  11.093178   3.245403   7.247352  15.242070   \n",
       "25   5.225839  16.769332  14.665694  13.040000  19.441697  29.436416   \n",
       "26   5.669971  17.213465  15.109826  13.484132  19.885830  29.880548   \n",
       "27   0.000000  16.032847  13.929209  10.212457  18.705212  28.699931   \n",
       "28  16.032847   0.000000   2.103638   6.556149   3.213706  12.667083   \n",
       "29  13.929209   2.103638   0.000000   8.659787   5.317344  14.770722   \n",
       "30  10.212457   6.556149   8.659787   0.000000   8.492755  18.487473   \n",
       "31  18.705212   3.213706   5.317344   8.492755   0.000000   9.994718   \n",
       "32  28.699931  12.667083  14.770722  18.487473   9.994718   0.000000   \n",
       "33  36.540748  20.507901  22.611539  26.328291  17.835536  13.724048   \n",
       "34  44.310322  29.360157  31.463795  34.097865  26.146451  22.576304   \n",
       "\n",
       "           33         34  \n",
       "1    8.784798   3.015224  \n",
       "2    8.326139  16.095713  \n",
       "3    5.368577  12.013556  \n",
       "4   14.637054  22.406628  \n",
       "5   33.461711  41.231285  \n",
       "6   31.358073  39.127647  \n",
       "7   31.358073  39.127647  \n",
       "8   21.413336  29.182910  \n",
       "9   12.440518  21.292774  \n",
       "10  26.998707  34.768281  \n",
       "11  33.461711  41.231285  \n",
       "12  39.043297  46.812870  \n",
       "13  35.468141  43.237714  \n",
       "14  12.808398  21.660654  \n",
       "15  32.045212  39.814785  \n",
       "16  32.045212  39.814785  \n",
       "17  50.181002  57.950576  \n",
       "18  33.823161  41.592735  \n",
       "19  32.045212  39.814785  \n",
       "20  21.430228  30.282484  \n",
       "21  32.045212  39.814785  \n",
       "22  33.823161  41.592735  \n",
       "23  32.045212  39.814785  \n",
       "24  23.082888  30.852462  \n",
       "25  37.277233  45.046807  \n",
       "26  37.721366  45.490940  \n",
       "27  36.540748  44.310322  \n",
       "28  20.507901  29.360157  \n",
       "29  22.611539  31.463795  \n",
       "30  26.328291  34.097865  \n",
       "31  17.835536  26.146451  \n",
       "32  13.724048  22.576304  \n",
       "33   0.000000   8.852256  \n",
       "34   8.852256   0.000000  \n",
       "\n",
       "[34 rows x 34 columns]"
      ]
     },
     "execution_count": 31,
     "metadata": {},
     "output_type": "execute_result"
    }
   ],
   "source": [
    "rdd_matrix"
   ]
  },
  {
   "cell_type": "code",
   "execution_count": 32,
   "metadata": {
    "ExecuteTime": {
     "end_time": "2020-09-21T09:16:08.432478Z",
     "start_time": "2020-09-21T09:16:08.427464Z"
    }
   },
   "outputs": [
    {
     "data": {
      "text/html": [
       "<div>\n",
       "<style scoped>\n",
       "    .dataframe tbody tr th:only-of-type {\n",
       "        vertical-align: middle;\n",
       "    }\n",
       "\n",
       "    .dataframe tbody tr th {\n",
       "        vertical-align: top;\n",
       "    }\n",
       "\n",
       "    .dataframe thead th {\n",
       "        text-align: right;\n",
       "    }\n",
       "</style>\n",
       "<table border=\"1\" class=\"dataframe\">\n",
       "  <thead>\n",
       "    <tr style=\"text-align: right;\">\n",
       "      <th></th>\n",
       "      <th>RDD</th>\n",
       "    </tr>\n",
       "  </thead>\n",
       "  <tbody>\n",
       "    <tr>\n",
       "      <th>0</th>\n",
       "      <td>0.000000</td>\n",
       "    </tr>\n",
       "    <tr>\n",
       "      <th>1</th>\n",
       "      <td>-0.018491</td>\n",
       "    </tr>\n",
       "    <tr>\n",
       "      <th>2</th>\n",
       "      <td>-0.032627</td>\n",
       "    </tr>\n",
       "    <tr>\n",
       "      <th>3</th>\n",
       "      <td>-0.051529</td>\n",
       "    </tr>\n",
       "    <tr>\n",
       "      <th>4</th>\n",
       "      <td>-0.043310</td>\n",
       "    </tr>\n",
       "    <tr>\n",
       "      <th>5</th>\n",
       "      <td>-0.043310</td>\n",
       "    </tr>\n",
       "    <tr>\n",
       "      <th>6</th>\n",
       "      <td>-0.043310</td>\n",
       "    </tr>\n",
       "    <tr>\n",
       "      <th>7</th>\n",
       "      <td>-0.043310</td>\n",
       "    </tr>\n",
       "    <tr>\n",
       "      <th>8</th>\n",
       "      <td>-0.043310</td>\n",
       "    </tr>\n",
       "  </tbody>\n",
       "</table>\n",
       "</div>"
      ],
      "text/plain": [
       "        RDD\n",
       "0  0.000000\n",
       "1 -0.018491\n",
       "2 -0.032627\n",
       "3 -0.051529\n",
       "4 -0.043310\n",
       "5 -0.043310\n",
       "6 -0.043310\n",
       "7 -0.043310\n",
       "8 -0.043310"
      ]
     },
     "execution_count": 32,
     "metadata": {},
     "output_type": "execute_result"
    }
   ],
   "source": [
    "kmedoid_results"
   ]
  },
  {
   "cell_type": "code",
   "execution_count": null,
   "metadata": {},
   "outputs": [],
   "source": []
  }
 ],
 "metadata": {
  "kernelspec": {
   "display_name": "Python 3",
   "language": "python",
   "name": "python3"
  },
  "language_info": {
   "codemirror_mode": {
    "name": "ipython",
    "version": 3
   },
   "file_extension": ".py",
   "mimetype": "text/x-python",
   "name": "python",
   "nbconvert_exporter": "python",
   "pygments_lexer": "ipython3",
   "version": "3.8.5"
  }
 },
 "nbformat": 4,
 "nbformat_minor": 4
}
