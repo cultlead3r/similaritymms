{
 "cells": [
  {
   "cell_type": "markdown",
   "metadata": {},
   "source": [
    "# Clustering for RDD"
   ]
  },
  {
   "cell_type": "code",
   "execution_count": 3,
   "metadata": {},
   "outputs": [],
   "source": [
    "# Suppress the aggressive warnings\n",
    "def warn(*args, **kwargs):\n",
    "    pass\n",
    "import warnings\n",
    "warnings.warn = warn\n",
    "\n",
    "# Add the previous path for libraries\n",
    "from sys import path\n",
    "path.append(\"..\")\n",
    "\n",
    "import networkx as nx\n",
    "import pandas as pd\n",
    "import matplotlib.pyplot as plt\n",
    "import scipy.cluster.hierarchy as shc\n",
    "\n",
    "from rdd import measures\n",
    "from rdd import RDD\n",
    "from rdd import ascos\n",
    "from rdd.RDD import get_rdd_matrix\n",
    "from rdd import visualize\n",
    "from rdd import other_sims\n",
    "from rdd.utils import df_to_cluster_list\n",
    "from rdd.other_sims import kmedoid_clustering2\n",
    "\n",
    "\n",
    "G1, G2 = nx.Graph(), nx.Graph()\n",
    "\n",
    "G1.add_edges_from([\n",
    "    (1, 2),\n",
    "    (2, 3),\n",
    "    (2, 4),\n",
    "    (3, 4),\n",
    "    (3, 6),\n",
    "    (4, 5),\n",
    "])\n",
    "\n",
    "G2.add_edges_from([\n",
    "    (1,2),\n",
    "    (2,4),\n",
    "    (2,3),\n",
    "    (3,5),\n",
    "    (4,5),\n",
    "    (5,6)\n",
    "])\n",
    "\n",
    "# G2.add_edges_from([\n",
    "#     (5, 2),\n",
    "#     (2, 3),\n",
    "#     (2, 4),\n",
    "#     (3, 4),\n",
    "#     (3, 6),\n",
    "#     (4, 1),\n",
    "# ])\n",
    "\n",
    "\n",
    "G3 = nx.read_adjlist('../data/facebook_combined.txt', nodetype=int)\n",
    "G4 = nx.read_gml('../data/karate.gml', label='id')\n",
    "\n",
    "real_paths1 = nx.single_source_shortest_path(G3, 1, 2)\n",
    "node_list1 = RDD.populate_node_list(real_paths1)\n",
    "list_of_nodes = []\n",
    "for node in node_list1:\n",
    "    list_of_nodes.append(node.name)\n",
    "G5 = RDD.nodes_to_graph(G3, list_of_nodes)\n",
    "G6 = nx.read_gml('../data/lesmiserables.gml')\n",
    "G7 = nx.read_adjlist('../data/Cattle_protein_interactions_(IntAct).txt')\n",
    "G8 = nx.read_adjlist('../data/rat_protein_interactions_(IntAct).txt')\n",
    "\n",
    "target_G = G7\n",
    "target_rad = 6\n",
    "target_measure = measures.global_graph_morgan_index\n",
    "target_clusters = 5\n",
    "\n",
    "pos = nx.spring_layout(target_G)"
   ]
  },
  {
   "cell_type": "markdown",
   "metadata": {},
   "source": [
    "## Hierarchical Clustering"
   ]
  },
  {
   "cell_type": "markdown",
   "metadata": {},
   "source": [
    "### Dendrogram:"
   ]
  },
  {
   "cell_type": "code",
   "execution_count": 4,
   "metadata": {},
   "outputs": [
    {
     "output_type": "error",
     "ename": "KeyboardInterrupt",
     "evalue": "",
     "traceback": [
      "\u001b[0;31m---------------------------------------------------------------------------\u001b[0m",
      "\u001b[0;31mKeyboardInterrupt\u001b[0m                         Traceback (most recent call last)",
      "\u001b[0;32m<ipython-input-4-39781ccb69b2>\u001b[0m in \u001b[0;36m<module>\u001b[0;34m\u001b[0m\n\u001b[0;32m----> 1\u001b[0;31m \u001b[0mdata\u001b[0m \u001b[0;34m=\u001b[0m \u001b[0mget_rdd_matrix\u001b[0m\u001b[0;34m(\u001b[0m\u001b[0mtarget_G\u001b[0m\u001b[0;34m,\u001b[0m \u001b[0mtarget_rad\u001b[0m\u001b[0;34m,\u001b[0m \u001b[0mtarget_measure\u001b[0m\u001b[0;34m)\u001b[0m\u001b[0;34m\u001b[0m\u001b[0;34m\u001b[0m\u001b[0m\n\u001b[0m\u001b[1;32m      2\u001b[0m \u001b[0mplt\u001b[0m\u001b[0;34m.\u001b[0m\u001b[0mfigure\u001b[0m\u001b[0;34m(\u001b[0m\u001b[0mfigsize\u001b[0m\u001b[0;34m=\u001b[0m\u001b[0;34m(\u001b[0m\u001b[0;36m10\u001b[0m\u001b[0;34m,\u001b[0m \u001b[0;36m7\u001b[0m\u001b[0;34m)\u001b[0m\u001b[0;34m)\u001b[0m\u001b[0;34m\u001b[0m\u001b[0;34m\u001b[0m\u001b[0m\n\u001b[1;32m      3\u001b[0m \u001b[0mplt\u001b[0m\u001b[0;34m.\u001b[0m\u001b[0mtitle\u001b[0m\u001b[0;34m(\u001b[0m\u001b[0;34m\"Customer Dendograms\"\u001b[0m\u001b[0;34m)\u001b[0m\u001b[0;34m\u001b[0m\u001b[0;34m\u001b[0m\u001b[0m\n\u001b[1;32m      4\u001b[0m \u001b[0mdend\u001b[0m \u001b[0;34m=\u001b[0m \u001b[0mshc\u001b[0m\u001b[0;34m.\u001b[0m\u001b[0mdendrogram\u001b[0m\u001b[0;34m(\u001b[0m\u001b[0mshc\u001b[0m\u001b[0;34m.\u001b[0m\u001b[0mlinkage\u001b[0m\u001b[0;34m(\u001b[0m\u001b[0mdata\u001b[0m\u001b[0;34m,\u001b[0m \u001b[0mmethod\u001b[0m\u001b[0;34m=\u001b[0m\u001b[0;34m'ward'\u001b[0m\u001b[0;34m)\u001b[0m\u001b[0;34m)\u001b[0m\u001b[0;34m\u001b[0m\u001b[0;34m\u001b[0m\u001b[0m\n",
      "\u001b[0;32m~/Projects/GraphTheory/SimilarityMMS/similaritymms/rdd/RDD.py\u001b[0m in \u001b[0;36mget_rdd_matrix\u001b[0;34m(G, r, measure)\u001b[0m\n\u001b[1;32m    362\u001b[0m         \u001b[0mrdd_list\u001b[0m \u001b[0;34m=\u001b[0m \u001b[0;34m[\u001b[0m\u001b[0;34m]\u001b[0m\u001b[0;34m\u001b[0m\u001b[0;34m\u001b[0m\u001b[0m\n\u001b[1;32m    363\u001b[0m         \u001b[0;32mfor\u001b[0m \u001b[0mtarget_two\u001b[0m \u001b[0;32min\u001b[0m \u001b[0mG\u001b[0m\u001b[0;34m:\u001b[0m\u001b[0;34m\u001b[0m\u001b[0;34m\u001b[0m\u001b[0m\n\u001b[0;32m--> 364\u001b[0;31m             rdd_list.append(realworld_distance_compare(\n\u001b[0m\u001b[1;32m    365\u001b[0m                 G, target_one, target_two, measure, r))\n\u001b[1;32m    366\u001b[0m         \u001b[0mrdd_matrix\u001b[0m\u001b[0;34m[\u001b[0m\u001b[0mtarget_one\u001b[0m\u001b[0;34m]\u001b[0m \u001b[0;34m=\u001b[0m \u001b[0mrdd_list\u001b[0m\u001b[0;34m\u001b[0m\u001b[0;34m\u001b[0m\u001b[0m\n",
      "\u001b[0;32m~/Projects/GraphTheory/SimilarityMMS/similaritymms/rdd/RDD.py\u001b[0m in \u001b[0;36mrealworld_distance_compare\u001b[0;34m(network, u, v, measure, radius, network2)\u001b[0m\n\u001b[1;32m    193\u001b[0m         \u001b[0mmeasures_v\u001b[0m \u001b[0;34m=\u001b[0m \u001b[0mmeasure\u001b[0m\u001b[0;34m(\u001b[0m\u001b[0mnetwork2\u001b[0m\u001b[0;34m,\u001b[0m \u001b[0mnode_list2\u001b[0m\u001b[0;34m)\u001b[0m\u001b[0;34m\u001b[0m\u001b[0;34m\u001b[0m\u001b[0m\n\u001b[1;32m    194\u001b[0m     \u001b[0;32melse\u001b[0m\u001b[0;34m:\u001b[0m\u001b[0;34m\u001b[0m\u001b[0;34m\u001b[0m\u001b[0m\n\u001b[0;32m--> 195\u001b[0;31m         \u001b[0mmeasures_v\u001b[0m \u001b[0;34m=\u001b[0m \u001b[0mmeasure\u001b[0m\u001b[0;34m(\u001b[0m\u001b[0mnetwork\u001b[0m\u001b[0;34m,\u001b[0m \u001b[0mnode_list2\u001b[0m\u001b[0;34m)\u001b[0m\u001b[0;34m\u001b[0m\u001b[0;34m\u001b[0m\u001b[0m\n\u001b[0m\u001b[1;32m    196\u001b[0m \u001b[0;34m\u001b[0m\u001b[0m\n\u001b[1;32m    197\u001b[0m     \u001b[0;31m# take the list of degrees and set the appropriate field in all the Node objects in the list\u001b[0m\u001b[0;34m\u001b[0m\u001b[0;34m\u001b[0m\u001b[0;34m\u001b[0m\u001b[0m\n",
      "\u001b[0;32m~/Projects/GraphTheory/SimilarityMMS/similaritymms/rdd/measures.py\u001b[0m in \u001b[0;36mglobal_graph_morgan_index\u001b[0;34m(target_network, node_list, target_iterations)\u001b[0m\n\u001b[1;32m    498\u001b[0m                 \u001b[0;32mfor\u001b[0m \u001b[0mneighbor\u001b[0m \u001b[0;32min\u001b[0m \u001b[0mneighbors\u001b[0m\u001b[0;34m:\u001b[0m\u001b[0;34m\u001b[0m\u001b[0;34m\u001b[0m\u001b[0m\n\u001b[1;32m    499\u001b[0m                     \u001b[0mtotal_new_measure\u001b[0m \u001b[0;34m=\u001b[0m \u001b[0mtotal_new_measure\u001b[0m \u001b[0;34m+\u001b[0m\u001b[0;31m \u001b[0m\u001b[0;31m\\\u001b[0m\u001b[0;34m\u001b[0m\u001b[0;34m\u001b[0m\u001b[0m\n\u001b[0;32m--> 500\u001b[0;31m                         \u001b[0mnetwork\u001b[0m\u001b[0;34m.\u001b[0m\u001b[0mnodes\u001b[0m\u001b[0;34m[\u001b[0m\u001b[0mneighbor\u001b[0m\u001b[0;34m]\u001b[0m\u001b[0;34m[\u001b[0m\u001b[0;34m'measure'\u001b[0m\u001b[0;34m]\u001b[0m\u001b[0;34m\u001b[0m\u001b[0;34m\u001b[0m\u001b[0m\n\u001b[0m\u001b[1;32m    501\u001b[0m \u001b[0;34m\u001b[0m\u001b[0m\n\u001b[1;32m    502\u001b[0m                 \u001b[0mnew_measures\u001b[0m\u001b[0;34m.\u001b[0m\u001b[0mappend\u001b[0m\u001b[0;34m(\u001b[0m\u001b[0mtotal_new_measure\u001b[0m\u001b[0;34m)\u001b[0m\u001b[0;34m\u001b[0m\u001b[0;34m\u001b[0m\u001b[0m\n",
      "\u001b[0;31mKeyboardInterrupt\u001b[0m: "
     ]
    }
   ],
   "source": [
    "data = get_rdd_matrix(target_G, target_rad, target_measure)\n",
    "plt.figure(figsize=(10, 7))\n",
    "plt.title(\"Customer Dendograms\")\n",
    "dend = shc.dendrogram(shc.linkage(data, method='ward'))"
   ]
  },
  {
   "cell_type": "markdown",
   "metadata": {},
   "source": [
    "### Agglomerative Hierarchical Clustering:"
   ]
  },
  {
   "cell_type": "code",
   "execution_count": null,
   "metadata": {},
   "outputs": [],
   "source": [
    "# %%timeit -n1 -r1\n",
    "df = other_sims.agglomerative_hierarchical_clustering(target_G,target_rad, measures.global_graph_degree, target_clusters)\n",
    "fig = visualize.visualize_rdd_agglomerative_hierarchical_clustering(target_G, target_rad, target_measure, pos, target_clusters)\n",
    "fig.show()\n",
    "df = df.sort_values('cluster')\n",
    "# print(df)\n",
    "\n",
    "clusters = df_to_cluster_list(df)\n",
    "result = nx.algorithms.community.modularity(target_G, clusters)\n",
    "print(result)"
   ]
  },
  {
   "cell_type": "markdown",
   "metadata": {},
   "source": [
    "## K-Medoids Clustering"
   ]
  },
  {
   "cell_type": "code",
   "execution_count": null,
   "metadata": {},
   "outputs": [],
   "source": [
    "%%timeit -n1 -r1\n",
    "df = other_sims.kmedoid_clustering2(target_G, RDD.get_rdd_matrix(target_G, target_rad, measures.global_graph_degree), target_clusters)\n",
    "fig = visualize.visualize_rdd_kmedoid(target_G, target_rad, target_measure, pos, target_clusters)\n",
    "fig.show()\n",
    "df = df.sort_values('cluster')\n",
    "# print(df)1\n",
    "\n",
    "clusters = df_to_cluster_list(df)\n",
    "result = nx.algorithms.community.modularity(target_G, clusters)\n",
    "print(result)"
   ]
  },
  {
   "cell_type": "markdown",
   "metadata": {},
   "source": [
    "# Modularity\n",
    "\n",
    "Modularity is the fraction of the edges that fall within the given groups minus the expected fraction if edges were distributed at random. The value of the modularity for unweighted and undirected graphs lies in the range $[-1/2,1][-1/2,1]$. It is positive if the number of edges within groups exceeds the number expected on the basis of chance. For a given division of the network's vertices into some modules, modularity reflects the concentration of edges within modules compared with random distribution of links between all nodes regardless of modules.\n",
    "\n",
    "https://en.wikipedia.org/wiki/Modularity_(networks)\n",
    "\n",
    "Here our goal is to test the modularity after clustering based on RDD values and compare that to clustering based on other algorithms, such as ASCOS."
   ]
  },
  {
   "cell_type": "markdown",
   "metadata": {
    "ExecuteTime": {
     "end_time": "2020-09-20T10:06:36.584454Z",
     "start_time": "2020-09-20T10:06:36.582539Z"
    }
   },
   "source": [
    "## Max modularity"
   ]
  },
  {
   "cell_type": "code",
   "execution_count": null,
   "metadata": {
    "ExecuteTime": {
     "end_time": "2020-09-21T09:15:59.503849Z",
     "start_time": "2020-09-21T09:15:59.498014Z"
    }
   },
   "outputs": [],
   "source": [
    "print(\"Max modularity:\", nx.algorithms.community \\\n",
    "      .modularity(target_G, nx.algorithms.community \\\n",
    "      .modularity_max.greedy_modularity_communities(target_G)))\n",
    "\n",
    "all_results = pd.DataFrame({'clusters': range(1, 20, 1)})"
   ]
  },
  {
   "cell_type": "markdown",
   "metadata": {},
   "source": [
    "# KMedoid clustering Modularity"
   ]
  },
  {
   "cell_type": "code",
   "execution_count": null,
   "metadata": {
    "ExecuteTime": {
     "end_time": "2020-09-21T09:16:05.324298Z",
     "start_time": "2020-09-21T09:16:05.313394Z"
    }
   },
   "outputs": [],
   "source": [
    "kmedoid_results = pd.DataFrame()"
   ]
  },
  {
   "cell_type": "markdown",
   "metadata": {},
   "source": [
    "## RDD: Global Graph Degree"
   ]
  },
  {
   "cell_type": "code",
   "execution_count": null,
   "metadata": {
    "ExecuteTime": {
     "end_time": "2020-09-21T09:16:08.426490Z",
     "start_time": "2020-09-21T09:16:06.910255Z"
    }
   },
   "outputs": [],
   "source": [
    "results = []\n",
    "for k in range(1,10,1):\n",
    "    rdd_matrix = RDD.get_rdd_matrix(target_G, target_rad, measures.global_graph_degree)\n",
    "#     rdd_matrix.index += 1\n",
    "    cluster_data = kmedoid_clustering2(target_G, rdd_matrix, k)\n",
    "    clusters = df_to_cluster_list(cluster_data)\n",
    "    result = nx.algorithms.community.modularity(target_G, clusters)\n",
    "    print(f\"Modularity {k} clusters:\", result)\n",
    "    results.append(result)\n",
    "kmedoid_results['RDD_GGD'] = results"
   ]
  },
  {
   "cell_type": "markdown",
   "metadata": {},
   "source": [
    "## Ascos"
   ]
  },
  {
   "cell_type": "code",
   "execution_count": null,
   "metadata": {},
   "outputs": [],
   "source": [
    "results = []\n",
    "for k in range(1,10,1):\n",
    "    ascos_matrix = ascos.get_ascos_matrix(target_G)\n",
    "#     ascos_matrix.index += 1\n",
    "    cluster_data = kmedoid_clustering2(target_G, ascos_matrix, k)\n",
    "    clusters = df_to_cluster_list(cluster_data)\n",
    "    result = nx.algorithms.community.modularity(target_G, clusters)\n",
    "    print(f\"Modularity {k} clusters:\", result)\n",
    "    results.append(result)\n",
    "kmedoid_results['ascos'] = results"
   ]
  },
  {
   "cell_type": "markdown",
   "metadata": {},
   "source": [
    "## SimRank"
   ]
  },
  {
   "cell_type": "code",
   "execution_count": null,
   "metadata": {},
   "outputs": [],
   "source": [
    "results = []\n",
    "for k in range(1,10,1):\n",
    "    simrank_matrix = other_sims.get_simrank_matrix(target_G)\n",
    "#     ascos_matrix.index += 1\n",
    "    cluster_data = kmedoid_clustering2(target_G, simrank_matrix, k)\n",
    "    clusters = df_to_cluster_list(cluster_data)\n",
    "    result = nx.algorithms.community.modularity(target_G, clusters)\n",
    "    print(f\"Modularity {k} clusters:\", result)\n",
    "    results.append(result)\n",
    "kmedoid_results['simrank'] = results"
   ]
  },
  {
   "cell_type": "markdown",
   "metadata": {},
   "source": [
    "## Modularity Results: So Far"
   ]
  },
  {
   "cell_type": "code",
   "execution_count": null,
   "metadata": {
    "ExecuteTime": {
     "end_time": "2020-09-21T09:16:08.432478Z",
     "start_time": "2020-09-21T09:16:08.427464Z"
    }
   },
   "outputs": [],
   "source": [
    "kmedoid_results"
   ]
  },
  {
   "source": [
    "## Improving Modularity\n",
    "\n",
    "### We will try to improve clustering modularity by using the Morgan Index(MI) as a measure."
   ],
   "cell_type": "markdown",
   "metadata": {}
  },
  {
   "cell_type": "code",
   "execution_count": null,
   "metadata": {},
   "outputs": [],
   "source": [
    "results = []\n",
    "for k in range(1,10,1):\n",
    "    rdd_matrix = RDD.get_rdd_matrix(target_G, target_rad, measures.global_graph_morgan_index)\n",
    "#     rdd_matrix.index += 1\n",
    "    cluster_data = kmedoid_clustering2(target_G, rdd_matrix, k)\n",
    "    clusters = df_to_cluster_list(cluster_data)\n",
    "    result = nx.algorithms.community.modularity(target_G, clusters)\n",
    "    print(f\"Modularity {k} clusters:\", result)\n",
    "    results.append(result)\n",
    "kmedoid_results['RDD_MI'] = results"
   ]
  },
  {
   "cell_type": "code",
   "execution_count": null,
   "metadata": {},
   "outputs": [],
   "source": [
    "kmedoid_results"
   ]
  },
  {
   "cell_type": "code",
   "execution_count": null,
   "metadata": {},
   "outputs": [],
   "source": []
  }
 ],
 "metadata": {
  "kernelspec": {
   "display_name": "Python 3",
   "language": "python",
   "name": "python3"
  },
  "language_info": {
   "codemirror_mode": {
    "name": "ipython",
    "version": 3
   },
   "file_extension": ".py",
   "mimetype": "text/x-python",
   "name": "python",
   "nbconvert_exporter": "python",
   "pygments_lexer": "ipython3",
   "version": "3.8.3-final"
  }
 },
 "nbformat": 4,
 "nbformat_minor": 4
}