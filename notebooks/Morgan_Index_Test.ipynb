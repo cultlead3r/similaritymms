{
 "metadata": {
  "language_info": {
   "codemirror_mode": {
    "name": "ipython",
    "version": 3
   },
   "file_extension": ".py",
   "mimetype": "text/x-python",
   "name": "python",
   "nbconvert_exporter": "python",
   "pygments_lexer": "ipython3",
   "version": "3.8.3-final"
  },
  "orig_nbformat": 2,
  "kernelspec": {
   "name": "python3",
   "display_name": "Python 3.8.3 64-bit ('GraphTheory': conda)",
   "metadata": {
    "interpreter": {
     "hash": "6396e5cb546aaa2733e594d6e833e8bdf254967268af60a2b1dbad5d71df5390"
    }
   }
  }
 },
 "nbformat": 4,
 "nbformat_minor": 2,
 "cells": [
  {
   "cell_type": "code",
   "execution_count": 8,
   "metadata": {},
   "outputs": [],
   "source": [
    "from sys import path\n",
    "path.append(\"..\")\n",
    "\n",
    "import networkx as nx\n",
    "from rdd import RDD"
   ]
  },
  {
   "cell_type": "code",
   "execution_count": 6,
   "metadata": {},
   "outputs": [],
   "source": [
    "network = nx.read_gml('../data/karate.gml', label='id')\n",
    "\n",
    "root_node = 1\n",
    "radius = 3\n",
    "\n"
   ]
  },
  {
   "cell_type": "code",
   "execution_count": 9,
   "metadata": {},
   "outputs": [],
   "source": [
    "real_paths1 = nx.single_source_shortest_path(network, root_node, radius)\n",
    "node_list1 = RDD.populate_node_list(real_paths1)\n"
   ]
  },
  {
   "cell_type": "code",
   "execution_count": 41,
   "metadata": {},
   "outputs": [
    {
     "output_type": "stream",
     "name": "stdout",
     "text": [
      "[]\n[2, 3, 4, 5, 6, 7, 8, 9, 11, 12, 13, 14, 18, 20, 22, 32]\n[1, 3, 4, 8, 14, 18, 20, 22, 31]\n[1, 2, 4, 8, 9, 10, 14, 28, 29, 33]\n[1, 2, 3, 8, 13, 14]\n[1, 7, 11]\n[1, 7, 11, 17]\n[1, 5, 6, 17]\n[1, 2, 3, 4]\n[1, 3, 31, 33, 34]\n[3, 34]\n[1, 5, 6]\n[1]\n[1, 4]\n[1, 2, 3, 4, 34]\n[33, 34]\n[33, 34]\n[6, 7]\n[1, 2]\n[33, 34]\n[1, 2, 34]\n[33, 34]\n[1, 2]\n[33, 34]\n[26, 28, 30, 33, 34]\n[26, 28, 32]\n[24, 25, 32]\n[30, 34]\n[3, 24, 25, 34]\n[3, 32, 34]\n[24, 27, 33, 34]\n[2, 9, 33, 34]\n[1, 25, 26, 29, 33, 34]\n[3, 9, 15, 16, 19, 21, 23, 24, 30, 31, 32, 34]\n[9, 10, 14, 15, 16, 19, 20, 21, 23, 24, 27, 28, 29, 30, 31, 32, 33]\n[16, 9, 10, 6, 3, 4, 4, 4, 5, 2, 3, 1, 2, 5, 2, 2, 2, 2, 2, 3, 2, 2, 2, 5, 3, 3, 2, 4, 3, 4, 4, 6, 12, 17]\n16\n9\n10\n6\n3\n4\n4\n4\n5\n2\n3\n1\n2\n5\n2\n2\n2\n2\n2\n3\n2\n2\n2\n5\n3\n3\n2\n4\n3\n4\n4\n6\n12\n17\n"
     ]
    }
   ],
   "source": [
    "def Morgan_Index(target_network, node_list, target_iterations)\n",
    "    network = target_network\n",
    "    for iteration in range(target_iterations):\n",
    "        new_measures = []\n",
    "        for node in network:\n",
    "            if(iteration == 0):\n",
    "                network.nodes[node]['measure'] = 1\n",
    "            else:\n",
    "                neighbors = list(network.neighbors(node))\n",
    "                total_new_measure = 0\n",
    "\n",
    "                for neighbor in neighbors:\n",
    "                    total_new_measure = total_new_measure +  network.nodes[neighbor]['measure']\n",
    "                \n",
    "                new_measures.append(total_new_measure)\n",
    "\n",
    "                print(neighbors)\n",
    "        print(new_measures)\n",
    "\n",
    "        if(iteration != 0):\n",
    "            count = 0\n",
    "            for node in network:\n",
    "                network.nodes[node]['measure'] = new_measures[count]\n",
    "                print(network.nodes[node]['measure'])\n",
    "                count = count+1\n",
    "    \n",
    "    \n",
    "\n",
    "\n",
    "            # network.nodes[node]['measure'] = 1 + 1    \n",
    "            \n",
    "# for node in network:\n",
    "#     print(network.nodes[node]['measure']) "
   ]
  },
  {
   "cell_type": "code",
   "execution_count": null,
   "metadata": {},
   "outputs": [],
   "source": []
  }
 ]
}