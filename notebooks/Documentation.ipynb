{
 "cells": [
  {
   "cell_type": "code",
   "execution_count": 25,
   "metadata": {},
   "outputs": [],
   "source": [
    "from sys import path\n",
    "path.append(\"..\")\n",
    "import math\n",
    "import networkx as nx\n",
    "from rdd import RDD\n",
    "from rdd import measures\n",
    "from rdd import visualize\n",
    "\n",
    "\n",
    "g1 = nx.Graph()\n",
    "g2 = nx.Graph()\n",
    "\n",
    "\n",
    "g1.add_edges_from([\n",
    "    (1, 2),\n",
    "    (2, 3),\n",
    "    (2, 4),\n",
    "    (3, 4),\n",
    "    (3, 6),\n",
    "    (4, 5),\n",
    "])\n",
    "\n",
    "\n",
    "g2.add_edges_from([\n",
    "    (1,2),\n",
    "    (2,4),\n",
    "    (2,3),\n",
    "    (3,5),\n",
    "    (4,5),\n",
    "    (5,6),    \n",
    "])"
   ]
  },
  {
   "cell_type": "markdown",
   "metadata": {},
   "source": [
    "# Shortest Paths\n",
    "\n",
    "To compute the radial distribution distance (RDD), the first thing we have to do is get the shortest path for each node up to the specified radius for the given graph. In this case, we use radius $r = 4\\$"
   ]
  },
  {
   "cell_type": "code",
   "execution_count": 23,
   "metadata": {},
   "outputs": [
    {
     "data": {
      "text/plain": [
       "({1: [1],\n",
       "  2: [1, 2],\n",
       "  3: [1, 2, 3],\n",
       "  4: [1, 2, 4],\n",
       "  6: [1, 2, 3, 6],\n",
       "  5: [1, 2, 4, 5]},\n",
       " '',\n",
       " {1: [1],\n",
       "  2: [1, 2],\n",
       "  4: [1, 2, 4],\n",
       "  3: [1, 2, 3],\n",
       "  5: [1, 2, 4, 5],\n",
       "  6: [1, 2, 4, 5, 6]})"
      ]
     },
     "execution_count": 23,
     "metadata": {},
     "output_type": "execute_result"
    }
   ],
   "source": [
    "real_paths1 = nx.single_source_shortest_path(g1, 1, 4)\n",
    "real_paths2 = nx.single_source_shortest_path(g2, 1, 4)\n",
    "real_paths1, '', real_paths2"
   ]
  },
  {
   "cell_type": "markdown",
   "metadata": {},
   "source": [
    "# List of Node Objects\n",
    "\n",
    "Now we create a list of Node objects based upon those shortest path lists:\n"
   ]
  },
  {
   "cell_type": "code",
   "execution_count": 6,
   "metadata": {},
   "outputs": [
    {
     "data": {
      "text/plain": [
       "([node 1, radius 0, measure 0,\n",
       "  node 2, radius 1, measure 0,\n",
       "  node 3, radius 2, measure 0,\n",
       "  node 4, radius 2, measure 0,\n",
       "  node 6, radius 3, measure 0,\n",
       "  node 5, radius 3, measure 0],\n",
       " '    ',\n",
       " [node 1, radius 0, measure 0,\n",
       "  node 2, radius 1, measure 0,\n",
       "  node 4, radius 2, measure 0,\n",
       "  node 3, radius 2, measure 0,\n",
       "  node 5, radius 3, measure 0,\n",
       "  node 6, radius 4, measure 0])"
      ]
     },
     "execution_count": 6,
     "metadata": {},
     "output_type": "execute_result"
    }
   ],
   "source": [
    "node_list1 = RDD.populate_node_list(real_paths1)\n",
    "node_list2 = RDD.populate_node_list(real_paths2)\n",
    "node_list1, \"    \", node_list2"
   ]
  },
  {
   "cell_type": "markdown",
   "metadata": {},
   "source": [
    "# Measures\n",
    "\n",
    "Now we have to get our $\\mu$ or measures. Normally, we would call one of the measure functions that returns a list of measures, but for the purposes of following the paper we will use the arbitrary given measures in the paper."
   ]
  },
  {
   "cell_type": "code",
   "execution_count": 7,
   "metadata": {},
   "outputs": [],
   "source": [
    "# measures_u = measures.local_graph_degree(g1, node_list1)\n",
    "# measures_v = measures.local_graph_degree(g2, node_list2)\n",
    "\n",
    "measures_u = [1, 1, 2, 2, 1, 1]\n",
    "measures_v = [1, 1, 2, 2, 1, 1]"
   ]
  },
  {
   "cell_type": "markdown",
   "metadata": {},
   "source": [
    "## Add measures to Nodes\n",
    "\n",
    "Now we update the Node objects' measure values with what we just retrieved:"
   ]
  },
  {
   "cell_type": "code",
   "execution_count": 24,
   "metadata": {},
   "outputs": [
    {
     "data": {
      "text/plain": [
       "([node 1, radius 0, measure 1,\n",
       "  node 2, radius 1, measure 1,\n",
       "  node 3, radius 2, measure 2,\n",
       "  node 4, radius 2, measure 2,\n",
       "  node 6, radius 3, measure 1,\n",
       "  node 5, radius 3, measure 1],\n",
       " '',\n",
       " [node 1, radius 0, measure 1,\n",
       "  node 2, radius 1, measure 1,\n",
       "  node 4, radius 2, measure 2,\n",
       "  node 3, radius 2, measure 2,\n",
       "  node 5, radius 3, measure 1,\n",
       "  node 6, radius 4, measure 1])"
      ]
     },
     "execution_count": 24,
     "metadata": {},
     "output_type": "execute_result"
    }
   ],
   "source": [
    "measures.add_measures_to_node(node_list1, measures_u)\n",
    "measures.add_measures_to_node(node_list2, measures_v)\n",
    "node_list1, '', node_list2"
   ]
  },
  {
   "cell_type": "markdown",
   "metadata": {},
   "source": [
    "# CRD\n",
    "\n",
    "Now we get the cumulative radial distributions (CRD) for for both nodes:"
   ]
  },
  {
   "cell_type": "code",
   "execution_count": 9,
   "metadata": {},
   "outputs": [
    {
     "data": {
      "text/plain": [
       "(defaultdict(int, {0: 1, 1: 2, 2: 6, 3: 8}),\n",
       " defaultdict(int, {0: 1, 1: 2, 2: 6, 3: 7, 4: 8}))"
      ]
     },
     "execution_count": 9,
     "metadata": {},
     "output_type": "execute_result"
    }
   ],
   "source": [
    "crd1 = measures.get_crd(node_list1)\n",
    "crd2 = measures.get_crd(node_list2)\n",
    "crd1, crd2"
   ]
  },
  {
   "cell_type": "markdown",
   "metadata": {},
   "source": [
    "# Union\n",
    "\n",
    "We take the union of the radiuses\n"
   ]
  },
  {
   "cell_type": "code",
   "execution_count": 10,
   "metadata": {},
   "outputs": [
    {
     "data": {
      "text/plain": [
       "(defaultdict(int, {0: 1, 1: 2, 2: 6, 3: 8, 4: 8}),\n",
       " defaultdict(int, {0: 1, 1: 2, 2: 6, 3: 7, 4: 8}))"
      ]
     },
     "execution_count": 10,
     "metadata": {},
     "output_type": "execute_result"
    }
   ],
   "source": [
    "measures.ensure_radial_parity(crd1, crd2)\n",
    "crd1, crd2"
   ]
  },
  {
   "cell_type": "markdown",
   "metadata": {},
   "source": [
    "# RDD\n",
    "\n",
    "Now we compute the Radial Distribution Distance"
   ]
  },
  {
   "cell_type": "code",
   "execution_count": 11,
   "metadata": {},
   "outputs": [
    {
     "data": {
      "text/plain": [
       "0.049787068367863944"
      ]
     },
     "execution_count": 11,
     "metadata": {},
     "output_type": "execute_result"
    }
   ],
   "source": [
    "rdd = RDD.get_rdd(crd1, crd2)\n",
    "rdd"
   ]
  },
  {
   "cell_type": "markdown",
   "metadata": {},
   "source": [
    "So we can say that node 1 in graph u has a radial distribution distance of $\\approx$ 0.05 with respect to node 1 in graph v."
   ]
  },
  {
   "cell_type": "markdown",
   "metadata": {},
   "source": [
    "## How do we get the RDD?\n",
    "\n",
    "First, we get the union of our radiuses:"
   ]
  },
  {
   "cell_type": "code",
   "execution_count": 12,
   "metadata": {},
   "outputs": [
    {
     "data": {
      "text/plain": [
       "[0, 1, 2, 3, 4]"
      ]
     },
     "execution_count": 12,
     "metadata": {},
     "output_type": "execute_result"
    }
   ],
   "source": [
    "crd = RDD.get_crd_union(crd1, crd2)\n",
    "crd"
   ]
  },
  {
   "cell_type": "markdown",
   "metadata": {},
   "source": [
    "Now we do $\\sum_{r=0}^{max radius}e^{-r}|m_1(r) - m_2(r)|$"
   ]
  },
  {
   "cell_type": "code",
   "execution_count": 13,
   "metadata": {},
   "outputs": [
    {
     "data": {
      "text/plain": [
       "0.049787068367863944"
      ]
     },
     "execution_count": 13,
     "metadata": {},
     "output_type": "execute_result"
    }
   ],
   "source": [
    "rdd = 0\n",
    "for r in crd:\n",
    "    rdd += math.exp(-r)*abs(crd1[r] - crd2[r])\n",
    "rdd"
   ]
  }
 ],
 "metadata": {
  "kernelspec": {
   "display_name": "Python 3",
   "language": "python",
   "name": "python3"
  },
  "language_info": {
   "codemirror_mode": {
    "name": "ipython",
    "version": 3
   },
   "file_extension": ".py",
   "mimetype": "text/x-python",
   "name": "python",
   "nbconvert_exporter": "python",
   "pygments_lexer": "ipython3",
   "version": "3.8.3"
  },
  "latex_envs": {
   "LaTeX_envs_menu_present": true,
   "autoclose": false,
   "autocomplete": true,
   "bibliofile": "biblio.bib",
   "cite_by": "apalike",
   "current_citInitial": 1,
   "eqLabelWithNumbers": true,
   "eqNumInitial": 1,
   "hotkeys": {
    "equation": "Ctrl-E",
    "itemize": "Ctrl-I"
   },
   "labels_anchors": false,
   "latex_user_defs": false,
   "report_style_numbering": false,
   "user_envs_cfg": false
  },
  "toc": {
   "base_numbering": 1,
   "nav_menu": {},
   "number_sections": true,
   "sideBar": true,
   "skip_h1_title": false,
   "title_cell": "Table of Contents",
   "title_sidebar": "Contents",
   "toc_cell": false,
   "toc_position": {
    "height": "224px",
    "left": "10px",
    "top": "150px",
    "width": "165px"
   },
   "toc_section_display": true,
   "toc_window_display": true
  }
 },
 "nbformat": 4,
 "nbformat_minor": 4
}
