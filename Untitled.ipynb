{
 "cells": [
  {
   "cell_type": "code",
   "execution_count": null,
   "metadata": {},
   "outputs": [],
   "source": [
    "import networkx as nx\n",
    "from Node import Node\n",
    "from RDD import *\n",
    "import measures\n",
    "from measures import *\n",
    "from visualize import visualize_rdd\n",
    "\n",
    "real_network2 = nx.read_adjlist(\"data/facebook_combined.txt\", nodetype=int)\n",
    "real_paths1 = nx.single_source_shortest_path(real_network2, 1, 2)\n",
    "node_list1 = populate_node_list(real_paths1)\n",
    "list_of_nodes = []\n",
    "for node in node_list1:\n",
    "    list_of_nodes.append(node.name)\n",
    "subgraph = nodes_to_graph(real_network2, list_of_nodes)\n",
    "# subgraph.nodes\n",
    "visualize_rdd(subgraph, 1)\n",
    "# print(\"hi\", subgraph)\n",
    "# real_paths2 = nx.single_source_shortest_path(subgraph, 1, 4)"
   ]
  },
  {
   "cell_type": "code",
   "execution_count": null,
   "metadata": {},
   "outputs": [],
   "source": [
    "len(subgraph)"
   ]
  },
  {
   "cell_type": "code",
   "execution_count": null,
   "metadata": {},
   "outputs": [],
   "source": [
    "g1 = nx.Graph()\n",
    "g1.add_edges_from([\n",
    "    (1, 2),\n",
    "    (2, 3),\n",
    "    (2, 4),\n",
    "    (3, 4),\n",
    "    (3, 6),\n",
    "    (4, 5),\n",
    "])\n",
    "g1.add_node(99)\n",
    "g1.add_edges_from([(99,100)])"
   ]
  },
  {
   "cell_type": "code",
   "execution_count": null,
   "metadata": {},
   "outputs": [],
   "source": [
    "import networkx as nx\n",
    "from Node import Node\n",
    "from RDD import *\n",
    "import measures\n",
    "from measures import *\n",
    "from visualize import visualize_rdd\n",
    "real_network = nx.read_adjlist(\"data/facebook_combined2.txt\", nodetype=int)\n",
    "fig = visualize_rdd(real_network, 4000, measures.global_graph_degree)"
   ]
  },
  {
   "cell_type": "code",
   "execution_count": null,
   "metadata": {},
   "outputs": [],
   "source": [
    "df = get_rdds_for_visuals(real_network, 4000, measures.global_graph_degree, 4)"
   ]
  },
  {
   "cell_type": "code",
   "execution_count": null,
   "metadata": {},
   "outputs": [],
   "source": [
    "df[ df['rdd'] < 0]"
   ]
  },
  {
   "cell_type": "code",
   "execution_count": null,
   "metadata": {},
   "outputs": [],
   "source": []
  },
  {
   "cell_type": "code",
   "execution_count": null,
   "metadata": {},
   "outputs": [],
   "source": []
  },
  {
   "cell_type": "code",
   "execution_count": null,
   "metadata": {},
   "outputs": [],
   "source": []
  },
  {
   "cell_type": "markdown",
   "metadata": {},
   "source": [
    "Just use the original formula. If numbers for $e^{-r}|m_x(r)-m_y(r)|$ are not overly small then you are OK."
   ]
  },
  {
   "cell_type": "markdown",
   "metadata": {},
   "source": [
    "The problem may rise when numbers $e^{-r}|m_x(r)-m_y(r)|$ are very small. If so all you can do is keep the accumulated sun in the form $e^a$ so that when for the next r you are adding the summand"
   ]
  },
  {
   "cell_type": "markdown",
   "metadata": {},
   "source": [
    "$e^{-r}|m_x(r)-m_y(r)|$ you can have it in the form $e^{-r+ln(|m_x(r)-my(r)|)}$."
   ]
  },
  {
   "cell_type": "markdown",
   "metadata": {},
   "source": [
    "If the previous accumulated"
   ]
  },
  {
   "cell_type": "markdown",
   "metadata": {},
   "source": [
    "$\\sum{i=1}^{r-1} e^{-i}|m_x()-m_y(i)|$ is kept in the form e^a, then you can take common part out, so you get"
   ]
  },
  {
   "cell_type": "markdown",
   "metadata": {},
   "source": [
    "$e^{-r+ln}(|m_x(r)-m_y(r)|)(e^{a-{-r+ln(|m_x(r)-m_y(r)|)}+1}$"
   ]
  },
  {
   "cell_type": "markdown",
   "metadata": {},
   "source": [
    "The value $e^{-r+ln(|m_x(r)-m_y(r)|)}$ you already have,"
   ]
  },
  {
   "cell_type": "markdown",
   "metadata": {},
   "source": [
    "$b= a- {-r+ln(|m_x(r)-m_y(r)|)}$ can be computed precisely – it is just difference of reals"
   ]
  },
  {
   "cell_type": "markdown",
   "metadata": {},
   "source": [
    "then $e^b+1=e^ln(e^b+1)$ is the only place where you loose precision, because after that you just compute"
   ]
  },
  {
   "cell_type": "markdown",
   "metadata": {},
   "source": [
    "$a=ln(e^b+1) +{-r+ln(|m_x(r)-m_y(r)|)}$ to get back to the form $e^a$"
   ]
  },
  {
   "cell_type": "code",
   "execution_count": null,
   "metadata": {},
   "outputs": [],
   "source": []
  }
 ],
 "metadata": {
  "kernelspec": {
   "display_name": "Python 3",
   "language": "python",
   "name": "python3"
  },
  "language_info": {
   "codemirror_mode": {
    "name": "ipython",
    "version": 3
   },
   "file_extension": ".py",
   "mimetype": "text/x-python",
   "name": "python",
   "nbconvert_exporter": "python",
   "pygments_lexer": "ipython3",
   "version": "3.8.3"
  },
  "latex_envs": {
   "LaTeX_envs_menu_present": true,
   "autoclose": false,
   "autocomplete": true,
   "bibliofile": "biblio.bib",
   "cite_by": "apalike",
   "current_citInitial": 1,
   "eqLabelWithNumbers": true,
   "eqNumInitial": 1,
   "hotkeys": {
    "equation": "Ctrl-E",
    "itemize": "Ctrl-I"
   },
   "labels_anchors": false,
   "latex_user_defs": false,
   "report_style_numbering": false,
   "user_envs_cfg": false
  },
  "toc": {
   "base_numbering": 1,
   "nav_menu": {},
   "number_sections": true,
   "sideBar": false,
   "skip_h1_title": false,
   "title_cell": "Table of Contents",
   "title_sidebar": "Contents",
   "toc_cell": false,
   "toc_position": {},
   "toc_section_display": true,
   "toc_window_display": false
  }
 },
 "nbformat": 4,
 "nbformat_minor": 4
}
